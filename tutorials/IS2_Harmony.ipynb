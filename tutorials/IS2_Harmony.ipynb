{
 "cells": [
  {
   "cell_type": "markdown",
   "id": "494fe2d6-4d50-468f-ad44-02cacedcd553",
   "metadata": {
    "vscode": {
     "languageId": "raw"
    }
   },
   "source": [
    "---\n",
    "title: \"Subsetting ICESat-2 Data Using NASA Harmony\"\n",
    "---"
   ]
  },
  {
   "cell_type": "markdown",
   "id": "b35db394-c8ba-4263-b7ba-0c1e8f8453b0",
   "metadata": {
    "jp-MarkdownHeadingCollapsed": true
   },
   "source": [
    "## Summary\n",
    "\n",
    "In this tutorial, we will use NASA's Earthdata Harmony Services to subset and access data using the `harmony-py` Python library. We will subset the [ATL03 Global Geolocated Photon Data](https://nsidc.org/data/atl03/versions/6) product from the [ICESat-2 mission](https://nsidc.org/data/icesat-2) as an example. Please see [Demonstration for working with TEMPO data via Harmony-py](https://nasa.github.io/ASDC_Data_and_User_Services/TEMPO/how_to_examine_TEMPO_data_using_harmony-py.html) as a complimentary tutorial highlighting Harmony services for the [TEMPO mission](https://asdc.larc.nasa.gov/project/TEMPO). \n",
    "\n",
    "**What is Harmony?**  [Harmony](https://harmony.earthdata.nasa.gov/) is a service that allows you to customize many NASA datasets, including the ability to subset, reproject and reformat files.  Data can be subsetted for a geographic region, a temporal range and by variable.  Data can be \"reprojected\" from its native coordinate reference system (CRS) to the coordinate reference system relevant to your analysis.  And data can be reformatted from its native file format to a format that is more relevant for your application.  These services are collectively called _transformation services_.  However, not all services are available for all datasets.  You will learn how to discover which services are available for a given dataset.\n",
    "\n",
    "Data transformed by Harmony services are staged on NASA Amazon Web Services (AWS) S3 buckets or on user-owned AWS S3 buckets.  Data in NASA S3 buckets are accessed using signed URLs or temporary access credentials.  This data can be downloaded to your local machine or you can access the data directly if you are working in an AWS cloud instance, such as a Jupyter Hub, in AWS `us-west-2`.  "
   ]
  },
  {
   "cell_type": "markdown",
   "id": "c43422fe-ae4a-40ea-9edf-11fa30596165",
   "metadata": {},
   "source": [
    "## Learning Objectives\n",
    "\n",
    "In this tutorial you will learn how to:\n",
    "\n",
    "1. discover Harmony service options for a given dataset;\n",
    "3. use the `harmony-py` library to subset ATL03 granules for a bounding box and time range;\n",
    "4. download the subsetted ATL03 to your local machine;\n",
    "5. load the subsetted ATL03 data directly into xarray."
   ]
  },
  {
   "cell_type": "markdown",
   "id": "c8a95244-4d35-4cde-b711-7d2e0ec8d580",
   "metadata": {},
   "source": [
    "## Prerequisites\n",
    "\n",
    "This tutorial has been designed to run in an AWS cloud compute instance in AWS region `us-west-2`.  However, if you want run it from your laptop or workstation, everything except Step-4, direct access, should work just fine.\n",
    "\n",
    "An [Earthdata Login](https://urs.earthdata.nasa.gov) account is required to access data from the NASA Earthdata system. Before requesting a subset of ICESat-2 data, we first need to set up our Earthdata Login authentication, shown below."
   ]
  },
  {
   "cell_type": "markdown",
   "id": "6968a5b2-c32b-446d-bce0-ab1cb57de62d",
   "metadata": {},
   "source": [
    "## Tutorial"
   ]
  },
  {
   "cell_type": "markdown",
   "id": "f89bf6e8-cb9a-4be8-96aa-7c61ae1a2d99",
   "metadata": {},
   "source": [
    "### Step 1: import required packages\n",
    "\n",
    "We'll be using `earthaccess`, `harmony-py` and `xarray`, along with some Python standard libraries. "
   ]
  },
  {
   "cell_type": "code",
   "execution_count": 1,
   "id": "9d8e9be7-c7ab-4e87-baae-0d516e1d9a37",
   "metadata": {},
   "outputs": [],
   "source": [
    "# Harmony services (added Environment for testing in UAT; can remove for pull request)\n",
    "from harmony import BBox, Client, Collection, Request, LinkType, CapabilitiesRequest, Environment \n",
    "\n",
    "# Earthdata Login Authentication\n",
    "import earthaccess \n",
    "\n",
    "# Load the data\n",
    "import xarray as xr\n",
    "#added rasterio to open a GeoTIFF\n",
    "import rasterio\n",
    "\n",
    "import netrc\n",
    "import json\n",
    "import datetime as dt\n",
    "import s3fs\n",
    "\n",
    "from IPython.display import display, JSON\n",
    "#added rasterio.plot to visualize the GeoTIFF\n",
    "import rasterio.plot"
   ]
  },
  {
   "cell_type": "markdown",
   "id": "86f8544a-658e-478d-903f-87bb0f76495c",
   "metadata": {},
   "source": [
    "### Step 2: start a Harmony client\n",
    "\n",
    "A Harmony [`Client`](https://harmony-py.readthedocs.io/en/latest/api.html#harmony.Client) is the interface to Harmony services and is used to submit requests and retrieve the results of those requests.  We only need to start the client once.  That client can then be used to discover what options are available for a dataset, request subsetting, check on the status of that request and retrieve the results.\n",
    "\n",
    "We need to supply our Earthdata Login credentials to use Harmony services.  `hamony.Client` will use EDL_USERNAME & EDL_PASSWORD environment variables or the credentials in our `.netrc` file, if one is available.  If we don't have either of these set up, we can enter our credentials directly.\n",
    "\n",
    "```\n",
    "harmony_client = Client(auth=('edl_username','edl_password'))\n",
    "```\n",
    "\n",
    ":::{note}\n",
    "If you don't have environment variables or a `.netrc` file setup, replace the command in the following code cell with the one above, and use your actual username and password.\n",
    ":::"
   ]
  },
  {
   "cell_type": "code",
   "execution_count": 2,
   "id": "94650df1-161f-499d-a5be-4eff06a55e3a",
   "metadata": {},
   "outputs": [],
   "source": [
    "harmony_client = Client(env=Environmennt.UAT)"
   ]
  },
  {
   "attachments": {},
   "cell_type": "markdown",
   "id": "d79e241d-74a1-446f-85d9-e84e1adce707",
   "metadata": {},
   "source": [
    "### Step 3: discover service options for a given dataset\n",
    "\n",
    "The first thing we want to know is what service options Harmony has for the ICESat-2 dataset.  We discover service options for a dataset by submitting a `CapabilitiesRequest`.  \n",
    "\n",
    "A `CapabilitiesRequest` takes a single argument that is either the _Collection ID_ (also known as the _Concept ID_) or the _Short Name_ for the dataset.  A _Concept ID_ is a unique identifier for a dataset.  For ATL03 Version 6, it is C2596864127-NSIDC_CPRD.  For ICESat-2 products, the _Short Name_ is the familiar product name starting with ATL; e.g. ATL03.\n",
    "\n",
    "Submitting requests to Harmony will follow the same pattern, whether we are discovering capabilities or subsetting data.  We first create a request and then submit that request."
   ]
  },
  {
   "cell_type": "code",
   "execution_count": 3,
   "id": "21a1f815-b187-4059-a4ef-0337721da3e8",
   "metadata": {},
   "outputs": [],
   "source": [
    "short_name = \"ATL03\"\n",
    "capabilities_request = CapabilitiesRequest(short_name=short_name)"
   ]
  },
  {
   "cell_type": "markdown",
   "id": "a7ac0899-c629-48fc-93b5-2926ac2988b9",
   "metadata": {},
   "source": [
    "We then submit the request using the request method of the Harmony client."
   ]
  },
  {
   "cell_type": "code",
   "execution_count": 4,
   "id": "bc59afbe-e218-4240-8315-5f73a51e6125",
   "metadata": {},
   "outputs": [],
   "source": [
    "capabilities = harmony_client.submit(capabilities_request)"
   ]
  },
  {
   "cell_type": "markdown",
   "id": "f6e984f6-7758-496a-af24-12ca87b58bb6",
   "metadata": {},
   "source": [
    "The result is returned as a [JSON](https://en.wikipedia.org/wiki/JSON) string.  This string is human readable text but the format makes it hard to read the contents.  We can use the `json` library to _decode_ the string and print it in a more reader-friendly format.\n",
    "\n",
    ":::{warning}\n",
    "The JSON returned by capabilities can be very long if variable subsetting is an option and data\n",
    "files contains lots of variables.  However, information about subsetting service options should be in the first few lines of output.\n",
    ":::"
   ]
  },
  {
   "cell_type": "code",
   "execution_count": 5,
   "id": "20a8a6c4-095a-4aeb-8fc6-6ff96db182c7",
   "metadata": {
    "scrolled": true
   },
   "outputs": [
    {
     "data": {
      "application/json": {
       "bboxSubset": true,
       "capabilitiesVersion": "2",
       "concatenate": false,
       "conceptId": "C2596864127-NSIDC_CPRD",
       "outputFormats": [
        "application/x-hdf"
       ],
       "reproject": false,
       "services": [
        {
         "capabilities": {
          "output_formats": [
           "application/x-hdf"
          ],
          "subsetting": {
           "bbox": true,
           "shape": true,
           "temporal": true,
           "variable": true
          }
         },
         "href": "https://cmr.earthdata.nasa.gov/search/concepts/S2836723123-XYZ_PROV",
         "name": "sds/trajectory-subsetter"
        }
       ],
       "shapeSubset": true,
       "shortName": "ATL03",
       "variableSubset": false,
       "variables": []
      },
      "text/plain": [
       "<IPython.core.display.JSON object>"
      ]
     },
     "execution_count": 5,
     "metadata": {
      "application/json": {
       "expanded": false,
       "root": "root"
      }
     },
     "output_type": "execute_result"
    }
   ],
   "source": [
    "JSON(capabilities)"
   ]
  },
  {
   "cell_type": "markdown",
   "id": "3e48c57a-7914-4df0-be72-7129afe9371d",
   "metadata": {},
   "source": [
    "The JSON response contains a list of transformation options available for each dataset: marked as `true` if available and `false` if not.  A list of Harmony service _endpoints_ and capabilities associated with the transformation options.  And a list of variables in the dataset if variable subsetting is available.\n",
    "\n",
    "For ATL03, you can see that only subsetting bounding box (`bboxSubset`) and subsetting by Shapefile (`shapeSubset`) are marked `true`.  Variable subsetting (`variableSubset`), concatenation (`concatenate`) and reprojection (`reproject`) are all `false`.   Bounding box and Shapefile subsetting, as well as temporal subsetting, are performed by the Trajectory Subsetter.  This subsetting routine outputs an HDF5 file."
   ]
  },
  {
   "cell_type": "markdown",
   "id": "258e04a7-4b96-4652-b523-9bbdef9f7f06",
   "metadata": {},
   "source": [
    "### Step 4: subset data\n",
    "\n",
    "Now that we know what subsetting options are available for the ATL03 dataset, we can request a subsetted dataset.  "
   ]
  },
  {
   "cell_type": "markdown",
   "id": "319cd4c7-0b3c-4571-97d2-02c344aba418",
   "metadata": {},
   "source": [
    "#### Create A Subset Request\n",
    "\n",
    "we will create a simple request for subset of ATL03 for a bounding box over the northern Colorado Front Range and for the 2020-04-27 to 2020-05-28 period.\n",
    "\n",
    "![Bounding Box and ATL03 Ground Track for northern Colorado](images/atl03_ground_track_and_bbox.png)"
   ]
  },
  {
   "cell_type": "markdown",
   "id": "c1b953ba-e8cd-486f-8132-6cdbb69b656c",
   "metadata": {},
   "source": [
    "The spatial extent to subset is passed as a `BBox` object that defines the _minimum longitude_, _minimum latitude_, _maximum longitude_ and _maximum latitude_ in decimal degrees.\n",
    "\n",
    "The temporal range to subset is passed to Harmony as a dictionary with `\"start\"` and `\"stop\"` keys, and dates supplied as `datetime` objects.  \n",
    "\n",
    "Currently, ICESat-2 data only allows spatial and temporal subsetting so we only demonstrate these capabilities.  For further information on constructing a `Request` objects see the [harmony-py](https://harmony-py.readthedocs.io/en/latest/) documentation."
   ]
  },
  {
   "cell_type": "code",
   "execution_count": 6,
   "id": "5bb08390-ddb0-4356-905e-c0a3244b9247",
   "metadata": {},
   "outputs": [],
   "source": [
    "request = Request(\n",
    "  collection = Collection(id=capabilities[\"conceptId\"]),\n",
    "  spatial=BBox(-105.5,40,-105,41.),\n",
    "  temporal={\n",
    "    'start': dt.datetime(2020, 4, 27),\n",
    "    'stop': dt.datetime(2020, 5, 28)\n",
    "  }\n",
    ")"
   ]
  },
  {
   "cell_type": "markdown",
   "id": "34e01d68-0fd5-47c9-8757-d3fdc760dcf9",
   "metadata": {},
   "source": [
    "#### Submit the request\n",
    "\n",
    "The request is submitted in the same way as the Capabilities request.  This starts the subsetting process, which may take a while depending on the size of the request.  Submitting the request returns a Job ID, which is a unique identifier for your request that is used to track the progress of the request and to access the results.\n",
    "\n",
    "If the request involves a lot of files (more than 300), Harmony will only process the first 300 files.  See section below on Handling Large Jobs on how to work around this restriction."
   ]
  },
  {
   "cell_type": "code",
   "execution_count": 7,
   "id": "c1c312bc-a986-4ebd-951f-c0d11208d19f",
   "metadata": {},
   "outputs": [
    {
     "data": {
      "text/plain": [
       "'4e07cf87-d846-4f59-8ea0-d1c52477b377'"
      ]
     },
     "execution_count": 7,
     "metadata": {},
     "output_type": "execute_result"
    }
   ],
   "source": [
    "job_id = harmony_client.submit(request)\n",
    "job_id"
   ]
  },
  {
   "cell_type": "markdown",
   "id": "53982496-f3a6-4c46-a61f-f164157e119a",
   "metadata": {},
   "source": [
    "### Step 5: check the status of the request\n",
    "\n",
    "Subsetting is performed in the cloud.  For small jobs, the subsetting process can be monitored with a progress bar by submitting the `job_id` to the `wait_for_processing` method of the Harmony client."
   ]
  },
  {
   "cell_type": "code",
   "execution_count": 8,
   "id": "9b253c1e-da1e-4d14-883d-7fbd87834133",
   "metadata": {},
   "outputs": [
    {
     "name": "stderr",
     "output_type": "stream",
     "text": [
      " [ Processing: 100% ] |###################################################| [|]\n"
     ]
    }
   ],
   "source": [
    "harmony_client.wait_for_processing(job_id, show_progress=True)"
   ]
  },
  {
   "cell_type": "markdown",
   "id": "ff9542f8-2e64-457c-a98b-4e1ba0e757ea",
   "metadata": {},
   "source": [
    "Once the subsetting has finished, information about the job can be accessed as a JSON file"
   ]
  },
  {
   "cell_type": "code",
   "execution_count": 9,
   "id": "be41beda-a445-419f-9af2-080fb7e7b1d3",
   "metadata": {},
   "outputs": [
    {
     "data": {
      "application/json": {
       "createdAt": "2024-11-05T18:54:20.607Z",
       "dataExpiration": "2024-12-05T18:54:20.607Z",
       "jobID": "4e07cf87-d846-4f59-8ea0-d1c52477b377",
       "labels": [],
       "links": [
        {
         "href": "https://harmony.earthdata.nasa.gov/stac/4e07cf87-d846-4f59-8ea0-d1c52477b377/",
         "rel": "stac-catalog-json",
         "title": "STAC catalog",
         "type": "application/json"
        },
        {
         "bbox": [
          -108.28738,
          26.94838,
          -103.60569,
          59.54235
         ],
         "href": "https://harmony.earthdata.nasa.gov/service-results/harmony-prod-staging/public/4e07cf87-d846-4f59-8ea0-d1c52477b377/80698796/ATL03_20200427193622_04930702_006_02_subsetted.h5",
         "rel": "data",
         "temporal": {
          "end": "2020-04-27T19:44:52.680Z",
          "start": "2020-04-27T19:36:22.028Z"
         },
         "title": "ATL03_20200427193622_04930702_006_02_subsetted.h5",
         "type": "application/x-hdf5"
        },
        {
         "href": "https://harmony.earthdata.nasa.gov/jobs/4e07cf87-d846-4f59-8ea0-d1c52477b377?linktype=https&page=1&limit=2000",
         "rel": "self",
         "title": "The current page",
         "type": "application/json"
        }
       ],
       "message": "The job has completed successfully",
       "numInputGranules": 1,
       "progress": 100,
       "request": "https://harmony.earthdata.nasa.gov/C2596864127-NSIDC_CPRD/ogc-api-coverages/1.0.0/collections/all/coverage/rangeset?forceAsync=true&subset=lat(40%3A41.0)&subset=lon(-105.5%3A-105)&subset=time(%222020-04-27T00%3A00%3A00%22%3A%222020-05-28T00%3A00%3A00%22)",
       "status": "successful",
       "updatedAt": "2024-11-05T18:58:09.109Z",
       "username": "apbarret"
      },
      "text/plain": [
       "<IPython.core.display.JSON object>"
      ]
     },
     "execution_count": 9,
     "metadata": {
      "application/json": {
       "expanded": false,
       "root": "root"
      }
     },
     "output_type": "execute_result"
    }
   ],
   "source": [
    "job_summary = harmony_client.result_json(job_id)\n",
    "JSON(job_summary)"
   ]
  },
  {
   "cell_type": "markdown",
   "id": "421391bc-f996-4dbb-a69d-ac7d40d67243",
   "metadata": {},
   "source": [
    "### Step 6: access the subsetted data\n",
    "\n",
    "The subsetted files can be accessed by downloading the files to a local machine, such as a laptop or desktop workstation, or by _streaming_ the data.  We will use both access methods in the two examples below.  \n",
    "\n",
    "Results are staged for 30 days in the Harmony s3 bucket."
   ]
  },
  {
   "cell_type": "markdown",
   "id": "120e006a-071e-4bd9-8115-ccd1cc5aac52",
   "metadata": {},
   "source": [
    "#### Download a single file\n",
    "\n",
    "The _download_ method takes a url to a single subsetted file.  The `directory` keyword is used to specify a download path.  The default is the current working directory (`.`).  Setting `overwrite` to False avoids downloading the same file twice.  If you need to download the file again, then set `overwrite=True`.\n",
    "\n",
    ":::{note}\n",
    "The `download` and `download_all` method are [_asynchronous_](https://en.wikipedia.org/wiki/Asynchrony_(computer_programming)), so that downloading each file is performed independently.  Once the downloads are completed, the filepaths for the downloaded file are accessed using the `result` method.\n",
    ":::"
   ]
  },
  {
   "cell_type": "code",
   "execution_count": 13,
   "id": "2e8f110a-4aa3-4bec-9ac3-65eef9f0e4aa",
   "metadata": {},
   "outputs": [
    {
     "data": {
      "text/plain": [
       "'./ATL03_20200427193622_04930702_006_02_subsetted.h5'"
      ]
     },
     "execution_count": 13,
     "metadata": {},
     "output_type": "execute_result"
    }
   ],
   "source": [
    "url = list(harmony_client.result_urls(job_id))[0]  # Get the data url of the first file\n",
    "filepath = harmony_client.download(url, directory=\".\", overwrite=False).result()\n",
    "filepath"
   ]
  },
  {
   "cell_type": "markdown",
   "id": "4876c8ac-c822-4bae-b4fd-462026330040",
   "metadata": {},
   "source": [
    "#### Download all files\n",
    "\n",
    "The `download_all` method can use the _job-id_ or the _result-json_, which contains result urls.  \n",
    "\n",
    "As with `download`, the download directory path on the local machine can be specified with the `directory` keyword.  To save downloading the same file, the `overwrite` keyword can be set to False.\n",
    "\n",
    "The paths fo the files are returned as a list."
   ]
  },
  {
   "cell_type": "code",
   "execution_count": 16,
   "id": "951581ed-03a3-4aa2-b147-ed2054b75905",
   "metadata": {},
   "outputs": [
    {
     "data": {
      "text/plain": [
       "1"
      ]
     },
     "execution_count": 16,
     "metadata": {},
     "output_type": "execute_result"
    }
   ],
   "source": [
    "futures = harmony_client.download_all(job_id, directory=\".\", overwrite=False)\n",
    "filelist = [f.result() for f in futures]  # get filepaths\n",
    "len(filelist)"
   ]
  },
  {
   "cell_type": "markdown",
   "id": "443960f2-3983-4fa6-ae00-6e3bd7dee39e",
   "metadata": {},
   "source": [
    "In this case, there is only one file download.  Individual filepaths can be accessed using the normal methods for Python lists."
   ]
  },
  {
   "cell_type": "code",
   "execution_count": 15,
   "id": "203a3c23-4bdc-47ee-a874-b361296d584b",
   "metadata": {},
   "outputs": [
    {
     "data": {
      "text/plain": [
       "'./ATL03_20200427193622_04930702_006_02_subsetted.h5'"
      ]
     },
     "execution_count": 15,
     "metadata": {},
     "output_type": "execute_result"
    }
   ],
   "source": [
    "filelist[0]"
   ]
  },
  {
   "cell_type": "markdown",
   "id": "acba9b5d-d4f6-4287-ac7d-3e7e1c70740b",
   "metadata": {},
   "source": [
    "#### Load a file into an `xarray` dataset\n",
    "\n",
    "The simplest way to load ICESat-2 data is to use `xarray`.\n",
    "\n",
    ":::{note}\n",
    "You could also load the data into a `geopandas.GeoDataframe`\n",
    ":::"
   ]
  },
  {
   "cell_type": "code",
   "execution_count": 17,
   "id": "ae13153c-2968-44c1-a668-0f72f07a7d8c",
   "metadata": {},
   "outputs": [
    {
     "data": {
      "text/html": [
       "<div><svg style=\"position: absolute; width: 0; height: 0; overflow: hidden\">\n",
       "<defs>\n",
       "<symbol id=\"icon-database\" viewBox=\"0 0 32 32\">\n",
       "<path d=\"M16 0c-8.837 0-16 2.239-16 5v4c0 2.761 7.163 5 16 5s16-2.239 16-5v-4c0-2.761-7.163-5-16-5z\"></path>\n",
       "<path d=\"M16 17c-8.837 0-16-2.239-16-5v6c0 2.761 7.163 5 16 5s16-2.239 16-5v-6c0 2.761-7.163 5-16 5z\"></path>\n",
       "<path d=\"M16 26c-8.837 0-16-2.239-16-5v6c0 2.761 7.163 5 16 5s16-2.239 16-5v-6c0 2.761-7.163 5-16 5z\"></path>\n",
       "</symbol>\n",
       "<symbol id=\"icon-file-text2\" viewBox=\"0 0 32 32\">\n",
       "<path d=\"M28.681 7.159c-0.694-0.947-1.662-2.053-2.724-3.116s-2.169-2.030-3.116-2.724c-1.612-1.182-2.393-1.319-2.841-1.319h-15.5c-1.378 0-2.5 1.121-2.5 2.5v27c0 1.378 1.122 2.5 2.5 2.5h23c1.378 0 2.5-1.122 2.5-2.5v-19.5c0-0.448-0.137-1.23-1.319-2.841zM24.543 5.457c0.959 0.959 1.712 1.825 2.268 2.543h-4.811v-4.811c0.718 0.556 1.584 1.309 2.543 2.268zM28 29.5c0 0.271-0.229 0.5-0.5 0.5h-23c-0.271 0-0.5-0.229-0.5-0.5v-27c0-0.271 0.229-0.5 0.5-0.5 0 0 15.499-0 15.5 0v7c0 0.552 0.448 1 1 1h7v19.5z\"></path>\n",
       "<path d=\"M23 26h-14c-0.552 0-1-0.448-1-1s0.448-1 1-1h14c0.552 0 1 0.448 1 1s-0.448 1-1 1z\"></path>\n",
       "<path d=\"M23 22h-14c-0.552 0-1-0.448-1-1s0.448-1 1-1h14c0.552 0 1 0.448 1 1s-0.448 1-1 1z\"></path>\n",
       "<path d=\"M23 18h-14c-0.552 0-1-0.448-1-1s0.448-1 1-1h14c0.552 0 1 0.448 1 1s-0.448 1-1 1z\"></path>\n",
       "</symbol>\n",
       "</defs>\n",
       "</svg>\n",
       "<style>/* CSS stylesheet for displaying xarray objects in jupyterlab.\n",
       " *\n",
       " */\n",
       "\n",
       ":root {\n",
       "  --xr-font-color0: var(--jp-content-font-color0, rgba(0, 0, 0, 1));\n",
       "  --xr-font-color2: var(--jp-content-font-color2, rgba(0, 0, 0, 0.54));\n",
       "  --xr-font-color3: var(--jp-content-font-color3, rgba(0, 0, 0, 0.38));\n",
       "  --xr-border-color: var(--jp-border-color2, #e0e0e0);\n",
       "  --xr-disabled-color: var(--jp-layout-color3, #bdbdbd);\n",
       "  --xr-background-color: var(--jp-layout-color0, white);\n",
       "  --xr-background-color-row-even: var(--jp-layout-color1, white);\n",
       "  --xr-background-color-row-odd: var(--jp-layout-color2, #eeeeee);\n",
       "}\n",
       "\n",
       "html[theme=dark],\n",
       "body[data-theme=dark],\n",
       "body.vscode-dark {\n",
       "  --xr-font-color0: rgba(255, 255, 255, 1);\n",
       "  --xr-font-color2: rgba(255, 255, 255, 0.54);\n",
       "  --xr-font-color3: rgba(255, 255, 255, 0.38);\n",
       "  --xr-border-color: #1F1F1F;\n",
       "  --xr-disabled-color: #515151;\n",
       "  --xr-background-color: #111111;\n",
       "  --xr-background-color-row-even: #111111;\n",
       "  --xr-background-color-row-odd: #313131;\n",
       "}\n",
       "\n",
       ".xr-wrap {\n",
       "  display: block !important;\n",
       "  min-width: 300px;\n",
       "  max-width: 700px;\n",
       "}\n",
       "\n",
       ".xr-text-repr-fallback {\n",
       "  /* fallback to plain text repr when CSS is not injected (untrusted notebook) */\n",
       "  display: none;\n",
       "}\n",
       "\n",
       ".xr-header {\n",
       "  padding-top: 6px;\n",
       "  padding-bottom: 6px;\n",
       "  margin-bottom: 4px;\n",
       "  border-bottom: solid 1px var(--xr-border-color);\n",
       "}\n",
       "\n",
       ".xr-header > div,\n",
       ".xr-header > ul {\n",
       "  display: inline;\n",
       "  margin-top: 0;\n",
       "  margin-bottom: 0;\n",
       "}\n",
       "\n",
       ".xr-obj-type,\n",
       ".xr-array-name {\n",
       "  margin-left: 2px;\n",
       "  margin-right: 10px;\n",
       "}\n",
       "\n",
       ".xr-obj-type {\n",
       "  color: var(--xr-font-color2);\n",
       "}\n",
       "\n",
       ".xr-sections {\n",
       "  padding-left: 0 !important;\n",
       "  display: grid;\n",
       "  grid-template-columns: 150px auto auto 1fr 20px 20px;\n",
       "}\n",
       "\n",
       ".xr-section-item {\n",
       "  display: contents;\n",
       "}\n",
       "\n",
       ".xr-section-item input {\n",
       "  display: none;\n",
       "}\n",
       "\n",
       ".xr-section-item input + label {\n",
       "  color: var(--xr-disabled-color);\n",
       "}\n",
       "\n",
       ".xr-section-item input:enabled + label {\n",
       "  cursor: pointer;\n",
       "  color: var(--xr-font-color2);\n",
       "}\n",
       "\n",
       ".xr-section-item input:enabled + label:hover {\n",
       "  color: var(--xr-font-color0);\n",
       "}\n",
       "\n",
       ".xr-section-summary {\n",
       "  grid-column: 1;\n",
       "  color: var(--xr-font-color2);\n",
       "  font-weight: 500;\n",
       "}\n",
       "\n",
       ".xr-section-summary > span {\n",
       "  display: inline-block;\n",
       "  padding-left: 0.5em;\n",
       "}\n",
       "\n",
       ".xr-section-summary-in:disabled + label {\n",
       "  color: var(--xr-font-color2);\n",
       "}\n",
       "\n",
       ".xr-section-summary-in + label:before {\n",
       "  display: inline-block;\n",
       "  content: '►';\n",
       "  font-size: 11px;\n",
       "  width: 15px;\n",
       "  text-align: center;\n",
       "}\n",
       "\n",
       ".xr-section-summary-in:disabled + label:before {\n",
       "  color: var(--xr-disabled-color);\n",
       "}\n",
       "\n",
       ".xr-section-summary-in:checked + label:before {\n",
       "  content: '▼';\n",
       "}\n",
       "\n",
       ".xr-section-summary-in:checked + label > span {\n",
       "  display: none;\n",
       "}\n",
       "\n",
       ".xr-section-summary,\n",
       ".xr-section-inline-details {\n",
       "  padding-top: 4px;\n",
       "  padding-bottom: 4px;\n",
       "}\n",
       "\n",
       ".xr-section-inline-details {\n",
       "  grid-column: 2 / -1;\n",
       "}\n",
       "\n",
       ".xr-section-details {\n",
       "  display: none;\n",
       "  grid-column: 1 / -1;\n",
       "  margin-bottom: 5px;\n",
       "}\n",
       "\n",
       ".xr-section-summary-in:checked ~ .xr-section-details {\n",
       "  display: contents;\n",
       "}\n",
       "\n",
       ".xr-array-wrap {\n",
       "  grid-column: 1 / -1;\n",
       "  display: grid;\n",
       "  grid-template-columns: 20px auto;\n",
       "}\n",
       "\n",
       ".xr-array-wrap > label {\n",
       "  grid-column: 1;\n",
       "  vertical-align: top;\n",
       "}\n",
       "\n",
       ".xr-preview {\n",
       "  color: var(--xr-font-color3);\n",
       "}\n",
       "\n",
       ".xr-array-preview,\n",
       ".xr-array-data {\n",
       "  padding: 0 5px !important;\n",
       "  grid-column: 2;\n",
       "}\n",
       "\n",
       ".xr-array-data,\n",
       ".xr-array-in:checked ~ .xr-array-preview {\n",
       "  display: none;\n",
       "}\n",
       "\n",
       ".xr-array-in:checked ~ .xr-array-data,\n",
       ".xr-array-preview {\n",
       "  display: inline-block;\n",
       "}\n",
       "\n",
       ".xr-dim-list {\n",
       "  display: inline-block !important;\n",
       "  list-style: none;\n",
       "  padding: 0 !important;\n",
       "  margin: 0;\n",
       "}\n",
       "\n",
       ".xr-dim-list li {\n",
       "  display: inline-block;\n",
       "  padding: 0;\n",
       "  margin: 0;\n",
       "}\n",
       "\n",
       ".xr-dim-list:before {\n",
       "  content: '(';\n",
       "}\n",
       "\n",
       ".xr-dim-list:after {\n",
       "  content: ')';\n",
       "}\n",
       "\n",
       ".xr-dim-list li:not(:last-child):after {\n",
       "  content: ',';\n",
       "  padding-right: 5px;\n",
       "}\n",
       "\n",
       ".xr-has-index {\n",
       "  font-weight: bold;\n",
       "}\n",
       "\n",
       ".xr-var-list,\n",
       ".xr-var-item {\n",
       "  display: contents;\n",
       "}\n",
       "\n",
       ".xr-var-item > div,\n",
       ".xr-var-item label,\n",
       ".xr-var-item > .xr-var-name span {\n",
       "  background-color: var(--xr-background-color-row-even);\n",
       "  margin-bottom: 0;\n",
       "}\n",
       "\n",
       ".xr-var-item > .xr-var-name:hover span {\n",
       "  padding-right: 5px;\n",
       "}\n",
       "\n",
       ".xr-var-list > li:nth-child(odd) > div,\n",
       ".xr-var-list > li:nth-child(odd) > label,\n",
       ".xr-var-list > li:nth-child(odd) > .xr-var-name span {\n",
       "  background-color: var(--xr-background-color-row-odd);\n",
       "}\n",
       "\n",
       ".xr-var-name {\n",
       "  grid-column: 1;\n",
       "}\n",
       "\n",
       ".xr-var-dims {\n",
       "  grid-column: 2;\n",
       "}\n",
       "\n",
       ".xr-var-dtype {\n",
       "  grid-column: 3;\n",
       "  text-align: right;\n",
       "  color: var(--xr-font-color2);\n",
       "}\n",
       "\n",
       ".xr-var-preview {\n",
       "  grid-column: 4;\n",
       "}\n",
       "\n",
       ".xr-index-preview {\n",
       "  grid-column: 2 / 5;\n",
       "  color: var(--xr-font-color2);\n",
       "}\n",
       "\n",
       ".xr-var-name,\n",
       ".xr-var-dims,\n",
       ".xr-var-dtype,\n",
       ".xr-preview,\n",
       ".xr-attrs dt {\n",
       "  white-space: nowrap;\n",
       "  overflow: hidden;\n",
       "  text-overflow: ellipsis;\n",
       "  padding-right: 10px;\n",
       "}\n",
       "\n",
       ".xr-var-name:hover,\n",
       ".xr-var-dims:hover,\n",
       ".xr-var-dtype:hover,\n",
       ".xr-attrs dt:hover {\n",
       "  overflow: visible;\n",
       "  width: auto;\n",
       "  z-index: 1;\n",
       "}\n",
       "\n",
       ".xr-var-attrs,\n",
       ".xr-var-data,\n",
       ".xr-index-data {\n",
       "  display: none;\n",
       "  background-color: var(--xr-background-color) !important;\n",
       "  padding-bottom: 5px !important;\n",
       "}\n",
       "\n",
       ".xr-var-attrs-in:checked ~ .xr-var-attrs,\n",
       ".xr-var-data-in:checked ~ .xr-var-data,\n",
       ".xr-index-data-in:checked ~ .xr-index-data {\n",
       "  display: block;\n",
       "}\n",
       "\n",
       ".xr-var-data > table {\n",
       "  float: right;\n",
       "}\n",
       "\n",
       ".xr-var-name span,\n",
       ".xr-var-data,\n",
       ".xr-index-name div,\n",
       ".xr-index-data,\n",
       ".xr-attrs {\n",
       "  padding-left: 25px !important;\n",
       "}\n",
       "\n",
       ".xr-attrs,\n",
       ".xr-var-attrs,\n",
       ".xr-var-data,\n",
       ".xr-index-data {\n",
       "  grid-column: 1 / -1;\n",
       "}\n",
       "\n",
       "dl.xr-attrs {\n",
       "  padding: 0;\n",
       "  margin: 0;\n",
       "  display: grid;\n",
       "  grid-template-columns: 125px auto;\n",
       "}\n",
       "\n",
       ".xr-attrs dt,\n",
       ".xr-attrs dd {\n",
       "  padding: 0;\n",
       "  margin: 0;\n",
       "  float: left;\n",
       "  padding-right: 10px;\n",
       "  width: auto;\n",
       "}\n",
       "\n",
       ".xr-attrs dt {\n",
       "  font-weight: normal;\n",
       "  grid-column: 1;\n",
       "}\n",
       "\n",
       ".xr-attrs dt:hover span {\n",
       "  display: inline-block;\n",
       "  background: var(--xr-background-color);\n",
       "  padding-right: 10px;\n",
       "}\n",
       "\n",
       ".xr-attrs dd {\n",
       "  grid-column: 2;\n",
       "  white-space: pre-wrap;\n",
       "  word-break: break-all;\n",
       "}\n",
       "\n",
       ".xr-icon-database,\n",
       ".xr-icon-file-text2,\n",
       ".xr-no-icon {\n",
       "  display: inline-block;\n",
       "  vertical-align: middle;\n",
       "  width: 1em;\n",
       "  height: 1.5em !important;\n",
       "  stroke-width: 0;\n",
       "  stroke: currentColor;\n",
       "  fill: currentColor;\n",
       "}\n",
       "</style><pre class='xr-text-repr-fallback'>&lt;xarray.Dataset&gt; Size: 92MB\n",
       "Dimensions:         (delta_time: 1848992, ds_surf_type: 5)\n",
       "Coordinates:\n",
       "  * delta_time      (delta_time) datetime64[ns] 15MB 2020-04-27T19:39:45.8497...\n",
       "    lat_ph          (delta_time) float64 15MB ...\n",
       "    lon_ph          (delta_time) float64 15MB ...\n",
       "Dimensions without coordinates: ds_surf_type\n",
       "Data variables:\n",
       "    dist_ph_across  (delta_time) float32 7MB ...\n",
       "    dist_ph_along   (delta_time) float32 7MB ...\n",
       "    h_ph            (delta_time) float32 7MB ...\n",
       "    pce_mframe_cnt  (delta_time) uint32 7MB ...\n",
       "    ph_id_channel   (delta_time) uint8 2MB ...\n",
       "    ph_id_count     (delta_time) uint8 2MB ...\n",
       "    ph_id_pulse     (delta_time) uint8 2MB ...\n",
       "    quality_ph      (delta_time) int8 2MB ...\n",
       "    signal_conf_ph  (delta_time, ds_surf_type) int8 9MB ...\n",
       "    weight_ph       (delta_time) uint8 2MB ...\n",
       "Attributes:\n",
       "    Description:  Contains arrays of the parameters for each received photon.\n",
       "    data_rate:    Data are stored at the photon detection rate.</pre><div class='xr-wrap' style='display:none'><div class='xr-header'><div class='xr-obj-type'>xarray.Dataset</div></div><ul class='xr-sections'><li class='xr-section-item'><input id='section-13abb656-7548-42f5-a43b-f9c43872adf8' class='xr-section-summary-in' type='checkbox' disabled ><label for='section-13abb656-7548-42f5-a43b-f9c43872adf8' class='xr-section-summary'  title='Expand/collapse section'>Dimensions:</label><div class='xr-section-inline-details'><ul class='xr-dim-list'><li><span class='xr-has-index'>delta_time</span>: 1848992</li><li><span>ds_surf_type</span>: 5</li></ul></div><div class='xr-section-details'></div></li><li class='xr-section-item'><input id='section-36e10ac7-2866-4fc2-8aff-4dd9feefc7e8' class='xr-section-summary-in' type='checkbox'  checked><label for='section-36e10ac7-2866-4fc2-8aff-4dd9feefc7e8' class='xr-section-summary' >Coordinates: <span>(3)</span></label><div class='xr-section-inline-details'></div><div class='xr-section-details'><ul class='xr-var-list'><li class='xr-var-item'><div class='xr-var-name'><span class='xr-has-index'>delta_time</span></div><div class='xr-var-dims'>(delta_time)</div><div class='xr-var-dtype'>datetime64[ns]</div><div class='xr-var-preview xr-preview'>2020-04-27T19:39:45.849764816 .....</div><input id='attrs-fa73d34f-f69d-40ec-b8b2-bfc2a876769d' class='xr-var-attrs-in' type='checkbox' ><label for='attrs-fa73d34f-f69d-40ec-b8b2-bfc2a876769d' title='Show/Hide attributes'><svg class='icon xr-icon-file-text2'><use xlink:href='#icon-file-text2'></use></svg></label><input id='data-c7b1760d-0dac-413f-b38b-b0a800b8d966' class='xr-var-data-in' type='checkbox'><label for='data-c7b1760d-0dac-413f-b38b-b0a800b8d966' title='Show/Hide data repr'><svg class='icon xr-icon-database'><use xlink:href='#icon-database'></use></svg></label><div class='xr-var-attrs'><dl class='xr-attrs'><dt><span>long_name :</span></dt><dd>Elapsed GPS seconds</dd><dt><span>standard_name :</span></dt><dd>time</dd><dt><span>source :</span></dt><dd>Operations</dd><dt><span>contentType :</span></dt><dd>referenceInformation</dd><dt><span>description :</span></dt><dd>The transmit time of a given photon, measured in seconds from the ATLAS Standard Data Product Epoch. Note that multiple received photons associated with a single transmit pulse will have the same delta_time. The ATLAS Standard Data Products (SDP) epoch offset is defined within /ancillary_data/atlas_sdp_gps_epoch as the number of GPS seconds between the GPS epoch (1980-01-06T00:00:00.000000Z UTC) and the ATLAS SDP epoch. By adding the offset contained within atlas_sdp_gps_epoch to delta time parameters, the time in gps_seconds relative to the GPS epoch can be computed.</dd></dl></div><div class='xr-var-data'><pre>array([&#x27;2020-04-27T19:39:45.849764816&#x27;, &#x27;2020-04-27T19:39:45.849764816&#x27;,\n",
       "       &#x27;2020-04-27T19:39:45.849764816&#x27;, ..., &#x27;2020-04-27T19:40:01.537665200&#x27;,\n",
       "       &#x27;2020-04-27T19:40:01.537665200&#x27;, &#x27;2020-04-27T19:40:01.537665200&#x27;],\n",
       "      dtype=&#x27;datetime64[ns]&#x27;)</pre></div></li><li class='xr-var-item'><div class='xr-var-name'><span>lat_ph</span></div><div class='xr-var-dims'>(delta_time)</div><div class='xr-var-dtype'>float64</div><div class='xr-var-preview xr-preview'>...</div><input id='attrs-718690af-9cf4-4b02-a7fc-3e663071be0c' class='xr-var-attrs-in' type='checkbox' ><label for='attrs-718690af-9cf4-4b02-a7fc-3e663071be0c' title='Show/Hide attributes'><svg class='icon xr-icon-file-text2'><use xlink:href='#icon-file-text2'></use></svg></label><input id='data-c5be7291-96a5-4f5f-b9fd-27f0de7b6001' class='xr-var-data-in' type='checkbox'><label for='data-c5be7291-96a5-4f5f-b9fd-27f0de7b6001' title='Show/Hide data repr'><svg class='icon xr-icon-database'><use xlink:href='#icon-database'></use></svg></label><div class='xr-var-attrs'><dl class='xr-attrs'><dt><span>long_name :</span></dt><dd>Latitude</dd><dt><span>valid_max :</span></dt><dd>90.0</dd><dt><span>standard_name :</span></dt><dd>latitude</dd><dt><span>source :</span></dt><dd>ATL03g ATBD, Section 3.4</dd><dt><span>units :</span></dt><dd>degrees_north</dd><dt><span>contentType :</span></dt><dd>modelResult</dd><dt><span>valid_min :</span></dt><dd>-90.0</dd><dt><span>description :</span></dt><dd>Latitude of each received photon. Computed from the ECF Cartesian coordinates of the bounce point.</dd></dl></div><div class='xr-var-data'><pre>[1848992 values with dtype=float64]</pre></div></li><li class='xr-var-item'><div class='xr-var-name'><span>lon_ph</span></div><div class='xr-var-dims'>(delta_time)</div><div class='xr-var-dtype'>float64</div><div class='xr-var-preview xr-preview'>...</div><input id='attrs-7568c75d-d238-47e9-86f2-89d805bd42cf' class='xr-var-attrs-in' type='checkbox' ><label for='attrs-7568c75d-d238-47e9-86f2-89d805bd42cf' title='Show/Hide attributes'><svg class='icon xr-icon-file-text2'><use xlink:href='#icon-file-text2'></use></svg></label><input id='data-24558b70-bf4c-4445-8786-933f9055efc6' class='xr-var-data-in' type='checkbox'><label for='data-24558b70-bf4c-4445-8786-933f9055efc6' title='Show/Hide data repr'><svg class='icon xr-icon-database'><use xlink:href='#icon-database'></use></svg></label><div class='xr-var-attrs'><dl class='xr-attrs'><dt><span>long_name :</span></dt><dd>Longitude</dd><dt><span>valid_max :</span></dt><dd>180.0</dd><dt><span>standard_name :</span></dt><dd>longitude</dd><dt><span>source :</span></dt><dd>ATL03g ATBD, Section 3.4</dd><dt><span>units :</span></dt><dd>degrees_east</dd><dt><span>contentType :</span></dt><dd>modelResult</dd><dt><span>valid_min :</span></dt><dd>-180.0</dd><dt><span>description :</span></dt><dd>Longitude of each received photon. Computed from the ECF Cartesian coordinates of the bounce point.</dd></dl></div><div class='xr-var-data'><pre>[1848992 values with dtype=float64]</pre></div></li></ul></div></li><li class='xr-section-item'><input id='section-848e2971-de0c-4f2d-8687-2cd1de965f46' class='xr-section-summary-in' type='checkbox'  checked><label for='section-848e2971-de0c-4f2d-8687-2cd1de965f46' class='xr-section-summary' >Data variables: <span>(10)</span></label><div class='xr-section-inline-details'></div><div class='xr-section-details'><ul class='xr-var-list'><li class='xr-var-item'><div class='xr-var-name'><span>dist_ph_across</span></div><div class='xr-var-dims'>(delta_time)</div><div class='xr-var-dtype'>float32</div><div class='xr-var-preview xr-preview'>...</div><input id='attrs-d90a3b81-ab9d-4503-a91d-a7f952ca98da' class='xr-var-attrs-in' type='checkbox' ><label for='attrs-d90a3b81-ab9d-4503-a91d-a7f952ca98da' title='Show/Hide attributes'><svg class='icon xr-icon-file-text2'><use xlink:href='#icon-file-text2'></use></svg></label><input id='data-f41888ea-8f9b-47cd-a5b9-a5bfd14aac66' class='xr-var-data-in' type='checkbox'><label for='data-f41888ea-8f9b-47cd-a5b9-a5bfd14aac66' title='Show/Hide data repr'><svg class='icon xr-icon-database'><use xlink:href='#icon-database'></use></svg></label><div class='xr-var-attrs'><dl class='xr-attrs'><dt><span>long_name :</span></dt><dd>Distance off RGT.</dd><dt><span>units :</span></dt><dd>meters</dd><dt><span>source :</span></dt><dd>ATL03 ATBD, Section 3.1</dd><dt><span>contentType :</span></dt><dd>modelResult</dd><dt><span>description :</span></dt><dd>Across-track distance projected to the ellipsoid of the received photon from the reference ground track.  This is based on the Along-Track Segment algorithm described in Section 3.1.</dd></dl></div><div class='xr-var-data'><pre>[1848992 values with dtype=float32]</pre></div></li><li class='xr-var-item'><div class='xr-var-name'><span>dist_ph_along</span></div><div class='xr-var-dims'>(delta_time)</div><div class='xr-var-dtype'>float32</div><div class='xr-var-preview xr-preview'>...</div><input id='attrs-c16cce51-88b3-47d1-861d-e80c6fe728a2' class='xr-var-attrs-in' type='checkbox' ><label for='attrs-c16cce51-88b3-47d1-861d-e80c6fe728a2' title='Show/Hide attributes'><svg class='icon xr-icon-file-text2'><use xlink:href='#icon-file-text2'></use></svg></label><input id='data-a06f327a-27ae-40cc-b0fe-5e1a091a6ab3' class='xr-var-data-in' type='checkbox'><label for='data-a06f327a-27ae-40cc-b0fe-5e1a091a6ab3' title='Show/Hide data repr'><svg class='icon xr-icon-database'><use xlink:href='#icon-database'></use></svg></label><div class='xr-var-attrs'><dl class='xr-attrs'><dt><span>long_name :</span></dt><dd>Distance from equator crossing.</dd><dt><span>units :</span></dt><dd>meters</dd><dt><span>source :</span></dt><dd>ATL03 ATBD, Section 3.1</dd><dt><span>contentType :</span></dt><dd>modelResult</dd><dt><span>description :</span></dt><dd>Along-track distance in a segment projected to the ellipsoid of the received photon, based on the Along-Track Segment algorithm.  Total along track distance can be found by adding this value to the sum of segment lengths measured from the start of the most recent reference groundtrack.</dd></dl></div><div class='xr-var-data'><pre>[1848992 values with dtype=float32]</pre></div></li><li class='xr-var-item'><div class='xr-var-name'><span>h_ph</span></div><div class='xr-var-dims'>(delta_time)</div><div class='xr-var-dtype'>float32</div><div class='xr-var-preview xr-preview'>...</div><input id='attrs-e92da640-acac-4f83-8775-a296b0117d41' class='xr-var-attrs-in' type='checkbox' ><label for='attrs-e92da640-acac-4f83-8775-a296b0117d41' title='Show/Hide attributes'><svg class='icon xr-icon-file-text2'><use xlink:href='#icon-file-text2'></use></svg></label><input id='data-b0d71280-694c-41d7-98c9-38d3dbea6426' class='xr-var-data-in' type='checkbox'><label for='data-b0d71280-694c-41d7-98c9-38d3dbea6426' title='Show/Hide data repr'><svg class='icon xr-icon-database'><use xlink:href='#icon-database'></use></svg></label><div class='xr-var-attrs'><dl class='xr-attrs'><dt><span>long_name :</span></dt><dd>Photon WGS84 Height</dd><dt><span>standard_name :</span></dt><dd>height</dd><dt><span>units :</span></dt><dd>meters</dd><dt><span>source :</span></dt><dd>ATL03g ATBD, Section 3.4</dd><dt><span>contentType :</span></dt><dd>physicalMeasurement</dd><dt><span>description :</span></dt><dd>Height of each received photon, relative to the WGS-84 ellipsoid including the geophysical corrections noted in Section 6. Please note that neither the geoid, ocean tide nor the dynamic atmosphere (DAC) corrections are applied to the ellipsoidal heights.</dd></dl></div><div class='xr-var-data'><pre>[1848992 values with dtype=float32]</pre></div></li><li class='xr-var-item'><div class='xr-var-name'><span>pce_mframe_cnt</span></div><div class='xr-var-dims'>(delta_time)</div><div class='xr-var-dtype'>uint32</div><div class='xr-var-preview xr-preview'>...</div><input id='attrs-2261c303-6105-4c5e-8a6d-76253499e550' class='xr-var-attrs-in' type='checkbox' ><label for='attrs-2261c303-6105-4c5e-8a6d-76253499e550' title='Show/Hide attributes'><svg class='icon xr-icon-file-text2'><use xlink:href='#icon-file-text2'></use></svg></label><input id='data-1390e2f4-8fbd-42e4-bd38-a7710d100969' class='xr-var-data-in' type='checkbox'><label for='data-1390e2f4-8fbd-42e4-bd38-a7710d100969' title='Show/Hide data repr'><svg class='icon xr-icon-database'><use xlink:href='#icon-database'></use></svg></label><div class='xr-var-attrs'><dl class='xr-attrs'><dt><span>long_name :</span></dt><dd>PCE Major frame counter</dd><dt><span>units :</span></dt><dd>counts</dd><dt><span>source :</span></dt><dd>Retained from prior a_alt_science_ph packet</dd><dt><span>contentType :</span></dt><dd>referenceInformation</dd><dt><span>description :</span></dt><dd>The major frame counter is read from the digital flow controller in a given PCE card.  The counter identifies individual major frames across diag and science packets. Used as part of the photon ID.</dd></dl></div><div class='xr-var-data'><pre>[1848992 values with dtype=uint32]</pre></div></li><li class='xr-var-item'><div class='xr-var-name'><span>ph_id_channel</span></div><div class='xr-var-dims'>(delta_time)</div><div class='xr-var-dtype'>uint8</div><div class='xr-var-preview xr-preview'>...</div><input id='attrs-c5f69d20-5348-47c1-ade3-b2a4891fd464' class='xr-var-attrs-in' type='checkbox' ><label for='attrs-c5f69d20-5348-47c1-ade3-b2a4891fd464' title='Show/Hide attributes'><svg class='icon xr-icon-file-text2'><use xlink:href='#icon-file-text2'></use></svg></label><input id='data-06663fbc-1b16-4317-a152-5ff271dfe432' class='xr-var-data-in' type='checkbox'><label for='data-06663fbc-1b16-4317-a152-5ff271dfe432' title='Show/Hide data repr'><svg class='icon xr-icon-database'><use xlink:href='#icon-database'></use></svg></label><div class='xr-var-attrs'><dl class='xr-attrs'><dt><span>long_name :</span></dt><dd>Receive channel id</dd><dt><span>units :</span></dt><dd>1</dd><dt><span>source :</span></dt><dd>Derived as part of Photon ID</dd><dt><span>valid_min :</span></dt><dd>1</dd><dt><span>valid_max :</span></dt><dd>120</dd><dt><span>contentType :</span></dt><dd>referenceInformation</dd><dt><span>description :</span></dt><dd>Channel number assigned for each received photon event. This is part of the photon ID. Values range from 1 to 120 to span all channels and rise/fall edges. Values 1 to 60 are for falling edge; PCE1 (1 to 20), PCE 2 (21 to 40) and PCE3 (41 to 60). Values 61 to 120 are for rising edge; PCE1 (61 to 80), PCE 2 (81 to 100) and PC3 (101 to 120).</dd></dl></div><div class='xr-var-data'><pre>[1848992 values with dtype=uint8]</pre></div></li><li class='xr-var-item'><div class='xr-var-name'><span>ph_id_count</span></div><div class='xr-var-dims'>(delta_time)</div><div class='xr-var-dtype'>uint8</div><div class='xr-var-preview xr-preview'>...</div><input id='attrs-b78d2496-c68a-42ee-8567-3f8edf955074' class='xr-var-attrs-in' type='checkbox' ><label for='attrs-b78d2496-c68a-42ee-8567-3f8edf955074' title='Show/Hide attributes'><svg class='icon xr-icon-file-text2'><use xlink:href='#icon-file-text2'></use></svg></label><input id='data-1d7ce889-f111-49e1-a4b1-652c0660aa1c' class='xr-var-data-in' type='checkbox'><label for='data-1d7ce889-f111-49e1-a4b1-652c0660aa1c' title='Show/Hide data repr'><svg class='icon xr-icon-database'><use xlink:href='#icon-database'></use></svg></label><div class='xr-var-attrs'><dl class='xr-attrs'><dt><span>long_name :</span></dt><dd>photon event counter</dd><dt><span>units :</span></dt><dd>counts</dd><dt><span>description :</span></dt><dd>The photon event counter is part of photon ID and counts from 1 for each channel until reset by laser pulse counter.</dd><dt><span>source :</span></dt><dd>Derived as part of Photon ID</dd><dt><span>contentType :</span></dt><dd>referenceInformation</dd></dl></div><div class='xr-var-data'><pre>[1848992 values with dtype=uint8]</pre></div></li><li class='xr-var-item'><div class='xr-var-name'><span>ph_id_pulse</span></div><div class='xr-var-dims'>(delta_time)</div><div class='xr-var-dtype'>uint8</div><div class='xr-var-preview xr-preview'>...</div><input id='attrs-f9f6d675-28b6-40c1-8864-b7b4cb29643a' class='xr-var-attrs-in' type='checkbox' ><label for='attrs-f9f6d675-28b6-40c1-8864-b7b4cb29643a' title='Show/Hide attributes'><svg class='icon xr-icon-file-text2'><use xlink:href='#icon-file-text2'></use></svg></label><input id='data-9cbd580c-7a5d-4ec2-b1f6-a849c5ef44d5' class='xr-var-data-in' type='checkbox'><label for='data-9cbd580c-7a5d-4ec2-b1f6-a849c5ef44d5' title='Show/Hide data repr'><svg class='icon xr-icon-database'><use xlink:href='#icon-database'></use></svg></label><div class='xr-var-attrs'><dl class='xr-attrs'><dt><span>long_name :</span></dt><dd>laser pulse counter</dd><dt><span>units :</span></dt><dd>counts</dd><dt><span>source :</span></dt><dd>Derived as part of Photon ID</dd><dt><span>contentType :</span></dt><dd>referenceInformation</dd><dt><span>description :</span></dt><dd>The laser pulse counter is part of photon ID and counts from 1 to 200 and is reset for each new major frame.</dd></dl></div><div class='xr-var-data'><pre>[1848992 values with dtype=uint8]</pre></div></li><li class='xr-var-item'><div class='xr-var-name'><span>quality_ph</span></div><div class='xr-var-dims'>(delta_time)</div><div class='xr-var-dtype'>int8</div><div class='xr-var-preview xr-preview'>...</div><input id='attrs-d0a1404f-c447-452b-b616-1f1fbe47c4af' class='xr-var-attrs-in' type='checkbox' ><label for='attrs-d0a1404f-c447-452b-b616-1f1fbe47c4af' title='Show/Hide attributes'><svg class='icon xr-icon-file-text2'><use xlink:href='#icon-file-text2'></use></svg></label><input id='data-7c9e6517-d5ac-473f-a58b-44c97c16c449' class='xr-var-data-in' type='checkbox'><label for='data-7c9e6517-d5ac-473f-a58b-44c97c16c449' title='Show/Hide data repr'><svg class='icon xr-icon-database'><use xlink:href='#icon-database'></use></svg></label><div class='xr-var-attrs'><dl class='xr-attrs'><dt><span>long_name :</span></dt><dd>Photon Quality</dd><dt><span>valid_max :</span></dt><dd>3</dd><dt><span>flag_meanings :</span></dt><dd>nominal possible_afterpulse possible_impulse_response_effect possible_tep</dd><dt><span>flag_values :</span></dt><dd>[0 1 2 3]</dd><dt><span>source :</span></dt><dd>ATL03 ATBD</dd><dt><span>units :</span></dt><dd>1</dd><dt><span>contentType :</span></dt><dd>qualityInformation</dd><dt><span>valid_min :</span></dt><dd>0</dd><dt><span>description :</span></dt><dd>Indicates the quality of the associated photon. 0=nominal, 1=possible_afterpulse, 2=possible_impulse_response_effect, 3=possible_tep. Use this flag in conjunction with signal_conf_ph to identify those photons that are likely noise or likely signal.</dd></dl></div><div class='xr-var-data'><pre>[1848992 values with dtype=int8]</pre></div></li><li class='xr-var-item'><div class='xr-var-name'><span>signal_conf_ph</span></div><div class='xr-var-dims'>(delta_time, ds_surf_type)</div><div class='xr-var-dtype'>int8</div><div class='xr-var-preview xr-preview'>...</div><input id='attrs-b1f97647-217a-4a8b-9bd1-897b35d73fc5' class='xr-var-attrs-in' type='checkbox' ><label for='attrs-b1f97647-217a-4a8b-9bd1-897b35d73fc5' title='Show/Hide attributes'><svg class='icon xr-icon-file-text2'><use xlink:href='#icon-file-text2'></use></svg></label><input id='data-d9d2047a-374f-456f-ae3d-de2dfcfda871' class='xr-var-data-in' type='checkbox'><label for='data-d9d2047a-374f-456f-ae3d-de2dfcfda871' title='Show/Hide data repr'><svg class='icon xr-icon-database'><use xlink:href='#icon-database'></use></svg></label><div class='xr-var-attrs'><dl class='xr-attrs'><dt><span>long_name :</span></dt><dd>Photon Signal Confidence</dd><dt><span>valid_max :</span></dt><dd>4</dd><dt><span>flag_meanings :</span></dt><dd>possible_tep not_considered noise buffer low medium high</dd><dt><span>flag_values :</span></dt><dd>[-2 -1  0  1  2  3  4]</dd><dt><span>source :</span></dt><dd>ATL03 ATBD, Section 5, Conf</dd><dt><span>units :</span></dt><dd>1</dd><dt><span>contentType :</span></dt><dd>qualityInformation</dd><dt><span>valid_min :</span></dt><dd>-2</dd><dt><span>description :</span></dt><dd>Confidence level associated with each photon event selected as signal. 0=noise. 1=added to allow for buffer but algorithm classifies as background; 2=low; 3=med; 4=high).  This parameter is a 5xN array where N is the number of photons in the granule, and the 5 rows indicate signal finding for each surface type (in order: land, ocean, sea ice, land ice and inland water). Events not associated with a specific surface type have a confidence level of -1. Events evaluated as TEP returns have a confidence level of -2.</dd></dl></div><div class='xr-var-data'><pre>[9244960 values with dtype=int8]</pre></div></li><li class='xr-var-item'><div class='xr-var-name'><span>weight_ph</span></div><div class='xr-var-dims'>(delta_time)</div><div class='xr-var-dtype'>uint8</div><div class='xr-var-preview xr-preview'>...</div><input id='attrs-c61fb9f0-c98c-4663-bd52-55dda06604ff' class='xr-var-attrs-in' type='checkbox' ><label for='attrs-c61fb9f0-c98c-4663-bd52-55dda06604ff' title='Show/Hide attributes'><svg class='icon xr-icon-file-text2'><use xlink:href='#icon-file-text2'></use></svg></label><input id='data-c972903c-0c45-4223-8b41-c343ca3f25f9' class='xr-var-data-in' type='checkbox'><label for='data-c972903c-0c45-4223-8b41-c343ca3f25f9' title='Show/Hide data repr'><svg class='icon xr-icon-database'><use xlink:href='#icon-database'></use></svg></label><div class='xr-var-attrs'><dl class='xr-attrs'><dt><span>long_name :</span></dt><dd>Photon weight</dd><dt><span>units :</span></dt><dd>1</dd><dt><span>source :</span></dt><dd>ATBD Section 5</dd><dt><span>valid_min :</span></dt><dd>0</dd><dt><span>valid_max :</span></dt><dd>255</dd><dt><span>contentType :</span></dt><dd>modelResult</dd><dt><span>description :</span></dt><dd>Computed weight of each photon. The weight is calculated by a windowed KNN algorithm using the distances between each photon and its K nearest neighbors. Values range from 0 to 255 where 255 is the most heavily weighted photon and would be considered likely signal.</dd></dl></div><div class='xr-var-data'><pre>[1848992 values with dtype=uint8]</pre></div></li></ul></div></li><li class='xr-section-item'><input id='section-3c1259f1-cc6b-4bbb-8e2d-8e8116ce0bb8' class='xr-section-summary-in' type='checkbox'  ><label for='section-3c1259f1-cc6b-4bbb-8e2d-8e8116ce0bb8' class='xr-section-summary' >Indexes: <span>(1)</span></label><div class='xr-section-inline-details'></div><div class='xr-section-details'><ul class='xr-var-list'><li class='xr-var-item'><div class='xr-index-name'><div>delta_time</div></div><div class='xr-index-preview'>PandasIndex</div><div></div><input id='index-84ec89a8-7fb8-4ba8-824f-814837eb1f22' class='xr-index-data-in' type='checkbox'/><label for='index-84ec89a8-7fb8-4ba8-824f-814837eb1f22' title='Show/Hide index repr'><svg class='icon xr-icon-database'><use xlink:href='#icon-database'></use></svg></label><div class='xr-index-data'><pre>PandasIndex(DatetimeIndex([&#x27;2020-04-27 19:39:45.849764816&#x27;,\n",
       "               &#x27;2020-04-27 19:39:45.849764816&#x27;,\n",
       "               &#x27;2020-04-27 19:39:45.849764816&#x27;,\n",
       "               &#x27;2020-04-27 19:39:45.849864816&#x27;,\n",
       "               &#x27;2020-04-27 19:39:45.849864816&#x27;,\n",
       "               &#x27;2020-04-27 19:39:45.849864816&#x27;,\n",
       "               &#x27;2020-04-27 19:39:45.849864816&#x27;,\n",
       "               &#x27;2020-04-27 19:39:45.849964816&#x27;,\n",
       "               &#x27;2020-04-27 19:39:45.849964816&#x27;,\n",
       "               &#x27;2020-04-27 19:39:45.849964816&#x27;,\n",
       "               ...\n",
       "               &#x27;2020-04-27 19:40:01.537465200&#x27;,\n",
       "               &#x27;2020-04-27 19:40:01.537565200&#x27;,\n",
       "               &#x27;2020-04-27 19:40:01.537565200&#x27;,\n",
       "               &#x27;2020-04-27 19:40:01.537565200&#x27;,\n",
       "               &#x27;2020-04-27 19:40:01.537565200&#x27;,\n",
       "               &#x27;2020-04-27 19:40:01.537565200&#x27;,\n",
       "               &#x27;2020-04-27 19:40:01.537565200&#x27;,\n",
       "               &#x27;2020-04-27 19:40:01.537665200&#x27;,\n",
       "               &#x27;2020-04-27 19:40:01.537665200&#x27;,\n",
       "               &#x27;2020-04-27 19:40:01.537665200&#x27;],\n",
       "              dtype=&#x27;datetime64[ns]&#x27;, name=&#x27;delta_time&#x27;, length=1848992, freq=None))</pre></div></li></ul></div></li><li class='xr-section-item'><input id='section-db7d2224-ef6d-4d53-91cf-6c5a364021b3' class='xr-section-summary-in' type='checkbox'  checked><label for='section-db7d2224-ef6d-4d53-91cf-6c5a364021b3' class='xr-section-summary' >Attributes: <span>(2)</span></label><div class='xr-section-inline-details'></div><div class='xr-section-details'><dl class='xr-attrs'><dt><span>Description :</span></dt><dd>Contains arrays of the parameters for each received photon.</dd><dt><span>data_rate :</span></dt><dd>Data are stored at the photon detection rate.</dd></dl></div></li></ul></div></div>"
      ],
      "text/plain": [
       "<xarray.Dataset> Size: 92MB\n",
       "Dimensions:         (delta_time: 1848992, ds_surf_type: 5)\n",
       "Coordinates:\n",
       "  * delta_time      (delta_time) datetime64[ns] 15MB 2020-04-27T19:39:45.8497...\n",
       "    lat_ph          (delta_time) float64 15MB ...\n",
       "    lon_ph          (delta_time) float64 15MB ...\n",
       "Dimensions without coordinates: ds_surf_type\n",
       "Data variables:\n",
       "    dist_ph_across  (delta_time) float32 7MB ...\n",
       "    dist_ph_along   (delta_time) float32 7MB ...\n",
       "    h_ph            (delta_time) float32 7MB ...\n",
       "    pce_mframe_cnt  (delta_time) uint32 7MB ...\n",
       "    ph_id_channel   (delta_time) uint8 2MB ...\n",
       "    ph_id_count     (delta_time) uint8 2MB ...\n",
       "    ph_id_pulse     (delta_time) uint8 2MB ...\n",
       "    quality_ph      (delta_time) int8 2MB ...\n",
       "    signal_conf_ph  (delta_time, ds_surf_type) int8 9MB ...\n",
       "    weight_ph       (delta_time) uint8 2MB ...\n",
       "Attributes:\n",
       "    Description:  Contains arrays of the parameters for each received photon.\n",
       "    data_rate:    Data are stored at the photon detection rate."
      ]
     },
     "execution_count": 17,
     "metadata": {},
     "output_type": "execute_result"
    }
   ],
   "source": [
    "ds = xr.open_dataset(filelist[0], group=\"gt1l/heights\")\n",
    "ds"
   ]
  },
  {
   "cell_type": "markdown",
   "id": "690ed2a6-3307-414c-9f2f-0aa2716e2bb6",
   "metadata": {},
   "source": [
    "#### Direct S3 Access of Harmony Results\n",
    "\n",
    "If you are working in the AWS `us-west-2` region (the same region as NASA Earthdata Cloud) you can _stream_ the data using direct S3 access.\n",
    "\n",
    ":::{warning}\n",
    "You must be running this notebook in the AWS us-west-2 region to run the following code cells.\n",
    ":::\n",
    "\n"
   ]
  },
  {
   "cell_type": "markdown",
   "id": "75096fba-1367-4bd4-a45d-c19c8449662d",
   "metadata": {},
   "source": [
    "We need to get the url for the data in the S3 bucket.  We can do this using `result_urls`, as we did for `download` but we set `link_type=LinkType.s3` to specify we want the S3 url."
   ]
  },
  {
   "cell_type": "code",
   "execution_count": 18,
   "id": "a8d8a29d-91df-4872-9d9c-6a116bc92774",
   "metadata": {},
   "outputs": [
    {
     "data": {
      "text/plain": [
       "['s3://harmony-prod-staging/public/4e07cf87-d846-4f59-8ea0-d1c52477b377/80698796/ATL03_20200427193622_04930702_006_02_subsetted.h5']"
      ]
     },
     "execution_count": 18,
     "metadata": {},
     "output_type": "execute_result"
    }
   ],
   "source": [
    "urls = list(harmony_client.result_urls(job_id, link_type=LinkType.s3))  # result_urls returns a generator possible issue to return list\n",
    "urls"
   ]
  },
  {
   "cell_type": "markdown",
   "id": "815db398-723b-4278-ae30-2ad5f9764912",
   "metadata": {},
   "source": [
    "We need AWS credentials to access the S3 bucket with the results.  These are returned using the `aws_credentials` method."
   ]
  },
  {
   "cell_type": "code",
   "execution_count": 19,
   "id": "d58df790-d40c-410c-a295-22d6d39dfd5b",
   "metadata": {},
   "outputs": [],
   "source": [
    "creds = harmony_client.aws_credentials()"
   ]
  },
  {
   "cell_type": "markdown",
   "id": "7d20cc12-b670-4091-9ae9-82fdbc2ded07",
   "metadata": {},
   "source": [
    "We then create a virtual file system that allows us to access the S3 bucket.  We pass the credentials to authenticate."
   ]
  },
  {
   "cell_type": "code",
   "execution_count": 20,
   "id": "73bc9a2d-b009-4cf9-8a47-531a308833b0",
   "metadata": {},
   "outputs": [],
   "source": [
    "s3_fs = s3fs.S3FileSystem(\n",
    "    key=creds['aws_access_key_id'],\n",
    "    secret=creds['aws_secret_access_key'],\n",
    "    token=creds['aws_session_token'],\n",
    "    client_kwargs={'region_name':'us-west-2'},\n",
    ")"
   ]
  },
  {
   "cell_type": "markdown",
   "id": "71e965bc-3950-47a9-ad8f-2e98c83a09c5",
   "metadata": {},
   "source": [
    "We then open the S3 url as a _file-like_ object.\n",
    "\n",
    ":::{note}\n",
    "A _file-like_ object is just what it sounds like, an _object_ - a collection of bytes in memory - that is recognized as a file by applications.\n",
    ":::"
   ]
  },
  {
   "cell_type": "code",
   "execution_count": 21,
   "id": "f29584a0-357a-4f1a-8a3b-ab72fc20d6e4",
   "metadata": {},
   "outputs": [],
   "source": [
    "f = [s3_fs.open(url, mode='rb') for url in urls]"
   ]
  },
  {
   "cell_type": "markdown",
   "id": "cb377464-7b37-495c-bb0e-7c00af35ae51",
   "metadata": {},
   "source": [
    "We can then open one of the files using `xarray`. "
   ]
  },
  {
   "cell_type": "code",
   "execution_count": 22,
   "id": "8860630c-2050-4256-88c2-f1879456a9a1",
   "metadata": {},
   "outputs": [
    {
     "data": {
      "text/html": [
       "<div><svg style=\"position: absolute; width: 0; height: 0; overflow: hidden\">\n",
       "<defs>\n",
       "<symbol id=\"icon-database\" viewBox=\"0 0 32 32\">\n",
       "<path d=\"M16 0c-8.837 0-16 2.239-16 5v4c0 2.761 7.163 5 16 5s16-2.239 16-5v-4c0-2.761-7.163-5-16-5z\"></path>\n",
       "<path d=\"M16 17c-8.837 0-16-2.239-16-5v6c0 2.761 7.163 5 16 5s16-2.239 16-5v-6c0 2.761-7.163 5-16 5z\"></path>\n",
       "<path d=\"M16 26c-8.837 0-16-2.239-16-5v6c0 2.761 7.163 5 16 5s16-2.239 16-5v-6c0 2.761-7.163 5-16 5z\"></path>\n",
       "</symbol>\n",
       "<symbol id=\"icon-file-text2\" viewBox=\"0 0 32 32\">\n",
       "<path d=\"M28.681 7.159c-0.694-0.947-1.662-2.053-2.724-3.116s-2.169-2.030-3.116-2.724c-1.612-1.182-2.393-1.319-2.841-1.319h-15.5c-1.378 0-2.5 1.121-2.5 2.5v27c0 1.378 1.122 2.5 2.5 2.5h23c1.378 0 2.5-1.122 2.5-2.5v-19.5c0-0.448-0.137-1.23-1.319-2.841zM24.543 5.457c0.959 0.959 1.712 1.825 2.268 2.543h-4.811v-4.811c0.718 0.556 1.584 1.309 2.543 2.268zM28 29.5c0 0.271-0.229 0.5-0.5 0.5h-23c-0.271 0-0.5-0.229-0.5-0.5v-27c0-0.271 0.229-0.5 0.5-0.5 0 0 15.499-0 15.5 0v7c0 0.552 0.448 1 1 1h7v19.5z\"></path>\n",
       "<path d=\"M23 26h-14c-0.552 0-1-0.448-1-1s0.448-1 1-1h14c0.552 0 1 0.448 1 1s-0.448 1-1 1z\"></path>\n",
       "<path d=\"M23 22h-14c-0.552 0-1-0.448-1-1s0.448-1 1-1h14c0.552 0 1 0.448 1 1s-0.448 1-1 1z\"></path>\n",
       "<path d=\"M23 18h-14c-0.552 0-1-0.448-1-1s0.448-1 1-1h14c0.552 0 1 0.448 1 1s-0.448 1-1 1z\"></path>\n",
       "</symbol>\n",
       "</defs>\n",
       "</svg>\n",
       "<style>/* CSS stylesheet for displaying xarray objects in jupyterlab.\n",
       " *\n",
       " */\n",
       "\n",
       ":root {\n",
       "  --xr-font-color0: var(--jp-content-font-color0, rgba(0, 0, 0, 1));\n",
       "  --xr-font-color2: var(--jp-content-font-color2, rgba(0, 0, 0, 0.54));\n",
       "  --xr-font-color3: var(--jp-content-font-color3, rgba(0, 0, 0, 0.38));\n",
       "  --xr-border-color: var(--jp-border-color2, #e0e0e0);\n",
       "  --xr-disabled-color: var(--jp-layout-color3, #bdbdbd);\n",
       "  --xr-background-color: var(--jp-layout-color0, white);\n",
       "  --xr-background-color-row-even: var(--jp-layout-color1, white);\n",
       "  --xr-background-color-row-odd: var(--jp-layout-color2, #eeeeee);\n",
       "}\n",
       "\n",
       "html[theme=dark],\n",
       "body[data-theme=dark],\n",
       "body.vscode-dark {\n",
       "  --xr-font-color0: rgba(255, 255, 255, 1);\n",
       "  --xr-font-color2: rgba(255, 255, 255, 0.54);\n",
       "  --xr-font-color3: rgba(255, 255, 255, 0.38);\n",
       "  --xr-border-color: #1F1F1F;\n",
       "  --xr-disabled-color: #515151;\n",
       "  --xr-background-color: #111111;\n",
       "  --xr-background-color-row-even: #111111;\n",
       "  --xr-background-color-row-odd: #313131;\n",
       "}\n",
       "\n",
       ".xr-wrap {\n",
       "  display: block !important;\n",
       "  min-width: 300px;\n",
       "  max-width: 700px;\n",
       "}\n",
       "\n",
       ".xr-text-repr-fallback {\n",
       "  /* fallback to plain text repr when CSS is not injected (untrusted notebook) */\n",
       "  display: none;\n",
       "}\n",
       "\n",
       ".xr-header {\n",
       "  padding-top: 6px;\n",
       "  padding-bottom: 6px;\n",
       "  margin-bottom: 4px;\n",
       "  border-bottom: solid 1px var(--xr-border-color);\n",
       "}\n",
       "\n",
       ".xr-header > div,\n",
       ".xr-header > ul {\n",
       "  display: inline;\n",
       "  margin-top: 0;\n",
       "  margin-bottom: 0;\n",
       "}\n",
       "\n",
       ".xr-obj-type,\n",
       ".xr-array-name {\n",
       "  margin-left: 2px;\n",
       "  margin-right: 10px;\n",
       "}\n",
       "\n",
       ".xr-obj-type {\n",
       "  color: var(--xr-font-color2);\n",
       "}\n",
       "\n",
       ".xr-sections {\n",
       "  padding-left: 0 !important;\n",
       "  display: grid;\n",
       "  grid-template-columns: 150px auto auto 1fr 20px 20px;\n",
       "}\n",
       "\n",
       ".xr-section-item {\n",
       "  display: contents;\n",
       "}\n",
       "\n",
       ".xr-section-item input {\n",
       "  display: none;\n",
       "}\n",
       "\n",
       ".xr-section-item input + label {\n",
       "  color: var(--xr-disabled-color);\n",
       "}\n",
       "\n",
       ".xr-section-item input:enabled + label {\n",
       "  cursor: pointer;\n",
       "  color: var(--xr-font-color2);\n",
       "}\n",
       "\n",
       ".xr-section-item input:enabled + label:hover {\n",
       "  color: var(--xr-font-color0);\n",
       "}\n",
       "\n",
       ".xr-section-summary {\n",
       "  grid-column: 1;\n",
       "  color: var(--xr-font-color2);\n",
       "  font-weight: 500;\n",
       "}\n",
       "\n",
       ".xr-section-summary > span {\n",
       "  display: inline-block;\n",
       "  padding-left: 0.5em;\n",
       "}\n",
       "\n",
       ".xr-section-summary-in:disabled + label {\n",
       "  color: var(--xr-font-color2);\n",
       "}\n",
       "\n",
       ".xr-section-summary-in + label:before {\n",
       "  display: inline-block;\n",
       "  content: '►';\n",
       "  font-size: 11px;\n",
       "  width: 15px;\n",
       "  text-align: center;\n",
       "}\n",
       "\n",
       ".xr-section-summary-in:disabled + label:before {\n",
       "  color: var(--xr-disabled-color);\n",
       "}\n",
       "\n",
       ".xr-section-summary-in:checked + label:before {\n",
       "  content: '▼';\n",
       "}\n",
       "\n",
       ".xr-section-summary-in:checked + label > span {\n",
       "  display: none;\n",
       "}\n",
       "\n",
       ".xr-section-summary,\n",
       ".xr-section-inline-details {\n",
       "  padding-top: 4px;\n",
       "  padding-bottom: 4px;\n",
       "}\n",
       "\n",
       ".xr-section-inline-details {\n",
       "  grid-column: 2 / -1;\n",
       "}\n",
       "\n",
       ".xr-section-details {\n",
       "  display: none;\n",
       "  grid-column: 1 / -1;\n",
       "  margin-bottom: 5px;\n",
       "}\n",
       "\n",
       ".xr-section-summary-in:checked ~ .xr-section-details {\n",
       "  display: contents;\n",
       "}\n",
       "\n",
       ".xr-array-wrap {\n",
       "  grid-column: 1 / -1;\n",
       "  display: grid;\n",
       "  grid-template-columns: 20px auto;\n",
       "}\n",
       "\n",
       ".xr-array-wrap > label {\n",
       "  grid-column: 1;\n",
       "  vertical-align: top;\n",
       "}\n",
       "\n",
       ".xr-preview {\n",
       "  color: var(--xr-font-color3);\n",
       "}\n",
       "\n",
       ".xr-array-preview,\n",
       ".xr-array-data {\n",
       "  padding: 0 5px !important;\n",
       "  grid-column: 2;\n",
       "}\n",
       "\n",
       ".xr-array-data,\n",
       ".xr-array-in:checked ~ .xr-array-preview {\n",
       "  display: none;\n",
       "}\n",
       "\n",
       ".xr-array-in:checked ~ .xr-array-data,\n",
       ".xr-array-preview {\n",
       "  display: inline-block;\n",
       "}\n",
       "\n",
       ".xr-dim-list {\n",
       "  display: inline-block !important;\n",
       "  list-style: none;\n",
       "  padding: 0 !important;\n",
       "  margin: 0;\n",
       "}\n",
       "\n",
       ".xr-dim-list li {\n",
       "  display: inline-block;\n",
       "  padding: 0;\n",
       "  margin: 0;\n",
       "}\n",
       "\n",
       ".xr-dim-list:before {\n",
       "  content: '(';\n",
       "}\n",
       "\n",
       ".xr-dim-list:after {\n",
       "  content: ')';\n",
       "}\n",
       "\n",
       ".xr-dim-list li:not(:last-child):after {\n",
       "  content: ',';\n",
       "  padding-right: 5px;\n",
       "}\n",
       "\n",
       ".xr-has-index {\n",
       "  font-weight: bold;\n",
       "}\n",
       "\n",
       ".xr-var-list,\n",
       ".xr-var-item {\n",
       "  display: contents;\n",
       "}\n",
       "\n",
       ".xr-var-item > div,\n",
       ".xr-var-item label,\n",
       ".xr-var-item > .xr-var-name span {\n",
       "  background-color: var(--xr-background-color-row-even);\n",
       "  margin-bottom: 0;\n",
       "}\n",
       "\n",
       ".xr-var-item > .xr-var-name:hover span {\n",
       "  padding-right: 5px;\n",
       "}\n",
       "\n",
       ".xr-var-list > li:nth-child(odd) > div,\n",
       ".xr-var-list > li:nth-child(odd) > label,\n",
       ".xr-var-list > li:nth-child(odd) > .xr-var-name span {\n",
       "  background-color: var(--xr-background-color-row-odd);\n",
       "}\n",
       "\n",
       ".xr-var-name {\n",
       "  grid-column: 1;\n",
       "}\n",
       "\n",
       ".xr-var-dims {\n",
       "  grid-column: 2;\n",
       "}\n",
       "\n",
       ".xr-var-dtype {\n",
       "  grid-column: 3;\n",
       "  text-align: right;\n",
       "  color: var(--xr-font-color2);\n",
       "}\n",
       "\n",
       ".xr-var-preview {\n",
       "  grid-column: 4;\n",
       "}\n",
       "\n",
       ".xr-index-preview {\n",
       "  grid-column: 2 / 5;\n",
       "  color: var(--xr-font-color2);\n",
       "}\n",
       "\n",
       ".xr-var-name,\n",
       ".xr-var-dims,\n",
       ".xr-var-dtype,\n",
       ".xr-preview,\n",
       ".xr-attrs dt {\n",
       "  white-space: nowrap;\n",
       "  overflow: hidden;\n",
       "  text-overflow: ellipsis;\n",
       "  padding-right: 10px;\n",
       "}\n",
       "\n",
       ".xr-var-name:hover,\n",
       ".xr-var-dims:hover,\n",
       ".xr-var-dtype:hover,\n",
       ".xr-attrs dt:hover {\n",
       "  overflow: visible;\n",
       "  width: auto;\n",
       "  z-index: 1;\n",
       "}\n",
       "\n",
       ".xr-var-attrs,\n",
       ".xr-var-data,\n",
       ".xr-index-data {\n",
       "  display: none;\n",
       "  background-color: var(--xr-background-color) !important;\n",
       "  padding-bottom: 5px !important;\n",
       "}\n",
       "\n",
       ".xr-var-attrs-in:checked ~ .xr-var-attrs,\n",
       ".xr-var-data-in:checked ~ .xr-var-data,\n",
       ".xr-index-data-in:checked ~ .xr-index-data {\n",
       "  display: block;\n",
       "}\n",
       "\n",
       ".xr-var-data > table {\n",
       "  float: right;\n",
       "}\n",
       "\n",
       ".xr-var-name span,\n",
       ".xr-var-data,\n",
       ".xr-index-name div,\n",
       ".xr-index-data,\n",
       ".xr-attrs {\n",
       "  padding-left: 25px !important;\n",
       "}\n",
       "\n",
       ".xr-attrs,\n",
       ".xr-var-attrs,\n",
       ".xr-var-data,\n",
       ".xr-index-data {\n",
       "  grid-column: 1 / -1;\n",
       "}\n",
       "\n",
       "dl.xr-attrs {\n",
       "  padding: 0;\n",
       "  margin: 0;\n",
       "  display: grid;\n",
       "  grid-template-columns: 125px auto;\n",
       "}\n",
       "\n",
       ".xr-attrs dt,\n",
       ".xr-attrs dd {\n",
       "  padding: 0;\n",
       "  margin: 0;\n",
       "  float: left;\n",
       "  padding-right: 10px;\n",
       "  width: auto;\n",
       "}\n",
       "\n",
       ".xr-attrs dt {\n",
       "  font-weight: normal;\n",
       "  grid-column: 1;\n",
       "}\n",
       "\n",
       ".xr-attrs dt:hover span {\n",
       "  display: inline-block;\n",
       "  background: var(--xr-background-color);\n",
       "  padding-right: 10px;\n",
       "}\n",
       "\n",
       ".xr-attrs dd {\n",
       "  grid-column: 2;\n",
       "  white-space: pre-wrap;\n",
       "  word-break: break-all;\n",
       "}\n",
       "\n",
       ".xr-icon-database,\n",
       ".xr-icon-file-text2,\n",
       ".xr-no-icon {\n",
       "  display: inline-block;\n",
       "  vertical-align: middle;\n",
       "  width: 1em;\n",
       "  height: 1.5em !important;\n",
       "  stroke-width: 0;\n",
       "  stroke: currentColor;\n",
       "  fill: currentColor;\n",
       "}\n",
       "</style><pre class='xr-text-repr-fallback'>&lt;xarray.Dataset&gt; Size: 92MB\n",
       "Dimensions:         (delta_time: 1848993, ds_surf_type: 5)\n",
       "Coordinates:\n",
       "  * delta_time      (delta_time) datetime64[ns] 15MB 2020-04-27T19:39:45.8497...\n",
       "    lat_ph          (delta_time) float64 15MB ...\n",
       "    lon_ph          (delta_time) float64 15MB ...\n",
       "Dimensions without coordinates: ds_surf_type\n",
       "Data variables:\n",
       "    dist_ph_across  (delta_time) float32 7MB ...\n",
       "    dist_ph_along   (delta_time) float32 7MB ...\n",
       "    h_ph            (delta_time) float32 7MB ...\n",
       "    pce_mframe_cnt  (delta_time) uint32 7MB ...\n",
       "    ph_id_channel   (delta_time) uint8 2MB ...\n",
       "    ph_id_count     (delta_time) uint8 2MB ...\n",
       "    ph_id_pulse     (delta_time) uint8 2MB ...\n",
       "    quality_ph      (delta_time) int8 2MB ...\n",
       "    signal_conf_ph  (delta_time, ds_surf_type) int8 9MB ...\n",
       "    weight_ph       (delta_time) uint8 2MB ...\n",
       "Attributes:\n",
       "    Description:  Contains arrays of the parameters for each received photon.\n",
       "    data_rate:    Data are stored at the photon detection rate.</pre><div class='xr-wrap' style='display:none'><div class='xr-header'><div class='xr-obj-type'>xarray.Dataset</div></div><ul class='xr-sections'><li class='xr-section-item'><input id='section-c36ef571-af5b-4791-957c-1fbec7c7c3ed' class='xr-section-summary-in' type='checkbox' disabled ><label for='section-c36ef571-af5b-4791-957c-1fbec7c7c3ed' class='xr-section-summary'  title='Expand/collapse section'>Dimensions:</label><div class='xr-section-inline-details'><ul class='xr-dim-list'><li><span class='xr-has-index'>delta_time</span>: 1848993</li><li><span>ds_surf_type</span>: 5</li></ul></div><div class='xr-section-details'></div></li><li class='xr-section-item'><input id='section-217d469a-4ddd-4e16-8356-13c720c88ae0' class='xr-section-summary-in' type='checkbox'  checked><label for='section-217d469a-4ddd-4e16-8356-13c720c88ae0' class='xr-section-summary' >Coordinates: <span>(3)</span></label><div class='xr-section-inline-details'></div><div class='xr-section-details'><ul class='xr-var-list'><li class='xr-var-item'><div class='xr-var-name'><span class='xr-has-index'>delta_time</span></div><div class='xr-var-dims'>(delta_time)</div><div class='xr-var-dtype'>datetime64[ns]</div><div class='xr-var-preview xr-preview'>2020-04-27T19:39:45.849764816 .....</div><input id='attrs-f8837bd3-cabd-4d28-bab0-175ebc9e2a04' class='xr-var-attrs-in' type='checkbox' ><label for='attrs-f8837bd3-cabd-4d28-bab0-175ebc9e2a04' title='Show/Hide attributes'><svg class='icon xr-icon-file-text2'><use xlink:href='#icon-file-text2'></use></svg></label><input id='data-5bf71673-2f01-4210-ac78-d5cbf0c3c952' class='xr-var-data-in' type='checkbox'><label for='data-5bf71673-2f01-4210-ac78-d5cbf0c3c952' title='Show/Hide data repr'><svg class='icon xr-icon-database'><use xlink:href='#icon-database'></use></svg></label><div class='xr-var-attrs'><dl class='xr-attrs'><dt><span>contentType :</span></dt><dd>referenceInformation</dd><dt><span>description :</span></dt><dd>The transmit time of a given photon, measured in seconds from the ATLAS Standard Data Product Epoch. Note that multiple received photons associated with a single transmit pulse will have the same delta_time. The ATLAS Standard Data Products (SDP) epoch offset is defined within /ancillary_data/atlas_sdp_gps_epoch as the number of GPS seconds between the GPS epoch (1980-01-06T00:00:00.000000Z UTC) and the ATLAS SDP epoch. By adding the offset contained within atlas_sdp_gps_epoch to delta time parameters, the time in gps_seconds relative to the GPS epoch can be computed.</dd><dt><span>long_name :</span></dt><dd>Elapsed GPS seconds</dd><dt><span>source :</span></dt><dd>Operations</dd><dt><span>standard_name :</span></dt><dd>time</dd></dl></div><div class='xr-var-data'><pre>array([&#x27;2020-04-27T19:39:45.849764816&#x27;, &#x27;2020-04-27T19:39:45.849764816&#x27;,\n",
       "       &#x27;2020-04-27T19:39:45.849764816&#x27;, ..., &#x27;2020-04-27T19:40:01.537665200&#x27;,\n",
       "       &#x27;2020-04-27T19:40:01.537665200&#x27;, &#x27;2020-04-27T19:40:01.537665200&#x27;],\n",
       "      dtype=&#x27;datetime64[ns]&#x27;)</pre></div></li><li class='xr-var-item'><div class='xr-var-name'><span>lat_ph</span></div><div class='xr-var-dims'>(delta_time)</div><div class='xr-var-dtype'>float64</div><div class='xr-var-preview xr-preview'>...</div><input id='attrs-7a455cd6-ad21-4dca-ab45-17f805c50aed' class='xr-var-attrs-in' type='checkbox' ><label for='attrs-7a455cd6-ad21-4dca-ab45-17f805c50aed' title='Show/Hide attributes'><svg class='icon xr-icon-file-text2'><use xlink:href='#icon-file-text2'></use></svg></label><input id='data-be50e36e-c3ab-467a-bb36-1e847630c0f3' class='xr-var-data-in' type='checkbox'><label for='data-be50e36e-c3ab-467a-bb36-1e847630c0f3' title='Show/Hide data repr'><svg class='icon xr-icon-database'><use xlink:href='#icon-database'></use></svg></label><div class='xr-var-attrs'><dl class='xr-attrs'><dt><span>contentType :</span></dt><dd>modelResult</dd><dt><span>description :</span></dt><dd>Latitude of each received photon. Computed from the ECF Cartesian coordinates of the bounce point.</dd><dt><span>long_name :</span></dt><dd>Latitude</dd><dt><span>source :</span></dt><dd>ATL03g ATBD, Section 3.4</dd><dt><span>standard_name :</span></dt><dd>latitude</dd><dt><span>units :</span></dt><dd>degrees_north</dd><dt><span>valid_max :</span></dt><dd>90.0</dd><dt><span>valid_min :</span></dt><dd>-90.0</dd></dl></div><div class='xr-var-data'><pre>[1848993 values with dtype=float64]</pre></div></li><li class='xr-var-item'><div class='xr-var-name'><span>lon_ph</span></div><div class='xr-var-dims'>(delta_time)</div><div class='xr-var-dtype'>float64</div><div class='xr-var-preview xr-preview'>...</div><input id='attrs-fc17c7eb-be2c-4063-a8d5-6057452e884c' class='xr-var-attrs-in' type='checkbox' ><label for='attrs-fc17c7eb-be2c-4063-a8d5-6057452e884c' title='Show/Hide attributes'><svg class='icon xr-icon-file-text2'><use xlink:href='#icon-file-text2'></use></svg></label><input id='data-90dc17b4-5f5a-4b61-8af2-f371074e667e' class='xr-var-data-in' type='checkbox'><label for='data-90dc17b4-5f5a-4b61-8af2-f371074e667e' title='Show/Hide data repr'><svg class='icon xr-icon-database'><use xlink:href='#icon-database'></use></svg></label><div class='xr-var-attrs'><dl class='xr-attrs'><dt><span>contentType :</span></dt><dd>modelResult</dd><dt><span>description :</span></dt><dd>Longitude of each received photon. Computed from the ECF Cartesian coordinates of the bounce point.</dd><dt><span>long_name :</span></dt><dd>Longitude</dd><dt><span>source :</span></dt><dd>ATL03g ATBD, Section 3.4</dd><dt><span>standard_name :</span></dt><dd>longitude</dd><dt><span>units :</span></dt><dd>degrees_east</dd><dt><span>valid_max :</span></dt><dd>180.0</dd><dt><span>valid_min :</span></dt><dd>-180.0</dd></dl></div><div class='xr-var-data'><pre>[1848993 values with dtype=float64]</pre></div></li></ul></div></li><li class='xr-section-item'><input id='section-1714e792-4bd0-4755-9476-62cd0104298e' class='xr-section-summary-in' type='checkbox'  checked><label for='section-1714e792-4bd0-4755-9476-62cd0104298e' class='xr-section-summary' >Data variables: <span>(10)</span></label><div class='xr-section-inline-details'></div><div class='xr-section-details'><ul class='xr-var-list'><li class='xr-var-item'><div class='xr-var-name'><span>dist_ph_across</span></div><div class='xr-var-dims'>(delta_time)</div><div class='xr-var-dtype'>float32</div><div class='xr-var-preview xr-preview'>...</div><input id='attrs-3f4ba642-e2a5-4b7b-bf92-7bbd41e02d4e' class='xr-var-attrs-in' type='checkbox' ><label for='attrs-3f4ba642-e2a5-4b7b-bf92-7bbd41e02d4e' title='Show/Hide attributes'><svg class='icon xr-icon-file-text2'><use xlink:href='#icon-file-text2'></use></svg></label><input id='data-307a5ea2-78c8-4a27-9bc6-a010a5677741' class='xr-var-data-in' type='checkbox'><label for='data-307a5ea2-78c8-4a27-9bc6-a010a5677741' title='Show/Hide data repr'><svg class='icon xr-icon-database'><use xlink:href='#icon-database'></use></svg></label><div class='xr-var-attrs'><dl class='xr-attrs'><dt><span>contentType :</span></dt><dd>modelResult</dd><dt><span>description :</span></dt><dd>Across-track distance projected to the ellipsoid of the received photon from the reference ground track.  This is based on the Along-Track Segment algorithm described in Section 3.1.</dd><dt><span>long_name :</span></dt><dd>Distance off RGT.</dd><dt><span>source :</span></dt><dd>ATL03 ATBD, Section 3.1</dd><dt><span>units :</span></dt><dd>meters</dd></dl></div><div class='xr-var-data'><pre>[1848993 values with dtype=float32]</pre></div></li><li class='xr-var-item'><div class='xr-var-name'><span>dist_ph_along</span></div><div class='xr-var-dims'>(delta_time)</div><div class='xr-var-dtype'>float32</div><div class='xr-var-preview xr-preview'>...</div><input id='attrs-cd1b8180-73f5-420b-b9fa-1c5ce4d856af' class='xr-var-attrs-in' type='checkbox' ><label for='attrs-cd1b8180-73f5-420b-b9fa-1c5ce4d856af' title='Show/Hide attributes'><svg class='icon xr-icon-file-text2'><use xlink:href='#icon-file-text2'></use></svg></label><input id='data-76b6e5a4-afd5-415d-b7b9-08a58bee7754' class='xr-var-data-in' type='checkbox'><label for='data-76b6e5a4-afd5-415d-b7b9-08a58bee7754' title='Show/Hide data repr'><svg class='icon xr-icon-database'><use xlink:href='#icon-database'></use></svg></label><div class='xr-var-attrs'><dl class='xr-attrs'><dt><span>contentType :</span></dt><dd>modelResult</dd><dt><span>description :</span></dt><dd>Along-track distance in a segment projected to the ellipsoid of the received photon, based on the Along-Track Segment algorithm.  Total along track distance can be found by adding this value to the sum of segment lengths measured from the start of the most recent reference groundtrack.</dd><dt><span>long_name :</span></dt><dd>Distance from equator crossing.</dd><dt><span>source :</span></dt><dd>ATL03 ATBD, Section 3.1</dd><dt><span>units :</span></dt><dd>meters</dd></dl></div><div class='xr-var-data'><pre>[1848993 values with dtype=float32]</pre></div></li><li class='xr-var-item'><div class='xr-var-name'><span>h_ph</span></div><div class='xr-var-dims'>(delta_time)</div><div class='xr-var-dtype'>float32</div><div class='xr-var-preview xr-preview'>...</div><input id='attrs-3816e8f2-3e60-4cb3-8a36-9d9dfea658e1' class='xr-var-attrs-in' type='checkbox' ><label for='attrs-3816e8f2-3e60-4cb3-8a36-9d9dfea658e1' title='Show/Hide attributes'><svg class='icon xr-icon-file-text2'><use xlink:href='#icon-file-text2'></use></svg></label><input id='data-2606e7af-b59f-4c97-b5cf-b5994a931a1a' class='xr-var-data-in' type='checkbox'><label for='data-2606e7af-b59f-4c97-b5cf-b5994a931a1a' title='Show/Hide data repr'><svg class='icon xr-icon-database'><use xlink:href='#icon-database'></use></svg></label><div class='xr-var-attrs'><dl class='xr-attrs'><dt><span>contentType :</span></dt><dd>physicalMeasurement</dd><dt><span>description :</span></dt><dd>Height of each received photon, relative to the WGS-84 ellipsoid including the geophysical corrections noted in Section 6. Please note that neither the geoid, ocean tide nor the dynamic atmosphere (DAC) corrections are applied to the ellipsoidal heights.</dd><dt><span>long_name :</span></dt><dd>Photon WGS84 Height</dd><dt><span>source :</span></dt><dd>ATL03g ATBD, Section 3.4</dd><dt><span>standard_name :</span></dt><dd>height</dd><dt><span>units :</span></dt><dd>meters</dd></dl></div><div class='xr-var-data'><pre>[1848993 values with dtype=float32]</pre></div></li><li class='xr-var-item'><div class='xr-var-name'><span>pce_mframe_cnt</span></div><div class='xr-var-dims'>(delta_time)</div><div class='xr-var-dtype'>uint32</div><div class='xr-var-preview xr-preview'>...</div><input id='attrs-0cf67c39-77c3-4b57-9c24-2bc8fd9cf1a4' class='xr-var-attrs-in' type='checkbox' ><label for='attrs-0cf67c39-77c3-4b57-9c24-2bc8fd9cf1a4' title='Show/Hide attributes'><svg class='icon xr-icon-file-text2'><use xlink:href='#icon-file-text2'></use></svg></label><input id='data-a66c92b3-9c0d-424e-b7f0-f33cb09808e8' class='xr-var-data-in' type='checkbox'><label for='data-a66c92b3-9c0d-424e-b7f0-f33cb09808e8' title='Show/Hide data repr'><svg class='icon xr-icon-database'><use xlink:href='#icon-database'></use></svg></label><div class='xr-var-attrs'><dl class='xr-attrs'><dt><span>contentType :</span></dt><dd>referenceInformation</dd><dt><span>description :</span></dt><dd>The major frame counter is read from the digital flow controller in a given PCE card.  The counter identifies individual major frames across diag and science packets. Used as part of the photon ID.</dd><dt><span>long_name :</span></dt><dd>PCE Major frame counter</dd><dt><span>source :</span></dt><dd>Retained from prior a_alt_science_ph packet</dd><dt><span>units :</span></dt><dd>counts</dd></dl></div><div class='xr-var-data'><pre>[1848993 values with dtype=uint32]</pre></div></li><li class='xr-var-item'><div class='xr-var-name'><span>ph_id_channel</span></div><div class='xr-var-dims'>(delta_time)</div><div class='xr-var-dtype'>uint8</div><div class='xr-var-preview xr-preview'>...</div><input id='attrs-11157872-20fc-452b-a14e-1153392cf08a' class='xr-var-attrs-in' type='checkbox' ><label for='attrs-11157872-20fc-452b-a14e-1153392cf08a' title='Show/Hide attributes'><svg class='icon xr-icon-file-text2'><use xlink:href='#icon-file-text2'></use></svg></label><input id='data-5ac01f85-eef1-466e-baa5-f91e640f2620' class='xr-var-data-in' type='checkbox'><label for='data-5ac01f85-eef1-466e-baa5-f91e640f2620' title='Show/Hide data repr'><svg class='icon xr-icon-database'><use xlink:href='#icon-database'></use></svg></label><div class='xr-var-attrs'><dl class='xr-attrs'><dt><span>contentType :</span></dt><dd>referenceInformation</dd><dt><span>description :</span></dt><dd>Channel number assigned for each received photon event. This is part of the photon ID. Values range from 1 to 120 to span all channels and rise/fall edges. Values 1 to 60 are for falling edge; PCE1 (1 to 20), PCE 2 (21 to 40) and PCE3 (41 to 60). Values 61 to 120 are for rising edge; PCE1 (61 to 80), PCE 2 (81 to 100) and PC3 (101 to 120).</dd><dt><span>long_name :</span></dt><dd>Receive channel id</dd><dt><span>source :</span></dt><dd>Derived as part of Photon ID</dd><dt><span>units :</span></dt><dd>1</dd><dt><span>valid_max :</span></dt><dd>120</dd><dt><span>valid_min :</span></dt><dd>1</dd></dl></div><div class='xr-var-data'><pre>[1848993 values with dtype=uint8]</pre></div></li><li class='xr-var-item'><div class='xr-var-name'><span>ph_id_count</span></div><div class='xr-var-dims'>(delta_time)</div><div class='xr-var-dtype'>uint8</div><div class='xr-var-preview xr-preview'>...</div><input id='attrs-41daa2d9-7009-4078-8aa8-5bf8668f1b36' class='xr-var-attrs-in' type='checkbox' ><label for='attrs-41daa2d9-7009-4078-8aa8-5bf8668f1b36' title='Show/Hide attributes'><svg class='icon xr-icon-file-text2'><use xlink:href='#icon-file-text2'></use></svg></label><input id='data-bee68d30-db37-43bd-b427-78d75a25eb2b' class='xr-var-data-in' type='checkbox'><label for='data-bee68d30-db37-43bd-b427-78d75a25eb2b' title='Show/Hide data repr'><svg class='icon xr-icon-database'><use xlink:href='#icon-database'></use></svg></label><div class='xr-var-attrs'><dl class='xr-attrs'><dt><span>contentType :</span></dt><dd>referenceInformation</dd><dt><span>description :</span></dt><dd>The photon event counter is part of photon ID and counts from 1 for each channel until reset by laser pulse counter.</dd><dt><span>long_name :</span></dt><dd>photon event counter</dd><dt><span>source :</span></dt><dd>Derived as part of Photon ID</dd><dt><span>units :</span></dt><dd>counts</dd></dl></div><div class='xr-var-data'><pre>[1848993 values with dtype=uint8]</pre></div></li><li class='xr-var-item'><div class='xr-var-name'><span>ph_id_pulse</span></div><div class='xr-var-dims'>(delta_time)</div><div class='xr-var-dtype'>uint8</div><div class='xr-var-preview xr-preview'>...</div><input id='attrs-bd4d5667-1132-4521-9168-2b6630ec4655' class='xr-var-attrs-in' type='checkbox' ><label for='attrs-bd4d5667-1132-4521-9168-2b6630ec4655' title='Show/Hide attributes'><svg class='icon xr-icon-file-text2'><use xlink:href='#icon-file-text2'></use></svg></label><input id='data-2bcb56d8-eab2-48fa-84be-c1ca1d734a86' class='xr-var-data-in' type='checkbox'><label for='data-2bcb56d8-eab2-48fa-84be-c1ca1d734a86' title='Show/Hide data repr'><svg class='icon xr-icon-database'><use xlink:href='#icon-database'></use></svg></label><div class='xr-var-attrs'><dl class='xr-attrs'><dt><span>contentType :</span></dt><dd>referenceInformation</dd><dt><span>description :</span></dt><dd>The laser pulse counter is part of photon ID and counts from 1 to 200 and is reset for each new major frame.</dd><dt><span>long_name :</span></dt><dd>laser pulse counter</dd><dt><span>source :</span></dt><dd>Derived as part of Photon ID</dd><dt><span>units :</span></dt><dd>counts</dd></dl></div><div class='xr-var-data'><pre>[1848993 values with dtype=uint8]</pre></div></li><li class='xr-var-item'><div class='xr-var-name'><span>quality_ph</span></div><div class='xr-var-dims'>(delta_time)</div><div class='xr-var-dtype'>int8</div><div class='xr-var-preview xr-preview'>...</div><input id='attrs-98170dad-c46c-49fc-9e30-e07db3ef0901' class='xr-var-attrs-in' type='checkbox' ><label for='attrs-98170dad-c46c-49fc-9e30-e07db3ef0901' title='Show/Hide attributes'><svg class='icon xr-icon-file-text2'><use xlink:href='#icon-file-text2'></use></svg></label><input id='data-a1653c8c-4ff5-41e3-bdf5-86eae60af9ce' class='xr-var-data-in' type='checkbox'><label for='data-a1653c8c-4ff5-41e3-bdf5-86eae60af9ce' title='Show/Hide data repr'><svg class='icon xr-icon-database'><use xlink:href='#icon-database'></use></svg></label><div class='xr-var-attrs'><dl class='xr-attrs'><dt><span>contentType :</span></dt><dd>qualityInformation</dd><dt><span>description :</span></dt><dd>Indicates the quality of the associated photon. 0=nominal, 1=possible_afterpulse, 2=possible_impulse_response_effect, 3=possible_tep. Use this flag in conjunction with signal_conf_ph to identify those photons that are likely noise or likely signal.</dd><dt><span>flag_meanings :</span></dt><dd>nominal possible_afterpulse possible_impulse_response_effect possible_tep</dd><dt><span>flag_values :</span></dt><dd>[0 1 2 3]</dd><dt><span>long_name :</span></dt><dd>Photon Quality</dd><dt><span>source :</span></dt><dd>ATL03 ATBD</dd><dt><span>units :</span></dt><dd>1</dd><dt><span>valid_max :</span></dt><dd>3</dd><dt><span>valid_min :</span></dt><dd>0</dd></dl></div><div class='xr-var-data'><pre>[1848993 values with dtype=int8]</pre></div></li><li class='xr-var-item'><div class='xr-var-name'><span>signal_conf_ph</span></div><div class='xr-var-dims'>(delta_time, ds_surf_type)</div><div class='xr-var-dtype'>int8</div><div class='xr-var-preview xr-preview'>...</div><input id='attrs-698edf8c-57a9-452b-9030-5f6729b8b298' class='xr-var-attrs-in' type='checkbox' ><label for='attrs-698edf8c-57a9-452b-9030-5f6729b8b298' title='Show/Hide attributes'><svg class='icon xr-icon-file-text2'><use xlink:href='#icon-file-text2'></use></svg></label><input id='data-f4976027-9154-4252-a944-d4736533c189' class='xr-var-data-in' type='checkbox'><label for='data-f4976027-9154-4252-a944-d4736533c189' title='Show/Hide data repr'><svg class='icon xr-icon-database'><use xlink:href='#icon-database'></use></svg></label><div class='xr-var-attrs'><dl class='xr-attrs'><dt><span>contentType :</span></dt><dd>qualityInformation</dd><dt><span>description :</span></dt><dd>Confidence level associated with each photon event selected as signal. 0=noise. 1=added to allow for buffer but algorithm classifies as background; 2=low; 3=med; 4=high).  This parameter is a 5xN array where N is the number of photons in the granule, and the 5 rows indicate signal finding for each surface type (in order: land, ocean, sea ice, land ice and inland water). Events not associated with a specific surface type have a confidence level of -1. Events evaluated as TEP returns have a confidence level of -2.</dd><dt><span>flag_meanings :</span></dt><dd>possible_tep not_considered noise buffer low medium high</dd><dt><span>flag_values :</span></dt><dd>[-2 -1  0  1  2  3  4]</dd><dt><span>long_name :</span></dt><dd>Photon Signal Confidence</dd><dt><span>source :</span></dt><dd>ATL03 ATBD, Section 5, Conf</dd><dt><span>units :</span></dt><dd>1</dd><dt><span>valid_max :</span></dt><dd>4</dd><dt><span>valid_min :</span></dt><dd>-2</dd></dl></div><div class='xr-var-data'><pre>[9244965 values with dtype=int8]</pre></div></li><li class='xr-var-item'><div class='xr-var-name'><span>weight_ph</span></div><div class='xr-var-dims'>(delta_time)</div><div class='xr-var-dtype'>uint8</div><div class='xr-var-preview xr-preview'>...</div><input id='attrs-0cc8f673-1a6c-4c9e-be31-91a4e83850cd' class='xr-var-attrs-in' type='checkbox' ><label for='attrs-0cc8f673-1a6c-4c9e-be31-91a4e83850cd' title='Show/Hide attributes'><svg class='icon xr-icon-file-text2'><use xlink:href='#icon-file-text2'></use></svg></label><input id='data-3b13bd17-9374-461e-99ac-19386dbed62e' class='xr-var-data-in' type='checkbox'><label for='data-3b13bd17-9374-461e-99ac-19386dbed62e' title='Show/Hide data repr'><svg class='icon xr-icon-database'><use xlink:href='#icon-database'></use></svg></label><div class='xr-var-attrs'><dl class='xr-attrs'><dt><span>contentType :</span></dt><dd>modelResult</dd><dt><span>description :</span></dt><dd>Computed weight of each photon. The weight is calculated by a windowed KNN algorithm using the distances between each photon and its K nearest neighbors. Values range from 0 to 255 where 255 is the most heavily weighted photon and would be considered likely signal.</dd><dt><span>long_name :</span></dt><dd>Photon weight</dd><dt><span>source :</span></dt><dd>ATBD Section 5</dd><dt><span>units :</span></dt><dd>1</dd><dt><span>valid_max :</span></dt><dd>255</dd><dt><span>valid_min :</span></dt><dd>0</dd></dl></div><div class='xr-var-data'><pre>[1848993 values with dtype=uint8]</pre></div></li></ul></div></li><li class='xr-section-item'><input id='section-71c247f8-d19b-4452-a733-da7d7ac0ab8b' class='xr-section-summary-in' type='checkbox'  ><label for='section-71c247f8-d19b-4452-a733-da7d7ac0ab8b' class='xr-section-summary' >Indexes: <span>(1)</span></label><div class='xr-section-inline-details'></div><div class='xr-section-details'><ul class='xr-var-list'><li class='xr-var-item'><div class='xr-index-name'><div>delta_time</div></div><div class='xr-index-preview'>PandasIndex</div><div></div><input id='index-bd84d11b-7afe-4c2d-9321-d4e6b8051bba' class='xr-index-data-in' type='checkbox'/><label for='index-bd84d11b-7afe-4c2d-9321-d4e6b8051bba' title='Show/Hide index repr'><svg class='icon xr-icon-database'><use xlink:href='#icon-database'></use></svg></label><div class='xr-index-data'><pre>PandasIndex(DatetimeIndex([&#x27;2020-04-27 19:39:45.849764816&#x27;,\n",
       "               &#x27;2020-04-27 19:39:45.849764816&#x27;,\n",
       "               &#x27;2020-04-27 19:39:45.849764816&#x27;,\n",
       "               &#x27;2020-04-27 19:39:45.849864816&#x27;,\n",
       "               &#x27;2020-04-27 19:39:45.849864816&#x27;,\n",
       "               &#x27;2020-04-27 19:39:45.849864816&#x27;,\n",
       "               &#x27;2020-04-27 19:39:45.849864816&#x27;,\n",
       "               &#x27;2020-04-27 19:39:45.849964816&#x27;,\n",
       "               &#x27;2020-04-27 19:39:45.849964816&#x27;,\n",
       "               &#x27;2020-04-27 19:39:45.849964816&#x27;,\n",
       "               ...\n",
       "               &#x27;2020-04-27 19:40:01.537565200&#x27;,\n",
       "               &#x27;2020-04-27 19:40:01.537565200&#x27;,\n",
       "               &#x27;2020-04-27 19:40:01.537565200&#x27;,\n",
       "               &#x27;2020-04-27 19:40:01.537565200&#x27;,\n",
       "               &#x27;2020-04-27 19:40:01.537565200&#x27;,\n",
       "               &#x27;2020-04-27 19:40:01.537565200&#x27;,\n",
       "               &#x27;2020-04-27 19:40:01.537665200&#x27;,\n",
       "               &#x27;2020-04-27 19:40:01.537665200&#x27;,\n",
       "               &#x27;2020-04-27 19:40:01.537665200&#x27;,\n",
       "               &#x27;2020-04-27 19:40:01.537665200&#x27;],\n",
       "              dtype=&#x27;datetime64[ns]&#x27;, name=&#x27;delta_time&#x27;, length=1848993, freq=None))</pre></div></li></ul></div></li><li class='xr-section-item'><input id='section-8fa11549-9967-4bd7-84d9-151df49bc6d2' class='xr-section-summary-in' type='checkbox'  checked><label for='section-8fa11549-9967-4bd7-84d9-151df49bc6d2' class='xr-section-summary' >Attributes: <span>(2)</span></label><div class='xr-section-inline-details'></div><div class='xr-section-details'><dl class='xr-attrs'><dt><span>Description :</span></dt><dd>Contains arrays of the parameters for each received photon.</dd><dt><span>data_rate :</span></dt><dd>Data are stored at the photon detection rate.</dd></dl></div></li></ul></div></div>"
      ],
      "text/plain": [
       "<xarray.Dataset> Size: 92MB\n",
       "Dimensions:         (delta_time: 1848993, ds_surf_type: 5)\n",
       "Coordinates:\n",
       "  * delta_time      (delta_time) datetime64[ns] 15MB 2020-04-27T19:39:45.8497...\n",
       "    lat_ph          (delta_time) float64 15MB ...\n",
       "    lon_ph          (delta_time) float64 15MB ...\n",
       "Dimensions without coordinates: ds_surf_type\n",
       "Data variables:\n",
       "    dist_ph_across  (delta_time) float32 7MB ...\n",
       "    dist_ph_along   (delta_time) float32 7MB ...\n",
       "    h_ph            (delta_time) float32 7MB ...\n",
       "    pce_mframe_cnt  (delta_time) uint32 7MB ...\n",
       "    ph_id_channel   (delta_time) uint8 2MB ...\n",
       "    ph_id_count     (delta_time) uint8 2MB ...\n",
       "    ph_id_pulse     (delta_time) uint8 2MB ...\n",
       "    quality_ph      (delta_time) int8 2MB ...\n",
       "    signal_conf_ph  (delta_time, ds_surf_type) int8 9MB ...\n",
       "    weight_ph       (delta_time) uint8 2MB ...\n",
       "Attributes:\n",
       "    Description:  Contains arrays of the parameters for each received photon.\n",
       "    data_rate:    Data are stored at the photon detection rate."
      ]
     },
     "execution_count": 22,
     "metadata": {},
     "output_type": "execute_result"
    }
   ],
   "source": [
    "ds = xr.open_dataset(f[0], group='gt1l/heights')\n",
    "ds"
   ]
  },
  {
   "cell_type": "markdown",
   "id": "43f8125f-8e99-4fe9-a7cb-62a10295b21d",
   "metadata": {},
   "source": [
    "## Appendices"
   ]
  },
  {
   "cell_type": "markdown",
   "id": "ba0d2015-f342-4987-aa16-e0b67b6e35b3",
   "metadata": {},
   "source": [
    "### A. Handling large requests\n",
    "\n",
    "By default Harmony will only process first 300 granules for large requests.  This allows users to check that results look correct.  Once we are satified that our request is correct, the job can be resumed.  See this [notebook](https://github.com/nasa/harmony-py/blob/main/examples/job_pause_resume.ipynb) for examples."
   ]
  },
  {
   "cell_type": "markdown",
   "id": "76872ddb-7d5f-4fa1-aa7e-bc790de75a99",
   "metadata": {},
   "source": [
    "### B. Translating requests\n",
    "\n",
    "`harmony-py` is an interface to the Harmony RESTful API.  RESTful API send requests and receive responses via HTTPS; the same protocol that serves web pages.  Requests are sent to service endpoints, which is a URL (e.g. `https://service.endpoint.com/type_of_service`).  Query parameters that modify a request can be appended a key-value pairs after a `?`.  Each key-value pair is separated by an &.  For example:\n",
    "\n",
    "```\n",
    "https://service.endpoint.com/type_of_service?param1=value1&param2=value2\n",
    "```\n",
    "\n",
    "This url could be entered into a web browser.\n",
    "\n",
    "The Harmony client has a `request_as_url` method that returns the request created by `CapabilitiesRequest` or `Request`"
   ]
  },
  {
   "cell_type": "code",
   "execution_count": 10,
   "id": "8edb5214-427e-41a7-8f8a-a66da9cb6020",
   "metadata": {},
   "outputs": [
    {
     "data": {
      "text/plain": [
       "'https://harmony.uat.earthdata.nasa.gov/capabilities?shortname=ATL03'"
      ]
     },
     "execution_count": 10,
     "metadata": {},
     "output_type": "execute_result"
    }
   ],
   "source": [
    "harmony_client.request_as_url(capabilities_request)"
   ]
  },
  {
   "cell_type": "code",
   "execution_count": 11,
   "id": "8eff95b3-c77a-4647-ab02-f6d81f434a00",
   "metadata": {},
   "outputs": [
    {
     "data": {
      "text/plain": [
       "'https://harmony.uat.earthdata.nasa.gov/C1256407609-NSIDC_CUAT/ogc-api-coverages/1.0.0/collections/parameter_vars/coverage/rangeset?forceAsync=true&subset=lat%2840%3A41.0%29&subset=lon%28-105.5%3A-105%29&subset=time%28%222020-04-27T00%3A00%3A00%22%3A%222020-05-28T00%3A00%3A00%22%29&variable=all'"
      ]
     },
     "execution_count": 11,
     "metadata": {},
     "output_type": "execute_result"
    }
   ],
   "source": [
    "harmony_client.request_as_url(request)"
   ]
  },
  {
   "cell_type": "markdown",
   "id": "5a4604c4-80bb-4666-be54-57564ca427dd",
   "metadata": {},
   "source": [
    "Try pasting the URL in the output cell below into a web browser to see the response."
   ]
  },
  {
   "cell_type": "markdown",
   "id": "ef3140c9-4285-47af-9fe8-98a411043cdb",
   "metadata": {},
   "source": [
    "Harmony requests can also be sent with `curl`, a library and command line tool for transfering data using various network protocols, including HTTPS.  The `request_as_curl` method can be used to generate a curl command.  This can be helpful if you want to automate a process outside of a Jupyter Notebook or for testing requests."
   ]
  },
  {
   "cell_type": "code",
   "execution_count": 12,
   "id": "356149e4-5da4-4c94-962a-663621e36c78",
   "metadata": {},
   "outputs": [
    {
     "data": {
      "text/plain": [
       "\"curl -X GET -H 'Accept: */*' -H 'Accept-Encoding: gzip, deflate, br' -H 'Authorization: *****' -H 'Connection: keep-alive' -H 'Cookie: uat_urs_user_already_logged=yes; state=s%3A7893b9a533c0a171525bc82a3693d9b5.XXQF2YV1GMxMt5SI%2BEQy05yxJC8KLMzUQRbpfAi1MqY; token=*****; _urs_uat-gui_session=fb95333993ef92e65ff1fe8efd4e7449' -H 'User-Agent: CPython/3.10.14 Linux/5.10.224-212.876.amzn2.x86_64 harmony-py/0.5.0 python-requests/2.32.3' 'https://harmony.uat.earthdata.nasa.gov/capabilities?shortname=ATL03'\""
      ]
     },
     "execution_count": 12,
     "metadata": {},
     "output_type": "execute_result"
    }
   ],
   "source": [
    "harmony_client.request_as_curl(capabilities_request)"
   ]
  },
  {
   "cell_type": "code",
   "execution_count": 13,
   "id": "40d1655b-6b36-485d-8188-70b6d2e28361",
   "metadata": {},
   "outputs": [
    {
     "data": {
      "text/plain": [
       "'curl -X POST -H \\'Accept: */*\\' -H \\'Accept-Encoding: gzip, deflate, br\\' -H \\'Authorization: *****\\' -H \\'Connection: keep-alive\\' -H \\'Content-Length: 563\\' -H \\'Content-Type: multipart/form-data; boundary=fa4d368a0e27040358124f0e030b456b\\' -H \\'Cookie: uat_urs_user_already_logged=yes; state=s%3A7893b9a533c0a171525bc82a3693d9b5.XXQF2YV1GMxMt5SI%2BEQy05yxJC8KLMzUQRbpfAi1MqY; token=*****; _urs_uat-gui_session=fb95333993ef92e65ff1fe8efd4e7449\\' -H \\'User-Agent: CPython/3.10.14 Linux/5.10.224-212.876.amzn2.x86_64 harmony-py/0.5.0 python-requests/2.32.3\\' -d \\'--fa4d368a0e27040358124f0e030b456b\\r\\nContent-Disposition: form-data; name=\"forceAsync\"\\r\\n\\r\\ntrue\\r\\n--fa4d368a0e27040358124f0e030b456b\\r\\nContent-Disposition: form-data; name=\"subset\"\\r\\n\\r\\nlat(40:41.0)\\r\\n--fa4d368a0e27040358124f0e030b456b\\r\\nContent-Disposition: form-data; name=\"subset\"\\r\\n\\r\\nlon(-105.5:-105)\\r\\n--fa4d368a0e27040358124f0e030b456b\\r\\nContent-Disposition: form-data; name=\"subset\"\\r\\n\\r\\ntime(\"2020-04-27T00:00:00\":\"2020-05-28T00:00:00\")\\r\\n--fa4d368a0e27040358124f0e030b456b\\r\\nContent-Disposition: form-data; name=\"variable\"\\r\\n\\r\\nall\\r\\n--fa4d368a0e27040358124f0e030b456b--\\r\\n\\' https://harmony.uat.earthdata.nasa.gov/C1256407609-NSIDC_CUAT/ogc-api-coverages/1.0.0/collections/parameter_vars/coverage/rangeset'"
      ]
     },
     "execution_count": 13,
     "metadata": {},
     "output_type": "execute_result"
    }
   ],
   "source": [
    "harmony_client.request_as_curl(request)"
   ]
  },
  {
   "cell_type": "markdown",
   "id": "24d9def7-0d3a-4987-a45e-749bd8d4e026",
   "metadata": {},
   "source": [
    "### C. Additional data set examples: SMAP and Harmony\n",
    "\n",
    "Harmony services are available for additional NASA Earthdata collections including for the Soil Moisture Active Passive (SMAP) mission data hosted at NSIDC DAAC. SMAP data set transformation services are listed [here](https://nsidc.org/data/user-resources/help-center/what-data-subsetting-reformatting-and-reprojection-services-are-available-smap-data).\n",
    "\n",
    "The following examples demonstrate some Harmmony service capabilities available for SMAP data.\n",
    "                                                                                                                                                                            "
   ]
  },
  {
   "cell_type": "markdown",
   "id": "a81e6bcd-0076-41ed-a893-11c81e2025e0",
   "metadata": {},
   "source": [
    "#### SMAP L2 data and Harmony example\n",
    "##### Variable subsetting and reformat to GeoTIFF"
   ]
  },
  {
   "cell_type": "markdown",
   "id": "c43223a0-4beb-4fad-9daf-05cbf7a35225",
   "metadata": {},
   "source": [
    "Start your Harmony client"
   ]
  },
  {
   "cell_type": "code",
   "execution_count": null,
   "id": "874bd9a5-9cc8-4ffd-b4d1-3e331e17965f",
   "metadata": {},
   "outputs": [],
   "source": [
    "#setting environment to UAT for testing\n",
    "#will change to harmony_client = Client() for prod\n",
    "\n",
    "harmony_client = Client(env=Environment.UAT)"
   ]
  },
  {
   "cell_type": "markdown",
   "id": "e5aea486-07a4-480c-b5b3-18920fcff12c",
   "metadata": {},
   "source": [
    "Discover service options for a SMAP L2 data set by creating and submitting a CapabilitiesRequest.  Here we'll look at SMAP L2 Radiometer Half-Orbit 36 km EASE-Grid Soil Moisture, Version 9, which has the short name SPL2SMP.\n",
    "\n",
    "First, create the request."
   ]
  },
  {
   "cell_type": "code",
   "execution_count": null,
   "id": "f3c8e442-6f01-401f-a0c7-d8f8bb36125c",
   "metadata": {},
   "outputs": [],
   "source": [
    "short_name = \"SPL2SMP\"\n",
    "capabilities_request = CapabilitiesRequest(short_name=short_name)"
   ]
  },
  {
   "cell_type": "markdown",
   "id": "a61db467-99f7-425e-8461-c772eb4c037c",
   "metadata": {},
   "source": [
    "Next, submit the capabilities request and display in json format."
   ]
  },
  {
   "cell_type": "code",
   "execution_count": null,
   "id": "e7de6d31-39d3-4c5f-b864-863ae122ec87",
   "metadata": {},
   "outputs": [],
   "source": [
    "capabilities = harmony_client.submit(capabilities_request)\n",
    "JSON(capabilities)"
   ]
  },
  {
   "cell_type": "markdown",
   "id": "c97b13be-aca5-4393-aeec-4a1d271e078b",
   "metadata": {},
   "source": [
    "Note:  As mentioned above, not all transformation services are available for all data sets. SMAP data set transformation services are listed [here](https://nsidc.org/data/user-resources/help-center/what-data-subsetting-reformatting-and-reprojection-services-are-available-smap-data).\n",
    "\n",
    "The transformation services available to SMAP L2 swath data are:\n",
    "* spatial subsetting using bounding box corner points or a polygon file (GeoJSON, kml, ESRI shapefile)\n",
    "* temporal subsetting\n",
    "* variable (parameter) subsetting\n",
    "* reprojection to EPSG:4326\n",
    "* reformat to GeoTIFF (if GeoTIFF is not selected, the output will be netcdf4)\n",
    "\n",
    "Create a subset request.  Here we are going to select one variable from a SPL2SMP granule and reformat the output to GeoTIFF."
   ]
  },
  {
   "cell_type": "code",
   "execution_count": null,
   "id": "5be4ab37-6f75-4e6e-ad43-49da93bf4126",
   "metadata": {},
   "outputs": [],
   "source": [
    "request = Request(\n",
    "    collection = Collection(id=capabilities[\"conceptId\"]),\n",
    "    variables=['Soil_Moisture_Retrieval_Data/landcover_class'],\n",
    "    max_results=1,\n",
    "    format='image/tiff'\n",
    ")\n",
    "\n",
    "request.is_valid()"
   ]
  },
  {
   "cell_type": "markdown",
   "id": "89a94fe1-7c17-4da7-b94f-5c7af658ff32",
   "metadata": {},
   "source": [
    "Submit the subset request and check the progress."
   ]
  },
  {
   "cell_type": "code",
   "execution_count": null,
   "id": "a583dbd3-c7da-4168-9d33-5e8b64bac197",
   "metadata": {},
   "outputs": [],
   "source": [
    "job_id = harmony_client.submit(request)\n",
    "job_id\n",
    "\n",
    "harmony_client.wait_for_processing(job_id, show_progress=True)"
   ]
  },
  {
   "cell_type": "markdown",
   "id": "987197bd-5152-48ca-ae3d-9590710621b4",
   "metadata": {},
   "source": [
    "Access the job information."
   ]
  },
  {
   "cell_type": "code",
   "execution_count": null,
   "id": "8cbaf9ca-9a40-486e-8e98-2964d63b4fd1",
   "metadata": {},
   "outputs": [],
   "source": [
    "job_summary = harmony_client.result_json(job_id)\n",
    "JSON(job_summary)"
   ]
  },
  {
   "cell_type": "code",
   "execution_count": null,
   "id": "f9145b4c-f6cb-4b93-921d-69bc14b2bc1f",
   "metadata": {},
   "outputs": [],
   "source": []
  },
  {
   "cell_type": "code",
   "execution_count": null,
   "id": "65afec68-616b-4fee-ade3-853fc5531542",
   "metadata": {},
   "outputs": [],
   "source": []
  },
  {
   "cell_type": "markdown",
   "id": "79cba87b-f11b-43d8-a2bb-6ae22b5ab8e2",
   "metadata": {},
   "source": [
    "Access the output.  Here we demonstrate download to a local machine.  The data can also be accessed directly as described in the ICESat-2 data example above."
   ]
  },
  {
   "cell_type": "code",
   "execution_count": null,
   "id": "f113a48a-9e73-4074-a009-e5d71ade5287",
   "metadata": {},
   "outputs": [],
   "source": [
    "futures = harmony_client.download_all(job_id, directory=\".\", overwrite=False)\n",
    "filelist = [f.result() for f in futures]  # get filepaths\n",
    "len(filelist)\n",
    "filelist[0]"
   ]
  },
  {
   "cell_type": "markdown",
   "id": "6044ad16-889b-438a-985f-4fae98b7b3d2",
   "metadata": {},
   "source": [
    "Plot the GeoTIFF using rasterio."
   ]
  },
  {
   "cell_type": "code",
   "execution_count": null,
   "id": "e68f0896-01fc-4aa3-8bcf-2ffe8009c8c5",
   "metadata": {},
   "outputs": [],
   "source": [
    "data_name = filelist[0]\n",
    "tiff = rasterio.open(data_name)\n",
    "rasterio.plot.show(tiff, title = \"SMAP L2 Landcover class\")"
   ]
  },
  {
   "cell_type": "markdown",
   "id": "76157b0c-8d94-4ac2-acbd-576400245859",
   "metadata": {},
   "source": [
    "#### SMAP L3 data and Harmony example\n",
    "\n",
    "##### Spatial and variable subsetting with conversion to EPSG:4326 and reformat to GeoTIFF"
   ]
  },
  {
   "cell_type": "code",
   "execution_count": null,
   "id": "add494d8-6fad-4194-9292-624f873ce099",
   "metadata": {},
   "outputs": [],
   "source": []
  },
  {
   "cell_type": "markdown",
   "id": "f95718d1-a94b-4959-a328-7068fd381afb",
   "metadata": {},
   "source": [
    "Submit a CapabilitiesRequest to discover service options for a SMAP L3 data set (SMAP L3 Radiometer Global Daily 36 km EASE-Grid Soil Moisture, Version 9). "
   ]
  },
  {
   "cell_type": "code",
   "execution_count": null,
   "id": "fed1b428-7767-4939-9b5b-b05ac2667818",
   "metadata": {},
   "outputs": [],
   "source": [
    "short_name = \"SPL3SMP\"\n",
    "capabilities_request = CapabilitiesRequest(short_name=short_name)"
   ]
  },
  {
   "cell_type": "markdown",
   "id": "a19002dc-9eac-4d52-9d8d-fe300662b49e",
   "metadata": {},
   "source": [
    "Submit the capabilities request and display in JSON format."
   ]
  },
  {
   "cell_type": "code",
   "execution_count": null,
   "id": "3c73eec5-4422-4c82-afac-1a96b8e440ea",
   "metadata": {},
   "outputs": [],
   "source": [
    "capabilities = harmony_client.submit(capabilities_request)\n",
    "JSON(capabilities)"
   ]
  },
  {
   "cell_type": "markdown",
   "id": "74cbe40e-9f5b-4f31-9341-89d79d062a52",
   "metadata": {},
   "source": [
    "Create and submit your Harmony customization request."
   ]
  },
  {
   "cell_type": "code",
   "execution_count": null,
   "id": "0235eb49-ae19-449e-8b0c-0915b197fde1",
   "metadata": {},
   "outputs": [],
   "source": [
    "request = Request(\n",
    "    collection = Collection(id=capabilities[\"conceptId\"]),\n",
    "    granule_name = ['SMAP_L3_SM_P_20231212_R19240_001.h5'],\n",
    "    spatial = BBox(-93, 30, -77, 45),\n",
    "    variables = ['Soil_Moisture_Retrieval_Data_AM/soil_moisture'],\n",
    "    crs='EPSG:4326',\n",
    "    format ='image/tiff'\n",
    ")\n",
    "\n",
    "request.is_valid()"
   ]
  },
  {
   "cell_type": "code",
   "execution_count": null,
   "id": "e42d4c65-96d3-41af-aaf8-10b29b23bec5",
   "metadata": {},
   "outputs": [],
   "source": [
    "job_id = harmony_client.submit(request)\n",
    "job_id\n",
    "\n",
    "harmony_client.wait_for_processing(job_id, show_progress=True)"
   ]
  },
  {
   "cell_type": "markdown",
   "id": "c6edd0a0-2e7a-4341-89d4-b2bc9eefe82f",
   "metadata": {},
   "source": [
    "Access job information."
   ]
  },
  {
   "cell_type": "code",
   "execution_count": null,
   "id": "1edb3e22-8bcf-4ebe-8834-49c38bff68a9",
   "metadata": {},
   "outputs": [],
   "source": [
    "job_summary = harmony_client.result_json(job_id)\n",
    "JSON(job_summary)"
   ]
  },
  {
   "cell_type": "markdown",
   "id": "abd1ef23-65e6-48cc-a7b0-75945c4073a4",
   "metadata": {},
   "source": [
    "Access the data by downloading or via direct access from an AWS ec2 instance in region us-west-2."
   ]
  },
  {
   "cell_type": "markdown",
   "id": "0250f9e4-59ce-4ceb-bbbd-ce9c0f6d0208",
   "metadata": {},
   "source": [
    "#### SMAP L4 data and Harmony example\n",
    "\n",
    "##### Variable subsetting and reformat to GeoTIFF"
   ]
  },
  {
   "cell_type": "markdown",
   "id": "ad6d823b-58c9-4716-a055-71e997f200c8",
   "metadata": {},
   "source": [
    "Submit a CapabilitiesRequest to discover service options for a SMAP L4 data set (SMAP L4 Global Daily 9 km EASE-Grid Carbon Net Ecosystem Exchange, Version 8)."
   ]
  },
  {
   "cell_type": "code",
   "execution_count": null,
   "id": "a333af29-ffd3-438f-9d2f-b746d129a66a",
   "metadata": {},
   "outputs": [],
   "source": [
    "short_name = \"SPL4CMDL\"\n",
    "capabilities_request = CapabilitiesRequest(short_name=short_name)"
   ]
  },
  {
   "cell_type": "markdown",
   "id": "8e2148f9-cec3-4d01-9cc2-ec70f59ba60f",
   "metadata": {},
   "source": [
    "Submit the capabilities request and display in JSON format."
   ]
  },
  {
   "cell_type": "code",
   "execution_count": null,
   "id": "8d3aae64-85e3-4008-9a80-2f4d9a8787a8",
   "metadata": {},
   "outputs": [],
   "source": [
    "capabilities = harmony_client.submit(capabilities_request)\n",
    "JSON(capabilities)"
   ]
  },
  {
   "cell_type": "markdown",
   "id": "0b705079-667e-46c3-9d94-7a8a44e5cb06",
   "metadata": {},
   "source": [
    "Create the Harmony request."
   ]
  },
  {
   "cell_type": "code",
   "execution_count": null,
   "id": "03e2e7f8-c254-4688-ba2b-3712f69510e0",
   "metadata": {},
   "outputs": [],
   "source": [
    "request = Request(\n",
    "    collection = Collection(id=capabilities[\"conceptId\"]),\n",
    "    granule_name = ['SMAP_L4_C_mdl_20150401T000000_Vv8020_001.h5'],\n",
    "    variables=['NEE/nee_mean','RH/rh_mean','SOC/soc_mean'],\n",
    "    format ='image/tiff'\n",
    ")\n",
    "\n",
    "request.is_valid()"
   ]
  },
  {
   "cell_type": "markdown",
   "id": "24e50e8c-2f4c-4e41-9eeb-ab473667e62c",
   "metadata": {},
   "source": [
    "Submit the request."
   ]
  },
  {
   "cell_type": "code",
   "execution_count": null,
   "id": "2202018f-4348-4dcb-928d-804119e58e9b",
   "metadata": {},
   "outputs": [],
   "source": [
    "job_id = harmony_client.submit(request)\n",
    "job_id\n",
    "\n",
    "harmony_client.wait_for_processing(job_id, show_progress=True)"
   ]
  },
  {
   "cell_type": "markdown",
   "id": "5775e238-446e-4dc2-bae6-d92fea963e36",
   "metadata": {},
   "source": [
    "Access job information."
   ]
  },
  {
   "cell_type": "code",
   "execution_count": null,
   "id": "cb5dc7c9-830e-4a5c-8e0b-ff407e6a4edd",
   "metadata": {},
   "outputs": [],
   "source": [
    "job_summary = harmony_client.result_json(job_id)\n",
    "JSON(job_summary)"
   ]
  },
  {
   "cell_type": "markdown",
   "id": "e2c20f6d-1ff0-4e81-88b8-994bbf6df581",
   "metadata": {},
   "source": [
    "Download the GeoTIFF files."
   ]
  },
  {
   "cell_type": "code",
   "execution_count": null,
   "id": "76b41a8e-aba6-4476-a249-5d920c56303a",
   "metadata": {},
   "outputs": [],
   "source": [
    "futures = harmony_client.download_all(job_id, directory=\".\", overwrite=True)\n",
    "filelist = [f.result() for f in futures]  # get filepaths"
   ]
  }
 ],
 "metadata": {
  "kernelspec": {
   "display_name": "Python 3 (ipykernel)",
   "language": "python",
   "name": "python3"
  },
  "language_info": {
   "codemirror_mode": {
    "name": "ipython",
    "version": 3
   },
   "file_extension": ".py",
   "mimetype": "text/x-python",
   "name": "python",
   "nbconvert_exporter": "python",
   "pygments_lexer": "ipython3",
   "version": "3.9.18"
  }
 },
 "nbformat": 4,
 "nbformat_minor": 5
}
