{
 "cells": [
  {
   "attachments": {},
   "cell_type": "markdown",
   "id": "afraid-longitude",
   "metadata": {},
   "source": [
    "# Using OPeNDAP to Access Data from the Earthdata Cloud Archives"
   ]
  },
  {
   "attachments": {},
   "cell_type": "markdown",
   "id": "turned-indiana",
   "metadata": {},
   "source": [
    "### Overview\n",
    "\n",
    "This notebook demonstrates how to access OPeNDAP granules hosted inside of the Earthdata Cloud Archives. It shows how to query a cloud OPeNDAP-hosted Daymet granule using the `earthaccess` library, before remotely accessing and analyzing it using Xarray and ncdump.\n",
    "\n",
    "### Review: What is OPeNDAP?\n",
    "\n",
    "OPeNDAP, or the [Open-source Project for a Network Data Access Protocol](https://www.earthdata.nasa.gov/engage/open-data-services-and-software/api/opendap), is a data server that allows for accessing scientific datasets through the public internet. It uses Data Access Protocols (DAP) and the [Hyrax Data Server](https://www.opendap.org/software/hyrax-data-server), to distribute data and metadata to various clients and utilities, including Python. NASA and its [Distributed Active Archive Centers (DAACs)](https://www.earthdata.nasa.gov/eosdis/daacs) are migrating their on-premise OPeNDAP Hyrax servers to the cloud, where granules are now organized by DAAC and collection [Concept ID](https://cmr.earthdata.nasa.gov/search/site/docs/search/api.html#c-concept-id). This notebook will show how to search for [Daymet](https://daymet.ornl.gov/) Cloud OPeNDAP granules by DOI, before viewing and plotting its data through several methods, including [Xarray](https://docs.xarray.dev/en/stable/) and [ncdump](https://www.unidata.ucar.edu/software/netcdf/workshops/2011/utilities/Ncdump.html).\n",
    "\n",
    "### Prerequisites\n",
    "\n",
    "- A valid [Earthdata Login account](https://urs.earthdata.nasa.gov/)\n",
    "    - Generation of the `.netrc` and `.dodsrc` files (both files will be generated in this notebook)\n",
    "- Python 3.10 or higher\n",
    "- [Xarray](https://docs.xarray.dev/en/stable/)\n",
    "- [earthaccess](https://earthaccess.readthedocs.io/en/latest/)\n",
    "- [pydap](https://pydap.github.io/pydap/en/intro.html) \n",
    "- netcdf-c version == 4.9.0, or >=4.9.3\n",
    "    - To check the version of your library, call the following function after importing `netCDF4-python`: <code>netCDF4.getlibversion()</code>\n",
    "\n",
    "***Optional Anaconda Environment YAML***:\n",
    "This notebook can be run using the ['nasa-gesdisc' YAML file](https://github.com/nasa/gesdisc-tutorials/tree/main/environments/nasa-gesdisc.yml) provided in the 'environments' subfolder. \n",
    "Please follow the instructions [here](https://conda.io/projects/conda/en/latest/user-guide/tasks/manage-environments.html#creating-an-environment-from-an-environment-yml-file) to install and activate this environment.\n"
   ]
  },
  {
   "cell_type": "markdown",
   "id": "f2bd7533",
   "metadata": {},
   "source": [
    "**If you are running this notebook in the 2i2c Jupyterhub,** you will need to downgrade the NumPy and netCDF4-python libraries for DAP4 compatibility. Please uncomment the next cell and execute before running the following cells:"
   ]
  },
  {
   "cell_type": "code",
   "execution_count": null,
   "id": "bf026f48",
   "metadata": {},
   "outputs": [],
   "source": [
    "# Uncomment the following commands and run only if you are using the 2i2c Jupyterhub to run this notebook:\n",
    "'''\n",
    "! pip install -U netcdf4==1.6.2\n",
    "! pip install -U numpy==1.25.2\n",
    "\n",
    "# Automatically restart the kernel after package installation\n",
    "import IPython\n",
    "app = IPython.get_ipython()\n",
    "app.kernel.do_shutdown(restart=True)\n",
    "'''"
   ]
  },
  {
   "attachments": {},
   "cell_type": "markdown",
   "id": "secondary-brunei",
   "metadata": {},
   "source": [
    "---"
   ]
  },
  {
   "attachments": {},
   "cell_type": "markdown",
   "id": "baking-petersburg",
   "metadata": {},
   "source": [
    "## 1. Import Packages"
   ]
  },
  {
   "cell_type": "code",
   "execution_count": null,
   "id": "sacred-quantum",
   "metadata": {},
   "outputs": [],
   "source": [
    "import xarray as xr\n",
    "import earthaccess\n",
    "from pydap.net import create_session\n",
    "%matplotlib inline"
   ]
  },
  {
   "attachments": {},
   "cell_type": "markdown",
   "id": "0472ce62",
   "metadata": {},
   "source": [
    "## 2. Create EDL files using the <code>earthaccess</code> Python library\n",
    "\n",
    "First, pass your Earthdata credentials to the `earthaccess` library to create the `.netrc` and `.dodsrc` files:"
   ]
  },
  {
   "cell_type": "code",
   "execution_count": null,
   "id": "991bf70a",
   "metadata": {},
   "outputs": [],
   "source": [
    "auth = earthaccess.login(strategy=\"interactive\", persist=True) "
   ]
  },
  {
   "attachments": {},
   "cell_type": "markdown",
   "id": "4cb1b6e4",
   "metadata": {},
   "source": [
    "## 3. Searching for Daymet Cloud OPeNDAP Granules using the CMR and `earthaccess`\n",
    "Daymet daily data files (or granules) are in netCDF4 format, and each file has one year's worth of data. Data files are organized by variables (each for dayl, prcp, tmin, tmax, srad, swe, vp) and regions (each for us, pr, hi).  Daymet filenames can be used to identify the files from continental North America (`*_na_*.nc`). The files from Puerto Rico and Hawaii are named as (`*_pr_*.nc`) and (`*_hi_*.nc`) respectively."
   ]
  },
  {
   "attachments": {},
   "cell_type": "markdown",
   "id": "4935575c",
   "metadata": {},
   "source": [
    "We will first search all the granules for the full extent, and time period of interest (2010, 2011), using the `earthaccess` library. The `earthaccess` library will pass our search parameters to the CMR and return a JSON of metadata.  For this tutorial, we set up the search parameters and download maximum temperature data (`tmax`)."
   ]
  },
  {
   "cell_type": "code",
   "execution_count": null,
   "id": "0feedb49",
   "metadata": {},
   "outputs": [],
   "source": [
    "# Query CMR for OPeNDAP links\n",
    "results = earthaccess.search_data(\n",
    "    doi=\"10.3334/ORNLDAAC/2129\",\n",
    "    temporal=('2010-01-01', '2011-12-31'),\n",
    ")"
   ]
  },
  {
   "attachments": {},
   "cell_type": "markdown",
   "id": "e3f7edea",
   "metadata": {},
   "source": [
    "## 4. Open and Subset Granules Using Xarray and the DAP4 Protocol\n",
    "\n",
    "The \"[DAP4](https://opendap.github.io/dap4-specification/DAP4.html)\" protocol is used, rather than `https`, to access Cloud OPeNDAP-enabled granules. This allows for certain granules to have their variables organized into group hierarchies, complex variable names retrieved, and to further distinguish dataset variables between each other. Because of this difference over on-premises OPeNDAP, which used DAP2, certain programming libraries may require updated methods for accessing Cloud OPeNDAP-enabled granules.\n",
    "\n",
    "Before the first granule in the list is accessed, we first replace the URL protocol in the string, then we create an authentication session with `Pydap`. "
   ]
  },
  {
   "cell_type": "code",
   "execution_count": null,
   "id": "a4285143",
   "metadata": {},
   "outputs": [],
   "source": [
    "# Set the variable and region you want to extract\n",
    "region = \"hi\"\n",
    "variable = \"tmax\"\n",
    "\n",
    "# Initialize list of valid OPeNDAP URLs\n",
    "opendap_urls = []\n",
    "\n",
    "# Parse each result for valid OPeNDAP URLs\n",
    "for item in results:\n",
    "    for urls in item['umm']['RelatedUrls']:\n",
    "        if 'OPENDAP' in urls.get('Description', '').upper():\n",
    "            # Get base URL\n",
    "            url = urls['URL'].replace('https', 'dap4')\n",
    "\n",
    "            # Filter: only include URLs that contain the desired variable in the filename\n",
    "            if region + '_' + variable in url:\n",
    "                # Subset only the desired variable, lat, lon, time\n",
    "                ce = \"?dap4.ce=/{}%3B/lat%3B/lon%3B/time\".format(variable)\n",
    "                url += ce\n",
    "\n",
    "                # Add to list\n",
    "                opendap_urls.append(url)\n",
    "\n",
    "# Use netrc file to authenticate\n",
    "my_session = create_session()"
   ]
  },
  {
   "attachments": {},
   "cell_type": "markdown",
   "id": "575aec65",
   "metadata": {},
   "source": [
    "## 5. Open and Subset Granules Using Xarray\n",
    "\n",
    "Xarray is a commonly-used and widely supported Python library used for accessing and analyzing remotely-hosted datasets. Below, we use the <code>open_dataset()</code> function to access our first Cloud OPeNDAP Daymet granule, and to view its metadata.\n",
    "\n",
    "**NOTE:** Occasionally, due to server load, \"BES Connection\" errors may appear while opening a Cloud OPeNDAP granule. These errors do not affect granule access. "
   ]
  },
  {
   "cell_type": "code",
   "execution_count": null,
   "id": "9c81ea70",
   "metadata": {},
   "outputs": [],
   "source": [
    "# Send DAP4 request, open as an xarray dataset\n",
    "ds = xr.open_mfdataset(opendap_urls, engine=\"pydap\", session=my_session)\n",
    "ds"
   ]
  },
  {
   "attachments": {},
   "cell_type": "markdown",
   "id": "122ae766",
   "metadata": {},
   "source": [
    "## 6. Resample and Plot tmax\n",
    "\n",
    "Below, we will resample the tmax variable and calculate the monthly mean using Xarray's built-in functions. Then, we will plot the monthly tmax mean for the month of July in Hawaii for 2010."
   ]
  },
  {
   "cell_type": "code",
   "execution_count": null,
   "id": "6b8782ab",
   "metadata": {},
   "outputs": [],
   "source": [
    "# Monthly resample\n",
    "monthly_tmax_mean = ds['tmax'].resample(time=\"ME\").mean()\n",
    "monthly_tmax_mean"
   ]
  },
  {
   "cell_type": "code",
   "execution_count": null,
   "id": "b467bbe8",
   "metadata": {},
   "outputs": [],
   "source": [
    "monthly_tmax_mean[6, :, :].plot.pcolormesh(\n",
    "    x='lon',\n",
    "    y='lat',\n",
    "    cmap='coolwarm',\n",
    "    shading='auto'\n",
    ")"
   ]
  },
  {
   "cell_type": "code",
   "execution_count": null,
   "id": "5b38876d",
   "metadata": {},
   "outputs": [],
   "source": []
  }
 ],
 "metadata": {
  "kernelspec": {
   "display_name": "Python 3 (ipykernel)",
   "language": "python",
   "name": "python3"
  },
  "language_info": {
   "codemirror_mode": {
    "name": "ipython",
    "version": 3
   },
   "file_extension": ".py",
   "mimetype": "text/x-python",
   "name": "python",
   "nbconvert_exporter": "python",
   "pygments_lexer": "ipython3",
   "version": "3.9.12"
  }
 },
 "nbformat": 4,
 "nbformat_minor": 5
}
