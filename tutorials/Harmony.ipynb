{
 "cells": [
  {
   "cell_type": "markdown",
   "id": "e0254512-e2c6-4a47-8955-add0cf0883df",
   "metadata": {
    "vscode": {
     "languageId": "raw"
    }
   },
   "source": [
    "---\n",
    "title: \"Subsetting ICESat-2 Data Using NASA Harmony\"\n",
    "---"
   ]
  },
  {
   "cell_type": "markdown",
   "id": "b35db394-c8ba-4263-b7ba-0c1e8f8453b0",
   "metadata": {
    "jp-MarkdownHeadingCollapsed": true
   },
   "source": [
    "## Summary\n",
    "\n",
    "In this tutorial, we will use NASA's Earthdata Harmony Services to subset and access data using the `harmony-py` Python library. We will subset the [ATL03 Global Geolocated Photon Data](https://nsidc.org/data/atl03/versions/6) product from the [ICESat-2 mission](https://nsidc.org/data/icesat-2) as an example. Please see [Demonstration for working with TEMPO data via Harmony-py](https://nasa.github.io/ASDC_Data_and_User_Services/TEMPO/how_to_examine_TEMPO_data_using_harmony-py.html) as a complimentary tutorial highlighting Harmony services for the [TEMPO mission](https://asdc.larc.nasa.gov/project/TEMPO). \n",
    "\n",
    "**What is Harmony?**  [Harmony](https://harmony.earthdata.nasa.gov/) is a service that allows you to customize many NASA datasets, including the ability to subset, reproject and reformat files.  Data can be subsetted for a geographic region, a temporal range and by variable.  Data can be \"reprojected\" from its native coordinate reference system (CRS) to the coordinate reference system relevant to your analysis.  And data can be reformatted from its native file format to a format that is more relevant for your application.  These services are collectively called _transformation services_.  However, not all services are available for all datasets.  You will learn how to discover which services are available for a given dataset.\n",
    "\n",
    "Data transformed by Harmony services are staged on NASA Amazon Web Services (AWS) S3 buckets or on user-owned AWS S3 buckets.  Data in NASA S3 buckets are accessed using signed URLs or temporary access credentials.  This data can be downloaded to your local machine or you can access the data directly if you are working in an AWS cloud instance, such as a Jupyter Hub, in AWS `us-west-2`.  "
   ]
  },
  {
   "cell_type": "markdown",
   "id": "c43422fe-ae4a-40ea-9edf-11fa30596165",
   "metadata": {},
   "source": [
    "## Learning Objectives\n",
    "\n",
    "In this tutorial you will learn how to:\n",
    "\n",
    "1. discover Harmony service options for a given dataset;\n",
    "3. use the `harmony-py` library to subset ATL03 granules for a bounding box and time range;\n",
    "4. download the subsetted ATL03 to your local machine;\n",
    "5. load the subsetted ATL03 data directly into xarray."
   ]
  },
  {
   "cell_type": "markdown",
   "id": "c8a95244-4d35-4cde-b711-7d2e0ec8d580",
   "metadata": {},
   "source": [
    "## Prerequisites\n",
    "\n",
    "This tutorial has been designed to run in an AWS cloud compute instance in AWS region `us-west-2`.  However, if you want run it from your laptop or workstation, everything except Step-4, direct access, should work just fine.\n",
    "\n",
    "An [Earthdata Login](https://urs.earthdata.nasa.gov) account is required to access data from the NASA Earthdata system. Before requesting a subset of ICESat-2 data, we first need to set up our Earthdata Login authentication, shown below."
   ]
  },
  {
   "cell_type": "markdown",
   "id": "6968a5b2-c32b-446d-bce0-ab1cb57de62d",
   "metadata": {},
   "source": [
    "## Tutorial"
   ]
  },
  {
   "cell_type": "markdown",
   "id": "f89bf6e8-cb9a-4be8-96aa-7c61ae1a2d99",
   "metadata": {},
   "source": [
    "### Step 1: import required packages\n",
    "\n",
    "We'll be using `earthaccess`, `harmony-py` and `xarray`, along with some Python standard libraries. "
   ]
  },
  {
   "cell_type": "code",
   "execution_count": 1,
   "id": "9d8e9be7-c7ab-4e87-baae-0d516e1d9a37",
   "metadata": {},
   "outputs": [],
   "source": [
    "# Harmony services (added Environment for testing in UAT; can remove for pull request)\n",
    "from harmony import BBox, Client, Collection, Request, LinkType, CapabilitiesRequest, Environment \n",
    "\n",
    "# Earthdata Login Authentication\n",
    "import earthaccess \n",
    "\n",
    "# Load the data\n",
    "import xarray as xr\n",
    "#added rasterio to open a GeoTIFF\n",
    "import rasterio\n",
    "\n",
    "import netrc\n",
    "import json\n",
    "import datetime as dt\n",
    "import s3fs\n",
    "\n",
    "from IPython.display import display, JSON\n",
    "#added rasterio.plot to visualize the GeoTIFF\n",
    "import rasterio.plot"
   ]
  },
  {
   "cell_type": "markdown",
   "id": "86f8544a-658e-478d-903f-87bb0f76495c",
   "metadata": {},
   "source": [
    "### Step 2: start a Harmony client\n",
    "\n",
    "A Harmony [`Client`](https://harmony-py.readthedocs.io/en/latest/api.html#harmony.Client) is the interface to Harmony services and is used to submit requests and retrieve the results of those requests.  We only need to start the client once.  That client can then be used to discover what options are available for a dataset, request subsetting, check on the status of that request and retrieve the results.\n",
    "\n",
    "We need to supply our Earthdata Login credentials to use Harmony services.  `hamony.Client` will use EDL_USERNAME & EDL_PASSWORD environment variables or the credentials in our `.netrc` file, if one is available.  If we don't have either of these set up, we can enter our credentials directly.\n",
    "\n",
    "```\n",
    "harmony_client = Client(auth=('edl_username','edl_password'))\n",
    "```\n",
    "\n",
    ":::{note}\n",
    "If you don't have environment variables or a `.netrc` file setup, replace the command in the following code cell with the one above, and use your actual username and password.\n",
    ":::"
   ]
  },
  {
   "cell_type": "code",
   "execution_count": 2,
   "id": "94650df1-161f-499d-a5be-4eff06a55e3a",
   "metadata": {},
   "outputs": [],
   "source": [
    "harmony_client = Client()"
   ]
  },
  {
   "attachments": {},
   "cell_type": "markdown",
   "id": "d79e241d-74a1-446f-85d9-e84e1adce707",
   "metadata": {},
   "source": [
    "### Step 3: discover service options for a given dataset\n",
    "\n",
    "The first thing we want to know is what service options Harmony has for the ICESat-2 dataset.  We discover service options for a dataset by submitting a `CapabilitiesRequest`.  \n",
    "\n",
    "A `CapabilitiesRequest` takes a single argument that is either the _Collection ID_ (also known as the _Concept ID_) or the _Short Name_ for the dataset.  A _Concept ID_ is a unique identifier for a dataset.  For ATL03 Version 6, it is C2596864127-NSIDC_CPRD.  For ICESat-2 products, the _Short Name_ is the familiar product name starting with ATL; e.g. ATL03.\n",
    "\n",
    "Submitting requests to Harmony will follow the same pattern, whether we are discovering capabilities or subsetting data.  We first create a request and then submit that request."
   ]
  },
  {
   "cell_type": "code",
   "execution_count": 3,
   "id": "21a1f815-b187-4059-a4ef-0337721da3e8",
   "metadata": {},
   "outputs": [],
   "source": [
    "short_name = \"ATL03\"\n",
    "capabilities_request = CapabilitiesRequest(short_name=short_name)"
   ]
  },
  {
   "cell_type": "markdown",
   "id": "a7ac0899-c629-48fc-93b5-2926ac2988b9",
   "metadata": {},
   "source": [
    "We then submit the request using the request method of the Harmony client."
   ]
  },
  {
   "cell_type": "code",
   "execution_count": 4,
   "id": "bc59afbe-e218-4240-8315-5f73a51e6125",
   "metadata": {},
   "outputs": [],
   "source": [
    "capabilities = harmony_client.submit(capabilities_request)"
   ]
  },
  {
   "cell_type": "markdown",
   "id": "f6e984f6-7758-496a-af24-12ca87b58bb6",
   "metadata": {},
   "source": [
    "The result is returned as a [JSON](https://en.wikipedia.org/wiki/JSON) string.  This string is human readable text but the format makes it hard to read the contents.  We can use the `json` library to _decode_ the string and print it in a more reader-friendly format.\n",
    "\n",
    ":::{warning}\n",
    "The JSON returned by capabilities can be very long if variable subsetting is an option and data\n",
    "files contains lots of variables.  However, information about subsetting service options should be in the first few lines of output.\n",
    ":::"
   ]
  },
  {
   "cell_type": "code",
   "execution_count": 5,
   "id": "20a8a6c4-095a-4aeb-8fc6-6ff96db182c7",
   "metadata": {
    "scrolled": true
   },
   "outputs": [
    {
     "data": {
      "application/json": {
       "bboxSubset": true,
       "capabilitiesVersion": "2",
       "concatenate": false,
       "conceptId": "C2596864127-NSIDC_CPRD",
       "outputFormats": [
        "application/x-hdf"
       ],
       "reproject": false,
       "services": [
        {
         "capabilities": {
          "output_formats": [
           "application/x-hdf"
          ],
          "subsetting": {
           "bbox": true,
           "shape": true,
           "temporal": true,
           "variable": true
          }
         },
         "href": "https://cmr.earthdata.nasa.gov/search/concepts/S2836723123-XYZ_PROV",
         "name": "sds/trajectory-subsetter"
        }
       ],
       "shapeSubset": true,
       "shortName": "ATL03",
       "temporalSubset": true,
       "variableSubset": false,
       "variables": []
      },
      "text/plain": [
       "<IPython.core.display.JSON object>"
      ]
     },
     "execution_count": 5,
     "metadata": {
      "application/json": {
       "expanded": false,
       "root": "root"
      }
     },
     "output_type": "execute_result"
    }
   ],
   "source": [
    "JSON(capabilities)"
   ]
  },
  {
   "cell_type": "markdown",
   "id": "3e48c57a-7914-4df0-be72-7129afe9371d",
   "metadata": {},
   "source": [
    "The JSON response contains a list of transformation options available for each dataset: marked as `true` if available and `false` if not.  A list of Harmony service _endpoints_ and capabilities associated with the transformation options.  And a list of variables in the dataset if variable subsetting is available.\n",
    "\n",
    "For ATL03, you can see that only subsetting bounding box (`bboxSubset`) and subsetting by Shapefile (`shapeSubset`) are marked `true`.  Variable subsetting (`variableSubset`), concatenation (`concatenate`) and reprojection (`reproject`) are all `false`.   Bounding box and Shapefile subsetting, as well as temporal subsetting, are performed by the Trajectory Subsetter.  This subsetting routine outputs an HDF5 file."
   ]
  },
  {
   "cell_type": "markdown",
   "id": "258e04a7-4b96-4652-b523-9bbdef9f7f06",
   "metadata": {},
   "source": [
    "### Step 4: subset data\n",
    "\n",
    "Now that we know what subsetting options are available for the ATL03 dataset, we can request a subsetted dataset.  "
   ]
  },
  {
   "cell_type": "markdown",
   "id": "319cd4c7-0b3c-4571-97d2-02c344aba418",
   "metadata": {},
   "source": [
    "#### Create A Subset Request\n",
    "\n",
    "we will create a simple request for subset of ATL03 for a bounding box over the northern Colorado Front Range and for the 2020-04-27 to 2020-05-28 period.\n",
    "\n",
    "![Bounding Box and ATL03 Ground Track for northern Colorado](images/atl03_ground_track_and_bbox.png)"
   ]
  },
  {
   "cell_type": "markdown",
   "id": "c1b953ba-e8cd-486f-8132-6cdbb69b656c",
   "metadata": {},
   "source": [
    "The spatial extent to subset is passed as a `BBox` object that defines the _minimum longitude_, _minimum latitude_, _maximum longitude_ and _maximum latitude_ in decimal degrees.\n",
    "\n",
    "The temporal range to subset is passed to Harmony as a dictionary with `\"start\"` and `\"stop\"` keys, and dates supplied as `datetime` objects.  \n",
    "\n",
    "Currently, ICESat-2 data only allows spatial and temporal subsetting so we only demonstrate these capabilities.  For further information on constructing a `Request` objects see the [harmony-py](https://harmony-py.readthedocs.io/en/latest/) documentation."
   ]
  },
  {
   "cell_type": "code",
   "execution_count": 6,
   "id": "5bb08390-ddb0-4356-905e-c0a3244b9247",
   "metadata": {},
   "outputs": [],
   "source": [
    "request = Request(\n",
    "  collection = Collection(id=capabilities[\"conceptId\"]),\n",
    "  spatial=BBox(-105.5,40,-105,41.),\n",
    "  temporal={\n",
    "    'start': dt.datetime(2020, 4, 27),\n",
    "    'stop': dt.datetime(2020, 5, 28)\n",
    "  }\n",
    ")"
   ]
  },
  {
   "cell_type": "markdown",
   "id": "34e01d68-0fd5-47c9-8757-d3fdc760dcf9",
   "metadata": {},
   "source": [
    "#### Submit the request\n",
    "\n",
    "The request is submitted in the same way as the Capabilities request.  This starts the subsetting process, which may take a while depending on the size of the request.  Submitting the request returns a Job ID, which is a unique identifier for your request that is used to track the progress of the request and to access the results.\n",
    "\n",
    "If the request involves a lot of files (more than 300), Harmony will only process the first 300 files.  See section below on Handling Large Jobs on how to work around this restriction."
   ]
  },
  {
   "cell_type": "code",
   "execution_count": 7,
   "id": "c1c312bc-a986-4ebd-951f-c0d11208d19f",
   "metadata": {},
   "outputs": [
    {
     "data": {
      "text/plain": [
       "'281fbbed-4c1b-4fc4-9f51-ebdf056f48bf'"
      ]
     },
     "execution_count": 7,
     "metadata": {},
     "output_type": "execute_result"
    }
   ],
   "source": [
    "job_id = harmony_client.submit(request)\n",
    "job_id"
   ]
  },
  {
   "cell_type": "markdown",
   "id": "53982496-f3a6-4c46-a61f-f164157e119a",
   "metadata": {},
   "source": [
    "### Step 5: check the status of the request\n",
    "\n",
    "Subsetting is performed in the cloud.  For small jobs, the subsetting process can be monitored with a progress bar by submitting the `job_id` to the `wait_for_processing` method of the Harmony client."
   ]
  },
  {
   "cell_type": "code",
   "execution_count": 8,
   "id": "9b253c1e-da1e-4d14-883d-7fbd87834133",
   "metadata": {},
   "outputs": [
    {
     "name": "stderr",
     "output_type": "stream",
     "text": [
      " [ Processing: 100% ] |###################################################| [|]\n"
     ]
    }
   ],
   "source": [
    "harmony_client.wait_for_processing(job_id, show_progress=True)"
   ]
  },
  {
   "cell_type": "markdown",
   "id": "ff9542f8-2e64-457c-a98b-4e1ba0e757ea",
   "metadata": {},
   "source": [
    "Once the subsetting has finished, information about the job can be accessed as a JSON file"
   ]
  },
  {
   "cell_type": "code",
   "execution_count": 9,
   "id": "be41beda-a445-419f-9af2-080fb7e7b1d3",
   "metadata": {},
   "outputs": [
    {
     "data": {
      "application/json": {
       "createdAt": "2025-09-17T14:05:24.020Z",
       "dataExpiration": "2025-10-17T14:05:24.020Z",
       "dataSizePercentChange": "92.88% reduction",
       "jobID": "281fbbed-4c1b-4fc4-9f51-ebdf056f48bf",
       "labels": [
        "harmony-py"
       ],
       "links": [
        {
         "href": "https://harmony.earthdata.nasa.gov/stac/281fbbed-4c1b-4fc4-9f51-ebdf056f48bf/",
         "rel": "stac-catalog-json",
         "title": "STAC catalog",
         "type": "application/json"
        },
        {
         "bbox": [
          -108.28738,
          26.94838,
          -103.60569,
          59.54235
         ],
         "href": "https://harmony.earthdata.nasa.gov/service-results/harmony-prod-staging/public/281fbbed-4c1b-4fc4-9f51-ebdf056f48bf/110261526/ATL03_20200427193622_04930702_006_02_subsetted.h5",
         "rel": "data",
         "temporal": {
          "end": "2020-04-27T19:44:52.680Z",
          "start": "2020-04-27T19:36:22.028Z"
         },
         "title": "ATL03_20200427193622_04930702_006_02_subsetted.h5",
         "type": "application/x-hdf5"
        },
        {
         "href": "https://harmony.earthdata.nasa.gov/jobs/281fbbed-4c1b-4fc4-9f51-ebdf056f48bf?linktype=https&page=1&limit=2000",
         "rel": "self",
         "title": "The current page",
         "type": "application/json"
        }
       ],
       "message": "The job has completed successfully",
       "numInputGranules": 1,
       "originalDataSize": "4.24 GiB",
       "outputDataSize": "309.18 MiB",
       "progress": 100,
       "request": "https://harmony.earthdata.nasa.gov/C2596864127-NSIDC_CPRD/ogc-api-coverages/1.0.0/collections/parameter_vars/coverage/rangeset?forceAsync=true&subset=lat(40%3A41.0)&subset=lon(-105.5%3A-105)&subset=time(%222020-04-27T00%3A00%3A00%22%3A%222020-05-28T00%3A00%3A00%22)&label=harmony-py&variable=all",
       "status": "successful",
       "updatedAt": "2025-09-17T14:06:58.425Z",
       "username": "mbeig"
      },
      "text/plain": [
       "<IPython.core.display.JSON object>"
      ]
     },
     "execution_count": 9,
     "metadata": {
      "application/json": {
       "expanded": false,
       "root": "root"
      }
     },
     "output_type": "execute_result"
    }
   ],
   "source": [
    "job_summary = harmony_client.result_json(job_id)\n",
    "JSON(job_summary)"
   ]
  },
  {
   "cell_type": "markdown",
   "id": "421391bc-f996-4dbb-a69d-ac7d40d67243",
   "metadata": {},
   "source": [
    "### Step 6: access the subsetted data\n",
    "\n",
    "The subsetted files can be accessed by downloading the files to a local machine, such as a laptop or desktop workstation, or by _streaming_ the data.  We will use both access methods in the two examples below.  \n",
    "\n",
    "Results are staged for 30 days in the Harmony s3 bucket."
   ]
  },
  {
   "cell_type": "markdown",
   "id": "120e006a-071e-4bd9-8115-ccd1cc5aac52",
   "metadata": {},
   "source": [
    "#### Download a single file\n",
    "\n",
    "The _download_ method takes a url to a single subsetted file.  The `directory` keyword is used to specify a download path.  The default is the current working directory (`.`).  Setting `overwrite` to False avoids downloading the same file twice.  If you need to download the file again, then set `overwrite=True`.\n",
    "\n",
    ":::{note}\n",
    "The `download` and `download_all` method are [_asynchronous_](https://en.wikipedia.org/wiki/Asynchrony_(computer_programming)), so that downloading each file is performed independently.  Once the downloads are completed, the filepaths for the downloaded file are accessed using the `result` method.\n",
    ":::"
   ]
  },
  {
   "cell_type": "code",
   "execution_count": 10,
   "id": "2e8f110a-4aa3-4bec-9ac3-65eef9f0e4aa",
   "metadata": {},
   "outputs": [
    {
     "name": "stdout",
     "output_type": "stream",
     "text": [
      "./110261526_ATL03_20200427193622_04930702_006_02_subsetted.h5\n"
     ]
    },
    {
     "data": {
      "text/plain": [
       "'./110261526_ATL03_20200427193622_04930702_006_02_subsetted.h5'"
      ]
     },
     "execution_count": 10,
     "metadata": {},
     "output_type": "execute_result"
    },
    {
     "name": "stdout",
     "output_type": "stream",
     "text": [
      "./110261526_ATL03_20200427193622_04930702_006_02_subsetted.h5\n"
     ]
    }
   ],
   "source": [
    "url = list(harmony_client.result_urls(job_id))[0]  # Get the data url of the first file\n",
    "filepath = harmony_client.download(url, directory=\".\", overwrite=False).result()\n",
    "filepath"
   ]
  },
  {
   "cell_type": "markdown",
   "id": "4876c8ac-c822-4bae-b4fd-462026330040",
   "metadata": {},
   "source": [
    "#### Download all files\n",
    "\n",
    "The `download_all` method can use the _job-id_ or the _result-json_, which contains result urls.  \n",
    "\n",
    "As with `download`, the download directory path on the local machine can be specified with the `directory` keyword.  To save downloading the same file, the `overwrite` keyword can be set to False.\n",
    "\n",
    "The paths fo the files are returned as a list."
   ]
  },
  {
   "cell_type": "code",
   "execution_count": 11,
   "id": "951581ed-03a3-4aa2-b147-ed2054b75905",
   "metadata": {},
   "outputs": [
    {
     "data": {
      "text/plain": [
       "1"
      ]
     },
     "execution_count": 11,
     "metadata": {},
     "output_type": "execute_result"
    }
   ],
   "source": [
    "futures = harmony_client.download_all(job_id, directory=\".\", overwrite=False)\n",
    "filelist = [f.result() for f in futures]  # get filepaths\n",
    "len(filelist)"
   ]
  },
  {
   "cell_type": "markdown",
   "id": "443960f2-3983-4fa6-ae00-6e3bd7dee39e",
   "metadata": {},
   "source": [
    "In this case, there is only one file download.  Individual filepaths can be accessed using the normal methods for Python lists."
   ]
  },
  {
   "cell_type": "code",
   "execution_count": 12,
   "id": "203a3c23-4bdc-47ee-a874-b361296d584b",
   "metadata": {},
   "outputs": [
    {
     "data": {
      "text/plain": [
       "'./110261526_ATL03_20200427193622_04930702_006_02_subsetted.h5'"
      ]
     },
     "execution_count": 12,
     "metadata": {},
     "output_type": "execute_result"
    }
   ],
   "source": [
    "filelist[0]"
   ]
  },
  {
   "cell_type": "markdown",
   "id": "acba9b5d-d4f6-4287-ac7d-3e7e1c70740b",
   "metadata": {},
   "source": [
    "#### Load a file into an `xarray` dataset\n",
    "\n",
    "The simplest way to load ICESat-2 data is to use `xarray`.\n",
    "\n",
    ":::{note}\n",
    "You could also load the data into a `geopandas.GeoDataframe`\n",
    ":::"
   ]
  },
  {
   "cell_type": "code",
   "execution_count": 13,
   "id": "ae13153c-2968-44c1-a668-0f72f07a7d8c",
   "metadata": {},
   "outputs": [
    {
     "data": {
      "text/html": [
       "<div><svg style=\"position: absolute; width: 0; height: 0; overflow: hidden\">\n",
       "<defs>\n",
       "<symbol id=\"icon-database\" viewBox=\"0 0 32 32\">\n",
       "<path d=\"M16 0c-8.837 0-16 2.239-16 5v4c0 2.761 7.163 5 16 5s16-2.239 16-5v-4c0-2.761-7.163-5-16-5z\"></path>\n",
       "<path d=\"M16 17c-8.837 0-16-2.239-16-5v6c0 2.761 7.163 5 16 5s16-2.239 16-5v-6c0 2.761-7.163 5-16 5z\"></path>\n",
       "<path d=\"M16 26c-8.837 0-16-2.239-16-5v6c0 2.761 7.163 5 16 5s16-2.239 16-5v-6c0 2.761-7.163 5-16 5z\"></path>\n",
       "</symbol>\n",
       "<symbol id=\"icon-file-text2\" viewBox=\"0 0 32 32\">\n",
       "<path d=\"M28.681 7.159c-0.694-0.947-1.662-2.053-2.724-3.116s-2.169-2.030-3.116-2.724c-1.612-1.182-2.393-1.319-2.841-1.319h-15.5c-1.378 0-2.5 1.121-2.5 2.5v27c0 1.378 1.122 2.5 2.5 2.5h23c1.378 0 2.5-1.122 2.5-2.5v-19.5c0-0.448-0.137-1.23-1.319-2.841zM24.543 5.457c0.959 0.959 1.712 1.825 2.268 2.543h-4.811v-4.811c0.718 0.556 1.584 1.309 2.543 2.268zM28 29.5c0 0.271-0.229 0.5-0.5 0.5h-23c-0.271 0-0.5-0.229-0.5-0.5v-27c0-0.271 0.229-0.5 0.5-0.5 0 0 15.499-0 15.5 0v7c0 0.552 0.448 1 1 1h7v19.5z\"></path>\n",
       "<path d=\"M23 26h-14c-0.552 0-1-0.448-1-1s0.448-1 1-1h14c0.552 0 1 0.448 1 1s-0.448 1-1 1z\"></path>\n",
       "<path d=\"M23 22h-14c-0.552 0-1-0.448-1-1s0.448-1 1-1h14c0.552 0 1 0.448 1 1s-0.448 1-1 1z\"></path>\n",
       "<path d=\"M23 18h-14c-0.552 0-1-0.448-1-1s0.448-1 1-1h14c0.552 0 1 0.448 1 1s-0.448 1-1 1z\"></path>\n",
       "</symbol>\n",
       "</defs>\n",
       "</svg>\n",
       "<style>/* CSS stylesheet for displaying xarray objects in jupyterlab.\n",
       " *\n",
       " */\n",
       "\n",
       ":root {\n",
       "  --xr-font-color0: var(\n",
       "    --jp-content-font-color0,\n",
       "    var(--pst-color-text-base rgba(0, 0, 0, 1))\n",
       "  );\n",
       "  --xr-font-color2: var(\n",
       "    --jp-content-font-color2,\n",
       "    var(--pst-color-text-base, rgba(0, 0, 0, 0.54))\n",
       "  );\n",
       "  --xr-font-color3: var(\n",
       "    --jp-content-font-color3,\n",
       "    var(--pst-color-text-base, rgba(0, 0, 0, 0.38))\n",
       "  );\n",
       "  --xr-border-color: var(\n",
       "    --jp-border-color2,\n",
       "    hsl(from var(--pst-color-on-background, white) h s calc(l - 10))\n",
       "  );\n",
       "  --xr-disabled-color: var(\n",
       "    --jp-layout-color3,\n",
       "    hsl(from var(--pst-color-on-background, white) h s calc(l - 40))\n",
       "  );\n",
       "  --xr-background-color: var(\n",
       "    --jp-layout-color0,\n",
       "    var(--pst-color-on-background, white)\n",
       "  );\n",
       "  --xr-background-color-row-even: var(\n",
       "    --jp-layout-color1,\n",
       "    hsl(from var(--pst-color-on-background, white) h s calc(l - 5))\n",
       "  );\n",
       "  --xr-background-color-row-odd: var(\n",
       "    --jp-layout-color2,\n",
       "    hsl(from var(--pst-color-on-background, white) h s calc(l - 15))\n",
       "  );\n",
       "}\n",
       "\n",
       "html[theme=\"dark\"],\n",
       "html[data-theme=\"dark\"],\n",
       "body[data-theme=\"dark\"],\n",
       "body.vscode-dark {\n",
       "  --xr-font-color0: var(\n",
       "    --jp-content-font-color0,\n",
       "    var(--pst-color-text-base, rgba(255, 255, 255, 1))\n",
       "  );\n",
       "  --xr-font-color2: var(\n",
       "    --jp-content-font-color2,\n",
       "    var(--pst-color-text-base, rgba(255, 255, 255, 0.54))\n",
       "  );\n",
       "  --xr-font-color3: var(\n",
       "    --jp-content-font-color3,\n",
       "    var(--pst-color-text-base, rgba(255, 255, 255, 0.38))\n",
       "  );\n",
       "  --xr-border-color: var(\n",
       "    --jp-border-color2,\n",
       "    hsl(from var(--pst-color-on-background, #111111) h s calc(l + 10))\n",
       "  );\n",
       "  --xr-disabled-color: var(\n",
       "    --jp-layout-color3,\n",
       "    hsl(from var(--pst-color-on-background, #111111) h s calc(l + 40))\n",
       "  );\n",
       "  --xr-background-color: var(\n",
       "    --jp-layout-color0,\n",
       "    var(--pst-color-on-background, #111111)\n",
       "  );\n",
       "  --xr-background-color-row-even: var(\n",
       "    --jp-layout-color1,\n",
       "    hsl(from var(--pst-color-on-background, #111111) h s calc(l + 5))\n",
       "  );\n",
       "  --xr-background-color-row-odd: var(\n",
       "    --jp-layout-color2,\n",
       "    hsl(from var(--pst-color-on-background, #111111) h s calc(l + 15))\n",
       "  );\n",
       "}\n",
       "\n",
       ".xr-wrap {\n",
       "  display: block !important;\n",
       "  min-width: 300px;\n",
       "  max-width: 700px;\n",
       "}\n",
       "\n",
       ".xr-text-repr-fallback {\n",
       "  /* fallback to plain text repr when CSS is not injected (untrusted notebook) */\n",
       "  display: none;\n",
       "}\n",
       "\n",
       ".xr-header {\n",
       "  padding-top: 6px;\n",
       "  padding-bottom: 6px;\n",
       "  margin-bottom: 4px;\n",
       "  border-bottom: solid 1px var(--xr-border-color);\n",
       "}\n",
       "\n",
       ".xr-header > div,\n",
       ".xr-header > ul {\n",
       "  display: inline;\n",
       "  margin-top: 0;\n",
       "  margin-bottom: 0;\n",
       "}\n",
       "\n",
       ".xr-obj-type,\n",
       ".xr-array-name {\n",
       "  margin-left: 2px;\n",
       "  margin-right: 10px;\n",
       "}\n",
       "\n",
       ".xr-obj-type {\n",
       "  color: var(--xr-font-color2);\n",
       "}\n",
       "\n",
       ".xr-sections {\n",
       "  padding-left: 0 !important;\n",
       "  display: grid;\n",
       "  grid-template-columns: 150px auto auto 1fr 0 20px 0 20px;\n",
       "}\n",
       "\n",
       ".xr-section-item {\n",
       "  display: contents;\n",
       "}\n",
       "\n",
       ".xr-section-item input {\n",
       "  display: inline-block;\n",
       "  opacity: 0;\n",
       "  height: 0;\n",
       "}\n",
       "\n",
       ".xr-section-item input + label {\n",
       "  color: var(--xr-disabled-color);\n",
       "  border: 2px solid transparent !important;\n",
       "}\n",
       "\n",
       ".xr-section-item input:enabled + label {\n",
       "  cursor: pointer;\n",
       "  color: var(--xr-font-color2);\n",
       "}\n",
       "\n",
       ".xr-section-item input:focus + label {\n",
       "  border: 2px solid var(--xr-font-color0) !important;\n",
       "}\n",
       "\n",
       ".xr-section-item input:enabled + label:hover {\n",
       "  color: var(--xr-font-color0);\n",
       "}\n",
       "\n",
       ".xr-section-summary {\n",
       "  grid-column: 1;\n",
       "  color: var(--xr-font-color2);\n",
       "  font-weight: 500;\n",
       "}\n",
       "\n",
       ".xr-section-summary > span {\n",
       "  display: inline-block;\n",
       "  padding-left: 0.5em;\n",
       "}\n",
       "\n",
       ".xr-section-summary-in:disabled + label {\n",
       "  color: var(--xr-font-color2);\n",
       "}\n",
       "\n",
       ".xr-section-summary-in + label:before {\n",
       "  display: inline-block;\n",
       "  content: \"►\";\n",
       "  font-size: 11px;\n",
       "  width: 15px;\n",
       "  text-align: center;\n",
       "}\n",
       "\n",
       ".xr-section-summary-in:disabled + label:before {\n",
       "  color: var(--xr-disabled-color);\n",
       "}\n",
       "\n",
       ".xr-section-summary-in:checked + label:before {\n",
       "  content: \"▼\";\n",
       "}\n",
       "\n",
       ".xr-section-summary-in:checked + label > span {\n",
       "  display: none;\n",
       "}\n",
       "\n",
       ".xr-section-summary,\n",
       ".xr-section-inline-details {\n",
       "  padding-top: 4px;\n",
       "  padding-bottom: 4px;\n",
       "}\n",
       "\n",
       ".xr-section-inline-details {\n",
       "  grid-column: 2 / -1;\n",
       "}\n",
       "\n",
       ".xr-section-details {\n",
       "  display: none;\n",
       "  grid-column: 1 / -1;\n",
       "  margin-bottom: 5px;\n",
       "}\n",
       "\n",
       ".xr-section-summary-in:checked ~ .xr-section-details {\n",
       "  display: contents;\n",
       "}\n",
       "\n",
       ".xr-array-wrap {\n",
       "  grid-column: 1 / -1;\n",
       "  display: grid;\n",
       "  grid-template-columns: 20px auto;\n",
       "}\n",
       "\n",
       ".xr-array-wrap > label {\n",
       "  grid-column: 1;\n",
       "  vertical-align: top;\n",
       "}\n",
       "\n",
       ".xr-preview {\n",
       "  color: var(--xr-font-color3);\n",
       "}\n",
       "\n",
       ".xr-array-preview,\n",
       ".xr-array-data {\n",
       "  padding: 0 5px !important;\n",
       "  grid-column: 2;\n",
       "}\n",
       "\n",
       ".xr-array-data,\n",
       ".xr-array-in:checked ~ .xr-array-preview {\n",
       "  display: none;\n",
       "}\n",
       "\n",
       ".xr-array-in:checked ~ .xr-array-data,\n",
       ".xr-array-preview {\n",
       "  display: inline-block;\n",
       "}\n",
       "\n",
       ".xr-dim-list {\n",
       "  display: inline-block !important;\n",
       "  list-style: none;\n",
       "  padding: 0 !important;\n",
       "  margin: 0;\n",
       "}\n",
       "\n",
       ".xr-dim-list li {\n",
       "  display: inline-block;\n",
       "  padding: 0;\n",
       "  margin: 0;\n",
       "}\n",
       "\n",
       ".xr-dim-list:before {\n",
       "  content: \"(\";\n",
       "}\n",
       "\n",
       ".xr-dim-list:after {\n",
       "  content: \")\";\n",
       "}\n",
       "\n",
       ".xr-dim-list li:not(:last-child):after {\n",
       "  content: \",\";\n",
       "  padding-right: 5px;\n",
       "}\n",
       "\n",
       ".xr-has-index {\n",
       "  font-weight: bold;\n",
       "}\n",
       "\n",
       ".xr-var-list,\n",
       ".xr-var-item {\n",
       "  display: contents;\n",
       "}\n",
       "\n",
       ".xr-var-item > div,\n",
       ".xr-var-item label,\n",
       ".xr-var-item > .xr-var-name span {\n",
       "  background-color: var(--xr-background-color-row-even);\n",
       "  border-color: var(--xr-background-color-row-odd);\n",
       "  margin-bottom: 0;\n",
       "  padding-top: 2px;\n",
       "}\n",
       "\n",
       ".xr-var-item > .xr-var-name:hover span {\n",
       "  padding-right: 5px;\n",
       "}\n",
       "\n",
       ".xr-var-list > li:nth-child(odd) > div,\n",
       ".xr-var-list > li:nth-child(odd) > label,\n",
       ".xr-var-list > li:nth-child(odd) > .xr-var-name span {\n",
       "  background-color: var(--xr-background-color-row-odd);\n",
       "  border-color: var(--xr-background-color-row-even);\n",
       "}\n",
       "\n",
       ".xr-var-name {\n",
       "  grid-column: 1;\n",
       "}\n",
       "\n",
       ".xr-var-dims {\n",
       "  grid-column: 2;\n",
       "}\n",
       "\n",
       ".xr-var-dtype {\n",
       "  grid-column: 3;\n",
       "  text-align: right;\n",
       "  color: var(--xr-font-color2);\n",
       "}\n",
       "\n",
       ".xr-var-preview {\n",
       "  grid-column: 4;\n",
       "}\n",
       "\n",
       ".xr-index-preview {\n",
       "  grid-column: 2 / 5;\n",
       "  color: var(--xr-font-color2);\n",
       "}\n",
       "\n",
       ".xr-var-name,\n",
       ".xr-var-dims,\n",
       ".xr-var-dtype,\n",
       ".xr-preview,\n",
       ".xr-attrs dt {\n",
       "  white-space: nowrap;\n",
       "  overflow: hidden;\n",
       "  text-overflow: ellipsis;\n",
       "  padding-right: 10px;\n",
       "}\n",
       "\n",
       ".xr-var-name:hover,\n",
       ".xr-var-dims:hover,\n",
       ".xr-var-dtype:hover,\n",
       ".xr-attrs dt:hover {\n",
       "  overflow: visible;\n",
       "  width: auto;\n",
       "  z-index: 1;\n",
       "}\n",
       "\n",
       ".xr-var-attrs,\n",
       ".xr-var-data,\n",
       ".xr-index-data {\n",
       "  display: none;\n",
       "  border-top: 2px dotted var(--xr-background-color);\n",
       "  padding-bottom: 20px !important;\n",
       "  padding-top: 10px !important;\n",
       "}\n",
       "\n",
       ".xr-var-attrs-in + label,\n",
       ".xr-var-data-in + label,\n",
       ".xr-index-data-in + label {\n",
       "  padding: 0 1px;\n",
       "}\n",
       "\n",
       ".xr-var-attrs-in:checked ~ .xr-var-attrs,\n",
       ".xr-var-data-in:checked ~ .xr-var-data,\n",
       ".xr-index-data-in:checked ~ .xr-index-data {\n",
       "  display: block;\n",
       "}\n",
       "\n",
       ".xr-var-data > table {\n",
       "  float: right;\n",
       "}\n",
       "\n",
       ".xr-var-data > pre,\n",
       ".xr-index-data > pre,\n",
       ".xr-var-data > table > tbody > tr {\n",
       "  background-color: transparent !important;\n",
       "}\n",
       "\n",
       ".xr-var-name span,\n",
       ".xr-var-data,\n",
       ".xr-index-name div,\n",
       ".xr-index-data,\n",
       ".xr-attrs {\n",
       "  padding-left: 25px !important;\n",
       "}\n",
       "\n",
       ".xr-attrs,\n",
       ".xr-var-attrs,\n",
       ".xr-var-data,\n",
       ".xr-index-data {\n",
       "  grid-column: 1 / -1;\n",
       "}\n",
       "\n",
       "dl.xr-attrs {\n",
       "  padding: 0;\n",
       "  margin: 0;\n",
       "  display: grid;\n",
       "  grid-template-columns: 125px auto;\n",
       "}\n",
       "\n",
       ".xr-attrs dt,\n",
       ".xr-attrs dd {\n",
       "  padding: 0;\n",
       "  margin: 0;\n",
       "  float: left;\n",
       "  padding-right: 10px;\n",
       "  width: auto;\n",
       "}\n",
       "\n",
       ".xr-attrs dt {\n",
       "  font-weight: normal;\n",
       "  grid-column: 1;\n",
       "}\n",
       "\n",
       ".xr-attrs dt:hover span {\n",
       "  display: inline-block;\n",
       "  background: var(--xr-background-color);\n",
       "  padding-right: 10px;\n",
       "}\n",
       "\n",
       ".xr-attrs dd {\n",
       "  grid-column: 2;\n",
       "  white-space: pre-wrap;\n",
       "  word-break: break-all;\n",
       "}\n",
       "\n",
       ".xr-icon-database,\n",
       ".xr-icon-file-text2,\n",
       ".xr-no-icon {\n",
       "  display: inline-block;\n",
       "  vertical-align: middle;\n",
       "  width: 1em;\n",
       "  height: 1.5em !important;\n",
       "  stroke-width: 0;\n",
       "  stroke: currentColor;\n",
       "  fill: currentColor;\n",
       "}\n",
       "\n",
       ".xr-var-attrs-in:checked + label > .xr-icon-file-text2,\n",
       ".xr-var-data-in:checked + label > .xr-icon-database,\n",
       ".xr-index-data-in:checked + label > .xr-icon-database {\n",
       "  color: var(--xr-font-color0);\n",
       "  filter: drop-shadow(1px 1px 5px var(--xr-font-color2));\n",
       "  stroke-width: 0.8px;\n",
       "}\n",
       "</style><pre class='xr-text-repr-fallback'>&lt;xarray.Dataset&gt; Size: 92MB\n",
       "Dimensions:         (delta_time: 1848993, ds_surf_type: 5)\n",
       "Coordinates:\n",
       "  * delta_time      (delta_time) datetime64[ns] 15MB 2020-04-27T19:39:45.8497...\n",
       "    lat_ph          (delta_time) float64 15MB ...\n",
       "    lon_ph          (delta_time) float64 15MB ...\n",
       "Dimensions without coordinates: ds_surf_type\n",
       "Data variables:\n",
       "    dist_ph_across  (delta_time) float32 7MB ...\n",
       "    dist_ph_along   (delta_time) float32 7MB ...\n",
       "    h_ph            (delta_time) float32 7MB ...\n",
       "    pce_mframe_cnt  (delta_time) uint32 7MB ...\n",
       "    ph_id_channel   (delta_time) uint8 2MB ...\n",
       "    ph_id_count     (delta_time) uint8 2MB ...\n",
       "    ph_id_pulse     (delta_time) uint8 2MB ...\n",
       "    quality_ph      (delta_time) int8 2MB ...\n",
       "    signal_conf_ph  (delta_time, ds_surf_type) int8 9MB ...\n",
       "    weight_ph       (delta_time) uint8 2MB ...\n",
       "Attributes:\n",
       "    Description:  Contains arrays of the parameters for each received photon.\n",
       "    data_rate:    Data are stored at the photon detection rate.</pre><div class='xr-wrap' style='display:none'><div class='xr-header'><div class='xr-obj-type'>xarray.Dataset</div></div><ul class='xr-sections'><li class='xr-section-item'><input id='section-3626c158-e202-40f3-86ed-02ac429d7447' class='xr-section-summary-in' type='checkbox' disabled ><label for='section-3626c158-e202-40f3-86ed-02ac429d7447' class='xr-section-summary'  title='Expand/collapse section'>Dimensions:</label><div class='xr-section-inline-details'><ul class='xr-dim-list'><li><span class='xr-has-index'>delta_time</span>: 1848993</li><li><span>ds_surf_type</span>: 5</li></ul></div><div class='xr-section-details'></div></li><li class='xr-section-item'><input id='section-91ece4bd-10b2-44ad-8a08-2f9ef5facc2e' class='xr-section-summary-in' type='checkbox'  checked><label for='section-91ece4bd-10b2-44ad-8a08-2f9ef5facc2e' class='xr-section-summary' >Coordinates: <span>(3)</span></label><div class='xr-section-inline-details'></div><div class='xr-section-details'><ul class='xr-var-list'><li class='xr-var-item'><div class='xr-var-name'><span class='xr-has-index'>delta_time</span></div><div class='xr-var-dims'>(delta_time)</div><div class='xr-var-dtype'>datetime64[ns]</div><div class='xr-var-preview xr-preview'>2020-04-27T19:39:45.849764816 .....</div><input id='attrs-e6ca3e75-61cf-484a-8d80-cd35aae4caae' class='xr-var-attrs-in' type='checkbox' ><label for='attrs-e6ca3e75-61cf-484a-8d80-cd35aae4caae' title='Show/Hide attributes'><svg class='icon xr-icon-file-text2'><use xlink:href='#icon-file-text2'></use></svg></label><input id='data-fe2a6672-edfb-4100-8d22-5f7e288c8371' class='xr-var-data-in' type='checkbox'><label for='data-fe2a6672-edfb-4100-8d22-5f7e288c8371' title='Show/Hide data repr'><svg class='icon xr-icon-database'><use xlink:href='#icon-database'></use></svg></label><div class='xr-var-attrs'><dl class='xr-attrs'><dt><span>long_name :</span></dt><dd>Elapsed GPS seconds</dd><dt><span>standard_name :</span></dt><dd>time</dd><dt><span>source :</span></dt><dd>Operations</dd><dt><span>contentType :</span></dt><dd>referenceInformation</dd><dt><span>description :</span></dt><dd>The transmit time of a given photon, measured in seconds from the ATLAS Standard Data Product Epoch. Note that multiple received photons associated with a single transmit pulse will have the same delta_time. The ATLAS Standard Data Products (SDP) epoch offset is defined within /ancillary_data/atlas_sdp_gps_epoch as the number of GPS seconds between the GPS epoch (1980-01-06T00:00:00.000000Z UTC) and the ATLAS SDP epoch. By adding the offset contained within atlas_sdp_gps_epoch to delta time parameters, the time in gps_seconds relative to the GPS epoch can be computed.</dd></dl></div><div class='xr-var-data'><pre>array([&#x27;2020-04-27T19:39:45.849764816&#x27;, &#x27;2020-04-27T19:39:45.849764816&#x27;,\n",
       "       &#x27;2020-04-27T19:39:45.849764816&#x27;, ..., &#x27;2020-04-27T19:40:01.537665200&#x27;,\n",
       "       &#x27;2020-04-27T19:40:01.537665200&#x27;, &#x27;2020-04-27T19:40:01.537665200&#x27;],\n",
       "      shape=(1848993,), dtype=&#x27;datetime64[ns]&#x27;)</pre></div></li><li class='xr-var-item'><div class='xr-var-name'><span>lat_ph</span></div><div class='xr-var-dims'>(delta_time)</div><div class='xr-var-dtype'>float64</div><div class='xr-var-preview xr-preview'>...</div><input id='attrs-164a308f-69b4-44f8-9f13-a190020bab30' class='xr-var-attrs-in' type='checkbox' ><label for='attrs-164a308f-69b4-44f8-9f13-a190020bab30' title='Show/Hide attributes'><svg class='icon xr-icon-file-text2'><use xlink:href='#icon-file-text2'></use></svg></label><input id='data-03c845aa-96ec-4a5e-b495-8056a315a7ae' class='xr-var-data-in' type='checkbox'><label for='data-03c845aa-96ec-4a5e-b495-8056a315a7ae' title='Show/Hide data repr'><svg class='icon xr-icon-database'><use xlink:href='#icon-database'></use></svg></label><div class='xr-var-attrs'><dl class='xr-attrs'><dt><span>long_name :</span></dt><dd>Latitude</dd><dt><span>valid_max :</span></dt><dd>90.0</dd><dt><span>standard_name :</span></dt><dd>latitude</dd><dt><span>source :</span></dt><dd>ATL03g ATBD, Section 3.4</dd><dt><span>units :</span></dt><dd>degrees_north</dd><dt><span>contentType :</span></dt><dd>modelResult</dd><dt><span>valid_min :</span></dt><dd>-90.0</dd><dt><span>description :</span></dt><dd>Latitude of each received photon. Computed from the ECF Cartesian coordinates of the bounce point.</dd></dl></div><div class='xr-var-data'><pre>[1848993 values with dtype=float64]</pre></div></li><li class='xr-var-item'><div class='xr-var-name'><span>lon_ph</span></div><div class='xr-var-dims'>(delta_time)</div><div class='xr-var-dtype'>float64</div><div class='xr-var-preview xr-preview'>...</div><input id='attrs-f2bca28b-27e7-42c8-b424-229149ef7282' class='xr-var-attrs-in' type='checkbox' ><label for='attrs-f2bca28b-27e7-42c8-b424-229149ef7282' title='Show/Hide attributes'><svg class='icon xr-icon-file-text2'><use xlink:href='#icon-file-text2'></use></svg></label><input id='data-ada71b8e-b7cf-4976-9ed7-df0c23bfc81e' class='xr-var-data-in' type='checkbox'><label for='data-ada71b8e-b7cf-4976-9ed7-df0c23bfc81e' title='Show/Hide data repr'><svg class='icon xr-icon-database'><use xlink:href='#icon-database'></use></svg></label><div class='xr-var-attrs'><dl class='xr-attrs'><dt><span>long_name :</span></dt><dd>Longitude</dd><dt><span>valid_max :</span></dt><dd>180.0</dd><dt><span>standard_name :</span></dt><dd>longitude</dd><dt><span>source :</span></dt><dd>ATL03g ATBD, Section 3.4</dd><dt><span>units :</span></dt><dd>degrees_east</dd><dt><span>contentType :</span></dt><dd>modelResult</dd><dt><span>valid_min :</span></dt><dd>-180.0</dd><dt><span>description :</span></dt><dd>Longitude of each received photon. Computed from the ECF Cartesian coordinates of the bounce point.</dd></dl></div><div class='xr-var-data'><pre>[1848993 values with dtype=float64]</pre></div></li></ul></div></li><li class='xr-section-item'><input id='section-892fedee-44d6-4270-90fe-c967e909e00a' class='xr-section-summary-in' type='checkbox'  checked><label for='section-892fedee-44d6-4270-90fe-c967e909e00a' class='xr-section-summary' >Data variables: <span>(10)</span></label><div class='xr-section-inline-details'></div><div class='xr-section-details'><ul class='xr-var-list'><li class='xr-var-item'><div class='xr-var-name'><span>dist_ph_across</span></div><div class='xr-var-dims'>(delta_time)</div><div class='xr-var-dtype'>float32</div><div class='xr-var-preview xr-preview'>...</div><input id='attrs-be4c599c-7177-4cc8-bc2d-059b19d6b313' class='xr-var-attrs-in' type='checkbox' ><label for='attrs-be4c599c-7177-4cc8-bc2d-059b19d6b313' title='Show/Hide attributes'><svg class='icon xr-icon-file-text2'><use xlink:href='#icon-file-text2'></use></svg></label><input id='data-a3fb8262-c946-49f1-b4b8-43878ec7c201' class='xr-var-data-in' type='checkbox'><label for='data-a3fb8262-c946-49f1-b4b8-43878ec7c201' title='Show/Hide data repr'><svg class='icon xr-icon-database'><use xlink:href='#icon-database'></use></svg></label><div class='xr-var-attrs'><dl class='xr-attrs'><dt><span>long_name :</span></dt><dd>Distance off RGT.</dd><dt><span>units :</span></dt><dd>meters</dd><dt><span>source :</span></dt><dd>ATL03 ATBD, Section 3.1</dd><dt><span>contentType :</span></dt><dd>modelResult</dd><dt><span>description :</span></dt><dd>Across-track distance projected to the ellipsoid of the received photon from the reference ground track.  This is based on the Along-Track Segment algorithm described in Section 3.1.</dd></dl></div><div class='xr-var-data'><pre>[1848993 values with dtype=float32]</pre></div></li><li class='xr-var-item'><div class='xr-var-name'><span>dist_ph_along</span></div><div class='xr-var-dims'>(delta_time)</div><div class='xr-var-dtype'>float32</div><div class='xr-var-preview xr-preview'>...</div><input id='attrs-882f208c-eae2-4875-a175-24c83615e8a6' class='xr-var-attrs-in' type='checkbox' ><label for='attrs-882f208c-eae2-4875-a175-24c83615e8a6' title='Show/Hide attributes'><svg class='icon xr-icon-file-text2'><use xlink:href='#icon-file-text2'></use></svg></label><input id='data-f85849bc-e0a9-4ce5-b303-fb6b88a0629a' class='xr-var-data-in' type='checkbox'><label for='data-f85849bc-e0a9-4ce5-b303-fb6b88a0629a' title='Show/Hide data repr'><svg class='icon xr-icon-database'><use xlink:href='#icon-database'></use></svg></label><div class='xr-var-attrs'><dl class='xr-attrs'><dt><span>long_name :</span></dt><dd>Distance from equator crossing.</dd><dt><span>units :</span></dt><dd>meters</dd><dt><span>source :</span></dt><dd>ATL03 ATBD, Section 3.1</dd><dt><span>contentType :</span></dt><dd>modelResult</dd><dt><span>description :</span></dt><dd>Along-track distance in a segment projected to the ellipsoid of the received photon, based on the Along-Track Segment algorithm.  Total along track distance can be found by adding this value to the sum of segment lengths measured from the start of the most recent reference groundtrack.</dd></dl></div><div class='xr-var-data'><pre>[1848993 values with dtype=float32]</pre></div></li><li class='xr-var-item'><div class='xr-var-name'><span>h_ph</span></div><div class='xr-var-dims'>(delta_time)</div><div class='xr-var-dtype'>float32</div><div class='xr-var-preview xr-preview'>...</div><input id='attrs-cb1ec254-4eeb-4cd6-bd7a-edb623df5d3d' class='xr-var-attrs-in' type='checkbox' ><label for='attrs-cb1ec254-4eeb-4cd6-bd7a-edb623df5d3d' title='Show/Hide attributes'><svg class='icon xr-icon-file-text2'><use xlink:href='#icon-file-text2'></use></svg></label><input id='data-39ef4966-8f7e-476a-bda1-aba6892edf73' class='xr-var-data-in' type='checkbox'><label for='data-39ef4966-8f7e-476a-bda1-aba6892edf73' title='Show/Hide data repr'><svg class='icon xr-icon-database'><use xlink:href='#icon-database'></use></svg></label><div class='xr-var-attrs'><dl class='xr-attrs'><dt><span>long_name :</span></dt><dd>Photon WGS84 Height</dd><dt><span>standard_name :</span></dt><dd>height</dd><dt><span>units :</span></dt><dd>meters</dd><dt><span>source :</span></dt><dd>ATL03g ATBD, Section 3.4</dd><dt><span>contentType :</span></dt><dd>physicalMeasurement</dd><dt><span>description :</span></dt><dd>Height of each received photon, relative to the WGS-84 ellipsoid including the geophysical corrections noted in Section 6. Please note that neither the geoid, ocean tide nor the dynamic atmosphere (DAC) corrections are applied to the ellipsoidal heights.</dd></dl></div><div class='xr-var-data'><pre>[1848993 values with dtype=float32]</pre></div></li><li class='xr-var-item'><div class='xr-var-name'><span>pce_mframe_cnt</span></div><div class='xr-var-dims'>(delta_time)</div><div class='xr-var-dtype'>uint32</div><div class='xr-var-preview xr-preview'>...</div><input id='attrs-cd7b5fee-4008-4b37-863a-427f1561d96a' class='xr-var-attrs-in' type='checkbox' ><label for='attrs-cd7b5fee-4008-4b37-863a-427f1561d96a' title='Show/Hide attributes'><svg class='icon xr-icon-file-text2'><use xlink:href='#icon-file-text2'></use></svg></label><input id='data-e3a5cbf4-20eb-47eb-be79-bcc051a3d1b7' class='xr-var-data-in' type='checkbox'><label for='data-e3a5cbf4-20eb-47eb-be79-bcc051a3d1b7' title='Show/Hide data repr'><svg class='icon xr-icon-database'><use xlink:href='#icon-database'></use></svg></label><div class='xr-var-attrs'><dl class='xr-attrs'><dt><span>long_name :</span></dt><dd>PCE Major frame counter</dd><dt><span>units :</span></dt><dd>counts</dd><dt><span>source :</span></dt><dd>Retained from prior a_alt_science_ph packet</dd><dt><span>contentType :</span></dt><dd>referenceInformation</dd><dt><span>description :</span></dt><dd>The major frame counter is read from the digital flow controller in a given PCE card.  The counter identifies individual major frames across diag and science packets. Used as part of the photon ID.</dd></dl></div><div class='xr-var-data'><pre>[1848993 values with dtype=uint32]</pre></div></li><li class='xr-var-item'><div class='xr-var-name'><span>ph_id_channel</span></div><div class='xr-var-dims'>(delta_time)</div><div class='xr-var-dtype'>uint8</div><div class='xr-var-preview xr-preview'>...</div><input id='attrs-ca777423-f7d7-4d75-8df4-ffdd0827ce94' class='xr-var-attrs-in' type='checkbox' ><label for='attrs-ca777423-f7d7-4d75-8df4-ffdd0827ce94' title='Show/Hide attributes'><svg class='icon xr-icon-file-text2'><use xlink:href='#icon-file-text2'></use></svg></label><input id='data-4018fa2d-5008-4ff6-b595-2725772d9fc4' class='xr-var-data-in' type='checkbox'><label for='data-4018fa2d-5008-4ff6-b595-2725772d9fc4' title='Show/Hide data repr'><svg class='icon xr-icon-database'><use xlink:href='#icon-database'></use></svg></label><div class='xr-var-attrs'><dl class='xr-attrs'><dt><span>long_name :</span></dt><dd>Receive channel id</dd><dt><span>units :</span></dt><dd>1</dd><dt><span>source :</span></dt><dd>Derived as part of Photon ID</dd><dt><span>valid_min :</span></dt><dd>1</dd><dt><span>valid_max :</span></dt><dd>120</dd><dt><span>contentType :</span></dt><dd>referenceInformation</dd><dt><span>description :</span></dt><dd>Channel number assigned for each received photon event. This is part of the photon ID. Values range from 1 to 120 to span all channels and rise/fall edges. Values 1 to 60 are for falling edge; PCE1 (1 to 20), PCE 2 (21 to 40) and PCE3 (41 to 60). Values 61 to 120 are for rising edge; PCE1 (61 to 80), PCE 2 (81 to 100) and PC3 (101 to 120).</dd></dl></div><div class='xr-var-data'><pre>[1848993 values with dtype=uint8]</pre></div></li><li class='xr-var-item'><div class='xr-var-name'><span>ph_id_count</span></div><div class='xr-var-dims'>(delta_time)</div><div class='xr-var-dtype'>uint8</div><div class='xr-var-preview xr-preview'>...</div><input id='attrs-f41a1958-ae0e-4ded-bf3d-a5b083da5f52' class='xr-var-attrs-in' type='checkbox' ><label for='attrs-f41a1958-ae0e-4ded-bf3d-a5b083da5f52' title='Show/Hide attributes'><svg class='icon xr-icon-file-text2'><use xlink:href='#icon-file-text2'></use></svg></label><input id='data-d01fbed3-8690-4386-b5fa-ec1fe43ff89e' class='xr-var-data-in' type='checkbox'><label for='data-d01fbed3-8690-4386-b5fa-ec1fe43ff89e' title='Show/Hide data repr'><svg class='icon xr-icon-database'><use xlink:href='#icon-database'></use></svg></label><div class='xr-var-attrs'><dl class='xr-attrs'><dt><span>long_name :</span></dt><dd>photon event counter</dd><dt><span>units :</span></dt><dd>counts</dd><dt><span>description :</span></dt><dd>The photon event counter is part of photon ID and counts from 1 for each channel until reset by laser pulse counter.</dd><dt><span>source :</span></dt><dd>Derived as part of Photon ID</dd><dt><span>contentType :</span></dt><dd>referenceInformation</dd></dl></div><div class='xr-var-data'><pre>[1848993 values with dtype=uint8]</pre></div></li><li class='xr-var-item'><div class='xr-var-name'><span>ph_id_pulse</span></div><div class='xr-var-dims'>(delta_time)</div><div class='xr-var-dtype'>uint8</div><div class='xr-var-preview xr-preview'>...</div><input id='attrs-acc18e98-9a44-4872-a808-bd106154a3dd' class='xr-var-attrs-in' type='checkbox' ><label for='attrs-acc18e98-9a44-4872-a808-bd106154a3dd' title='Show/Hide attributes'><svg class='icon xr-icon-file-text2'><use xlink:href='#icon-file-text2'></use></svg></label><input id='data-493e2c6a-a6a4-4b4e-9b9f-3df8a430b37d' class='xr-var-data-in' type='checkbox'><label for='data-493e2c6a-a6a4-4b4e-9b9f-3df8a430b37d' title='Show/Hide data repr'><svg class='icon xr-icon-database'><use xlink:href='#icon-database'></use></svg></label><div class='xr-var-attrs'><dl class='xr-attrs'><dt><span>long_name :</span></dt><dd>laser pulse counter</dd><dt><span>units :</span></dt><dd>counts</dd><dt><span>source :</span></dt><dd>Derived as part of Photon ID</dd><dt><span>contentType :</span></dt><dd>referenceInformation</dd><dt><span>description :</span></dt><dd>The laser pulse counter is part of photon ID and counts from 1 to 200 and is reset for each new major frame.</dd></dl></div><div class='xr-var-data'><pre>[1848993 values with dtype=uint8]</pre></div></li><li class='xr-var-item'><div class='xr-var-name'><span>quality_ph</span></div><div class='xr-var-dims'>(delta_time)</div><div class='xr-var-dtype'>int8</div><div class='xr-var-preview xr-preview'>...</div><input id='attrs-b732ada9-d7cf-4925-ad56-2ecca1010fb4' class='xr-var-attrs-in' type='checkbox' ><label for='attrs-b732ada9-d7cf-4925-ad56-2ecca1010fb4' title='Show/Hide attributes'><svg class='icon xr-icon-file-text2'><use xlink:href='#icon-file-text2'></use></svg></label><input id='data-b8ed06eb-678e-46cf-b039-1327597a8b8e' class='xr-var-data-in' type='checkbox'><label for='data-b8ed06eb-678e-46cf-b039-1327597a8b8e' title='Show/Hide data repr'><svg class='icon xr-icon-database'><use xlink:href='#icon-database'></use></svg></label><div class='xr-var-attrs'><dl class='xr-attrs'><dt><span>long_name :</span></dt><dd>Photon Quality</dd><dt><span>valid_max :</span></dt><dd>3</dd><dt><span>flag_meanings :</span></dt><dd>nominal possible_afterpulse possible_impulse_response_effect possible_tep</dd><dt><span>flag_values :</span></dt><dd>[0 1 2 3]</dd><dt><span>source :</span></dt><dd>ATL03 ATBD</dd><dt><span>units :</span></dt><dd>1</dd><dt><span>contentType :</span></dt><dd>qualityInformation</dd><dt><span>valid_min :</span></dt><dd>0</dd><dt><span>description :</span></dt><dd>Indicates the quality of the associated photon. 0=nominal, 1=possible_afterpulse, 2=possible_impulse_response_effect, 3=possible_tep. Use this flag in conjunction with signal_conf_ph to identify those photons that are likely noise or likely signal.</dd></dl></div><div class='xr-var-data'><pre>[1848993 values with dtype=int8]</pre></div></li><li class='xr-var-item'><div class='xr-var-name'><span>signal_conf_ph</span></div><div class='xr-var-dims'>(delta_time, ds_surf_type)</div><div class='xr-var-dtype'>int8</div><div class='xr-var-preview xr-preview'>...</div><input id='attrs-4b7fca19-798f-4ce1-886c-98757ae9ce9e' class='xr-var-attrs-in' type='checkbox' ><label for='attrs-4b7fca19-798f-4ce1-886c-98757ae9ce9e' title='Show/Hide attributes'><svg class='icon xr-icon-file-text2'><use xlink:href='#icon-file-text2'></use></svg></label><input id='data-5a7bdd61-8b3a-485c-a347-765f55cf32e5' class='xr-var-data-in' type='checkbox'><label for='data-5a7bdd61-8b3a-485c-a347-765f55cf32e5' title='Show/Hide data repr'><svg class='icon xr-icon-database'><use xlink:href='#icon-database'></use></svg></label><div class='xr-var-attrs'><dl class='xr-attrs'><dt><span>long_name :</span></dt><dd>Photon Signal Confidence</dd><dt><span>valid_max :</span></dt><dd>4</dd><dt><span>flag_meanings :</span></dt><dd>possible_tep not_considered noise buffer low medium high</dd><dt><span>flag_values :</span></dt><dd>[-2 -1  0  1  2  3  4]</dd><dt><span>source :</span></dt><dd>ATL03 ATBD, Section 5, Conf</dd><dt><span>units :</span></dt><dd>1</dd><dt><span>contentType :</span></dt><dd>qualityInformation</dd><dt><span>valid_min :</span></dt><dd>-2</dd><dt><span>description :</span></dt><dd>Confidence level associated with each photon event selected as signal. 0=noise. 1=added to allow for buffer but algorithm classifies as background; 2=low; 3=med; 4=high).  This parameter is a 5xN array where N is the number of photons in the granule, and the 5 rows indicate signal finding for each surface type (in order: land, ocean, sea ice, land ice and inland water). Events not associated with a specific surface type have a confidence level of -1. Events evaluated as TEP returns have a confidence level of -2.</dd></dl></div><div class='xr-var-data'><pre>[9244965 values with dtype=int8]</pre></div></li><li class='xr-var-item'><div class='xr-var-name'><span>weight_ph</span></div><div class='xr-var-dims'>(delta_time)</div><div class='xr-var-dtype'>uint8</div><div class='xr-var-preview xr-preview'>...</div><input id='attrs-c7ac6ae2-d351-4d19-9be2-f417f0781a5a' class='xr-var-attrs-in' type='checkbox' ><label for='attrs-c7ac6ae2-d351-4d19-9be2-f417f0781a5a' title='Show/Hide attributes'><svg class='icon xr-icon-file-text2'><use xlink:href='#icon-file-text2'></use></svg></label><input id='data-aefdb77b-0c70-44f7-bf07-1cae66306e1f' class='xr-var-data-in' type='checkbox'><label for='data-aefdb77b-0c70-44f7-bf07-1cae66306e1f' title='Show/Hide data repr'><svg class='icon xr-icon-database'><use xlink:href='#icon-database'></use></svg></label><div class='xr-var-attrs'><dl class='xr-attrs'><dt><span>long_name :</span></dt><dd>Photon weight</dd><dt><span>units :</span></dt><dd>1</dd><dt><span>source :</span></dt><dd>ATBD Section 5</dd><dt><span>valid_min :</span></dt><dd>0</dd><dt><span>valid_max :</span></dt><dd>255</dd><dt><span>contentType :</span></dt><dd>modelResult</dd><dt><span>description :</span></dt><dd>Computed weight of each photon. The weight is calculated by a windowed KNN algorithm using the distances between each photon and its K nearest neighbors. Values range from 0 to 255 where 255 is the most heavily weighted photon and would be considered likely signal.</dd></dl></div><div class='xr-var-data'><pre>[1848993 values with dtype=uint8]</pre></div></li></ul></div></li><li class='xr-section-item'><input id='section-141c0ebc-9a4f-4ee5-88b5-c5bcf7e32d0a' class='xr-section-summary-in' type='checkbox'  ><label for='section-141c0ebc-9a4f-4ee5-88b5-c5bcf7e32d0a' class='xr-section-summary' >Indexes: <span>(1)</span></label><div class='xr-section-inline-details'></div><div class='xr-section-details'><ul class='xr-var-list'><li class='xr-var-item'><div class='xr-index-name'><div>delta_time</div></div><div class='xr-index-preview'>PandasIndex</div><input type='checkbox' disabled/><label></label><input id='index-27db7f2b-6b62-4810-9461-eb3f15c2e569' class='xr-index-data-in' type='checkbox'/><label for='index-27db7f2b-6b62-4810-9461-eb3f15c2e569' title='Show/Hide index repr'><svg class='icon xr-icon-database'><use xlink:href='#icon-database'></use></svg></label><div class='xr-index-data'><pre>PandasIndex(DatetimeIndex([&#x27;2020-04-27 19:39:45.849764816&#x27;,\n",
       "               &#x27;2020-04-27 19:39:45.849764816&#x27;,\n",
       "               &#x27;2020-04-27 19:39:45.849764816&#x27;,\n",
       "               &#x27;2020-04-27 19:39:45.849864816&#x27;,\n",
       "               &#x27;2020-04-27 19:39:45.849864816&#x27;,\n",
       "               &#x27;2020-04-27 19:39:45.849864816&#x27;,\n",
       "               &#x27;2020-04-27 19:39:45.849864816&#x27;,\n",
       "               &#x27;2020-04-27 19:39:45.849964816&#x27;,\n",
       "               &#x27;2020-04-27 19:39:45.849964816&#x27;,\n",
       "               &#x27;2020-04-27 19:39:45.849964816&#x27;,\n",
       "               ...\n",
       "               &#x27;2020-04-27 19:40:01.537565200&#x27;,\n",
       "               &#x27;2020-04-27 19:40:01.537565200&#x27;,\n",
       "               &#x27;2020-04-27 19:40:01.537565200&#x27;,\n",
       "               &#x27;2020-04-27 19:40:01.537565200&#x27;,\n",
       "               &#x27;2020-04-27 19:40:01.537565200&#x27;,\n",
       "               &#x27;2020-04-27 19:40:01.537565200&#x27;,\n",
       "               &#x27;2020-04-27 19:40:01.537665200&#x27;,\n",
       "               &#x27;2020-04-27 19:40:01.537665200&#x27;,\n",
       "               &#x27;2020-04-27 19:40:01.537665200&#x27;,\n",
       "               &#x27;2020-04-27 19:40:01.537665200&#x27;],\n",
       "              dtype=&#x27;datetime64[ns]&#x27;, name=&#x27;delta_time&#x27;, length=1848993, freq=None))</pre></div></li></ul></div></li><li class='xr-section-item'><input id='section-2fea4d4c-c2c9-4312-b25e-934183101371' class='xr-section-summary-in' type='checkbox'  checked><label for='section-2fea4d4c-c2c9-4312-b25e-934183101371' class='xr-section-summary' >Attributes: <span>(2)</span></label><div class='xr-section-inline-details'></div><div class='xr-section-details'><dl class='xr-attrs'><dt><span>Description :</span></dt><dd>Contains arrays of the parameters for each received photon.</dd><dt><span>data_rate :</span></dt><dd>Data are stored at the photon detection rate.</dd></dl></div></li></ul></div></div>"
      ],
      "text/plain": [
       "<xarray.Dataset> Size: 92MB\n",
       "Dimensions:         (delta_time: 1848993, ds_surf_type: 5)\n",
       "Coordinates:\n",
       "  * delta_time      (delta_time) datetime64[ns] 15MB 2020-04-27T19:39:45.8497...\n",
       "    lat_ph          (delta_time) float64 15MB ...\n",
       "    lon_ph          (delta_time) float64 15MB ...\n",
       "Dimensions without coordinates: ds_surf_type\n",
       "Data variables:\n",
       "    dist_ph_across  (delta_time) float32 7MB ...\n",
       "    dist_ph_along   (delta_time) float32 7MB ...\n",
       "    h_ph            (delta_time) float32 7MB ...\n",
       "    pce_mframe_cnt  (delta_time) uint32 7MB ...\n",
       "    ph_id_channel   (delta_time) uint8 2MB ...\n",
       "    ph_id_count     (delta_time) uint8 2MB ...\n",
       "    ph_id_pulse     (delta_time) uint8 2MB ...\n",
       "    quality_ph      (delta_time) int8 2MB ...\n",
       "    signal_conf_ph  (delta_time, ds_surf_type) int8 9MB ...\n",
       "    weight_ph       (delta_time) uint8 2MB ...\n",
       "Attributes:\n",
       "    Description:  Contains arrays of the parameters for each received photon.\n",
       "    data_rate:    Data are stored at the photon detection rate."
      ]
     },
     "execution_count": 13,
     "metadata": {},
     "output_type": "execute_result"
    }
   ],
   "source": [
    "ds = xr.open_dataset(filelist[0], group=\"gt1l/heights\")\n",
    "ds"
   ]
  },
  {
   "cell_type": "markdown",
   "id": "690ed2a6-3307-414c-9f2f-0aa2716e2bb6",
   "metadata": {},
   "source": [
    "#### Direct S3 Access of Harmony Results\n",
    "\n",
    "If you are working in the AWS `us-west-2` region (the same region as NASA Earthdata Cloud) you can _stream_ the data using direct S3 access.\n",
    "\n",
    ":::{warning}\n",
    "You must be running this notebook in the AWS us-west-2 region to run the following code cells.\n",
    ":::\n",
    "\n"
   ]
  },
  {
   "cell_type": "markdown",
   "id": "75096fba-1367-4bd4-a45d-c19c8449662d",
   "metadata": {},
   "source": [
    "We need to get the url for the data in the S3 bucket.  We can do this using `result_urls`, as we did for `download` but we set `link_type=LinkType.s3` to specify we want the S3 url."
   ]
  },
  {
   "cell_type": "code",
   "execution_count": 14,
   "id": "a8d8a29d-91df-4872-9d9c-6a116bc92774",
   "metadata": {},
   "outputs": [
    {
     "data": {
      "text/plain": [
       "['s3://harmony-prod-staging/public/281fbbed-4c1b-4fc4-9f51-ebdf056f48bf/110261526/ATL03_20200427193622_04930702_006_02_subsetted.h5']"
      ]
     },
     "execution_count": 14,
     "metadata": {},
     "output_type": "execute_result"
    }
   ],
   "source": [
    "urls = list(harmony_client.result_urls(job_id, link_type=LinkType.s3))  # result_urls returns a generator possible issue to return list\n",
    "urls"
   ]
  },
  {
   "cell_type": "markdown",
   "id": "815db398-723b-4278-ae30-2ad5f9764912",
   "metadata": {},
   "source": [
    "We need AWS credentials to access the S3 bucket with the results.  These are returned using the `aws_credentials` method."
   ]
  },
  {
   "cell_type": "code",
   "execution_count": 15,
   "id": "d58df790-d40c-410c-a295-22d6d39dfd5b",
   "metadata": {},
   "outputs": [],
   "source": [
    "creds = harmony_client.aws_credentials()"
   ]
  },
  {
   "cell_type": "markdown",
   "id": "7d20cc12-b670-4091-9ae9-82fdbc2ded07",
   "metadata": {},
   "source": [
    "We then create a virtual file system that allows us to access the S3 bucket.  We pass the credentials to authenticate."
   ]
  },
  {
   "cell_type": "code",
   "execution_count": 16,
   "id": "73bc9a2d-b009-4cf9-8a47-531a308833b0",
   "metadata": {},
   "outputs": [],
   "source": [
    "s3_fs = s3fs.S3FileSystem(\n",
    "    key=creds['aws_access_key_id'],\n",
    "    secret=creds['aws_secret_access_key'],\n",
    "    token=creds['aws_session_token'],\n",
    "    client_kwargs={'region_name':'us-west-2'},\n",
    ")"
   ]
  },
  {
   "cell_type": "markdown",
   "id": "71e965bc-3950-47a9-ad8f-2e98c83a09c5",
   "metadata": {},
   "source": [
    "We then open the S3 url as a _file-like_ object.\n",
    "\n",
    ":::{note}\n",
    "A _file-like_ object is just what it sounds like, an _object_ - a collection of bytes in memory - that is recognized as a file by applications.\n",
    ":::"
   ]
  },
  {
   "cell_type": "code",
   "execution_count": 17,
   "id": "f29584a0-357a-4f1a-8a3b-ab72fc20d6e4",
   "metadata": {},
   "outputs": [],
   "source": [
    "f = [s3_fs.open(url, mode='rb') for url in urls]"
   ]
  },
  {
   "cell_type": "markdown",
   "id": "cb377464-7b37-495c-bb0e-7c00af35ae51",
   "metadata": {},
   "source": [
    "We can then open one of the files using `xarray`. "
   ]
  },
  {
   "cell_type": "code",
   "execution_count": 18,
   "id": "8860630c-2050-4256-88c2-f1879456a9a1",
   "metadata": {},
   "outputs": [
    {
     "data": {
      "text/html": [
       "<div><svg style=\"position: absolute; width: 0; height: 0; overflow: hidden\">\n",
       "<defs>\n",
       "<symbol id=\"icon-database\" viewBox=\"0 0 32 32\">\n",
       "<path d=\"M16 0c-8.837 0-16 2.239-16 5v4c0 2.761 7.163 5 16 5s16-2.239 16-5v-4c0-2.761-7.163-5-16-5z\"></path>\n",
       "<path d=\"M16 17c-8.837 0-16-2.239-16-5v6c0 2.761 7.163 5 16 5s16-2.239 16-5v-6c0 2.761-7.163 5-16 5z\"></path>\n",
       "<path d=\"M16 26c-8.837 0-16-2.239-16-5v6c0 2.761 7.163 5 16 5s16-2.239 16-5v-6c0 2.761-7.163 5-16 5z\"></path>\n",
       "</symbol>\n",
       "<symbol id=\"icon-file-text2\" viewBox=\"0 0 32 32\">\n",
       "<path d=\"M28.681 7.159c-0.694-0.947-1.662-2.053-2.724-3.116s-2.169-2.030-3.116-2.724c-1.612-1.182-2.393-1.319-2.841-1.319h-15.5c-1.378 0-2.5 1.121-2.5 2.5v27c0 1.378 1.122 2.5 2.5 2.5h23c1.378 0 2.5-1.122 2.5-2.5v-19.5c0-0.448-0.137-1.23-1.319-2.841zM24.543 5.457c0.959 0.959 1.712 1.825 2.268 2.543h-4.811v-4.811c0.718 0.556 1.584 1.309 2.543 2.268zM28 29.5c0 0.271-0.229 0.5-0.5 0.5h-23c-0.271 0-0.5-0.229-0.5-0.5v-27c0-0.271 0.229-0.5 0.5-0.5 0 0 15.499-0 15.5 0v7c0 0.552 0.448 1 1 1h7v19.5z\"></path>\n",
       "<path d=\"M23 26h-14c-0.552 0-1-0.448-1-1s0.448-1 1-1h14c0.552 0 1 0.448 1 1s-0.448 1-1 1z\"></path>\n",
       "<path d=\"M23 22h-14c-0.552 0-1-0.448-1-1s0.448-1 1-1h14c0.552 0 1 0.448 1 1s-0.448 1-1 1z\"></path>\n",
       "<path d=\"M23 18h-14c-0.552 0-1-0.448-1-1s0.448-1 1-1h14c0.552 0 1 0.448 1 1s-0.448 1-1 1z\"></path>\n",
       "</symbol>\n",
       "</defs>\n",
       "</svg>\n",
       "<style>/* CSS stylesheet for displaying xarray objects in jupyterlab.\n",
       " *\n",
       " */\n",
       "\n",
       ":root {\n",
       "  --xr-font-color0: var(\n",
       "    --jp-content-font-color0,\n",
       "    var(--pst-color-text-base rgba(0, 0, 0, 1))\n",
       "  );\n",
       "  --xr-font-color2: var(\n",
       "    --jp-content-font-color2,\n",
       "    var(--pst-color-text-base, rgba(0, 0, 0, 0.54))\n",
       "  );\n",
       "  --xr-font-color3: var(\n",
       "    --jp-content-font-color3,\n",
       "    var(--pst-color-text-base, rgba(0, 0, 0, 0.38))\n",
       "  );\n",
       "  --xr-border-color: var(\n",
       "    --jp-border-color2,\n",
       "    hsl(from var(--pst-color-on-background, white) h s calc(l - 10))\n",
       "  );\n",
       "  --xr-disabled-color: var(\n",
       "    --jp-layout-color3,\n",
       "    hsl(from var(--pst-color-on-background, white) h s calc(l - 40))\n",
       "  );\n",
       "  --xr-background-color: var(\n",
       "    --jp-layout-color0,\n",
       "    var(--pst-color-on-background, white)\n",
       "  );\n",
       "  --xr-background-color-row-even: var(\n",
       "    --jp-layout-color1,\n",
       "    hsl(from var(--pst-color-on-background, white) h s calc(l - 5))\n",
       "  );\n",
       "  --xr-background-color-row-odd: var(\n",
       "    --jp-layout-color2,\n",
       "    hsl(from var(--pst-color-on-background, white) h s calc(l - 15))\n",
       "  );\n",
       "}\n",
       "\n",
       "html[theme=\"dark\"],\n",
       "html[data-theme=\"dark\"],\n",
       "body[data-theme=\"dark\"],\n",
       "body.vscode-dark {\n",
       "  --xr-font-color0: var(\n",
       "    --jp-content-font-color0,\n",
       "    var(--pst-color-text-base, rgba(255, 255, 255, 1))\n",
       "  );\n",
       "  --xr-font-color2: var(\n",
       "    --jp-content-font-color2,\n",
       "    var(--pst-color-text-base, rgba(255, 255, 255, 0.54))\n",
       "  );\n",
       "  --xr-font-color3: var(\n",
       "    --jp-content-font-color3,\n",
       "    var(--pst-color-text-base, rgba(255, 255, 255, 0.38))\n",
       "  );\n",
       "  --xr-border-color: var(\n",
       "    --jp-border-color2,\n",
       "    hsl(from var(--pst-color-on-background, #111111) h s calc(l + 10))\n",
       "  );\n",
       "  --xr-disabled-color: var(\n",
       "    --jp-layout-color3,\n",
       "    hsl(from var(--pst-color-on-background, #111111) h s calc(l + 40))\n",
       "  );\n",
       "  --xr-background-color: var(\n",
       "    --jp-layout-color0,\n",
       "    var(--pst-color-on-background, #111111)\n",
       "  );\n",
       "  --xr-background-color-row-even: var(\n",
       "    --jp-layout-color1,\n",
       "    hsl(from var(--pst-color-on-background, #111111) h s calc(l + 5))\n",
       "  );\n",
       "  --xr-background-color-row-odd: var(\n",
       "    --jp-layout-color2,\n",
       "    hsl(from var(--pst-color-on-background, #111111) h s calc(l + 15))\n",
       "  );\n",
       "}\n",
       "\n",
       ".xr-wrap {\n",
       "  display: block !important;\n",
       "  min-width: 300px;\n",
       "  max-width: 700px;\n",
       "}\n",
       "\n",
       ".xr-text-repr-fallback {\n",
       "  /* fallback to plain text repr when CSS is not injected (untrusted notebook) */\n",
       "  display: none;\n",
       "}\n",
       "\n",
       ".xr-header {\n",
       "  padding-top: 6px;\n",
       "  padding-bottom: 6px;\n",
       "  margin-bottom: 4px;\n",
       "  border-bottom: solid 1px var(--xr-border-color);\n",
       "}\n",
       "\n",
       ".xr-header > div,\n",
       ".xr-header > ul {\n",
       "  display: inline;\n",
       "  margin-top: 0;\n",
       "  margin-bottom: 0;\n",
       "}\n",
       "\n",
       ".xr-obj-type,\n",
       ".xr-array-name {\n",
       "  margin-left: 2px;\n",
       "  margin-right: 10px;\n",
       "}\n",
       "\n",
       ".xr-obj-type {\n",
       "  color: var(--xr-font-color2);\n",
       "}\n",
       "\n",
       ".xr-sections {\n",
       "  padding-left: 0 !important;\n",
       "  display: grid;\n",
       "  grid-template-columns: 150px auto auto 1fr 0 20px 0 20px;\n",
       "}\n",
       "\n",
       ".xr-section-item {\n",
       "  display: contents;\n",
       "}\n",
       "\n",
       ".xr-section-item input {\n",
       "  display: inline-block;\n",
       "  opacity: 0;\n",
       "  height: 0;\n",
       "}\n",
       "\n",
       ".xr-section-item input + label {\n",
       "  color: var(--xr-disabled-color);\n",
       "  border: 2px solid transparent !important;\n",
       "}\n",
       "\n",
       ".xr-section-item input:enabled + label {\n",
       "  cursor: pointer;\n",
       "  color: var(--xr-font-color2);\n",
       "}\n",
       "\n",
       ".xr-section-item input:focus + label {\n",
       "  border: 2px solid var(--xr-font-color0) !important;\n",
       "}\n",
       "\n",
       ".xr-section-item input:enabled + label:hover {\n",
       "  color: var(--xr-font-color0);\n",
       "}\n",
       "\n",
       ".xr-section-summary {\n",
       "  grid-column: 1;\n",
       "  color: var(--xr-font-color2);\n",
       "  font-weight: 500;\n",
       "}\n",
       "\n",
       ".xr-section-summary > span {\n",
       "  display: inline-block;\n",
       "  padding-left: 0.5em;\n",
       "}\n",
       "\n",
       ".xr-section-summary-in:disabled + label {\n",
       "  color: var(--xr-font-color2);\n",
       "}\n",
       "\n",
       ".xr-section-summary-in + label:before {\n",
       "  display: inline-block;\n",
       "  content: \"►\";\n",
       "  font-size: 11px;\n",
       "  width: 15px;\n",
       "  text-align: center;\n",
       "}\n",
       "\n",
       ".xr-section-summary-in:disabled + label:before {\n",
       "  color: var(--xr-disabled-color);\n",
       "}\n",
       "\n",
       ".xr-section-summary-in:checked + label:before {\n",
       "  content: \"▼\";\n",
       "}\n",
       "\n",
       ".xr-section-summary-in:checked + label > span {\n",
       "  display: none;\n",
       "}\n",
       "\n",
       ".xr-section-summary,\n",
       ".xr-section-inline-details {\n",
       "  padding-top: 4px;\n",
       "  padding-bottom: 4px;\n",
       "}\n",
       "\n",
       ".xr-section-inline-details {\n",
       "  grid-column: 2 / -1;\n",
       "}\n",
       "\n",
       ".xr-section-details {\n",
       "  display: none;\n",
       "  grid-column: 1 / -1;\n",
       "  margin-bottom: 5px;\n",
       "}\n",
       "\n",
       ".xr-section-summary-in:checked ~ .xr-section-details {\n",
       "  display: contents;\n",
       "}\n",
       "\n",
       ".xr-array-wrap {\n",
       "  grid-column: 1 / -1;\n",
       "  display: grid;\n",
       "  grid-template-columns: 20px auto;\n",
       "}\n",
       "\n",
       ".xr-array-wrap > label {\n",
       "  grid-column: 1;\n",
       "  vertical-align: top;\n",
       "}\n",
       "\n",
       ".xr-preview {\n",
       "  color: var(--xr-font-color3);\n",
       "}\n",
       "\n",
       ".xr-array-preview,\n",
       ".xr-array-data {\n",
       "  padding: 0 5px !important;\n",
       "  grid-column: 2;\n",
       "}\n",
       "\n",
       ".xr-array-data,\n",
       ".xr-array-in:checked ~ .xr-array-preview {\n",
       "  display: none;\n",
       "}\n",
       "\n",
       ".xr-array-in:checked ~ .xr-array-data,\n",
       ".xr-array-preview {\n",
       "  display: inline-block;\n",
       "}\n",
       "\n",
       ".xr-dim-list {\n",
       "  display: inline-block !important;\n",
       "  list-style: none;\n",
       "  padding: 0 !important;\n",
       "  margin: 0;\n",
       "}\n",
       "\n",
       ".xr-dim-list li {\n",
       "  display: inline-block;\n",
       "  padding: 0;\n",
       "  margin: 0;\n",
       "}\n",
       "\n",
       ".xr-dim-list:before {\n",
       "  content: \"(\";\n",
       "}\n",
       "\n",
       ".xr-dim-list:after {\n",
       "  content: \")\";\n",
       "}\n",
       "\n",
       ".xr-dim-list li:not(:last-child):after {\n",
       "  content: \",\";\n",
       "  padding-right: 5px;\n",
       "}\n",
       "\n",
       ".xr-has-index {\n",
       "  font-weight: bold;\n",
       "}\n",
       "\n",
       ".xr-var-list,\n",
       ".xr-var-item {\n",
       "  display: contents;\n",
       "}\n",
       "\n",
       ".xr-var-item > div,\n",
       ".xr-var-item label,\n",
       ".xr-var-item > .xr-var-name span {\n",
       "  background-color: var(--xr-background-color-row-even);\n",
       "  border-color: var(--xr-background-color-row-odd);\n",
       "  margin-bottom: 0;\n",
       "  padding-top: 2px;\n",
       "}\n",
       "\n",
       ".xr-var-item > .xr-var-name:hover span {\n",
       "  padding-right: 5px;\n",
       "}\n",
       "\n",
       ".xr-var-list > li:nth-child(odd) > div,\n",
       ".xr-var-list > li:nth-child(odd) > label,\n",
       ".xr-var-list > li:nth-child(odd) > .xr-var-name span {\n",
       "  background-color: var(--xr-background-color-row-odd);\n",
       "  border-color: var(--xr-background-color-row-even);\n",
       "}\n",
       "\n",
       ".xr-var-name {\n",
       "  grid-column: 1;\n",
       "}\n",
       "\n",
       ".xr-var-dims {\n",
       "  grid-column: 2;\n",
       "}\n",
       "\n",
       ".xr-var-dtype {\n",
       "  grid-column: 3;\n",
       "  text-align: right;\n",
       "  color: var(--xr-font-color2);\n",
       "}\n",
       "\n",
       ".xr-var-preview {\n",
       "  grid-column: 4;\n",
       "}\n",
       "\n",
       ".xr-index-preview {\n",
       "  grid-column: 2 / 5;\n",
       "  color: var(--xr-font-color2);\n",
       "}\n",
       "\n",
       ".xr-var-name,\n",
       ".xr-var-dims,\n",
       ".xr-var-dtype,\n",
       ".xr-preview,\n",
       ".xr-attrs dt {\n",
       "  white-space: nowrap;\n",
       "  overflow: hidden;\n",
       "  text-overflow: ellipsis;\n",
       "  padding-right: 10px;\n",
       "}\n",
       "\n",
       ".xr-var-name:hover,\n",
       ".xr-var-dims:hover,\n",
       ".xr-var-dtype:hover,\n",
       ".xr-attrs dt:hover {\n",
       "  overflow: visible;\n",
       "  width: auto;\n",
       "  z-index: 1;\n",
       "}\n",
       "\n",
       ".xr-var-attrs,\n",
       ".xr-var-data,\n",
       ".xr-index-data {\n",
       "  display: none;\n",
       "  border-top: 2px dotted var(--xr-background-color);\n",
       "  padding-bottom: 20px !important;\n",
       "  padding-top: 10px !important;\n",
       "}\n",
       "\n",
       ".xr-var-attrs-in + label,\n",
       ".xr-var-data-in + label,\n",
       ".xr-index-data-in + label {\n",
       "  padding: 0 1px;\n",
       "}\n",
       "\n",
       ".xr-var-attrs-in:checked ~ .xr-var-attrs,\n",
       ".xr-var-data-in:checked ~ .xr-var-data,\n",
       ".xr-index-data-in:checked ~ .xr-index-data {\n",
       "  display: block;\n",
       "}\n",
       "\n",
       ".xr-var-data > table {\n",
       "  float: right;\n",
       "}\n",
       "\n",
       ".xr-var-data > pre,\n",
       ".xr-index-data > pre,\n",
       ".xr-var-data > table > tbody > tr {\n",
       "  background-color: transparent !important;\n",
       "}\n",
       "\n",
       ".xr-var-name span,\n",
       ".xr-var-data,\n",
       ".xr-index-name div,\n",
       ".xr-index-data,\n",
       ".xr-attrs {\n",
       "  padding-left: 25px !important;\n",
       "}\n",
       "\n",
       ".xr-attrs,\n",
       ".xr-var-attrs,\n",
       ".xr-var-data,\n",
       ".xr-index-data {\n",
       "  grid-column: 1 / -1;\n",
       "}\n",
       "\n",
       "dl.xr-attrs {\n",
       "  padding: 0;\n",
       "  margin: 0;\n",
       "  display: grid;\n",
       "  grid-template-columns: 125px auto;\n",
       "}\n",
       "\n",
       ".xr-attrs dt,\n",
       ".xr-attrs dd {\n",
       "  padding: 0;\n",
       "  margin: 0;\n",
       "  float: left;\n",
       "  padding-right: 10px;\n",
       "  width: auto;\n",
       "}\n",
       "\n",
       ".xr-attrs dt {\n",
       "  font-weight: normal;\n",
       "  grid-column: 1;\n",
       "}\n",
       "\n",
       ".xr-attrs dt:hover span {\n",
       "  display: inline-block;\n",
       "  background: var(--xr-background-color);\n",
       "  padding-right: 10px;\n",
       "}\n",
       "\n",
       ".xr-attrs dd {\n",
       "  grid-column: 2;\n",
       "  white-space: pre-wrap;\n",
       "  word-break: break-all;\n",
       "}\n",
       "\n",
       ".xr-icon-database,\n",
       ".xr-icon-file-text2,\n",
       ".xr-no-icon {\n",
       "  display: inline-block;\n",
       "  vertical-align: middle;\n",
       "  width: 1em;\n",
       "  height: 1.5em !important;\n",
       "  stroke-width: 0;\n",
       "  stroke: currentColor;\n",
       "  fill: currentColor;\n",
       "}\n",
       "\n",
       ".xr-var-attrs-in:checked + label > .xr-icon-file-text2,\n",
       ".xr-var-data-in:checked + label > .xr-icon-database,\n",
       ".xr-index-data-in:checked + label > .xr-icon-database {\n",
       "  color: var(--xr-font-color0);\n",
       "  filter: drop-shadow(1px 1px 5px var(--xr-font-color2));\n",
       "  stroke-width: 0.8px;\n",
       "}\n",
       "</style><pre class='xr-text-repr-fallback'>&lt;xarray.Dataset&gt; Size: 92MB\n",
       "Dimensions:         (delta_time: 1848993, ds_surf_type: 5)\n",
       "Coordinates:\n",
       "  * delta_time      (delta_time) datetime64[ns] 15MB 2020-04-27T19:39:45.8497...\n",
       "    lat_ph          (delta_time) float64 15MB ...\n",
       "    lon_ph          (delta_time) float64 15MB ...\n",
       "Dimensions without coordinates: ds_surf_type\n",
       "Data variables:\n",
       "    dist_ph_across  (delta_time) float32 7MB ...\n",
       "    dist_ph_along   (delta_time) float32 7MB ...\n",
       "    h_ph            (delta_time) float32 7MB ...\n",
       "    pce_mframe_cnt  (delta_time) uint32 7MB ...\n",
       "    ph_id_channel   (delta_time) uint8 2MB ...\n",
       "    ph_id_count     (delta_time) uint8 2MB ...\n",
       "    ph_id_pulse     (delta_time) uint8 2MB ...\n",
       "    quality_ph      (delta_time) int8 2MB ...\n",
       "    signal_conf_ph  (delta_time, ds_surf_type) int8 9MB ...\n",
       "    weight_ph       (delta_time) uint8 2MB ...\n",
       "Attributes:\n",
       "    Description:  Contains arrays of the parameters for each received photon.\n",
       "    data_rate:    Data are stored at the photon detection rate.</pre><div class='xr-wrap' style='display:none'><div class='xr-header'><div class='xr-obj-type'>xarray.Dataset</div></div><ul class='xr-sections'><li class='xr-section-item'><input id='section-9860820d-0d1c-45c7-8557-7718f7e14374' class='xr-section-summary-in' type='checkbox' disabled ><label for='section-9860820d-0d1c-45c7-8557-7718f7e14374' class='xr-section-summary'  title='Expand/collapse section'>Dimensions:</label><div class='xr-section-inline-details'><ul class='xr-dim-list'><li><span class='xr-has-index'>delta_time</span>: 1848993</li><li><span>ds_surf_type</span>: 5</li></ul></div><div class='xr-section-details'></div></li><li class='xr-section-item'><input id='section-1a794e6e-a9f5-4241-a92a-7ae23e9ac759' class='xr-section-summary-in' type='checkbox'  checked><label for='section-1a794e6e-a9f5-4241-a92a-7ae23e9ac759' class='xr-section-summary' >Coordinates: <span>(3)</span></label><div class='xr-section-inline-details'></div><div class='xr-section-details'><ul class='xr-var-list'><li class='xr-var-item'><div class='xr-var-name'><span class='xr-has-index'>delta_time</span></div><div class='xr-var-dims'>(delta_time)</div><div class='xr-var-dtype'>datetime64[ns]</div><div class='xr-var-preview xr-preview'>2020-04-27T19:39:45.849764816 .....</div><input id='attrs-b80fd1fc-f4e6-44a4-8d95-c45ad868fe94' class='xr-var-attrs-in' type='checkbox' ><label for='attrs-b80fd1fc-f4e6-44a4-8d95-c45ad868fe94' title='Show/Hide attributes'><svg class='icon xr-icon-file-text2'><use xlink:href='#icon-file-text2'></use></svg></label><input id='data-6461eccf-3c17-4615-9e69-4a08b072919b' class='xr-var-data-in' type='checkbox'><label for='data-6461eccf-3c17-4615-9e69-4a08b072919b' title='Show/Hide data repr'><svg class='icon xr-icon-database'><use xlink:href='#icon-database'></use></svg></label><div class='xr-var-attrs'><dl class='xr-attrs'><dt><span>contentType :</span></dt><dd>referenceInformation</dd><dt><span>description :</span></dt><dd>The transmit time of a given photon, measured in seconds from the ATLAS Standard Data Product Epoch. Note that multiple received photons associated with a single transmit pulse will have the same delta_time. The ATLAS Standard Data Products (SDP) epoch offset is defined within /ancillary_data/atlas_sdp_gps_epoch as the number of GPS seconds between the GPS epoch (1980-01-06T00:00:00.000000Z UTC) and the ATLAS SDP epoch. By adding the offset contained within atlas_sdp_gps_epoch to delta time parameters, the time in gps_seconds relative to the GPS epoch can be computed.</dd><dt><span>long_name :</span></dt><dd>Elapsed GPS seconds</dd><dt><span>source :</span></dt><dd>Operations</dd><dt><span>standard_name :</span></dt><dd>time</dd></dl></div><div class='xr-var-data'><pre>array([&#x27;2020-04-27T19:39:45.849764816&#x27;, &#x27;2020-04-27T19:39:45.849764816&#x27;,\n",
       "       &#x27;2020-04-27T19:39:45.849764816&#x27;, ..., &#x27;2020-04-27T19:40:01.537665200&#x27;,\n",
       "       &#x27;2020-04-27T19:40:01.537665200&#x27;, &#x27;2020-04-27T19:40:01.537665200&#x27;],\n",
       "      shape=(1848993,), dtype=&#x27;datetime64[ns]&#x27;)</pre></div></li><li class='xr-var-item'><div class='xr-var-name'><span>lat_ph</span></div><div class='xr-var-dims'>(delta_time)</div><div class='xr-var-dtype'>float64</div><div class='xr-var-preview xr-preview'>...</div><input id='attrs-30a6ce8f-884c-4442-a1fb-44ffdbd9554c' class='xr-var-attrs-in' type='checkbox' ><label for='attrs-30a6ce8f-884c-4442-a1fb-44ffdbd9554c' title='Show/Hide attributes'><svg class='icon xr-icon-file-text2'><use xlink:href='#icon-file-text2'></use></svg></label><input id='data-8f02007d-7158-4155-a1b8-ff3168d091a3' class='xr-var-data-in' type='checkbox'><label for='data-8f02007d-7158-4155-a1b8-ff3168d091a3' title='Show/Hide data repr'><svg class='icon xr-icon-database'><use xlink:href='#icon-database'></use></svg></label><div class='xr-var-attrs'><dl class='xr-attrs'><dt><span>contentType :</span></dt><dd>modelResult</dd><dt><span>description :</span></dt><dd>Latitude of each received photon. Computed from the ECF Cartesian coordinates of the bounce point.</dd><dt><span>long_name :</span></dt><dd>Latitude</dd><dt><span>source :</span></dt><dd>ATL03g ATBD, Section 3.4</dd><dt><span>standard_name :</span></dt><dd>latitude</dd><dt><span>units :</span></dt><dd>degrees_north</dd><dt><span>valid_max :</span></dt><dd>90.0</dd><dt><span>valid_min :</span></dt><dd>-90.0</dd></dl></div><div class='xr-var-data'><pre>[1848993 values with dtype=float64]</pre></div></li><li class='xr-var-item'><div class='xr-var-name'><span>lon_ph</span></div><div class='xr-var-dims'>(delta_time)</div><div class='xr-var-dtype'>float64</div><div class='xr-var-preview xr-preview'>...</div><input id='attrs-bef9e9a9-67a6-40fd-836c-398d690f0890' class='xr-var-attrs-in' type='checkbox' ><label for='attrs-bef9e9a9-67a6-40fd-836c-398d690f0890' title='Show/Hide attributes'><svg class='icon xr-icon-file-text2'><use xlink:href='#icon-file-text2'></use></svg></label><input id='data-6389543a-b7de-478f-8e3d-0d662ec0ded8' class='xr-var-data-in' type='checkbox'><label for='data-6389543a-b7de-478f-8e3d-0d662ec0ded8' title='Show/Hide data repr'><svg class='icon xr-icon-database'><use xlink:href='#icon-database'></use></svg></label><div class='xr-var-attrs'><dl class='xr-attrs'><dt><span>contentType :</span></dt><dd>modelResult</dd><dt><span>description :</span></dt><dd>Longitude of each received photon. Computed from the ECF Cartesian coordinates of the bounce point.</dd><dt><span>long_name :</span></dt><dd>Longitude</dd><dt><span>source :</span></dt><dd>ATL03g ATBD, Section 3.4</dd><dt><span>standard_name :</span></dt><dd>longitude</dd><dt><span>units :</span></dt><dd>degrees_east</dd><dt><span>valid_max :</span></dt><dd>180.0</dd><dt><span>valid_min :</span></dt><dd>-180.0</dd></dl></div><div class='xr-var-data'><pre>[1848993 values with dtype=float64]</pre></div></li></ul></div></li><li class='xr-section-item'><input id='section-c2b00954-ef80-4684-9ed1-89511f5ce901' class='xr-section-summary-in' type='checkbox'  checked><label for='section-c2b00954-ef80-4684-9ed1-89511f5ce901' class='xr-section-summary' >Data variables: <span>(10)</span></label><div class='xr-section-inline-details'></div><div class='xr-section-details'><ul class='xr-var-list'><li class='xr-var-item'><div class='xr-var-name'><span>dist_ph_across</span></div><div class='xr-var-dims'>(delta_time)</div><div class='xr-var-dtype'>float32</div><div class='xr-var-preview xr-preview'>...</div><input id='attrs-098083ac-f988-4979-b2e4-a5627fbc6577' class='xr-var-attrs-in' type='checkbox' ><label for='attrs-098083ac-f988-4979-b2e4-a5627fbc6577' title='Show/Hide attributes'><svg class='icon xr-icon-file-text2'><use xlink:href='#icon-file-text2'></use></svg></label><input id='data-b0c05bb1-d0eb-49f9-a3ba-b2b060ef563a' class='xr-var-data-in' type='checkbox'><label for='data-b0c05bb1-d0eb-49f9-a3ba-b2b060ef563a' title='Show/Hide data repr'><svg class='icon xr-icon-database'><use xlink:href='#icon-database'></use></svg></label><div class='xr-var-attrs'><dl class='xr-attrs'><dt><span>contentType :</span></dt><dd>modelResult</dd><dt><span>description :</span></dt><dd>Across-track distance projected to the ellipsoid of the received photon from the reference ground track.  This is based on the Along-Track Segment algorithm described in Section 3.1.</dd><dt><span>long_name :</span></dt><dd>Distance off RGT.</dd><dt><span>source :</span></dt><dd>ATL03 ATBD, Section 3.1</dd><dt><span>units :</span></dt><dd>meters</dd></dl></div><div class='xr-var-data'><pre>[1848993 values with dtype=float32]</pre></div></li><li class='xr-var-item'><div class='xr-var-name'><span>dist_ph_along</span></div><div class='xr-var-dims'>(delta_time)</div><div class='xr-var-dtype'>float32</div><div class='xr-var-preview xr-preview'>...</div><input id='attrs-ac5ba1cf-92de-4a3f-9c11-9331deb6e8cf' class='xr-var-attrs-in' type='checkbox' ><label for='attrs-ac5ba1cf-92de-4a3f-9c11-9331deb6e8cf' title='Show/Hide attributes'><svg class='icon xr-icon-file-text2'><use xlink:href='#icon-file-text2'></use></svg></label><input id='data-9d59176b-7c0e-45f6-91f5-be901090c140' class='xr-var-data-in' type='checkbox'><label for='data-9d59176b-7c0e-45f6-91f5-be901090c140' title='Show/Hide data repr'><svg class='icon xr-icon-database'><use xlink:href='#icon-database'></use></svg></label><div class='xr-var-attrs'><dl class='xr-attrs'><dt><span>contentType :</span></dt><dd>modelResult</dd><dt><span>description :</span></dt><dd>Along-track distance in a segment projected to the ellipsoid of the received photon, based on the Along-Track Segment algorithm.  Total along track distance can be found by adding this value to the sum of segment lengths measured from the start of the most recent reference groundtrack.</dd><dt><span>long_name :</span></dt><dd>Distance from equator crossing.</dd><dt><span>source :</span></dt><dd>ATL03 ATBD, Section 3.1</dd><dt><span>units :</span></dt><dd>meters</dd></dl></div><div class='xr-var-data'><pre>[1848993 values with dtype=float32]</pre></div></li><li class='xr-var-item'><div class='xr-var-name'><span>h_ph</span></div><div class='xr-var-dims'>(delta_time)</div><div class='xr-var-dtype'>float32</div><div class='xr-var-preview xr-preview'>...</div><input id='attrs-9480ebde-e38b-463c-b59b-3902835ce79b' class='xr-var-attrs-in' type='checkbox' ><label for='attrs-9480ebde-e38b-463c-b59b-3902835ce79b' title='Show/Hide attributes'><svg class='icon xr-icon-file-text2'><use xlink:href='#icon-file-text2'></use></svg></label><input id='data-2032bee1-72ec-40ae-8515-a4de3c27bddd' class='xr-var-data-in' type='checkbox'><label for='data-2032bee1-72ec-40ae-8515-a4de3c27bddd' title='Show/Hide data repr'><svg class='icon xr-icon-database'><use xlink:href='#icon-database'></use></svg></label><div class='xr-var-attrs'><dl class='xr-attrs'><dt><span>contentType :</span></dt><dd>physicalMeasurement</dd><dt><span>description :</span></dt><dd>Height of each received photon, relative to the WGS-84 ellipsoid including the geophysical corrections noted in Section 6. Please note that neither the geoid, ocean tide nor the dynamic atmosphere (DAC) corrections are applied to the ellipsoidal heights.</dd><dt><span>long_name :</span></dt><dd>Photon WGS84 Height</dd><dt><span>source :</span></dt><dd>ATL03g ATBD, Section 3.4</dd><dt><span>standard_name :</span></dt><dd>height</dd><dt><span>units :</span></dt><dd>meters</dd></dl></div><div class='xr-var-data'><pre>[1848993 values with dtype=float32]</pre></div></li><li class='xr-var-item'><div class='xr-var-name'><span>pce_mframe_cnt</span></div><div class='xr-var-dims'>(delta_time)</div><div class='xr-var-dtype'>uint32</div><div class='xr-var-preview xr-preview'>...</div><input id='attrs-09d0f8b4-5861-4ecf-9ebb-7f02d6d3dec2' class='xr-var-attrs-in' type='checkbox' ><label for='attrs-09d0f8b4-5861-4ecf-9ebb-7f02d6d3dec2' title='Show/Hide attributes'><svg class='icon xr-icon-file-text2'><use xlink:href='#icon-file-text2'></use></svg></label><input id='data-00aeaaa0-264c-4bdb-bee3-11b7b8d13b15' class='xr-var-data-in' type='checkbox'><label for='data-00aeaaa0-264c-4bdb-bee3-11b7b8d13b15' title='Show/Hide data repr'><svg class='icon xr-icon-database'><use xlink:href='#icon-database'></use></svg></label><div class='xr-var-attrs'><dl class='xr-attrs'><dt><span>contentType :</span></dt><dd>referenceInformation</dd><dt><span>description :</span></dt><dd>The major frame counter is read from the digital flow controller in a given PCE card.  The counter identifies individual major frames across diag and science packets. Used as part of the photon ID.</dd><dt><span>long_name :</span></dt><dd>PCE Major frame counter</dd><dt><span>source :</span></dt><dd>Retained from prior a_alt_science_ph packet</dd><dt><span>units :</span></dt><dd>counts</dd></dl></div><div class='xr-var-data'><pre>[1848993 values with dtype=uint32]</pre></div></li><li class='xr-var-item'><div class='xr-var-name'><span>ph_id_channel</span></div><div class='xr-var-dims'>(delta_time)</div><div class='xr-var-dtype'>uint8</div><div class='xr-var-preview xr-preview'>...</div><input id='attrs-ba135ca9-1f91-4974-bcb9-168cf4bb7501' class='xr-var-attrs-in' type='checkbox' ><label for='attrs-ba135ca9-1f91-4974-bcb9-168cf4bb7501' title='Show/Hide attributes'><svg class='icon xr-icon-file-text2'><use xlink:href='#icon-file-text2'></use></svg></label><input id='data-6b804ec3-872c-4d20-a125-865834e8ee8c' class='xr-var-data-in' type='checkbox'><label for='data-6b804ec3-872c-4d20-a125-865834e8ee8c' title='Show/Hide data repr'><svg class='icon xr-icon-database'><use xlink:href='#icon-database'></use></svg></label><div class='xr-var-attrs'><dl class='xr-attrs'><dt><span>contentType :</span></dt><dd>referenceInformation</dd><dt><span>description :</span></dt><dd>Channel number assigned for each received photon event. This is part of the photon ID. Values range from 1 to 120 to span all channels and rise/fall edges. Values 1 to 60 are for falling edge; PCE1 (1 to 20), PCE 2 (21 to 40) and PCE3 (41 to 60). Values 61 to 120 are for rising edge; PCE1 (61 to 80), PCE 2 (81 to 100) and PC3 (101 to 120).</dd><dt><span>long_name :</span></dt><dd>Receive channel id</dd><dt><span>source :</span></dt><dd>Derived as part of Photon ID</dd><dt><span>units :</span></dt><dd>1</dd><dt><span>valid_max :</span></dt><dd>120</dd><dt><span>valid_min :</span></dt><dd>1</dd></dl></div><div class='xr-var-data'><pre>[1848993 values with dtype=uint8]</pre></div></li><li class='xr-var-item'><div class='xr-var-name'><span>ph_id_count</span></div><div class='xr-var-dims'>(delta_time)</div><div class='xr-var-dtype'>uint8</div><div class='xr-var-preview xr-preview'>...</div><input id='attrs-a63852bf-21fe-4140-b841-ab06458a8053' class='xr-var-attrs-in' type='checkbox' ><label for='attrs-a63852bf-21fe-4140-b841-ab06458a8053' title='Show/Hide attributes'><svg class='icon xr-icon-file-text2'><use xlink:href='#icon-file-text2'></use></svg></label><input id='data-4180cb29-b308-47cb-910e-5c7a56a0ff94' class='xr-var-data-in' type='checkbox'><label for='data-4180cb29-b308-47cb-910e-5c7a56a0ff94' title='Show/Hide data repr'><svg class='icon xr-icon-database'><use xlink:href='#icon-database'></use></svg></label><div class='xr-var-attrs'><dl class='xr-attrs'><dt><span>contentType :</span></dt><dd>referenceInformation</dd><dt><span>description :</span></dt><dd>The photon event counter is part of photon ID and counts from 1 for each channel until reset by laser pulse counter.</dd><dt><span>long_name :</span></dt><dd>photon event counter</dd><dt><span>source :</span></dt><dd>Derived as part of Photon ID</dd><dt><span>units :</span></dt><dd>counts</dd></dl></div><div class='xr-var-data'><pre>[1848993 values with dtype=uint8]</pre></div></li><li class='xr-var-item'><div class='xr-var-name'><span>ph_id_pulse</span></div><div class='xr-var-dims'>(delta_time)</div><div class='xr-var-dtype'>uint8</div><div class='xr-var-preview xr-preview'>...</div><input id='attrs-989ac262-bbc6-43db-99d4-cb3842c6f001' class='xr-var-attrs-in' type='checkbox' ><label for='attrs-989ac262-bbc6-43db-99d4-cb3842c6f001' title='Show/Hide attributes'><svg class='icon xr-icon-file-text2'><use xlink:href='#icon-file-text2'></use></svg></label><input id='data-64ffb0bc-4187-42b7-a6a2-f8955f7a7ae8' class='xr-var-data-in' type='checkbox'><label for='data-64ffb0bc-4187-42b7-a6a2-f8955f7a7ae8' title='Show/Hide data repr'><svg class='icon xr-icon-database'><use xlink:href='#icon-database'></use></svg></label><div class='xr-var-attrs'><dl class='xr-attrs'><dt><span>contentType :</span></dt><dd>referenceInformation</dd><dt><span>description :</span></dt><dd>The laser pulse counter is part of photon ID and counts from 1 to 200 and is reset for each new major frame.</dd><dt><span>long_name :</span></dt><dd>laser pulse counter</dd><dt><span>source :</span></dt><dd>Derived as part of Photon ID</dd><dt><span>units :</span></dt><dd>counts</dd></dl></div><div class='xr-var-data'><pre>[1848993 values with dtype=uint8]</pre></div></li><li class='xr-var-item'><div class='xr-var-name'><span>quality_ph</span></div><div class='xr-var-dims'>(delta_time)</div><div class='xr-var-dtype'>int8</div><div class='xr-var-preview xr-preview'>...</div><input id='attrs-5ff7e1a5-d3a7-468e-a902-c903f085ec91' class='xr-var-attrs-in' type='checkbox' ><label for='attrs-5ff7e1a5-d3a7-468e-a902-c903f085ec91' title='Show/Hide attributes'><svg class='icon xr-icon-file-text2'><use xlink:href='#icon-file-text2'></use></svg></label><input id='data-498836b5-9736-4f7c-829b-4a98f5a1e29e' class='xr-var-data-in' type='checkbox'><label for='data-498836b5-9736-4f7c-829b-4a98f5a1e29e' title='Show/Hide data repr'><svg class='icon xr-icon-database'><use xlink:href='#icon-database'></use></svg></label><div class='xr-var-attrs'><dl class='xr-attrs'><dt><span>contentType :</span></dt><dd>qualityInformation</dd><dt><span>description :</span></dt><dd>Indicates the quality of the associated photon. 0=nominal, 1=possible_afterpulse, 2=possible_impulse_response_effect, 3=possible_tep. Use this flag in conjunction with signal_conf_ph to identify those photons that are likely noise or likely signal.</dd><dt><span>flag_meanings :</span></dt><dd>nominal possible_afterpulse possible_impulse_response_effect possible_tep</dd><dt><span>flag_values :</span></dt><dd>[0 1 2 3]</dd><dt><span>long_name :</span></dt><dd>Photon Quality</dd><dt><span>source :</span></dt><dd>ATL03 ATBD</dd><dt><span>units :</span></dt><dd>1</dd><dt><span>valid_max :</span></dt><dd>3</dd><dt><span>valid_min :</span></dt><dd>0</dd></dl></div><div class='xr-var-data'><pre>[1848993 values with dtype=int8]</pre></div></li><li class='xr-var-item'><div class='xr-var-name'><span>signal_conf_ph</span></div><div class='xr-var-dims'>(delta_time, ds_surf_type)</div><div class='xr-var-dtype'>int8</div><div class='xr-var-preview xr-preview'>...</div><input id='attrs-cbf6e5bf-8c0d-43c5-aec8-1c7094f66ebf' class='xr-var-attrs-in' type='checkbox' ><label for='attrs-cbf6e5bf-8c0d-43c5-aec8-1c7094f66ebf' title='Show/Hide attributes'><svg class='icon xr-icon-file-text2'><use xlink:href='#icon-file-text2'></use></svg></label><input id='data-6d74be39-339f-406e-8515-990f4c4fc732' class='xr-var-data-in' type='checkbox'><label for='data-6d74be39-339f-406e-8515-990f4c4fc732' title='Show/Hide data repr'><svg class='icon xr-icon-database'><use xlink:href='#icon-database'></use></svg></label><div class='xr-var-attrs'><dl class='xr-attrs'><dt><span>contentType :</span></dt><dd>qualityInformation</dd><dt><span>description :</span></dt><dd>Confidence level associated with each photon event selected as signal. 0=noise. 1=added to allow for buffer but algorithm classifies as background; 2=low; 3=med; 4=high).  This parameter is a 5xN array where N is the number of photons in the granule, and the 5 rows indicate signal finding for each surface type (in order: land, ocean, sea ice, land ice and inland water). Events not associated with a specific surface type have a confidence level of -1. Events evaluated as TEP returns have a confidence level of -2.</dd><dt><span>flag_meanings :</span></dt><dd>possible_tep not_considered noise buffer low medium high</dd><dt><span>flag_values :</span></dt><dd>[-2 -1  0  1  2  3  4]</dd><dt><span>long_name :</span></dt><dd>Photon Signal Confidence</dd><dt><span>source :</span></dt><dd>ATL03 ATBD, Section 5, Conf</dd><dt><span>units :</span></dt><dd>1</dd><dt><span>valid_max :</span></dt><dd>4</dd><dt><span>valid_min :</span></dt><dd>-2</dd></dl></div><div class='xr-var-data'><pre>[9244965 values with dtype=int8]</pre></div></li><li class='xr-var-item'><div class='xr-var-name'><span>weight_ph</span></div><div class='xr-var-dims'>(delta_time)</div><div class='xr-var-dtype'>uint8</div><div class='xr-var-preview xr-preview'>...</div><input id='attrs-8840523d-3139-4dde-adb8-0ba4bf2f640e' class='xr-var-attrs-in' type='checkbox' ><label for='attrs-8840523d-3139-4dde-adb8-0ba4bf2f640e' title='Show/Hide attributes'><svg class='icon xr-icon-file-text2'><use xlink:href='#icon-file-text2'></use></svg></label><input id='data-f8230f89-303f-4a22-aa89-aa4650c34300' class='xr-var-data-in' type='checkbox'><label for='data-f8230f89-303f-4a22-aa89-aa4650c34300' title='Show/Hide data repr'><svg class='icon xr-icon-database'><use xlink:href='#icon-database'></use></svg></label><div class='xr-var-attrs'><dl class='xr-attrs'><dt><span>contentType :</span></dt><dd>modelResult</dd><dt><span>description :</span></dt><dd>Computed weight of each photon. The weight is calculated by a windowed KNN algorithm using the distances between each photon and its K nearest neighbors. Values range from 0 to 255 where 255 is the most heavily weighted photon and would be considered likely signal.</dd><dt><span>long_name :</span></dt><dd>Photon weight</dd><dt><span>source :</span></dt><dd>ATBD Section 5</dd><dt><span>units :</span></dt><dd>1</dd><dt><span>valid_max :</span></dt><dd>255</dd><dt><span>valid_min :</span></dt><dd>0</dd></dl></div><div class='xr-var-data'><pre>[1848993 values with dtype=uint8]</pre></div></li></ul></div></li><li class='xr-section-item'><input id='section-b5acd44e-b7a0-4403-84b8-b6d265c4f278' class='xr-section-summary-in' type='checkbox'  ><label for='section-b5acd44e-b7a0-4403-84b8-b6d265c4f278' class='xr-section-summary' >Indexes: <span>(1)</span></label><div class='xr-section-inline-details'></div><div class='xr-section-details'><ul class='xr-var-list'><li class='xr-var-item'><div class='xr-index-name'><div>delta_time</div></div><div class='xr-index-preview'>PandasIndex</div><input type='checkbox' disabled/><label></label><input id='index-14029c4c-1855-4f03-9fc4-1841d1dd9e29' class='xr-index-data-in' type='checkbox'/><label for='index-14029c4c-1855-4f03-9fc4-1841d1dd9e29' title='Show/Hide index repr'><svg class='icon xr-icon-database'><use xlink:href='#icon-database'></use></svg></label><div class='xr-index-data'><pre>PandasIndex(DatetimeIndex([&#x27;2020-04-27 19:39:45.849764816&#x27;,\n",
       "               &#x27;2020-04-27 19:39:45.849764816&#x27;,\n",
       "               &#x27;2020-04-27 19:39:45.849764816&#x27;,\n",
       "               &#x27;2020-04-27 19:39:45.849864816&#x27;,\n",
       "               &#x27;2020-04-27 19:39:45.849864816&#x27;,\n",
       "               &#x27;2020-04-27 19:39:45.849864816&#x27;,\n",
       "               &#x27;2020-04-27 19:39:45.849864816&#x27;,\n",
       "               &#x27;2020-04-27 19:39:45.849964816&#x27;,\n",
       "               &#x27;2020-04-27 19:39:45.849964816&#x27;,\n",
       "               &#x27;2020-04-27 19:39:45.849964816&#x27;,\n",
       "               ...\n",
       "               &#x27;2020-04-27 19:40:01.537565200&#x27;,\n",
       "               &#x27;2020-04-27 19:40:01.537565200&#x27;,\n",
       "               &#x27;2020-04-27 19:40:01.537565200&#x27;,\n",
       "               &#x27;2020-04-27 19:40:01.537565200&#x27;,\n",
       "               &#x27;2020-04-27 19:40:01.537565200&#x27;,\n",
       "               &#x27;2020-04-27 19:40:01.537565200&#x27;,\n",
       "               &#x27;2020-04-27 19:40:01.537665200&#x27;,\n",
       "               &#x27;2020-04-27 19:40:01.537665200&#x27;,\n",
       "               &#x27;2020-04-27 19:40:01.537665200&#x27;,\n",
       "               &#x27;2020-04-27 19:40:01.537665200&#x27;],\n",
       "              dtype=&#x27;datetime64[ns]&#x27;, name=&#x27;delta_time&#x27;, length=1848993, freq=None))</pre></div></li></ul></div></li><li class='xr-section-item'><input id='section-c3cdb971-5721-425b-b788-b2885f6de7c3' class='xr-section-summary-in' type='checkbox'  checked><label for='section-c3cdb971-5721-425b-b788-b2885f6de7c3' class='xr-section-summary' >Attributes: <span>(2)</span></label><div class='xr-section-inline-details'></div><div class='xr-section-details'><dl class='xr-attrs'><dt><span>Description :</span></dt><dd>Contains arrays of the parameters for each received photon.</dd><dt><span>data_rate :</span></dt><dd>Data are stored at the photon detection rate.</dd></dl></div></li></ul></div></div>"
      ],
      "text/plain": [
       "<xarray.Dataset> Size: 92MB\n",
       "Dimensions:         (delta_time: 1848993, ds_surf_type: 5)\n",
       "Coordinates:\n",
       "  * delta_time      (delta_time) datetime64[ns] 15MB 2020-04-27T19:39:45.8497...\n",
       "    lat_ph          (delta_time) float64 15MB ...\n",
       "    lon_ph          (delta_time) float64 15MB ...\n",
       "Dimensions without coordinates: ds_surf_type\n",
       "Data variables:\n",
       "    dist_ph_across  (delta_time) float32 7MB ...\n",
       "    dist_ph_along   (delta_time) float32 7MB ...\n",
       "    h_ph            (delta_time) float32 7MB ...\n",
       "    pce_mframe_cnt  (delta_time) uint32 7MB ...\n",
       "    ph_id_channel   (delta_time) uint8 2MB ...\n",
       "    ph_id_count     (delta_time) uint8 2MB ...\n",
       "    ph_id_pulse     (delta_time) uint8 2MB ...\n",
       "    quality_ph      (delta_time) int8 2MB ...\n",
       "    signal_conf_ph  (delta_time, ds_surf_type) int8 9MB ...\n",
       "    weight_ph       (delta_time) uint8 2MB ...\n",
       "Attributes:\n",
       "    Description:  Contains arrays of the parameters for each received photon.\n",
       "    data_rate:    Data are stored at the photon detection rate."
      ]
     },
     "execution_count": 18,
     "metadata": {},
     "output_type": "execute_result"
    }
   ],
   "source": [
    "ds = xr.open_dataset(f[0], group='gt1l/heights')\n",
    "ds"
   ]
  },
  {
   "cell_type": "markdown",
   "id": "43f8125f-8e99-4fe9-a7cb-62a10295b21d",
   "metadata": {},
   "source": [
    "## Appendices"
   ]
  },
  {
   "cell_type": "markdown",
   "id": "ba0d2015-f342-4987-aa16-e0b67b6e35b3",
   "metadata": {},
   "source": [
    "### A. Handling large requests\n",
    "\n",
    "By default Harmony will only process first 300 granules for large requests.  This allows users to check that results look correct.  Once we are satified that our request is correct, the job can be resumed.  See this [notebook](https://github.com/nasa/harmony-py/blob/main/examples/job_pause_resume.ipynb) for examples."
   ]
  },
  {
   "cell_type": "markdown",
   "id": "76872ddb-7d5f-4fa1-aa7e-bc790de75a99",
   "metadata": {},
   "source": [
    "### B. Translating requests\n",
    "\n",
    "`harmony-py` is an interface to the Harmony RESTful API.  RESTful API send requests and receive responses via HTTPS; the same protocol that serves web pages.  Requests are sent to service endpoints, which is a URL (e.g. `https://service.endpoint.com/type_of_service`).  Query parameters that modify a request can be appended a key-value pairs after a `?`.  Each key-value pair is separated by an &.  For example:\n",
    "\n",
    "```\n",
    "https://service.endpoint.com/type_of_service?param1=value1&param2=value2\n",
    "```\n",
    "\n",
    "This url could be entered into a web browser.\n",
    "\n",
    "The Harmony client has a `request_as_url` method that returns the request created by `CapabilitiesRequest` or `Request`"
   ]
  },
  {
   "cell_type": "code",
   "execution_count": 19,
   "id": "8edb5214-427e-41a7-8f8a-a66da9cb6020",
   "metadata": {},
   "outputs": [
    {
     "data": {
      "text/plain": [
       "'https://harmony.earthdata.nasa.gov/capabilities?shortname=ATL03'"
      ]
     },
     "execution_count": 19,
     "metadata": {},
     "output_type": "execute_result"
    }
   ],
   "source": [
    "harmony_client.request_as_url(capabilities_request)"
   ]
  },
  {
   "cell_type": "code",
   "execution_count": 20,
   "id": "8eff95b3-c77a-4647-ab02-f6d81f434a00",
   "metadata": {},
   "outputs": [
    {
     "data": {
      "text/plain": [
       "'https://harmony.earthdata.nasa.gov/C2596864127-NSIDC_CPRD/ogc-api-coverages/1.0.0/collections/parameter_vars/coverage/rangeset?forceAsync=true&subset=lat%2840%3A41.0%29&subset=lon%28-105.5%3A-105%29&subset=time%28%222020-04-27T00%3A00%3A00%22%3A%222020-05-28T00%3A00%3A00%22%29&label=harmony-py&variable=all'"
      ]
     },
     "execution_count": 20,
     "metadata": {},
     "output_type": "execute_result"
    }
   ],
   "source": [
    "harmony_client.request_as_url(request)"
   ]
  },
  {
   "cell_type": "markdown",
   "id": "5a4604c4-80bb-4666-be54-57564ca427dd",
   "metadata": {},
   "source": [
    "Try pasting the URL in the output cell below into a web browser to see the response."
   ]
  },
  {
   "cell_type": "markdown",
   "id": "ef3140c9-4285-47af-9fe8-98a411043cdb",
   "metadata": {},
   "source": [
    "Harmony requests can also be sent with `curl`, a library and command line tool for transfering data using various network protocols, including HTTPS.  The `request_as_curl` method can be used to generate a curl command.  This can be helpful if you want to automate a process outside of a Jupyter Notebook or for testing requests."
   ]
  },
  {
   "cell_type": "code",
   "execution_count": 21,
   "id": "356149e4-5da4-4c94-962a-663621e36c78",
   "metadata": {},
   "outputs": [
    {
     "data": {
      "text/plain": [
       "\"curl -X GET -H 'Accept: */*' -H 'Accept-Encoding: gzip, deflate, br, zstd' -H 'Connection: keep-alive' -H 'Cookie: state=s%3A2b0ec71d18c39b1e6a529c51104f7cc1.mFcNqQyXttThGxGiMbvzxK3EGJZFOETiWTstlPrM%2BF4; token=*****; urs_user_already_logged=yes; _urs-gui_session=34bf77adc3cdfdffad4389889ec7e584' -H 'User-Agent: python-requests/2.32.5 CPython/3.11.13 harmony-py/1.2.0 Linux/5.10.235-227.919.amzn2.x86_64' 'https://harmony.earthdata.nasa.gov/capabilities?shortname=ATL03'\""
      ]
     },
     "execution_count": 21,
     "metadata": {},
     "output_type": "execute_result"
    }
   ],
   "source": [
    "harmony_client.request_as_curl(capabilities_request)"
   ]
  },
  {
   "cell_type": "code",
   "execution_count": 22,
   "id": "40d1655b-6b36-485d-8188-70b6d2e28361",
   "metadata": {},
   "outputs": [
    {
     "data": {
      "text/plain": [
       "'curl -X POST -H \\'Accept: */*\\' -H \\'Accept-Encoding: gzip, deflate, br, zstd\\' -H \\'Connection: keep-alive\\' -H \\'Content-Length: 659\\' -H \\'Content-Type: multipart/form-data; boundary=7614ae6db1375898faaa116c40b3e88d\\' -H \\'Cookie: state=s%3A2b0ec71d18c39b1e6a529c51104f7cc1.mFcNqQyXttThGxGiMbvzxK3EGJZFOETiWTstlPrM%2BF4; token=*****; urs_user_already_logged=yes; _urs-gui_session=34bf77adc3cdfdffad4389889ec7e584\\' -H \\'User-Agent: python-requests/2.32.5 CPython/3.11.13 harmony-py/1.2.0 Linux/5.10.235-227.919.amzn2.x86_64\\' -d \\'--7614ae6db1375898faaa116c40b3e88d\\r\\nContent-Disposition: form-data; name=\"forceAsync\"\\r\\n\\r\\ntrue\\r\\n--7614ae6db1375898faaa116c40b3e88d\\r\\nContent-Disposition: form-data; name=\"subset\"\\r\\n\\r\\nlat(40:41.0)\\r\\n--7614ae6db1375898faaa116c40b3e88d\\r\\nContent-Disposition: form-data; name=\"subset\"\\r\\n\\r\\nlon(-105.5:-105)\\r\\n--7614ae6db1375898faaa116c40b3e88d\\r\\nContent-Disposition: form-data; name=\"subset\"\\r\\n\\r\\ntime(\"2020-04-27T00:00:00\":\"2020-05-28T00:00:00\")\\r\\n--7614ae6db1375898faaa116c40b3e88d\\r\\nContent-Disposition: form-data; name=\"label\"\\r\\n\\r\\nharmony-py\\r\\n--7614ae6db1375898faaa116c40b3e88d\\r\\nContent-Disposition: form-data; name=\"variable\"\\r\\n\\r\\nall\\r\\n--7614ae6db1375898faaa116c40b3e88d--\\r\\n\\' https://harmony.earthdata.nasa.gov/C2596864127-NSIDC_CPRD/ogc-api-coverages/1.0.0/collections/parameter_vars/coverage/rangeset'"
      ]
     },
     "execution_count": 22,
     "metadata": {},
     "output_type": "execute_result"
    }
   ],
   "source": [
    "harmony_client.request_as_curl(request)"
   ]
  },
  {
   "cell_type": "markdown",
   "id": "24d9def7-0d3a-4987-a45e-749bd8d4e026",
   "metadata": {},
   "source": [
    "### C. Additional data set examples: SMAP and Harmony\n",
    "\n",
    "Harmony services are available for additional NASA Earthdata collections including for the Soil Moisture Active Passive (SMAP) mission data hosted at NSIDC DAAC. SMAP data set transformation services are listed [here](https://nsidc.org/data/user-resources/help-center/what-data-subsetting-reformatting-and-reprojection-services-are-available-smap-data).\n",
    "\n",
    "The following examples demonstrate some Harmmony service capabilities available for SMAP data.\n",
    "                                                                                                                                                                            "
   ]
  },
  {
   "cell_type": "markdown",
   "id": "a81e6bcd-0076-41ed-a893-11c81e2025e0",
   "metadata": {},
   "source": [
    "#### SMAP L2 data and Harmony example\n",
    "##### Variable subsetting and reformat to GeoTIFF"
   ]
  },
  {
   "cell_type": "markdown",
   "id": "c43223a0-4beb-4fad-9daf-05cbf7a35225",
   "metadata": {},
   "source": [
    "Start your Harmony client"
   ]
  },
  {
   "cell_type": "code",
   "execution_count": 23,
   "id": "874bd9a5-9cc8-4ffd-b4d1-3e331e17965f",
   "metadata": {},
   "outputs": [],
   "source": [
    "#setting environment to UAT for testing\n",
    "#will change to harmony_client = Client() for prod when finalizing pull request\n",
    "\n",
    "harmony_client = Client(env=Environment.UAT)"
   ]
  },
  {
   "cell_type": "markdown",
   "id": "e5aea486-07a4-480c-b5b3-18920fcff12c",
   "metadata": {},
   "source": [
    "Discover service options for a SMAP L2 data set by creating and submitting a CapabilitiesRequest.  Here we'll look at SMAP L2 Radiometer Half-Orbit 36 km EASE-Grid Soil Moisture, Version 9, which has the short name SPL2SMP.\n",
    "\n",
    "First, create the request."
   ]
  },
  {
   "cell_type": "code",
   "execution_count": 24,
   "id": "f3c8e442-6f01-401f-a0c7-d8f8bb36125c",
   "metadata": {},
   "outputs": [],
   "source": [
    "short_name = \"SPL2SMP\"\n",
    "capabilities_request = CapabilitiesRequest(short_name=short_name)"
   ]
  },
  {
   "cell_type": "markdown",
   "id": "a61db467-99f7-425e-8461-c772eb4c037c",
   "metadata": {},
   "source": [
    "Next, submit the capabilities request and display in json format."
   ]
  },
  {
   "cell_type": "code",
   "execution_count": 25,
   "id": "e7de6d31-39d3-4c5f-b864-863ae122ec87",
   "metadata": {},
   "outputs": [
    {
     "data": {
      "application/json": {
       "bboxSubset": true,
       "capabilitiesVersion": "2",
       "concatenate": false,
       "conceptId": "C1263071063-NSIDC_CUAT",
       "outputFormats": [
        "application/x-hdf",
        "application/x-netcdf4",
        "image/tiff"
       ],
       "reproject": true,
       "services": [
        {
         "capabilities": {
          "output_formats": [
           "application/x-hdf"
          ],
          "subsetting": {
           "bbox": true,
           "shape": true,
           "temporal": true,
           "variable": true
          }
         },
         "href": "https://cmr.uat.earthdata.nasa.gov/search/concepts/S1242315633-EEDTEST",
         "name": "sds/trajectory-subsetter"
        },
        {
         "capabilities": {
          "output_formats": [
           "application/x-hdf",
           "application/x-netcdf4",
           "image/tiff"
          ],
          "reprojection": true,
          "subsetting": {
           "bbox": true,
           "shape": true,
           "temporal": false,
           "variable": true
          }
         },
         "href": "https://cmr.uat.earthdata.nasa.gov/search/concepts/S1273345267-EEDTEST",
         "name": "sds/smap-l2-subsetter-net2cog"
        }
       ],
       "shapeSubset": true,
       "shortName": "SPL2SMP",
       "temporalSubset": true,
       "variableSubset": true,
       "variables": [
        {
         "href": "https://cmr.uat.earthdata.nasa.gov/search/concepts/V1268674173-NSIDC_CUAT",
         "name": "Soil_Moisture_Retrieval_Data/albedo"
        },
        {
         "href": "https://cmr.uat.earthdata.nasa.gov/search/concepts/V1268674175-NSIDC_CUAT",
         "name": "Soil_Moisture_Retrieval_Data/albedo_option3"
        },
        {
         "href": "https://cmr.uat.earthdata.nasa.gov/search/concepts/V1268674177-NSIDC_CUAT",
         "name": "Soil_Moisture_Retrieval_Data/boresight_incidence"
        },
        {
         "href": "https://cmr.uat.earthdata.nasa.gov/search/concepts/V1268674179-NSIDC_CUAT",
         "name": "Soil_Moisture_Retrieval_Data/bulk_density"
        },
        {
         "href": "https://cmr.uat.earthdata.nasa.gov/search/concepts/V1268674181-NSIDC_CUAT",
         "name": "Soil_Moisture_Retrieval_Data/clay_fraction"
        },
        {
         "href": "https://cmr.uat.earthdata.nasa.gov/search/concepts/V1268674169-NSIDC_CUAT",
         "name": "Soil_Moisture_Retrieval_Data/EASE_column_index"
        },
        {
         "href": "https://cmr.uat.earthdata.nasa.gov/search/concepts/V1268674171-NSIDC_CUAT",
         "name": "Soil_Moisture_Retrieval_Data/EASE_row_index"
        },
        {
         "href": "https://cmr.uat.earthdata.nasa.gov/search/concepts/V1268674183-NSIDC_CUAT",
         "name": "Soil_Moisture_Retrieval_Data/freeze_thaw_fraction"
        },
        {
         "href": "https://cmr.uat.earthdata.nasa.gov/search/concepts/V1268674185-NSIDC_CUAT",
         "name": "Soil_Moisture_Retrieval_Data/grid_surface_status"
        },
        {
         "href": "https://cmr.uat.earthdata.nasa.gov/search/concepts/V1268674187-NSIDC_CUAT",
         "name": "Soil_Moisture_Retrieval_Data/landcover_class"
        },
        {
         "href": "https://cmr.uat.earthdata.nasa.gov/search/concepts/V1268674189-NSIDC_CUAT",
         "name": "Soil_Moisture_Retrieval_Data/landcover_class_fraction"
        },
        {
         "href": "https://cmr.uat.earthdata.nasa.gov/search/concepts/V1268674191-NSIDC_CUAT",
         "name": "Soil_Moisture_Retrieval_Data/latitude"
        },
        {
         "href": "https://cmr.uat.earthdata.nasa.gov/search/concepts/V1268674193-NSIDC_CUAT",
         "name": "Soil_Moisture_Retrieval_Data/latitude_centroid"
        },
        {
         "href": "https://cmr.uat.earthdata.nasa.gov/search/concepts/V1268674195-NSIDC_CUAT",
         "name": "Soil_Moisture_Retrieval_Data/longitude"
        },
        {
         "href": "https://cmr.uat.earthdata.nasa.gov/search/concepts/V1268674197-NSIDC_CUAT",
         "name": "Soil_Moisture_Retrieval_Data/longitude_centroid"
        },
        {
         "href": "https://cmr.uat.earthdata.nasa.gov/search/concepts/V1268674199-NSIDC_CUAT",
         "name": "Soil_Moisture_Retrieval_Data/organic_content"
        },
        {
         "href": "https://cmr.uat.earthdata.nasa.gov/search/concepts/V1268674201-NSIDC_CUAT",
         "name": "Soil_Moisture_Retrieval_Data/radar_water_body_fraction"
        },
        {
         "href": "https://cmr.uat.earthdata.nasa.gov/search/concepts/V1268674203-NSIDC_CUAT",
         "name": "Soil_Moisture_Retrieval_Data/retrieval_qual_flag"
        },
        {
         "href": "https://cmr.uat.earthdata.nasa.gov/search/concepts/V1268674205-NSIDC_CUAT",
         "name": "Soil_Moisture_Retrieval_Data/retrieval_qual_flag_option1"
        },
        {
         "href": "https://cmr.uat.earthdata.nasa.gov/search/concepts/V1268674207-NSIDC_CUAT",
         "name": "Soil_Moisture_Retrieval_Data/retrieval_qual_flag_option2"
        },
        {
         "href": "https://cmr.uat.earthdata.nasa.gov/search/concepts/V1268674209-NSIDC_CUAT",
         "name": "Soil_Moisture_Retrieval_Data/retrieval_qual_flag_option3"
        },
        {
         "href": "https://cmr.uat.earthdata.nasa.gov/search/concepts/V1268674211-NSIDC_CUAT",
         "name": "Soil_Moisture_Retrieval_Data/roughness_coefficient"
        },
        {
         "href": "https://cmr.uat.earthdata.nasa.gov/search/concepts/V1268674213-NSIDC_CUAT",
         "name": "Soil_Moisture_Retrieval_Data/roughness_coefficient_option3"
        },
        {
         "href": "https://cmr.uat.earthdata.nasa.gov/search/concepts/V1268674215-NSIDC_CUAT",
         "name": "Soil_Moisture_Retrieval_Data/sand_fraction"
        },
        {
         "href": "https://cmr.uat.earthdata.nasa.gov/search/concepts/V1268674217-NSIDC_CUAT",
         "name": "Soil_Moisture_Retrieval_Data/soil_moisture"
        },
        {
         "href": "https://cmr.uat.earthdata.nasa.gov/search/concepts/V1268674219-NSIDC_CUAT",
         "name": "Soil_Moisture_Retrieval_Data/soil_moisture_error"
        },
        {
         "href": "https://cmr.uat.earthdata.nasa.gov/search/concepts/V1268674221-NSIDC_CUAT",
         "name": "Soil_Moisture_Retrieval_Data/soil_moisture_option1"
        },
        {
         "href": "https://cmr.uat.earthdata.nasa.gov/search/concepts/V1268674223-NSIDC_CUAT",
         "name": "Soil_Moisture_Retrieval_Data/soil_moisture_option2"
        },
        {
         "href": "https://cmr.uat.earthdata.nasa.gov/search/concepts/V1268674225-NSIDC_CUAT",
         "name": "Soil_Moisture_Retrieval_Data/soil_moisture_option3"
        },
        {
         "href": "https://cmr.uat.earthdata.nasa.gov/search/concepts/V1268634351-NSIDC_CUAT",
         "name": "Soil_Moisture_Retrieval_Data/static_water_body_fraction"
        },
        {
         "href": "https://cmr.uat.earthdata.nasa.gov/search/concepts/V1268674227-NSIDC_CUAT",
         "name": "Soil_Moisture_Retrieval_Data/surface_flag"
        },
        {
         "href": "https://cmr.uat.earthdata.nasa.gov/search/concepts/V1268674229-NSIDC_CUAT",
         "name": "Soil_Moisture_Retrieval_Data/surface_temperature"
        },
        {
         "href": "https://cmr.uat.earthdata.nasa.gov/search/concepts/V1268674231-NSIDC_CUAT",
         "name": "Soil_Moisture_Retrieval_Data/surface_water_fraction_mb_h"
        },
        {
         "href": "https://cmr.uat.earthdata.nasa.gov/search/concepts/V1268674233-NSIDC_CUAT",
         "name": "Soil_Moisture_Retrieval_Data/surface_water_fraction_mb_v"
        },
        {
         "href": "https://cmr.uat.earthdata.nasa.gov/search/concepts/V1268674235-NSIDC_CUAT",
         "name": "Soil_Moisture_Retrieval_Data/tb_3_corrected"
        },
        {
         "href": "https://cmr.uat.earthdata.nasa.gov/search/concepts/V1268674237-NSIDC_CUAT",
         "name": "Soil_Moisture_Retrieval_Data/tb_4_corrected"
        },
        {
         "href": "https://cmr.uat.earthdata.nasa.gov/search/concepts/V1268674239-NSIDC_CUAT",
         "name": "Soil_Moisture_Retrieval_Data/tb_h_corrected"
        },
        {
         "href": "https://cmr.uat.earthdata.nasa.gov/search/concepts/V1268674241-NSIDC_CUAT",
         "name": "Soil_Moisture_Retrieval_Data/tb_h_uncorrected"
        },
        {
         "href": "https://cmr.uat.earthdata.nasa.gov/search/concepts/V1268674243-NSIDC_CUAT",
         "name": "Soil_Moisture_Retrieval_Data/tb_qual_flag_3"
        },
        {
         "href": "https://cmr.uat.earthdata.nasa.gov/search/concepts/V1268674245-NSIDC_CUAT",
         "name": "Soil_Moisture_Retrieval_Data/tb_qual_flag_4"
        },
        {
         "href": "https://cmr.uat.earthdata.nasa.gov/search/concepts/V1268674247-NSIDC_CUAT",
         "name": "Soil_Moisture_Retrieval_Data/tb_qual_flag_h"
        },
        {
         "href": "https://cmr.uat.earthdata.nasa.gov/search/concepts/V1268674249-NSIDC_CUAT",
         "name": "Soil_Moisture_Retrieval_Data/tb_qual_flag_v"
        },
        {
         "href": "https://cmr.uat.earthdata.nasa.gov/search/concepts/V1268674251-NSIDC_CUAT",
         "name": "Soil_Moisture_Retrieval_Data/tb_time_seconds"
        },
        {
         "href": "https://cmr.uat.earthdata.nasa.gov/search/concepts/V1268674253-NSIDC_CUAT",
         "name": "Soil_Moisture_Retrieval_Data/tb_time_utc"
        },
        {
         "href": "https://cmr.uat.earthdata.nasa.gov/search/concepts/V1268674255-NSIDC_CUAT",
         "name": "Soil_Moisture_Retrieval_Data/tb_v_corrected"
        },
        {
         "href": "https://cmr.uat.earthdata.nasa.gov/search/concepts/V1268674257-NSIDC_CUAT",
         "name": "Soil_Moisture_Retrieval_Data/tb_v_uncorrected"
        },
        {
         "href": "https://cmr.uat.earthdata.nasa.gov/search/concepts/V1268674259-NSIDC_CUAT",
         "name": "Soil_Moisture_Retrieval_Data/vegetation_opacity"
        },
        {
         "href": "https://cmr.uat.earthdata.nasa.gov/search/concepts/V1268674261-NSIDC_CUAT",
         "name": "Soil_Moisture_Retrieval_Data/vegetation_opacity_option1"
        },
        {
         "href": "https://cmr.uat.earthdata.nasa.gov/search/concepts/V1268674263-NSIDC_CUAT",
         "name": "Soil_Moisture_Retrieval_Data/vegetation_opacity_option2"
        },
        {
         "href": "https://cmr.uat.earthdata.nasa.gov/search/concepts/V1268674265-NSIDC_CUAT",
         "name": "Soil_Moisture_Retrieval_Data/vegetation_opacity_option3"
        },
        {
         "href": "https://cmr.uat.earthdata.nasa.gov/search/concepts/V1268674267-NSIDC_CUAT",
         "name": "Soil_Moisture_Retrieval_Data/vegetation_water_content"
        }
       ]
      },
      "text/plain": [
       "<IPython.core.display.JSON object>"
      ]
     },
     "execution_count": 25,
     "metadata": {
      "application/json": {
       "expanded": false,
       "root": "root"
      }
     },
     "output_type": "execute_result"
    }
   ],
   "source": [
    "capabilities = harmony_client.submit(capabilities_request)\n",
    "JSON(capabilities)"
   ]
  },
  {
   "cell_type": "markdown",
   "id": "c97b13be-aca5-4393-aeec-4a1d271e078b",
   "metadata": {},
   "source": [
    "Note:  As mentioned above, not all transformation services are available for all data sets. SMAP data set transformation services are listed [here](https://nsidc.org/data/user-resources/help-center/what-data-subsetting-reformatting-and-reprojection-services-are-available-smap-data).\n",
    "\n",
    "The transformation services available to SMAP L2 swath data are:\n",
    "* spatial subsetting using bounding box corner points or a polygon file (GeoJSON, kml, ESRI shapefile)\n",
    "* temporal subsetting\n",
    "* variable (parameter) subsetting\n",
    "* reprojection to EPSG:4326\n",
    "* reformat to GeoTIFF (if GeoTIFF is not selected, the output will be netcdf4)\n",
    "\n",
    "Create a subset request.  Here we are going to select one variable from a SPL2SMP granule and reformat the output to GeoTIFF."
   ]
  },
  {
   "cell_type": "code",
   "execution_count": 26,
   "id": "5be4ab37-6f75-4e6e-ad43-49da93bf4126",
   "metadata": {},
   "outputs": [
    {
     "data": {
      "text/plain": [
       "True"
      ]
     },
     "execution_count": 26,
     "metadata": {},
     "output_type": "execute_result"
    }
   ],
   "source": [
    "request = Request(\n",
    "    collection = Collection(id=capabilities[\"conceptId\"]),\n",
    "    variables=['Soil_Moisture_Retrieval_Data/landcover_class'],\n",
    "    max_results=1,\n",
    "    format='image/tiff'\n",
    ")\n",
    "\n",
    "request.is_valid()"
   ]
  },
  {
   "cell_type": "markdown",
   "id": "89a94fe1-7c17-4da7-b94f-5c7af658ff32",
   "metadata": {},
   "source": [
    "Submit the subset request and check the progress."
   ]
  },
  {
   "cell_type": "code",
   "execution_count": 27,
   "id": "a583dbd3-c7da-4168-9d33-5e8b64bac197",
   "metadata": {},
   "outputs": [
    {
     "name": "stderr",
     "output_type": "stream",
     "text": [
      " [ Processing: 100% ] |###################################################| [|]\n"
     ]
    }
   ],
   "source": [
    "job_id = harmony_client.submit(request)\n",
    "job_id\n",
    "\n",
    "harmony_client.wait_for_processing(job_id, show_progress=True)"
   ]
  },
  {
   "cell_type": "markdown",
   "id": "987197bd-5152-48ca-ae3d-9590710621b4",
   "metadata": {},
   "source": [
    "Access the job information."
   ]
  },
  {
   "cell_type": "code",
   "execution_count": 28,
   "id": "8cbaf9ca-9a40-486e-8e98-2964d63b4fd1",
   "metadata": {},
   "outputs": [
    {
     "data": {
      "application/json": {
       "createdAt": "2025-09-17T14:26:38.031Z",
       "dataExpiration": "2025-10-17T14:26:38.031Z",
       "jobID": "663e5132-9f90-43f5-a727-e247feed812f",
       "labels": [
        "harmony-py"
       ],
       "links": [
        {
         "href": "https://harmony.uat.earthdata.nasa.gov/stac/663e5132-9f90-43f5-a727-e247feed812f/",
         "rel": "stac-catalog-json",
         "title": "STAC catalog",
         "type": "application/json"
        },
        {
         "bbox": [
          97.44856535,
          -86.93285042,
          97.44856535,
          87.18000031
         ],
         "href": "https://harmony.uat.earthdata.nasa.gov/service-results/harmony-uat-staging/public/663e5132-9f90-43f5-a727-e247feed812f/7894451/SMAP_L2_SM_P_47183_A_20231201T171449_R19240_002_Soil_Moisture_Retrieval_Data_landcover_class_subsetted_regridded_Soil_Moisture_Retrieval_Data_landcover_class_reformatted.tif",
         "rel": "data",
         "temporal": {
          "end": "2023-12-01T18:08:10.730Z",
          "start": "2023-12-01T17:14:49.293Z"
         },
         "title": "SMAP_L2_SM_P_47183_A_20231201T171449_R19240_002_Soil_Moisture_Retrieval_Data_landcover_class_subsetted_regridded_Soil_Moisture_Retrieval_Data_landcover_class_reformatted.tif",
         "type": "image/tiff; application=geotiff; profile=cloud-optimized"
        },
        {
         "href": "https://harmony.uat.earthdata.nasa.gov/jobs/663e5132-9f90-43f5-a727-e247feed812f?linktype=https&page=1&limit=2000",
         "rel": "self",
         "title": "The current page",
         "type": "application/json"
        }
       ],
       "message": "CMR query identified 22 granules, but the request has been limited to process only the first 1 granules because you requested 1 maxResults.",
       "numInputGranules": 1,
       "progress": 100,
       "request": "https://harmony.uat.earthdata.nasa.gov/C1263071063-NSIDC_CUAT/ogc-api-coverages/1.0.0/collections/parameter_vars/coverage/rangeset?forceAsync=true&label=harmony-py&format=image%2Ftiff&maxResults=1&variable=Soil_Moisture_Retrieval_Data%2Flandcover_class",
       "status": "successful",
       "updatedAt": "2025-09-17T14:26:48.106Z",
       "username": "mbeig"
      },
      "text/plain": [
       "<IPython.core.display.JSON object>"
      ]
     },
     "execution_count": 28,
     "metadata": {
      "application/json": {
       "expanded": false,
       "root": "root"
      }
     },
     "output_type": "execute_result"
    }
   ],
   "source": [
    "job_summary = harmony_client.result_json(job_id)\n",
    "JSON(job_summary)"
   ]
  },
  {
   "cell_type": "markdown",
   "id": "79cba87b-f11b-43d8-a2bb-6ae22b5ab8e2",
   "metadata": {},
   "source": [
    "Access the output.  Here we demonstrate download to a local machine.  The data can also be accessed directly as described in the ICESat-2 data example above."
   ]
  },
  {
   "cell_type": "code",
   "execution_count": 29,
   "id": "f113a48a-9e73-4074-a009-e5d71ade5287",
   "metadata": {},
   "outputs": [
    {
     "name": "stdout",
     "output_type": "stream",
     "text": [
      "./7894451_SMAP_L2_SM_P_47183_A_20231201T171449_R19240_002_Soil_Moisture_Retrieval_Data_landcover_class_subsetted_regridded_Soil_Moisture_Retrieval_Data_landcover_class_reformatted.tif\n"
     ]
    },
    {
     "data": {
      "text/plain": [
       "'./7894451_SMAP_L2_SM_P_47183_A_20231201T171449_R19240_002_Soil_Moisture_Retrieval_Data_landcover_class_subsetted_regridded_Soil_Moisture_Retrieval_Data_landcover_class_reformatted.tif'"
      ]
     },
     "execution_count": 29,
     "metadata": {},
     "output_type": "execute_result"
    },
    {
     "name": "stdout",
     "output_type": "stream",
     "text": [
      "./7894466_SMAP_L4_C_mdl_20150401T000000_Vv8020_001_subsetted.nc4\n",
      "./7894466_SMAP_L4_C_mdl_20150401T000000_Vv8020_001_subsetted.nc4\n"
     ]
    }
   ],
   "source": [
    "futures = harmony_client.download_all(job_id, directory=\".\", overwrite=False)\n",
    "filelist = [f.result() for f in futures]  # get filepaths\n",
    "len(filelist)\n",
    "filelist[0]"
   ]
  },
  {
   "cell_type": "markdown",
   "id": "6044ad16-889b-438a-985f-4fae98b7b3d2",
   "metadata": {},
   "source": [
    "Plot the GeoTIFF using rasterio."
   ]
  },
  {
   "cell_type": "code",
   "execution_count": 30,
   "id": "e68f0896-01fc-4aa3-8bcf-2ffe8009c8c5",
   "metadata": {},
   "outputs": [
    {
     "data": {
      "image/png": "[encoded data removed]",
      "text/plain": [
       "<Figure size 640x480 with 1 Axes>"
      ]
     },
     "metadata": {},
     "output_type": "display_data"
    },
    {
     "data": {
      "text/plain": [
       "<Axes: title={'center': 'SMAP L2 Landcover class'}>"
      ]
     },
     "execution_count": 30,
     "metadata": {},
     "output_type": "execute_result"
    }
   ],
   "source": [
    "data_name = filelist[0]\n",
    "tiff = rasterio.open(data_name)\n",
    "rasterio.plot.show(tiff, title = \"SMAP L2 Landcover class\")"
   ]
  },
  {
   "cell_type": "markdown",
   "id": "76157b0c-8d94-4ac2-acbd-576400245859",
   "metadata": {},
   "source": [
    "#### SMAP L3 data and Harmony example\n",
    "\n",
    "##### Spatial and variable subsetting with conversion to EPSG:4326 and reformat to GeoTIFF"
   ]
  },
  {
   "cell_type": "markdown",
   "id": "f95718d1-a94b-4959-a328-7068fd381afb",
   "metadata": {},
   "source": [
    "Submit a CapabilitiesRequest to discover service options for a SMAP L3 data set (SMAP L3 Radiometer Global Daily 36 km EASE-Grid Soil Moisture, Version 9). "
   ]
  },
  {
   "cell_type": "code",
   "execution_count": 31,
   "id": "fed1b428-7767-4939-9b5b-b05ac2667818",
   "metadata": {},
   "outputs": [],
   "source": [
    "short_name = \"SPL3SMP\"\n",
    "capabilities_request = CapabilitiesRequest(short_name=short_name)"
   ]
  },
  {
   "cell_type": "markdown",
   "id": "a19002dc-9eac-4d52-9d8d-fe300662b49e",
   "metadata": {},
   "source": [
    "Submit the capabilities request and display in JSON format."
   ]
  },
  {
   "cell_type": "code",
   "execution_count": 32,
   "id": "3c73eec5-4422-4c82-afac-1a96b8e440ea",
   "metadata": {},
   "outputs": [
    {
     "data": {
      "application/json": {
       "bboxSubset": true,
       "capabilitiesVersion": "2",
       "concatenate": false,
       "conceptId": "C1263071067-NSIDC_CUAT",
       "outputFormats": [
        "application/netcdf",
        "application/x-netcdf4",
        "image/tiff"
       ],
       "reproject": true,
       "services": [
        {
         "capabilities": {
          "output_formats": [
           "application/netcdf",
           "application/x-netcdf4",
           "image/tiff"
          ],
          "reprojection": true,
          "subsetting": {
           "bbox": true,
           "dimension": true,
           "shape": true,
           "temporal": true,
           "variable": true
          }
         },
         "href": "https://cmr.uat.earthdata.nasa.gov/search/concepts/S1273752002-EEDTEST",
         "name": "sds/HOSS-regridder-reformatter"
        }
       ],
       "shapeSubset": true,
       "shortName": "SPL3SMP",
       "temporalSubset": true,
       "variableSubset": true,
       "variables": [
        {
         "href": "https://cmr.uat.earthdata.nasa.gov/search/concepts/V1269213680-NSIDC_CUAT",
         "name": "Soil_Moisture_Retrieval_Data_AM/albedo"
        },
        {
         "href": "https://cmr.uat.earthdata.nasa.gov/search/concepts/V1269213682-NSIDC_CUAT",
         "name": "Soil_Moisture_Retrieval_Data_AM/albedo_dca"
        },
        {
         "href": "https://cmr.uat.earthdata.nasa.gov/search/concepts/V1269213684-NSIDC_CUAT",
         "name": "Soil_Moisture_Retrieval_Data_AM/albedo_scah"
        },
        {
         "href": "https://cmr.uat.earthdata.nasa.gov/search/concepts/V1269213686-NSIDC_CUAT",
         "name": "Soil_Moisture_Retrieval_Data_AM/albedo_scav"
        },
        {
         "href": "https://cmr.uat.earthdata.nasa.gov/search/concepts/V1269213688-NSIDC_CUAT",
         "name": "Soil_Moisture_Retrieval_Data_AM/boresight_incidence"
        },
        {
         "href": "https://cmr.uat.earthdata.nasa.gov/search/concepts/V1269213690-NSIDC_CUAT",
         "name": "Soil_Moisture_Retrieval_Data_AM/bulk_density"
        },
        {
         "href": "https://cmr.uat.earthdata.nasa.gov/search/concepts/V1269213692-NSIDC_CUAT",
         "name": "Soil_Moisture_Retrieval_Data_AM/clay_fraction"
        },
        {
         "href": "https://cmr.uat.earthdata.nasa.gov/search/concepts/V1269213676-NSIDC_CUAT",
         "name": "Soil_Moisture_Retrieval_Data_AM/EASE_column_index"
        },
        {
         "href": "https://cmr.uat.earthdata.nasa.gov/search/concepts/V1269213678-NSIDC_CUAT",
         "name": "Soil_Moisture_Retrieval_Data_AM/EASE_row_index"
        },
        {
         "href": "https://cmr.uat.earthdata.nasa.gov/search/concepts/V1269213694-NSIDC_CUAT",
         "name": "Soil_Moisture_Retrieval_Data_AM/freeze_thaw_fraction"
        },
        {
         "href": "https://cmr.uat.earthdata.nasa.gov/search/concepts/V1269213696-NSIDC_CUAT",
         "name": "Soil_Moisture_Retrieval_Data_AM/grid_surface_status"
        },
        {
         "href": "https://cmr.uat.earthdata.nasa.gov/search/concepts/V1269213698-NSIDC_CUAT",
         "name": "Soil_Moisture_Retrieval_Data_AM/landcover_class"
        },
        {
         "href": "https://cmr.uat.earthdata.nasa.gov/search/concepts/V1269213700-NSIDC_CUAT",
         "name": "Soil_Moisture_Retrieval_Data_AM/landcover_class_fraction"
        },
        {
         "href": "https://cmr.uat.earthdata.nasa.gov/search/concepts/V1269213702-NSIDC_CUAT",
         "name": "Soil_Moisture_Retrieval_Data_AM/latitude"
        },
        {
         "href": "https://cmr.uat.earthdata.nasa.gov/search/concepts/V1269213704-NSIDC_CUAT",
         "name": "Soil_Moisture_Retrieval_Data_AM/latitude_centroid"
        },
        {
         "href": "https://cmr.uat.earthdata.nasa.gov/search/concepts/V1269213706-NSIDC_CUAT",
         "name": "Soil_Moisture_Retrieval_Data_AM/longitude"
        },
        {
         "href": "https://cmr.uat.earthdata.nasa.gov/search/concepts/V1269213708-NSIDC_CUAT",
         "name": "Soil_Moisture_Retrieval_Data_AM/longitude_centroid"
        },
        {
         "href": "https://cmr.uat.earthdata.nasa.gov/search/concepts/V1269213710-NSIDC_CUAT",
         "name": "Soil_Moisture_Retrieval_Data_AM/radar_water_body_fraction"
        },
        {
         "href": "https://cmr.uat.earthdata.nasa.gov/search/concepts/V1269213712-NSIDC_CUAT",
         "name": "Soil_Moisture_Retrieval_Data_AM/retrieval_qual_flag"
        },
        {
         "href": "https://cmr.uat.earthdata.nasa.gov/search/concepts/V1269213714-NSIDC_CUAT",
         "name": "Soil_Moisture_Retrieval_Data_AM/retrieval_qual_flag_dca"
        },
        {
         "href": "https://cmr.uat.earthdata.nasa.gov/search/concepts/V1269213716-NSIDC_CUAT",
         "name": "Soil_Moisture_Retrieval_Data_AM/retrieval_qual_flag_scah"
        },
        {
         "href": "https://cmr.uat.earthdata.nasa.gov/search/concepts/V1269213718-NSIDC_CUAT",
         "name": "Soil_Moisture_Retrieval_Data_AM/retrieval_qual_flag_scav"
        },
        {
         "href": "https://cmr.uat.earthdata.nasa.gov/search/concepts/V1269213720-NSIDC_CUAT",
         "name": "Soil_Moisture_Retrieval_Data_AM/roughness_coefficient"
        },
        {
         "href": "https://cmr.uat.earthdata.nasa.gov/search/concepts/V1269213722-NSIDC_CUAT",
         "name": "Soil_Moisture_Retrieval_Data_AM/roughness_coefficient_dca"
        },
        {
         "href": "https://cmr.uat.earthdata.nasa.gov/search/concepts/V1269213724-NSIDC_CUAT",
         "name": "Soil_Moisture_Retrieval_Data_AM/roughness_coefficient_scah"
        },
        {
         "href": "https://cmr.uat.earthdata.nasa.gov/search/concepts/V1269213726-NSIDC_CUAT",
         "name": "Soil_Moisture_Retrieval_Data_AM/roughness_coefficient_scav"
        },
        {
         "href": "https://cmr.uat.earthdata.nasa.gov/search/concepts/V1269213728-NSIDC_CUAT",
         "name": "Soil_Moisture_Retrieval_Data_AM/soil_moisture"
        },
        {
         "href": "https://cmr.uat.earthdata.nasa.gov/search/concepts/V1269213730-NSIDC_CUAT",
         "name": "Soil_Moisture_Retrieval_Data_AM/soil_moisture_dca"
        },
        {
         "href": "https://cmr.uat.earthdata.nasa.gov/search/concepts/V1269213732-NSIDC_CUAT",
         "name": "Soil_Moisture_Retrieval_Data_AM/soil_moisture_error"
        },
        {
         "href": "https://cmr.uat.earthdata.nasa.gov/search/concepts/V1269213734-NSIDC_CUAT",
         "name": "Soil_Moisture_Retrieval_Data_AM/soil_moisture_scah"
        },
        {
         "href": "https://cmr.uat.earthdata.nasa.gov/search/concepts/V1269213736-NSIDC_CUAT",
         "name": "Soil_Moisture_Retrieval_Data_AM/soil_moisture_scav"
        },
        {
         "href": "https://cmr.uat.earthdata.nasa.gov/search/concepts/V1269213738-NSIDC_CUAT",
         "name": "Soil_Moisture_Retrieval_Data_AM/static_water_body_fraction"
        },
        {
         "href": "https://cmr.uat.earthdata.nasa.gov/search/concepts/V1269213740-NSIDC_CUAT",
         "name": "Soil_Moisture_Retrieval_Data_AM/surface_flag"
        },
        {
         "href": "https://cmr.uat.earthdata.nasa.gov/search/concepts/V1269213742-NSIDC_CUAT",
         "name": "Soil_Moisture_Retrieval_Data_AM/surface_temperature"
        },
        {
         "href": "https://cmr.uat.earthdata.nasa.gov/search/concepts/V1269213744-NSIDC_CUAT",
         "name": "Soil_Moisture_Retrieval_Data_AM/surface_water_fraction_mb_h"
        },
        {
         "href": "https://cmr.uat.earthdata.nasa.gov/search/concepts/V1269213746-NSIDC_CUAT",
         "name": "Soil_Moisture_Retrieval_Data_AM/surface_water_fraction_mb_v"
        },
        {
         "href": "https://cmr.uat.earthdata.nasa.gov/search/concepts/V1269213748-NSIDC_CUAT",
         "name": "Soil_Moisture_Retrieval_Data_AM/tb_3_corrected"
        },
        {
         "href": "https://cmr.uat.earthdata.nasa.gov/search/concepts/V1269213750-NSIDC_CUAT",
         "name": "Soil_Moisture_Retrieval_Data_AM/tb_4_corrected"
        },
        {
         "href": "https://cmr.uat.earthdata.nasa.gov/search/concepts/V1269213752-NSIDC_CUAT",
         "name": "Soil_Moisture_Retrieval_Data_AM/tb_h_corrected"
        },
        {
         "href": "https://cmr.uat.earthdata.nasa.gov/search/concepts/V1269213754-NSIDC_CUAT",
         "name": "Soil_Moisture_Retrieval_Data_AM/tb_h_uncorrected"
        },
        {
         "href": "https://cmr.uat.earthdata.nasa.gov/search/concepts/V1269213756-NSIDC_CUAT",
         "name": "Soil_Moisture_Retrieval_Data_AM/tb_qual_flag_3"
        },
        {
         "href": "https://cmr.uat.earthdata.nasa.gov/search/concepts/V1269213758-NSIDC_CUAT",
         "name": "Soil_Moisture_Retrieval_Data_AM/tb_qual_flag_4"
        },
        {
         "href": "https://cmr.uat.earthdata.nasa.gov/search/concepts/V1269213760-NSIDC_CUAT",
         "name": "Soil_Moisture_Retrieval_Data_AM/tb_qual_flag_h"
        },
        {
         "href": "https://cmr.uat.earthdata.nasa.gov/search/concepts/V1269213762-NSIDC_CUAT",
         "name": "Soil_Moisture_Retrieval_Data_AM/tb_qual_flag_v"
        },
        {
         "href": "https://cmr.uat.earthdata.nasa.gov/search/concepts/V1269213764-NSIDC_CUAT",
         "name": "Soil_Moisture_Retrieval_Data_AM/tb_time_seconds"
        },
        {
         "href": "https://cmr.uat.earthdata.nasa.gov/search/concepts/V1269213766-NSIDC_CUAT",
         "name": "Soil_Moisture_Retrieval_Data_AM/tb_time_utc"
        },
        {
         "href": "https://cmr.uat.earthdata.nasa.gov/search/concepts/V1269213768-NSIDC_CUAT",
         "name": "Soil_Moisture_Retrieval_Data_AM/tb_v_corrected"
        },
        {
         "href": "https://cmr.uat.earthdata.nasa.gov/search/concepts/V1269213770-NSIDC_CUAT",
         "name": "Soil_Moisture_Retrieval_Data_AM/tb_v_uncorrected"
        },
        {
         "href": "https://cmr.uat.earthdata.nasa.gov/search/concepts/V1269213772-NSIDC_CUAT",
         "name": "Soil_Moisture_Retrieval_Data_AM/vegetation_opacity"
        },
        {
         "href": "https://cmr.uat.earthdata.nasa.gov/search/concepts/V1269213774-NSIDC_CUAT",
         "name": "Soil_Moisture_Retrieval_Data_AM/vegetation_opacity_dca"
        },
        {
         "href": "https://cmr.uat.earthdata.nasa.gov/search/concepts/V1269213776-NSIDC_CUAT",
         "name": "Soil_Moisture_Retrieval_Data_AM/vegetation_opacity_scah"
        },
        {
         "href": "https://cmr.uat.earthdata.nasa.gov/search/concepts/V1269213778-NSIDC_CUAT",
         "name": "Soil_Moisture_Retrieval_Data_AM/vegetation_opacity_scav"
        },
        {
         "href": "https://cmr.uat.earthdata.nasa.gov/search/concepts/V1269213780-NSIDC_CUAT",
         "name": "Soil_Moisture_Retrieval_Data_AM/vegetation_water_content"
        },
        {
         "href": "https://cmr.uat.earthdata.nasa.gov/search/concepts/V1269213786-NSIDC_CUAT",
         "name": "Soil_Moisture_Retrieval_Data_PM/albedo_dca_pm"
        },
        {
         "href": "https://cmr.uat.earthdata.nasa.gov/search/concepts/V1269213788-NSIDC_CUAT",
         "name": "Soil_Moisture_Retrieval_Data_PM/albedo_pm"
        },
        {
         "href": "https://cmr.uat.earthdata.nasa.gov/search/concepts/V1269213790-NSIDC_CUAT",
         "name": "Soil_Moisture_Retrieval_Data_PM/albedo_scah_pm"
        },
        {
         "href": "https://cmr.uat.earthdata.nasa.gov/search/concepts/V1269213792-NSIDC_CUAT",
         "name": "Soil_Moisture_Retrieval_Data_PM/albedo_scav_pm"
        },
        {
         "href": "https://cmr.uat.earthdata.nasa.gov/search/concepts/V1269213794-NSIDC_CUAT",
         "name": "Soil_Moisture_Retrieval_Data_PM/boresight_incidence_pm"
        },
        {
         "href": "https://cmr.uat.earthdata.nasa.gov/search/concepts/V1269213796-NSIDC_CUAT",
         "name": "Soil_Moisture_Retrieval_Data_PM/bulk_density_pm"
        },
        {
         "href": "https://cmr.uat.earthdata.nasa.gov/search/concepts/V1269213798-NSIDC_CUAT",
         "name": "Soil_Moisture_Retrieval_Data_PM/clay_fraction_pm"
        },
        {
         "href": "https://cmr.uat.earthdata.nasa.gov/search/concepts/V1269213782-NSIDC_CUAT",
         "name": "Soil_Moisture_Retrieval_Data_PM/EASE_column_index_pm"
        },
        {
         "href": "https://cmr.uat.earthdata.nasa.gov/search/concepts/V1269213784-NSIDC_CUAT",
         "name": "Soil_Moisture_Retrieval_Data_PM/EASE_row_index_pm"
        },
        {
         "href": "https://cmr.uat.earthdata.nasa.gov/search/concepts/V1269213800-NSIDC_CUAT",
         "name": "Soil_Moisture_Retrieval_Data_PM/freeze_thaw_fraction_pm"
        },
        {
         "href": "https://cmr.uat.earthdata.nasa.gov/search/concepts/V1269213802-NSIDC_CUAT",
         "name": "Soil_Moisture_Retrieval_Data_PM/grid_surface_status_pm"
        },
        {
         "href": "https://cmr.uat.earthdata.nasa.gov/search/concepts/V1269213804-NSIDC_CUAT",
         "name": "Soil_Moisture_Retrieval_Data_PM/landcover_class_fraction_pm"
        },
        {
         "href": "https://cmr.uat.earthdata.nasa.gov/search/concepts/V1269213806-NSIDC_CUAT",
         "name": "Soil_Moisture_Retrieval_Data_PM/landcover_class_pm"
        },
        {
         "href": "https://cmr.uat.earthdata.nasa.gov/search/concepts/V1269213808-NSIDC_CUAT",
         "name": "Soil_Moisture_Retrieval_Data_PM/latitude_centroid_pm"
        },
        {
         "href": "https://cmr.uat.earthdata.nasa.gov/search/concepts/V1269213810-NSIDC_CUAT",
         "name": "Soil_Moisture_Retrieval_Data_PM/latitude_pm"
        },
        {
         "href": "https://cmr.uat.earthdata.nasa.gov/search/concepts/V1269213812-NSIDC_CUAT",
         "name": "Soil_Moisture_Retrieval_Data_PM/longitude_centroid_pm"
        },
        {
         "href": "https://cmr.uat.earthdata.nasa.gov/search/concepts/V1269213814-NSIDC_CUAT",
         "name": "Soil_Moisture_Retrieval_Data_PM/longitude_pm"
        },
        {
         "href": "https://cmr.uat.earthdata.nasa.gov/search/concepts/V1269213816-NSIDC_CUAT",
         "name": "Soil_Moisture_Retrieval_Data_PM/radar_water_body_fraction_pm"
        },
        {
         "href": "https://cmr.uat.earthdata.nasa.gov/search/concepts/V1269213818-NSIDC_CUAT",
         "name": "Soil_Moisture_Retrieval_Data_PM/retrieval_qual_flag_dca_pm"
        },
        {
         "href": "https://cmr.uat.earthdata.nasa.gov/search/concepts/V1269213820-NSIDC_CUAT",
         "name": "Soil_Moisture_Retrieval_Data_PM/retrieval_qual_flag_pm"
        },
        {
         "href": "https://cmr.uat.earthdata.nasa.gov/search/concepts/V1269213822-NSIDC_CUAT",
         "name": "Soil_Moisture_Retrieval_Data_PM/retrieval_qual_flag_scah_pm"
        },
        {
         "href": "https://cmr.uat.earthdata.nasa.gov/search/concepts/V1269213824-NSIDC_CUAT",
         "name": "Soil_Moisture_Retrieval_Data_PM/retrieval_qual_flag_scav_pm"
        },
        {
         "href": "https://cmr.uat.earthdata.nasa.gov/search/concepts/V1269213826-NSIDC_CUAT",
         "name": "Soil_Moisture_Retrieval_Data_PM/roughness_coefficient_dca_pm"
        },
        {
         "href": "https://cmr.uat.earthdata.nasa.gov/search/concepts/V1269213828-NSIDC_CUAT",
         "name": "Soil_Moisture_Retrieval_Data_PM/roughness_coefficient_pm"
        },
        {
         "href": "https://cmr.uat.earthdata.nasa.gov/search/concepts/V1269213830-NSIDC_CUAT",
         "name": "Soil_Moisture_Retrieval_Data_PM/roughness_coefficient_scah_pm"
        },
        {
         "href": "https://cmr.uat.earthdata.nasa.gov/search/concepts/V1269213832-NSIDC_CUAT",
         "name": "Soil_Moisture_Retrieval_Data_PM/roughness_coefficient_scav_pm"
        },
        {
         "href": "https://cmr.uat.earthdata.nasa.gov/search/concepts/V1269213834-NSIDC_CUAT",
         "name": "Soil_Moisture_Retrieval_Data_PM/soil_moisture_dca_pm"
        },
        {
         "href": "https://cmr.uat.earthdata.nasa.gov/search/concepts/V1269213836-NSIDC_CUAT",
         "name": "Soil_Moisture_Retrieval_Data_PM/soil_moisture_error_pm"
        },
        {
         "href": "https://cmr.uat.earthdata.nasa.gov/search/concepts/V1269213838-NSIDC_CUAT",
         "name": "Soil_Moisture_Retrieval_Data_PM/soil_moisture_pm"
        },
        {
         "href": "https://cmr.uat.earthdata.nasa.gov/search/concepts/V1269213840-NSIDC_CUAT",
         "name": "Soil_Moisture_Retrieval_Data_PM/soil_moisture_scah_pm"
        },
        {
         "href": "https://cmr.uat.earthdata.nasa.gov/search/concepts/V1269213842-NSIDC_CUAT",
         "name": "Soil_Moisture_Retrieval_Data_PM/soil_moisture_scav_pm"
        },
        {
         "href": "https://cmr.uat.earthdata.nasa.gov/search/concepts/V1269213844-NSIDC_CUAT",
         "name": "Soil_Moisture_Retrieval_Data_PM/static_water_body_fraction_pm"
        },
        {
         "href": "https://cmr.uat.earthdata.nasa.gov/search/concepts/V1269213846-NSIDC_CUAT",
         "name": "Soil_Moisture_Retrieval_Data_PM/surface_flag_pm"
        },
        {
         "href": "https://cmr.uat.earthdata.nasa.gov/search/concepts/V1269213848-NSIDC_CUAT",
         "name": "Soil_Moisture_Retrieval_Data_PM/surface_temperature_pm"
        },
        {
         "href": "https://cmr.uat.earthdata.nasa.gov/search/concepts/V1269213850-NSIDC_CUAT",
         "name": "Soil_Moisture_Retrieval_Data_PM/surface_water_fraction_mb_h_pm"
        },
        {
         "href": "https://cmr.uat.earthdata.nasa.gov/search/concepts/V1269213852-NSIDC_CUAT",
         "name": "Soil_Moisture_Retrieval_Data_PM/surface_water_fraction_mb_v_pm"
        },
        {
         "href": "https://cmr.uat.earthdata.nasa.gov/search/concepts/V1269213854-NSIDC_CUAT",
         "name": "Soil_Moisture_Retrieval_Data_PM/tb_3_corrected_pm"
        },
        {
         "href": "https://cmr.uat.earthdata.nasa.gov/search/concepts/V1269213856-NSIDC_CUAT",
         "name": "Soil_Moisture_Retrieval_Data_PM/tb_4_corrected_pm"
        },
        {
         "href": "https://cmr.uat.earthdata.nasa.gov/search/concepts/V1269213858-NSIDC_CUAT",
         "name": "Soil_Moisture_Retrieval_Data_PM/tb_h_corrected_pm"
        },
        {
         "href": "https://cmr.uat.earthdata.nasa.gov/search/concepts/V1269213860-NSIDC_CUAT",
         "name": "Soil_Moisture_Retrieval_Data_PM/tb_h_uncorrected_pm"
        },
        {
         "href": "https://cmr.uat.earthdata.nasa.gov/search/concepts/V1269213862-NSIDC_CUAT",
         "name": "Soil_Moisture_Retrieval_Data_PM/tb_qual_flag_3_pm"
        },
        {
         "href": "https://cmr.uat.earthdata.nasa.gov/search/concepts/V1269213864-NSIDC_CUAT",
         "name": "Soil_Moisture_Retrieval_Data_PM/tb_qual_flag_4_pm"
        },
        {
         "href": "https://cmr.uat.earthdata.nasa.gov/search/concepts/V1269213866-NSIDC_CUAT",
         "name": "Soil_Moisture_Retrieval_Data_PM/tb_qual_flag_h_pm"
        },
        {
         "href": "https://cmr.uat.earthdata.nasa.gov/search/concepts/V1269213868-NSIDC_CUAT",
         "name": "Soil_Moisture_Retrieval_Data_PM/tb_qual_flag_v_pm"
        },
        {
         "href": "https://cmr.uat.earthdata.nasa.gov/search/concepts/V1269213870-NSIDC_CUAT",
         "name": "Soil_Moisture_Retrieval_Data_PM/tb_time_seconds_pm"
        },
        {
         "href": "https://cmr.uat.earthdata.nasa.gov/search/concepts/V1269213872-NSIDC_CUAT",
         "name": "Soil_Moisture_Retrieval_Data_PM/tb_time_utc_pm"
        },
        {
         "href": "https://cmr.uat.earthdata.nasa.gov/search/concepts/V1269213874-NSIDC_CUAT",
         "name": "Soil_Moisture_Retrieval_Data_PM/tb_v_corrected_pm"
        },
        {
         "href": "https://cmr.uat.earthdata.nasa.gov/search/concepts/V1269213876-NSIDC_CUAT",
         "name": "Soil_Moisture_Retrieval_Data_PM/tb_v_uncorrected_pm"
        },
        {
         "href": "https://cmr.uat.earthdata.nasa.gov/search/concepts/V1269213878-NSIDC_CUAT",
         "name": "Soil_Moisture_Retrieval_Data_PM/vegetation_opacity_dca_pm"
        },
        {
         "href": "https://cmr.uat.earthdata.nasa.gov/search/concepts/V1269213880-NSIDC_CUAT",
         "name": "Soil_Moisture_Retrieval_Data_PM/vegetation_opacity_pm"
        },
        {
         "href": "https://cmr.uat.earthdata.nasa.gov/search/concepts/V1269213882-NSIDC_CUAT",
         "name": "Soil_Moisture_Retrieval_Data_PM/vegetation_opacity_scah_pm"
        },
        {
         "href": "https://cmr.uat.earthdata.nasa.gov/search/concepts/V1269213884-NSIDC_CUAT",
         "name": "Soil_Moisture_Retrieval_Data_PM/vegetation_opacity_scav_pm"
        },
        {
         "href": "https://cmr.uat.earthdata.nasa.gov/search/concepts/V1269213886-NSIDC_CUAT",
         "name": "Soil_Moisture_Retrieval_Data_PM/vegetation_water_content_pm"
        }
       ]
      },
      "text/plain": [
       "<IPython.core.display.JSON object>"
      ]
     },
     "execution_count": 32,
     "metadata": {
      "application/json": {
       "expanded": false,
       "root": "root"
      }
     },
     "output_type": "execute_result"
    }
   ],
   "source": [
    "capabilities = harmony_client.submit(capabilities_request)\n",
    "JSON(capabilities)"
   ]
  },
  {
   "cell_type": "markdown",
   "id": "74cbe40e-9f5b-4f31-9341-89d79d062a52",
   "metadata": {},
   "source": [
    "Create and submit your Harmony customization request."
   ]
  },
  {
   "cell_type": "code",
   "execution_count": 33,
   "id": "0235eb49-ae19-449e-8b0c-0915b197fde1",
   "metadata": {},
   "outputs": [
    {
     "data": {
      "text/plain": [
       "True"
      ]
     },
     "execution_count": 33,
     "metadata": {},
     "output_type": "execute_result"
    }
   ],
   "source": [
    "request = Request(\n",
    "    collection = Collection(id=capabilities[\"conceptId\"]),\n",
    "    granule_name = ['SMAP_L3_SM_P_20231212_R19240_001.h5'],\n",
    "    spatial = BBox(-93, 30, -77, 45),\n",
    "    variables = ['Soil_Moisture_Retrieval_Data_AM/soil_moisture'],\n",
    "    crs='EPSG:4326',\n",
    "    format ='image/tiff'\n",
    ")\n",
    "\n",
    "request.is_valid()"
   ]
  },
  {
   "cell_type": "code",
   "execution_count": 34,
   "id": "e42d4c65-96d3-41af-aaf8-10b29b23bec5",
   "metadata": {},
   "outputs": [
    {
     "name": "stderr",
     "output_type": "stream",
     "text": [
      " [ Processing: 100% ] |###################################################| [|]\n"
     ]
    }
   ],
   "source": [
    "job_id = harmony_client.submit(request)\n",
    "job_id\n",
    "\n",
    "harmony_client.wait_for_processing(job_id, show_progress=True)"
   ]
  },
  {
   "cell_type": "markdown",
   "id": "c6edd0a0-2e7a-4341-89d4-b2bc9eefe82f",
   "metadata": {},
   "source": [
    "Access job information."
   ]
  },
  {
   "cell_type": "code",
   "execution_count": 35,
   "id": "1edb3e22-8bcf-4ebe-8834-49c38bff68a9",
   "metadata": {},
   "outputs": [
    {
     "data": {
      "application/json": {
       "createdAt": "2025-09-17T14:28:08.073Z",
       "dataExpiration": "2025-10-17T14:28:08.073Z",
       "jobID": "64e77489-2d45-4fa8-a08b-78d5cee3018b",
       "labels": [
        "harmony-py"
       ],
       "links": [
        {
         "href": "https://harmony.uat.earthdata.nasa.gov/stac/64e77489-2d45-4fa8-a08b-78d5cee3018b/",
         "rel": "stac-catalog-json",
         "title": "STAC catalog",
         "type": "application/json"
        },
        {
         "bbox": [
          -180,
          -85.04450225830078,
          180,
          85.04450225830078
         ],
         "href": "https://harmony.uat.earthdata.nasa.gov/service-results/harmony-uat-staging/public/64e77489-2d45-4fa8-a08b-78d5cee3018b/7894457/SMAP_L3_SM_P_20231212_R19240_001_Soil_Moisture_Retrieval_Data_AM_soil_moisture_subsetted_regridded_Soil_Moisture_Retrieval_Data_AM_soil_moisture_reformatted.tif",
         "rel": "data",
         "temporal": {
          "end": "2023-12-12T23:59:59.999Z",
          "start": "2023-12-12T00:00:00.000Z"
         },
         "title": "SMAP_L3_SM_P_20231212_R19240_001_Soil_Moisture_Retrieval_Data_AM_soil_moisture_subsetted_regridded_Soil_Moisture_Retrieval_Data_AM_soil_moisture_reformatted.tif",
         "type": "image/tiff; application=geotiff; profile=cloud-optimized"
        },
        {
         "href": "https://harmony.uat.earthdata.nasa.gov/jobs/64e77489-2d45-4fa8-a08b-78d5cee3018b?linktype=https&page=1&limit=2000",
         "rel": "self",
         "title": "The current page",
         "type": "application/json"
        }
       ],
       "message": "The job has completed successfully",
       "numInputGranules": 1,
       "progress": 100,
       "request": "https://harmony.uat.earthdata.nasa.gov/C1263071067-NSIDC_CUAT/ogc-api-coverages/1.0.0/collections/parameter_vars/coverage/rangeset?forceAsync=true&subset=lat(30%3A45)&subset=lon(-93%3A-77)&label=harmony-py&outputcrs=EPSG%3A4326&granuleName=SMAP_L3_SM_P_20231212_R19240_001.h5&format=image%2Ftiff&variable=Soil_Moisture_Retrieval_Data_AM%2Fsoil_moisture",
       "status": "successful",
       "updatedAt": "2025-09-17T14:28:29.166Z",
       "username": "mbeig"
      },
      "text/plain": [
       "<IPython.core.display.JSON object>"
      ]
     },
     "execution_count": 35,
     "metadata": {
      "application/json": {
       "expanded": false,
       "root": "root"
      }
     },
     "output_type": "execute_result"
    }
   ],
   "source": [
    "job_summary = harmony_client.result_json(job_id)\n",
    "JSON(job_summary)"
   ]
  },
  {
   "cell_type": "markdown",
   "id": "abd1ef23-65e6-48cc-a7b0-75945c4073a4",
   "metadata": {},
   "source": [
    "Access the data by downloading or via direct access from an AWS ec2 instance in region us-west-2."
   ]
  },
  {
   "cell_type": "markdown",
   "id": "c44c55a9-7b43-4bcf-ac9a-6cc4e196e54d",
   "metadata": {},
   "source": [
    "#### SMAP L4 data and Harmony example\n",
    "\n",
    "##### Spatial subsetting.  Note that the output of this subsetter will be a netcdf file, even if no reformatting is requested."
   ]
  },
  {
   "cell_type": "markdown",
   "id": "ad6d823b-58c9-4716-a055-71e997f200c8",
   "metadata": {},
   "source": [
    "Submit a CapabilitiesRequest to discover service options for a SMAP L4 data set (SMAP L4 Global Daily 9 km EASE-Grid Carbon Net Ecosystem Exchange, Version 8)."
   ]
  },
  {
   "cell_type": "code",
   "execution_count": 36,
   "id": "a333af29-ffd3-438f-9d2f-b746d129a66a",
   "metadata": {},
   "outputs": [],
   "source": [
    "short_name = \"SPL4CMDL\"\n",
    "capabilities_request = CapabilitiesRequest(short_name=short_name)"
   ]
  },
  {
   "cell_type": "markdown",
   "id": "8e2148f9-cec3-4d01-9cc2-ec70f59ba60f",
   "metadata": {},
   "source": [
    "Submit the capabilities request and display in JSON format."
   ]
  },
  {
   "cell_type": "code",
   "execution_count": 37,
   "id": "8d3aae64-85e3-4008-9a80-2f4d9a8787a8",
   "metadata": {},
   "outputs": [
    {
     "data": {
      "application/json": {
       "bboxSubset": true,
       "capabilitiesVersion": "2",
       "concatenate": false,
       "conceptId": "C1273193292-NSIDC_CUAT",
       "outputFormats": [
        "application/netcdf",
        "application/x-netcdf4",
        "image/tiff"
       ],
       "reproject": true,
       "services": [
        {
         "capabilities": {
          "output_formats": [
           "application/netcdf",
           "application/x-netcdf4",
           "image/tiff"
          ],
          "reprojection": true,
          "subsetting": {
           "bbox": true,
           "dimension": true,
           "shape": true,
           "temporal": true,
           "variable": true
          }
         },
         "href": "https://cmr.uat.earthdata.nasa.gov/search/concepts/S1273752002-EEDTEST",
         "name": "sds/HOSS-regridder-reformatter"
        }
       ],
       "shapeSubset": true,
       "shortName": "SPL4CMDL",
       "temporalSubset": true,
       "variableSubset": true,
       "variables": [
        {
         "href": "https://cmr.uat.earthdata.nasa.gov/search/concepts/V1273440064-NSIDC_CUAT",
         "name": "EASE2_global_projection"
        },
        {
         "href": "https://cmr.uat.earthdata.nasa.gov/search/concepts/V1273440070-NSIDC_CUAT",
         "name": "EC/emult_mean"
        },
        {
         "href": "https://cmr.uat.earthdata.nasa.gov/search/concepts/V1273440072-NSIDC_CUAT",
         "name": "EC/frozen_area"
        },
        {
         "href": "https://cmr.uat.earthdata.nasa.gov/search/concepts/V1273440074-NSIDC_CUAT",
         "name": "EC/tmult_mean"
        },
        {
         "href": "https://cmr.uat.earthdata.nasa.gov/search/concepts/V1273440076-NSIDC_CUAT",
         "name": "EC/wmult_mean"
        },
        {
         "href": "https://cmr.uat.earthdata.nasa.gov/search/concepts/V1273440078-NSIDC_CUAT",
         "name": "GEO/latitude"
        },
        {
         "href": "https://cmr.uat.earthdata.nasa.gov/search/concepts/V1273440080-NSIDC_CUAT",
         "name": "GEO/longitude"
        },
        {
         "href": "https://cmr.uat.earthdata.nasa.gov/search/concepts/V1273440082-NSIDC_CUAT",
         "name": "GPP/gpp_mean"
        },
        {
         "href": "https://cmr.uat.earthdata.nasa.gov/search/concepts/V1273440084-NSIDC_CUAT",
         "name": "GPP/gpp_pft1_mean"
        },
        {
         "href": "https://cmr.uat.earthdata.nasa.gov/search/concepts/V1273440086-NSIDC_CUAT",
         "name": "GPP/gpp_pft2_mean"
        },
        {
         "href": "https://cmr.uat.earthdata.nasa.gov/search/concepts/V1273440088-NSIDC_CUAT",
         "name": "GPP/gpp_pft3_mean"
        },
        {
         "href": "https://cmr.uat.earthdata.nasa.gov/search/concepts/V1273440090-NSIDC_CUAT",
         "name": "GPP/gpp_pft4_mean"
        },
        {
         "href": "https://cmr.uat.earthdata.nasa.gov/search/concepts/V1273440092-NSIDC_CUAT",
         "name": "GPP/gpp_pft5_mean"
        },
        {
         "href": "https://cmr.uat.earthdata.nasa.gov/search/concepts/V1273440094-NSIDC_CUAT",
         "name": "GPP/gpp_pft6_mean"
        },
        {
         "href": "https://cmr.uat.earthdata.nasa.gov/search/concepts/V1273440096-NSIDC_CUAT",
         "name": "GPP/gpp_pft7_mean"
        },
        {
         "href": "https://cmr.uat.earthdata.nasa.gov/search/concepts/V1273440098-NSIDC_CUAT",
         "name": "GPP/gpp_pft8_mean"
        },
        {
         "href": "https://cmr.uat.earthdata.nasa.gov/search/concepts/V1273440100-NSIDC_CUAT",
         "name": "GPP/gpp_std_dev"
        },
        {
         "href": "https://cmr.uat.earthdata.nasa.gov/search/concepts/V1273440102-NSIDC_CUAT",
         "name": "NEE/nee_mean"
        },
        {
         "href": "https://cmr.uat.earthdata.nasa.gov/search/concepts/V1273440104-NSIDC_CUAT",
         "name": "NEE/nee_pft1_mean"
        },
        {
         "href": "https://cmr.uat.earthdata.nasa.gov/search/concepts/V1273440106-NSIDC_CUAT",
         "name": "NEE/nee_pft2_mean"
        },
        {
         "href": "https://cmr.uat.earthdata.nasa.gov/search/concepts/V1273440108-NSIDC_CUAT",
         "name": "NEE/nee_pft3_mean"
        },
        {
         "href": "https://cmr.uat.earthdata.nasa.gov/search/concepts/V1273440110-NSIDC_CUAT",
         "name": "NEE/nee_pft4_mean"
        },
        {
         "href": "https://cmr.uat.earthdata.nasa.gov/search/concepts/V1273440112-NSIDC_CUAT",
         "name": "NEE/nee_pft5_mean"
        },
        {
         "href": "https://cmr.uat.earthdata.nasa.gov/search/concepts/V1273440114-NSIDC_CUAT",
         "name": "NEE/nee_pft6_mean"
        },
        {
         "href": "https://cmr.uat.earthdata.nasa.gov/search/concepts/V1273440116-NSIDC_CUAT",
         "name": "NEE/nee_pft7_mean"
        },
        {
         "href": "https://cmr.uat.earthdata.nasa.gov/search/concepts/V1273440118-NSIDC_CUAT",
         "name": "NEE/nee_pft8_mean"
        },
        {
         "href": "https://cmr.uat.earthdata.nasa.gov/search/concepts/V1273440120-NSIDC_CUAT",
         "name": "NEE/nee_std_dev"
        },
        {
         "href": "https://cmr.uat.earthdata.nasa.gov/search/concepts/V1273440122-NSIDC_CUAT",
         "name": "QA/carbon_model_bitflag"
        },
        {
         "href": "https://cmr.uat.earthdata.nasa.gov/search/concepts/V1273440124-NSIDC_CUAT",
         "name": "QA/nee_rmse_mean"
        },
        {
         "href": "https://cmr.uat.earthdata.nasa.gov/search/concepts/V1273440126-NSIDC_CUAT",
         "name": "QA/nee_rmse_pft1_mean"
        },
        {
         "href": "https://cmr.uat.earthdata.nasa.gov/search/concepts/V1273440128-NSIDC_CUAT",
         "name": "QA/nee_rmse_pft2_mean"
        },
        {
         "href": "https://cmr.uat.earthdata.nasa.gov/search/concepts/V1273440130-NSIDC_CUAT",
         "name": "QA/nee_rmse_pft3_mean"
        },
        {
         "href": "https://cmr.uat.earthdata.nasa.gov/search/concepts/V1273440132-NSIDC_CUAT",
         "name": "QA/nee_rmse_pft4_mean"
        },
        {
         "href": "https://cmr.uat.earthdata.nasa.gov/search/concepts/V1273440134-NSIDC_CUAT",
         "name": "QA/nee_rmse_pft5_mean"
        },
        {
         "href": "https://cmr.uat.earthdata.nasa.gov/search/concepts/V1273440136-NSIDC_CUAT",
         "name": "QA/nee_rmse_pft6_mean"
        },
        {
         "href": "https://cmr.uat.earthdata.nasa.gov/search/concepts/V1273440138-NSIDC_CUAT",
         "name": "QA/nee_rmse_pft7_mean"
        },
        {
         "href": "https://cmr.uat.earthdata.nasa.gov/search/concepts/V1273440140-NSIDC_CUAT",
         "name": "QA/nee_rmse_pft8_mean"
        },
        {
         "href": "https://cmr.uat.earthdata.nasa.gov/search/concepts/V1273440142-NSIDC_CUAT",
         "name": "QA/qa_count"
        },
        {
         "href": "https://cmr.uat.earthdata.nasa.gov/search/concepts/V1273440144-NSIDC_CUAT",
         "name": "QA/qa_count_pft1"
        },
        {
         "href": "https://cmr.uat.earthdata.nasa.gov/search/concepts/V1273440146-NSIDC_CUAT",
         "name": "QA/qa_count_pft2"
        },
        {
         "href": "https://cmr.uat.earthdata.nasa.gov/search/concepts/V1273440148-NSIDC_CUAT",
         "name": "QA/qa_count_pft3"
        },
        {
         "href": "https://cmr.uat.earthdata.nasa.gov/search/concepts/V1273440150-NSIDC_CUAT",
         "name": "QA/qa_count_pft4"
        },
        {
         "href": "https://cmr.uat.earthdata.nasa.gov/search/concepts/V1273440152-NSIDC_CUAT",
         "name": "QA/qa_count_pft5"
        },
        {
         "href": "https://cmr.uat.earthdata.nasa.gov/search/concepts/V1273440154-NSIDC_CUAT",
         "name": "QA/qa_count_pft6"
        },
        {
         "href": "https://cmr.uat.earthdata.nasa.gov/search/concepts/V1273440156-NSIDC_CUAT",
         "name": "QA/qa_count_pft7"
        },
        {
         "href": "https://cmr.uat.earthdata.nasa.gov/search/concepts/V1273440158-NSIDC_CUAT",
         "name": "QA/qa_count_pft8"
        },
        {
         "href": "https://cmr.uat.earthdata.nasa.gov/search/concepts/V1273440160-NSIDC_CUAT",
         "name": "RH/rh_mean"
        },
        {
         "href": "https://cmr.uat.earthdata.nasa.gov/search/concepts/V1273440162-NSIDC_CUAT",
         "name": "RH/rh_pft1_mean"
        },
        {
         "href": "https://cmr.uat.earthdata.nasa.gov/search/concepts/V1273440164-NSIDC_CUAT",
         "name": "RH/rh_pft2_mean"
        },
        {
         "href": "https://cmr.uat.earthdata.nasa.gov/search/concepts/V1273440166-NSIDC_CUAT",
         "name": "RH/rh_pft3_mean"
        },
        {
         "href": "https://cmr.uat.earthdata.nasa.gov/search/concepts/V1273440168-NSIDC_CUAT",
         "name": "RH/rh_pft4_mean"
        },
        {
         "href": "https://cmr.uat.earthdata.nasa.gov/search/concepts/V1273440170-NSIDC_CUAT",
         "name": "RH/rh_pft5_mean"
        },
        {
         "href": "https://cmr.uat.earthdata.nasa.gov/search/concepts/V1273440177-NSIDC_CUAT",
         "name": "RH/rh_pft6_mean"
        },
        {
         "href": "https://cmr.uat.earthdata.nasa.gov/search/concepts/V1273440187-NSIDC_CUAT",
         "name": "RH/rh_pft7_mean"
        },
        {
         "href": "https://cmr.uat.earthdata.nasa.gov/search/concepts/V1273440200-NSIDC_CUAT",
         "name": "RH/rh_pft8_mean"
        },
        {
         "href": "https://cmr.uat.earthdata.nasa.gov/search/concepts/V1273440209-NSIDC_CUAT",
         "name": "RH/rh_std_dev"
        },
        {
         "href": "https://cmr.uat.earthdata.nasa.gov/search/concepts/V1273440217-NSIDC_CUAT",
         "name": "SOC/soc_mean"
        },
        {
         "href": "https://cmr.uat.earthdata.nasa.gov/search/concepts/V1273440230-NSIDC_CUAT",
         "name": "SOC/soc_pft1_mean"
        },
        {
         "href": "https://cmr.uat.earthdata.nasa.gov/search/concepts/V1273440243-NSIDC_CUAT",
         "name": "SOC/soc_pft2_mean"
        },
        {
         "href": "https://cmr.uat.earthdata.nasa.gov/search/concepts/V1273440251-NSIDC_CUAT",
         "name": "SOC/soc_pft3_mean"
        },
        {
         "href": "https://cmr.uat.earthdata.nasa.gov/search/concepts/V1273440256-NSIDC_CUAT",
         "name": "SOC/soc_pft4_mean"
        },
        {
         "href": "https://cmr.uat.earthdata.nasa.gov/search/concepts/V1273440264-NSIDC_CUAT",
         "name": "SOC/soc_pft5_mean"
        },
        {
         "href": "https://cmr.uat.earthdata.nasa.gov/search/concepts/V1273440273-NSIDC_CUAT",
         "name": "SOC/soc_pft6_mean"
        },
        {
         "href": "https://cmr.uat.earthdata.nasa.gov/search/concepts/V1273440281-NSIDC_CUAT",
         "name": "SOC/soc_pft7_mean"
        },
        {
         "href": "https://cmr.uat.earthdata.nasa.gov/search/concepts/V1273440288-NSIDC_CUAT",
         "name": "SOC/soc_pft8_mean"
        },
        {
         "href": "https://cmr.uat.earthdata.nasa.gov/search/concepts/V1273440299-NSIDC_CUAT",
         "name": "SOC/soc_std_dev"
        },
        {
         "href": "https://cmr.uat.earthdata.nasa.gov/search/concepts/V1273440066-NSIDC_CUAT",
         "name": "x"
        },
        {
         "href": "https://cmr.uat.earthdata.nasa.gov/search/concepts/V1273440068-NSIDC_CUAT",
         "name": "y"
        }
       ]
      },
      "text/plain": [
       "<IPython.core.display.JSON object>"
      ]
     },
     "execution_count": 37,
     "metadata": {
      "application/json": {
       "expanded": false,
       "root": "root"
      }
     },
     "output_type": "execute_result"
    }
   ],
   "source": [
    "capabilities = harmony_client.submit(capabilities_request)\n",
    "JSON(capabilities)"
   ]
  },
  {
   "cell_type": "markdown",
   "id": "0b705079-667e-46c3-9d94-7a8a44e5cb06",
   "metadata": {},
   "source": [
    "Create the Harmony request."
   ]
  },
  {
   "cell_type": "code",
   "execution_count": 38,
   "id": "03e2e7f8-c254-4688-ba2b-3712f69510e0",
   "metadata": {},
   "outputs": [
    {
     "data": {
      "text/plain": [
       "True"
      ]
     },
     "execution_count": 38,
     "metadata": {},
     "output_type": "execute_result"
    }
   ],
   "source": [
    "request = Request(\n",
    "    collection = Collection(id=capabilities[\"conceptId\"]),\n",
    "    granule_name = ['SMAP_L4_C_mdl_20150401T000000_Vv8020_001.h5'],\n",
    "    spatial = BBox(-127.0, 25.0, -65.0, 49.8)\n",
    ")\n",
    "\n",
    "request.is_valid()"
   ]
  },
  {
   "cell_type": "markdown",
   "id": "24e50e8c-2f4c-4e41-9eeb-ab473667e62c",
   "metadata": {},
   "source": [
    "Submit the request."
   ]
  },
  {
   "cell_type": "code",
   "execution_count": 39,
   "id": "2202018f-4348-4dcb-928d-804119e58e9b",
   "metadata": {},
   "outputs": [
    {
     "name": "stderr",
     "output_type": "stream",
     "text": [
      " [ Processing: 100% ] |###################################################| [|]\n"
     ]
    }
   ],
   "source": [
    "job_id = harmony_client.submit(request)\n",
    "job_id\n",
    "\n",
    "harmony_client.wait_for_processing(job_id, show_progress=True)"
   ]
  },
  {
   "cell_type": "markdown",
   "id": "5775e238-446e-4dc2-bae6-d92fea963e36",
   "metadata": {},
   "source": [
    "Access job information."
   ]
  },
  {
   "cell_type": "code",
   "execution_count": 40,
   "id": "cb5dc7c9-830e-4a5c-8e0b-ff407e6a4edd",
   "metadata": {},
   "outputs": [
    {
     "data": {
      "application/json": {
       "createdAt": "2025-09-17T14:35:48.218Z",
       "dataExpiration": "2025-10-17T14:35:48.218Z",
       "dataSizePercentChange": "91.85% reduction",
       "jobID": "46422e1b-8461-49d7-b606-09eef06d8032",
       "labels": [
        "harmony-py"
       ],
       "links": [
        {
         "href": "https://harmony.uat.earthdata.nasa.gov/stac/46422e1b-8461-49d7-b606-09eef06d8032/",
         "rel": "stac-catalog-json",
         "title": "STAC catalog",
         "type": "application/json"
        },
        {
         "bbox": [
          -180,
          -85.04456,
          180,
          85.04456
         ],
         "href": "https://harmony.uat.earthdata.nasa.gov/service-results/harmony-uat-staging/public/46422e1b-8461-49d7-b606-09eef06d8032/7894466/SMAP_L4_C_mdl_20150401T000000_Vv8020_001_subsetted.nc4",
         "rel": "data",
         "temporal": {
          "end": "2015-04-01T23:59:59.999Z",
          "start": "2015-04-01T00:00:00.000Z"
         },
         "title": "SMAP_L4_C_mdl_20150401T000000_Vv8020_001_subsetted.nc4",
         "type": "application/x-netcdf"
        },
        {
         "href": "https://harmony.uat.earthdata.nasa.gov/jobs/46422e1b-8461-49d7-b606-09eef06d8032?linktype=https&page=1&limit=2000",
         "rel": "self",
         "title": "The current page",
         "type": "application/json"
        }
       ],
       "message": "The job has completed successfully",
       "numInputGranules": 1,
       "originalDataSize": "135.03 MiB",
       "outputDataSize": "11.01 MiB",
       "progress": 100,
       "request": "https://harmony.uat.earthdata.nasa.gov/C1273193292-NSIDC_CUAT/ogc-api-coverages/1.0.0/collections/parameter_vars/coverage/rangeset?forceAsync=true&subset=lat(25.0%3A49.8)&subset=lon(-127.0%3A-65.0)&label=harmony-py&granuleName=SMAP_L4_C_mdl_20150401T000000_Vv8020_001.h5&variable=all",
       "status": "successful",
       "updatedAt": "2025-09-17T14:36:20.375Z",
       "username": "mbeig"
      },
      "text/plain": [
       "<IPython.core.display.JSON object>"
      ]
     },
     "execution_count": 40,
     "metadata": {
      "application/json": {
       "expanded": false,
       "root": "root"
      }
     },
     "output_type": "execute_result"
    }
   ],
   "source": [
    "job_summary = harmony_client.result_json(job_id)\n",
    "JSON(job_summary)"
   ]
  },
  {
   "cell_type": "markdown",
   "id": "b816e87a-e0ef-4be3-98d0-1523f6c9b496",
   "metadata": {},
   "source": [
    "Download the netcdf file."
   ]
  },
  {
   "cell_type": "code",
   "execution_count": 42,
   "id": "76b41a8e-aba6-4476-a249-5d920c56303a",
   "metadata": {},
   "outputs": [
    {
     "data": {
      "text/plain": [
       "'./7894466_SMAP_L4_C_mdl_20150401T000000_Vv8020_001_subsetted.nc4'"
      ]
     },
     "execution_count": 42,
     "metadata": {},
     "output_type": "execute_result"
    }
   ],
   "source": [
    "futures = harmony_client.download_all(job_id, directory=\".\", overwrite=True)\n",
    "filelist = [f.result() for f in futures]  # get filepaths\n",
    "len(filelist)\n",
    "filelist[0]"
   ]
  },
  {
   "cell_type": "code",
   "execution_count": null,
   "id": "a46463d5-978a-4dfb-8944-7edf711cf7ae",
   "metadata": {},
   "outputs": [],
   "source": []
  }
 ],
 "metadata": {
  "kernelspec": {
   "display_name": "Python 3 (ipykernel)",
   "language": "python",
   "name": "python3"
  },
  "language_info": {
   "codemirror_mode": {
    "name": "ipython",
    "version": 3
   },
   "file_extension": ".py",
   "mimetype": "text/x-python",
   "name": "python",
   "nbconvert_exporter": "python",
   "pygments_lexer": "ipython3",
   "version": "3.11.13"
  }
 },
 "nbformat": 4,
 "nbformat_minor": 5
}
