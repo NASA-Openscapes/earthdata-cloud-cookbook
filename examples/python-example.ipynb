{
  "metadata": {
    "kernelspec": {
      "name": "python3",
      "language": "python",
      "display_name": "Python 3"
    }
  },
  "cells": [
    {
      "cell_type": "raw",
      "metadata": {},
      "source": [
        "---\n",
        "title: Python example with Quarto\n",
        "---"
      ],
      "id": "214212c8"
    },
    {
      "cell_type": "markdown",
      "metadata": {},
      "source": [
        "This is a .qmd file. I write prose here, using keyboard shortcuts or clicking above **to make text bold** and other formatting.\n",
        "\n",
        "As I develop I'll interactively run the following, but can set up caching so that it doesn't execute the code"
      ],
      "id": "cec3935c"
    },
    {
      "cell_type": "code",
      "metadata": {},
      "source": [
        "import numpy as np\n",
        "import matplotlib.pyplot as plt\n",
        "\n",
        "r = np.arange(0, 2, 0.01)\n",
        "theta = 2 * np.pi * r\n",
        "fig, ax = plt.subplots(subplot_kw={'projection': 'polar'})\n",
        "ax.plot(theta, r)\n",
        "ax.set_rticks([0.5, 1, 1.5, 2])\n",
        "ax.grid(True)\n",
        "plt.show()"
      ],
      "id": "e9857f4f",
      "execution_count": null,
      "outputs": []
    },
    {
      "cell_type": "markdown",
      "metadata": {},
      "source": [
        "text boxes like this one are in **markdown**"
      ],
      "id": "bf643755"
    }
  ],
  "nbformat": 4,
  "nbformat_minor": 5
}