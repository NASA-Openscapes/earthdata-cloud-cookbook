{
 "cells": [
  {
   "cell_type": "markdown",
   "id": "30d1a698-a68c-4da3-9131-9e37cb3eb719",
   "metadata": {},
   "source": [
    "# 07. Data Subsetting and Transformation Services in the Cloud\n",
    "\n",
    "## Using the Harmony-Py library to access customized data from NASA Earthdata "
   ]
  },
  {
   "cell_type": "markdown",
   "id": "6d16a72a-d49f-47ae-a7c7-ec3676d13f16",
   "metadata": {},
   "source": [
    "---"
   ]
  },
  {
   "cell_type": "markdown",
   "id": "0af92b67-ceee-4164-b8dd-b01219f4cd98",
   "metadata": {
    "tags": []
   },
   "source": [
    "### Timing:\n",
    "- Exercise: 40 minutes"
   ]
  },
  {
   "cell_type": "markdown",
   "id": "b89c2939-437e-4f43-9323-33fe034a7a32",
   "metadata": {},
   "source": [
    "---"
   ]
  },
  {
   "cell_type": "markdown",
   "id": "4f8dc4ee-a8c5-439d-a1d5-48234c05add7",
   "metadata": {
    "tags": []
   },
   "source": [
    "## Summary\n",
    "\n",
    "We have already explored direct access to the NASA EOSDIS archive in the cloud via the Amazon Simple Storage Service (S3) by using the Common Metadata Repository (CMR) to search for granule locations. In addition to directly accessing the files archived and distributed by each of the NASA DAACs, many datasets also support services that allow us to customize the data via subsetting, reformatting, reprojection, and other transformations. \n",
    "\n",
    "This tutorial demonstrates how to find, request, and use customized data from a new ecosystem of services operating within the NASA Earthdata Cloud: NASA Harmony.\n",
    "\n",
    "### Benefits\n",
    "\n",
    "But first, why use this option when we've already learned how to access data directly from the NASA Earthdata Cloud? \n",
    "\n",
    "- Consistent access patterns to EOSDIS holdings make cross-data center data access easier\n",
    "- Data reduction services allow us to request only the data we want, in the format and projection we want\n",
    "- Analysis Ready Data and cloud access will help reduce time-to-science\n",
    "- Community Development helps reduce the barriers for re-use of code and sharing of domain knowledge\n",
    "\n",
    "![Data file filtering and subsetting](data/subsetting_diagram.png)\n",
    "\n",
    "See more on the [Earthdata Harmony landing page](https://harmony.earthdata.nasa.gov/), including documentation on the Harmony API itself. \n",
    "\n",
    "\n",
    "### Objectives\n",
    "\n",
    "1. Conceptualize the data transformation service types and offerings provided by NASA Earthdata, including Harmony.\n",
    "2. Practice skills learned from the introductory CMR tutorial to discover what access and service options exist for a given data set, as well as variable metadata.\n",
    "3. Utilize the Harmony-py library to request subsetted MODIS L2 Sea Surface Temperature data over the Gulf of Mexico. \n",
    "4. Read Harmony subsetted outputs directly into xarray. \n",
    "___"
   ]
  },
  {
   "cell_type": "markdown",
   "id": "d47f95dd-5dab-43e3-9533-9a4437119d87",
   "metadata": {
    "tags": []
   },
   "source": [
    "## Import Packages"
   ]
  },
  {
   "cell_type": "code",
   "execution_count": 1,
   "id": "3d6cf2c7-ea5b-41eb-999c-483240d5e529",
   "metadata": {},
   "outputs": [],
   "source": [
    "from harmony import BBox, Client, Collection, Request, LinkType\n",
    "from harmony.config import Environment\n",
    "import requests\n",
    "from pprint import pprint\n",
    "import datetime as dt\n",
    "import s3fs\n",
    "import xarray as xr"
   ]
  },
  {
   "cell_type": "markdown",
   "id": "80a85c23-ec37-4430-8e8d-2e87b2900589",
   "metadata": {
    "tags": []
   },
   "source": [
    "## Discover service options for a given data set\n",
    "\n",
    "#### _First, what do we mean by a \"service\"?_\n",
    "\n",
    "In the context of NASA Earthdata, we are usually referring to a service as any data transformation or customization process that packages or delivers data in a way that makes it easier to work with compared to how the data are natively archived at NASA EOSDIS. Basic customization options may include:\n",
    "* Subsetting (cropping) the data by:\n",
    "    * Variable\n",
    "    * Spatial boundary,\n",
    "    * Temporal range\n",
    "* Reformatting\n",
    "    * For example: From NetCDF-4 to Cloud Optimized GeoTIFF\n",
    "* Reprojection and/or Resampling\n",
    "    * For example: From Sinusoidal to Polar Stereographic\n",
    "* Mosaicking\n",
    "* Aggregating\n",
    "\n",
    "A few main types or pathways for services that are commonly supported across the NASA DAACs include:\n",
    "* [NASA Global Imagery Browse Service](https://earthdata.nasa.gov/eosdis/science-system-description/eosdis-components/gibs)\n",
    "    * Web services providing imagery, much of which is updated daily, to broaden accessibility of NASA EOSDIS data to the media and public.\n",
    "        * Web Map Tile Service (WMTS)\n",
    "        * Tiled Web Map Service (TWMS)\n",
    "        * Web Map Service (WMS)\n",
    "        * Keyhole Markup Language (KML)\n",
    "        * Geospatial Data Abstraction Library (GDAL)\n",
    "* [OPeNDAP](https://opendap.earthdata.nasa.gov/)\n",
    "    * The Open-source Project for a Network Data Access Protocol is a NASA community standard DAP that provides a simple way to access and work with data over the internet. OPeNDAP's client/server software allows us to subset and reformat data using an internet browser, command line interface, and other applications.\n",
    "* [Harmony](https://harmony.earthdata.nasa.gov/)\n",
    "    * In the most basic sense, Harmony is an Application Programming Interface, or API, allowing us to request customization options described above, which are then processed and returned as file outputs. Harmony helps to reduce pre-processing steps so we can spend less time preparing the data, and more time doing science.  \n",
    "\n",
    "**Note: These service offerings are unique to each NASA EOSDIS dataset.**\n",
    "\n",
    "Why is this?\n",
    "\n",
    "Due to varying [levels of service](https://earthdata.nasa.gov/collaborate/new-missions/level-of-service), cloud migration status, and unique characteristics of the datasets themselves, not all service options are provided for all datasets. Therefore it is important to first explore a given dataset's metadata to discover what service options are provided.\n",
    "\n",
    "Let's utilize the CMR API skills we learned on Day 1 to inspect service metadata:"
   ]
  },
  {
   "cell_type": "code",
   "execution_count": 2,
   "id": "d75da0d2-96eb-4f9b-8661-c0e9ffec99c5",
   "metadata": {},
   "outputs": [],
   "source": [
    "url = 'https://cmr.earthdata.nasa.gov/search'"
   ]
  },
  {
   "cell_type": "markdown",
   "id": "8a90562d-bc45-4083-944b-99af1ba778cb",
   "metadata": {},
   "source": [
    "We want to search by collection to inspect the access and service options that exist:"
   ]
  },
  {
   "cell_type": "code",
   "execution_count": 3,
   "id": "b11040e5-9619-4017-beff-5f69105107c3",
   "metadata": {},
   "outputs": [],
   "source": [
    "collection_url = f'{url}/{\"collections\"}'"
   ]
  },
  {
   "cell_type": "markdown",
   "id": "672bad45-282f-4457-970f-4d4c28f5d72a",
   "metadata": {},
   "source": [
    "In the CMR introduction tutorial, we explored cloud-hosted collections from different DAAC providers, and identified the CMR `concept-id` for a given data set id (also referred to as a `short_name`). \n",
    "\n",
    "Here we are jumping ahead and already know the `concept_id` we are interested in, by browsing cloud-hosted datasets from PO.DAAC in Earthdata Search: https://search.earthdata.nasa.gov/portal/podaac-cloud/search. \n",
    "\n",
    "We are going to focus on `MODIS_A-JPL-L2P-v2019.0`: GHRSST Level 2P Global Sea Surface Skin Temperature from the Moderate Resolution Imaging Spectroradiometer (MODIS) on the NASA Aqua satellite (GDS2). Let's first save this as a variable that we can use later on once we request data from Harmony."
   ]
  },
  {
   "cell_type": "code",
   "execution_count": 4,
   "id": "cde1f5a8-58b2-4b4f-b959-3e78a375cbe3",
   "metadata": {},
   "outputs": [],
   "source": [
    "short_name= 'MODIS_A-JPL-L2P-v2019.0'\n",
    "concept_id = 'C1940473819-POCLOUD'"
   ]
  },
  {
   "cell_type": "markdown",
   "id": "aecc99bc-177a-4af2-bd0b-ce0bf4a82b09",
   "metadata": {},
   "source": [
    "We will view the top-level metadata for this collection to see what additional service and variable metadata exist."
   ]
  },
  {
   "cell_type": "code",
   "execution_count": 5,
   "id": "65ab652b-9bd1-4fb9-98c6-1996888c9b48",
   "metadata": {},
   "outputs": [],
   "source": [
    "response = requests.get(collection_url, \n",
    "                        params={\n",
    "                            'concept_id': concept_id,\n",
    "                            },\n",
    "                        headers={\n",
    "                            'Accept': 'application/json'\n",
    "                            }\n",
    "                       )\n",
    "response = response.json()"
   ]
  },
  {
   "cell_type": "markdown",
   "id": "f32eb2d1-44be-4f93-a0b1-ab0e4e12c8d6",
   "metadata": {},
   "source": [
    "Print the response:"
   ]
  },
  {
   "cell_type": "code",
   "execution_count": 6,
   "id": "82698422-d47d-4f10-99f2-e66a3ab306b6",
   "metadata": {
    "tags": []
   },
   "outputs": [
    {
     "name": "stdout",
     "output_type": "stream",
     "text": [
      "{'feed': {'entry': [{'archive_center': 'NASA/JPL/PODAAC',\n",
      "                     'associations': {'services': ['S1962070864-POCLOUD',\n",
      "                                                   'S2004184019-POCLOUD'],\n",
      "                                      'tools': ['TL2108419875-POCLOUD',\n",
      "                                                'TL2092786348-POCLOUD'],\n",
      "                                      'variables': ['V1997812737-POCLOUD',\n",
      "                                                    'V1997812697-POCLOUD',\n",
      "                                                    'V2112014688-POCLOUD',\n",
      "                                                    'V1997812756-POCLOUD',\n",
      "                                                    'V1997812688-POCLOUD',\n",
      "                                                    'V1997812670-POCLOUD',\n",
      "                                                    'V1997812724-POCLOUD',\n",
      "                                                    'V2112014684-POCLOUD',\n",
      "                                                    'V1997812701-POCLOUD',\n",
      "                                                    'V1997812681-POCLOUD',\n",
      "                                                    'V2112014686-POCLOUD',\n",
      "                                                    'V1997812663-POCLOUD',\n",
      "                                                    'V1997812676-POCLOUD',\n",
      "                                                    'V1997812744-POCLOUD',\n",
      "                                                    'V1997812714-POCLOUD']},\n",
      "                     'boxes': ['-90 -180 90 180'],\n",
      "                     'browse_flag': True,\n",
      "                     'collection_data_type': 'SCIENCE_QUALITY',\n",
      "                     'coordinate_system': 'CARTESIAN',\n",
      "                     'data_center': 'POCLOUD',\n",
      "                     'dataset_id': 'GHRSST Level 2P Global Sea Surface Skin '\n",
      "                                   'Temperature from the Moderate Resolution '\n",
      "                                   'Imaging Spectroradiometer (MODIS) on the '\n",
      "                                   'NASA Aqua satellite (GDS2)',\n",
      "                     'has_formats': True,\n",
      "                     'has_spatial_subsetting': True,\n",
      "                     'has_temporal_subsetting': True,\n",
      "                     'has_transforms': False,\n",
      "                     'has_variables': True,\n",
      "                     'id': 'C1940473819-POCLOUD',\n",
      "                     'links': [{'href': 'https://podaac.jpl.nasa.gov/Podaac/thumbnails/MODIS_A-JPL-L2P-v2019.0.jpg',\n",
      "                                'hreflang': 'en-US',\n",
      "                                'rel': 'http://esipfed.org/ns/fedsearch/1.1/browse#'},\n",
      "                               {'href': 'https://github.com/podaac/data-readers',\n",
      "                                'hreflang': 'en-US',\n",
      "                                'rel': 'http://esipfed.org/ns/fedsearch/1.1/documentation#'},\n",
      "                               {'href': 'https://podaac-tools.jpl.nasa.gov/drive/files/OceanTemperature/ghrsst/docs/GDS20r5.pdf',\n",
      "                                'hreflang': 'en-US',\n",
      "                                'rel': 'http://esipfed.org/ns/fedsearch/1.1/documentation#'},\n",
      "                               {'href': 'https://ghrsst.jpl.nasa.gov',\n",
      "                                'hreflang': 'en-US',\n",
      "                                'rel': 'http://esipfed.org/ns/fedsearch/1.1/documentation#'},\n",
      "                               {'href': 'https://oceancolor.gsfc.nasa.gov/atbd/sst/flag/',\n",
      "                                'hreflang': 'en-US',\n",
      "                                'rel': 'http://esipfed.org/ns/fedsearch/1.1/documentation#'},\n",
      "                               {'href': 'https://oceancolor.gsfc.nasa.gov/reprocessing/r2019/sst/',\n",
      "                                'hreflang': 'en-US',\n",
      "                                'rel': 'http://esipfed.org/ns/fedsearch/1.1/documentation#'},\n",
      "                               {'href': 'https://oceancolor.gsfc.nasa.gov/atbd/sst4/',\n",
      "                                'hreflang': 'en-US',\n",
      "                                'rel': 'http://esipfed.org/ns/fedsearch/1.1/documentation#'},\n",
      "                               {'href': 'https://modis.gsfc.nasa.gov/data/atbd/atbd_mod25.pdf',\n",
      "                                'hreflang': 'en-US',\n",
      "                                'rel': 'http://esipfed.org/ns/fedsearch/1.1/documentation#'},\n",
      "                               {'href': 'https://oceancolor.gsfc.nasa.gov/atbd/sst/',\n",
      "                                'hreflang': 'en-US',\n",
      "                                'rel': 'http://esipfed.org/ns/fedsearch/1.1/documentation#'},\n",
      "                               {'href': 'http://www.ghrsst.org',\n",
      "                                'hreflang': 'en-US',\n",
      "                                'rel': 'http://esipfed.org/ns/fedsearch/1.1/documentation#'},\n",
      "                               {'href': 'https://podaac.jpl.nasa.gov/forum/viewforum.php?f=18&sid=e2d67e5a01815fc6e39fcd2087ed8bc8',\n",
      "                                'hreflang': 'en-US',\n",
      "                                'rel': 'http://esipfed.org/ns/fedsearch/1.1/documentation#'},\n",
      "                               {'href': 'https://podaac.jpl.nasa.gov/CitingPODAAC',\n",
      "                                'hreflang': 'en-US',\n",
      "                                'rel': 'http://esipfed.org/ns/fedsearch/1.1/documentation#'},\n",
      "                               {'href': 'https://cmr.earthdata.nasa.gov/virtual-directory/collections/C1940473819-POCLOUD',\n",
      "                                'hreflang': 'en-US',\n",
      "                                'length': '75.0MB',\n",
      "                                'rel': 'http://esipfed.org/ns/fedsearch/1.1/data#'},\n",
      "                               {'href': 'https://github.com/podaac/tutorials/blob/master/notebooks/MODIS_L2P_SST_DataCube.ipynb',\n",
      "                                'hreflang': 'en-US',\n",
      "                                'rel': 'http://esipfed.org/ns/fedsearch/1.1/documentation#'},\n",
      "                               {'href': 'https://search.earthdata.nasa.gov/search/granules?p=C1940473819-POCLOUD',\n",
      "                                'hreflang': 'en-US',\n",
      "                                'rel': 'http://esipfed.org/ns/fedsearch/1.1/data#'}],\n",
      "                     'online_access_flag': True,\n",
      "                     'orbit_parameters': {'inclination_angle': '98.1',\n",
      "                                          'number_of_orbits': '1.0',\n",
      "                                          'period': '98.4',\n",
      "                                          'swath_width': '2330.0'},\n",
      "                     'organizations': ['NASA/JPL/PODAAC'],\n",
      "                     'original_format': 'UMM_JSON',\n",
      "                     'platforms': ['Aqua'],\n",
      "                     'processing_level_id': '2',\n",
      "                     'service_features': {'esi': {'has_formats': False,\n",
      "                                                  'has_spatial_subsetting': False,\n",
      "                                                  'has_temporal_subsetting': False,\n",
      "                                                  'has_transforms': False,\n",
      "                                                  'has_variables': False},\n",
      "                                          'harmony': {'has_formats': True,\n",
      "                                                      'has_spatial_subsetting': True,\n",
      "                                                      'has_temporal_subsetting': True,\n",
      "                                                      'has_transforms': False,\n",
      "                                                      'has_variables': True},\n",
      "                                          'opendap': {'has_formats': True,\n",
      "                                                      'has_spatial_subsetting': True,\n",
      "                                                      'has_temporal_subsetting': True,\n",
      "                                                      'has_transforms': False,\n",
      "                                                      'has_variables': True}},\n",
      "                     'short_name': 'MODIS_A-JPL-L2P-v2019.0',\n",
      "                     'summary': 'NASA produces skin sea surface temperature '\n",
      "                                '(SST) products from the Infrared (IR) '\n",
      "                                'channels of the Moderate-resolution Imaging '\n",
      "                                'Spectroradiometer (MODIS) onboard the Aqua '\n",
      "                                'satellite. Aqua was launched by NASA on May '\n",
      "                                '4, 2002, into a sun synchronous, polar orbit '\n",
      "                                'with a daylight ascending node at 1:30 pm, '\n",
      "                                'formation flying in the A-train with other '\n",
      "                                'Earth Observation Satellites (EOS), to study '\n",
      "                                'the global dynamics of the Earth atmosphere, '\n",
      "                                'land and oceans. MODIS captures data in 36 '\n",
      "                                'spectral bands at a variety of spatial '\n",
      "                                'resolutions.  Two SST products can be present '\n",
      "                                'in these files. The first is a skin SST '\n",
      "                                'produced for both day and night (NSST) '\n",
      "                                'observations, derived from the long wave IR '\n",
      "                                '11 and 12 micron wavelength channels, using a '\n",
      "                                'modified nonlinear SST algorithm intended to '\n",
      "                                'provide continuity of SST derived from '\n",
      "                                'heritage and current NASA sensors. At night, '\n",
      "                                'a second SST product is generated using the '\n",
      "                                'mid-infrared 3.95 and 4.05 micron  wavelength '\n",
      "                                'channels which are unique to MODIS; the SST '\n",
      "                                'derived from these measurements is identified '\n",
      "                                'as SST4. The SST4 product has lower '\n",
      "                                'uncertainty, but due to sun glint can only be '\n",
      "                                'used at night. MODIS L2P SST data have a 1 km '\n",
      "                                'spatial resolution at nadir and are stored in '\n",
      "                                '288 five minute granules per day. Full global '\n",
      "                                'coverage is obtained every two days, with '\n",
      "                                'coverage poleward of 32.3 degree being '\n",
      "                                'complete each day.  The production of MODIS '\n",
      "                                'L2P SST files is part of the Group for High '\n",
      "                                'Resolution Sea Surface Temperature (GHRSST) '\n",
      "                                'project and is a joint collaboration between '\n",
      "                                'the NASA Jet Propulsion Laboratory (JPL), the '\n",
      "                                'NASA Ocean Biology Processing Group (OBPG), '\n",
      "                                'and the Rosenstiel School of Marine and '\n",
      "                                'Atmospheric Science (RSMAS). Researchers at '\n",
      "                                'RSMAS are responsible for SST algorithm '\n",
      "                                'development, error statistics and quality '\n",
      "                                'flagging, while the OBPG, as the NASA ground '\n",
      "                                'data system, is responsible for the '\n",
      "                                'production of daily MODIS ocean products. JPL '\n",
      "                                'acquires MODIS ocean granules from the OBPG '\n",
      "                                'and reformats them to the GHRSST L2P netCDF '\n",
      "                                'specification with complete metadata and '\n",
      "                                'ancillary variables, and distributes the data '\n",
      "                                'as the official Physical Oceanography Data '\n",
      "                                'Archive (PO.DAAC) for SST.  The R2019.0 '\n",
      "                                'supersedes the previous R2014.0 datasets '\n",
      "                                'which can be found at '\n",
      "                                'https://doi.org/10.5067/GHMDA-2PJ02',\n",
      "                     'time_start': '2002-07-04T00:00:00.000Z',\n",
      "                     'title': 'GHRSST Level 2P Global Sea Surface Skin '\n",
      "                              'Temperature from the Moderate Resolution '\n",
      "                              'Imaging Spectroradiometer (MODIS) on the NASA '\n",
      "                              'Aqua satellite (GDS2)',\n",
      "                     'updated': '2019-12-02T22:59:24.849Z',\n",
      "                     'version_id': '2019.0'}],\n",
      "          'id': 'https://cmr.earthdata.nasa.gov:443/search/collections.json?concept_id=C1940473819-POCLOUD',\n",
      "          'title': 'ECHO dataset metadata',\n",
      "          'updated': '2021-11-19T17:44:29.026Z'}}\n"
     ]
    }
   ],
   "source": [
    "pprint(response)"
   ]
  },
  {
   "cell_type": "markdown",
   "id": "0853cb7a-7a10-4e7f-a942-50ab63d1dbd5",
   "metadata": {},
   "source": [
    "#### What do each of these service values mean?\n",
    "\n",
    "- Associations\n",
    "     - CMR is a large web of interconnected metadata \"schemas\", including Collections, Granules, Services, Tools, and Variables. In this case, this collection is associated with two unique services, two tools, and several unique variables.\n",
    "- Tags\n",
    "    - There are also tags that describe what service options exist at a high-level. In this case, we see that this dataset supports the ability to reformat, subset by space and time, as well as by variable. This is used in web applications like Earthdata Search to surface those customization options more readily. \n",
    "- Service Features\n",
    "    - In this case, we see three separate \"features\" listed here: esi, Harmony, and OPeNDAP.\n",
    "    \n",
    "We will dig into more details on what Harmony offers for this dataset.\n",
    "\n",
    "First, we need to isolate the services returned for this dataset:"
   ]
  },
  {
   "cell_type": "code",
   "execution_count": 7,
   "id": "b2fbb3ff-255a-4d71-83ca-c648a80f558b",
   "metadata": {},
   "outputs": [
    {
     "name": "stdout",
     "output_type": "stream",
     "text": [
      "['S1962070864-POCLOUD', 'S2004184019-POCLOUD']\n"
     ]
    }
   ],
   "source": [
    "services = response['feed']['entry'][0]['associations']['services']\n",
    "print(services)"
   ]
  },
  {
   "cell_type": "code",
   "execution_count": 8,
   "id": "8702a829-1a48-4287-aa25-a6ae5203c120",
   "metadata": {},
   "outputs": [],
   "source": [
    "service_url = \"https://cmr.earthdata.nasa.gov/search/services\""
   ]
  },
  {
   "cell_type": "markdown",
   "id": "397b8a5a-3287-44ea-8641-3d14cba10f57",
   "metadata": {},
   "source": [
    "Inspect the first service returned. Now we're going to search the services endpoint to view that individual service's metadata, like we did with our dataset above. This time, we're explicitly setting the format of the response to umm-json in the Accept Header in order to see detailed metadata about the service."
   ]
  },
  {
   "cell_type": "code",
   "execution_count": 9,
   "id": "c693321e-8640-4057-b344-7125fb5dee38",
   "metadata": {},
   "outputs": [],
   "source": [
    "service_response = requests.get(service_url, \n",
    "                        params={\n",
    "                            'concept_id': services[0],\n",
    "                            },\n",
    "                        headers={\n",
    "                            'Accept': 'application/vnd.nasa.cmr.umm_results+json'\n",
    "                            }\n",
    "                       )\n",
    "service_response = service_response.json()"
   ]
  },
  {
   "cell_type": "markdown",
   "id": "655bb307-ae6a-4155-87c9-bafea9026b66",
   "metadata": {},
   "source": [
    "Details about the service metadata record include the service options provided by the \"backend\" processor connected to Harmony, in this case the PODAAC Level 2 Cloud Subsetter:"
   ]
  },
  {
   "cell_type": "code",
   "execution_count": 10,
   "id": "e781ca9d-788e-41fa-945b-4f3f5e8280ff",
   "metadata": {},
   "outputs": [
    {
     "name": "stdout",
     "output_type": "stream",
     "text": [
      "{'hits': 1,\n",
      " 'items': [{'meta': {'concept-id': 'S1962070864-POCLOUD',\n",
      "                     'concept-type': 'service',\n",
      "                     'deleted': False,\n",
      "                     'format': 'application/vnd.nasa.cmr.umm+json',\n",
      "                     'native-id': 'POCLOUD_podaac_l2_cloud_subsetter',\n",
      "                     'provider-id': 'POCLOUD',\n",
      "                     'revision-date': '2021-11-02T22:57:03.597Z',\n",
      "                     'revision-id': 19,\n",
      "                     'user-id': 'podaaccloud'},\n",
      "            'umm': {'AccessConstraints': 'None',\n",
      "                    'Description': 'Endpoint for subsetting L2 Subsetter via '\n",
      "                                   'Harmony',\n",
      "                    'LongName': 'PODAAC Level 2 Cloud Subsetter',\n",
      "                    'MetadataSpecification': {'Name': 'UMM-S',\n",
      "                                              'URL': 'https://cdn.earthdata.nasa.gov/umm/service/v1.4',\n",
      "                                              'Version': '1.4'},\n",
      "                    'Name': 'PODAAC L2 Cloud Subsetter',\n",
      "                    'OperationMetadata': [{'OperationName': 'SPATIAL_SUBSETTING'},\n",
      "                                          {'OperationName': 'VARIABLE_SUBSETTING'},\n",
      "                                          {'OperationName': 'TEMPORAL_SUBSETTING'}],\n",
      "                    'ServiceKeywords': [{'ServiceCategory': 'EARTH SCIENCE '\n",
      "                                                            'SERVICES',\n",
      "                                         'ServiceTerm': 'SUBSETTING/SUPERSETTING',\n",
      "                                         'ServiceTopic': 'DATA MANAGEMENT/DATA '\n",
      "                                                         'HANDLING'}],\n",
      "                    'ServiceOptions': {'Subset': {'SpatialSubset': {'BoundingBox': {'AllowMultipleValues': False}},\n",
      "                                                  'TemporalSubset': {'AllowMultipleValues': False},\n",
      "                                                  'VariableSubset': {'AllowMultipleValues': True}},\n",
      "                                       'SupportedReformattings': [{'SupportedInputFormat': 'HDF5',\n",
      "                                                                   'SupportedOutputFormats': ['NETCDF-4']},\n",
      "                                                                  {'SupportedInputFormat': 'NETCDF-4',\n",
      "                                                                   'SupportedOutputFormats': ['NETCDF-4']}]},\n",
      "                    'ServiceOrganizations': [{'LongName': 'Physical '\n",
      "                                                          'Oceanography '\n",
      "                                                          'Distributed Active '\n",
      "                                                          'Archive Center, Jet '\n",
      "                                                          'Propulsion '\n",
      "                                                          'Laboratory, NASA',\n",
      "                                              'Roles': ['ORIGINATOR'],\n",
      "                                              'ShortName': 'NASA/JPL/PODAAC'}],\n",
      "                    'Type': 'Harmony',\n",
      "                    'URL': {'Description': 'PROJECT HOME PAGE',\n",
      "                            'URLValue': 'https://harmony.earthdata.nasa.gov'},\n",
      "                    'Version': '1.1.0'}}],\n",
      " 'took': 9}\n"
     ]
    }
   ],
   "source": [
    "pprint(service_response)"
   ]
  },
  {
   "cell_type": "markdown",
   "id": "56f1f727-cfea-4217-a409-37c4ff792a8c",
   "metadata": {},
   "source": [
    "### _Discover all datasets that support Harmony services_\n",
    "\n",
    "Instead of searching for services on a known dataset of interest, we may want to discovery all available datasets that are supported for a given service. We can utilize [GraphQL](https://graphql.org/), which is a way for us to efficiently gain information across service and collection metadata so that we can print out all supported Harmony datasets. First, we need to specify a query string. Here we are asking to query all collections with service type \"Harmony\", and to provide details on the service options attached to those services:"
   ]
  },
  {
   "cell_type": "code",
   "execution_count": 11,
   "id": "387460f2-8929-40a6-9a1c-754a16471c52",
   "metadata": {},
   "outputs": [],
   "source": [
    "query = \"\"\"query {\n",
    "  collections(limit: 2000, serviceType: \"Harmony\") {\n",
    "    count\n",
    "    items {\n",
    "      shortName\n",
    "      conceptId\n",
    "      services {\n",
    "        count\n",
    "        items {\n",
    "          name\n",
    "          supportedReformattings\n",
    "          supportedInputProjections\n",
    "          supportedOutputProjections\n",
    "          serviceOptions\n",
    "        }\n",
    "      }\n",
    "      variables {\n",
    "        count\n",
    "      }\n",
    "    }\n",
    "  }\n",
    "}\"\"\""
   ]
  },
  {
   "cell_type": "markdown",
   "id": "54b07e6d-eacf-485a-8cad-2bde4b46d91b",
   "metadata": {},
   "source": [
    "This utilizes a different API endpoint to query CMR metdata using GraphQL. Here we set up another request, passing our query string above:"
   ]
  },
  {
   "cell_type": "code",
   "execution_count": 12,
   "id": "14ad5782-9a1c-485f-8309-60fd9adabb45",
   "metadata": {},
   "outputs": [],
   "source": [
    "graphql_url = 'https://graphql.earthdata.nasa.gov/api'\n",
    "\n",
    "graphql_response = requests.get(graphql_url,\n",
    "                        params={\"query\": query},\n",
    "                        headers={\n",
    "                            'Accept': 'application/json',\n",
    "                        }\n",
    "                       )"
   ]
  },
  {
   "cell_type": "markdown",
   "id": "67d2271c-903a-416f-88c0-535f7629399c",
   "metadata": {
    "tags": []
   },
   "source": [
    "A json response is returned that provides all collections with Harmony-supported services. We can then extract just the collection`shortName`, `conceptID`, and the service names supported for each collection: "
   ]
  },
  {
   "cell_type": "code",
   "execution_count": 13,
   "id": "501a9b64-104c-460b-8666-561ee3063917",
   "metadata": {},
   "outputs": [
    {
     "name": "stdout",
     "output_type": "stream",
     "text": [
      "ECCO_L4_ATM_STATE_05DEG_DAILY_V4R4 , C1990404801-POCLOUD\n",
      "Services: PO.DAAC Cloud OPeNDAP\n",
      "Services: PO.DAAC harmony-netcdf-to-zarr\n",
      "ECCO_L4_ATM_STATE_LLC0090GRID_DAILY_V4R4 , C1991543823-POCLOUD\n",
      "Services: PO.DAAC Cloud OPeNDAP\n",
      "Services: PO.DAAC harmony-netcdf-to-zarr\n",
      "ECCO_L4_ATM_STATE_05DEG_MONTHLY_V4R4 , C1990404814-POCLOUD\n",
      "Services: PO.DAAC Cloud OPeNDAP\n",
      "Services: PO.DAAC harmony-netcdf-to-zarr\n",
      "ECCO_L4_ATM_STATE_LLC0090GRID_MONTHLY_V4R4 , C1991543805-POCLOUD\n",
      "Services: PO.DAAC Cloud OPeNDAP\n",
      "Services: PO.DAAC harmony-netcdf-to-zarr\n",
      "ECCO_L4_OCEAN_BOLUS_STREAMFUNCTION_LLC0090GRID_DAILY_V4R4 , C1991543818-POCLOUD\n",
      "Services: PO.DAAC Cloud OPeNDAP\n",
      "Services: PO.DAAC harmony-netcdf-to-zarr\n",
      "ECCO_L4_OCEAN_BOLUS_STREAMFUNCTION_LLC0090GRID_MONTHLY_V4R4 , C1991543733-POCLOUD\n",
      "Services: PO.DAAC Cloud OPeNDAP\n",
      "Services: PO.DAAC harmony-netcdf-to-zarr\n",
      "ECCO_L4_BOLUS_05DEG_DAILY_V4R4 , C1990404807-POCLOUD\n",
      "Services: PO.DAAC Cloud OPeNDAP\n",
      "Services: PO.DAAC harmony-netcdf-to-zarr\n",
      "ECCO_L4_BOLUS_LLC0090GRID_DAILY_V4R4 , C1991543824-POCLOUD\n",
      "Services: PO.DAAC Cloud OPeNDAP\n",
      "Services: PO.DAAC harmony-netcdf-to-zarr\n",
      "ECCO_L4_BOLUS_05DEG_MONTHLY_V4R4 , C1990404805-POCLOUD\n",
      "Services: PO.DAAC Cloud OPeNDAP\n",
      "Services: PO.DAAC harmony-netcdf-to-zarr\n",
      "ECCO_L4_BOLUS_LLC0090GRID_MONTHLY_V4R4 , C1991543745-POCLOUD\n",
      "Services: PO.DAAC Cloud OPeNDAP\n",
      "Services: PO.DAAC harmony-netcdf-to-zarr\n",
      "ECCO_L4_GEOMETRY_05DEG_V4R4 , C2013583732-POCLOUD\n",
      "Services: PO.DAAC Cloud OPeNDAP\n",
      "Services: PO.DAAC harmony-netcdf-to-zarr\n",
      "ECCO_L4_GEOMETRY_LLC0090GRID_V4R4 , C2013557893-POCLOUD\n",
      "Services: PO.DAAC Cloud OPeNDAP\n",
      "Services: PO.DAAC harmony-netcdf-to-zarr\n",
      "ECCO_L4_GMAP_TIME_SERIES_SNAPSHOT_V4R4 , C1991543729-POCLOUD\n",
      "Services: PO.DAAC Cloud OPeNDAP\n",
      "Services: PO.DAAC harmony-netcdf-to-zarr\n",
      "ECCO_L4_GMAP_TIME_SERIES_SNAPSHOT_V4R4B , C2133160276-POCLOUD\n",
      "Services: PO.DAAC Cloud OPeNDAP\n",
      "Services: PO.DAAC harmony-netcdf-to-zarr\n",
      "ECCO_L4_GMSL_TIME_SERIES_DAILY_V4R4 , C1991543819-POCLOUD\n",
      "Services: PO.DAAC Cloud OPeNDAP\n",
      "Services: PO.DAAC harmony-netcdf-to-zarr\n",
      "ECCO_L4_GMSL_TIME_SERIES_MONTHLY_V4R4 , C1991543742-POCLOUD\n",
      "Services: PO.DAAC Cloud OPeNDAP\n",
      "Services: PO.DAAC harmony-netcdf-to-zarr\n",
      "ECCO_L4_OCEAN_3D_MIX_COEFFS_05DEG_V4R4 , C2013584708-POCLOUD\n",
      "Services: PO.DAAC Cloud OPeNDAP\n",
      "Services: PO.DAAC harmony-netcdf-to-zarr\n",
      "ECCO_L4_OCEAN_3D_MIX_COEFFS_LLC0090GRID_V4R4 , C2013583906-POCLOUD\n",
      "Services: PO.DAAC Cloud OPeNDAP\n",
      "Services: PO.DAAC harmony-netcdf-to-zarr\n",
      "ECCO_L4_FRESH_FLUX_05DEG_DAILY_V4R4 , C1990404818-POCLOUD\n",
      "Services: PO.DAAC Cloud OPeNDAP\n",
      "Services: PO.DAAC harmony-netcdf-to-zarr\n",
      "ECCO_L4_FRESH_FLUX_LLC0090GRID_DAILY_V4R4 , C1991543820-POCLOUD\n",
      "Services: PO.DAAC Cloud OPeNDAP\n",
      "Services: PO.DAAC harmony-netcdf-to-zarr\n",
      "ECCO_L4_FRESH_FLUX_05DEG_MONTHLY_V4R4 , C1990404792-POCLOUD\n",
      "Services: PO.DAAC Cloud OPeNDAP\n",
      "Services: PO.DAAC harmony-netcdf-to-zarr\n",
      "ECCO_L4_FRESH_FLUX_LLC0090GRID_MONTHLY_V4R4 , C1991543803-POCLOUD\n",
      "Services: PO.DAAC Cloud OPeNDAP\n",
      "Services: PO.DAAC harmony-netcdf-to-zarr\n",
      "ECCO_L4_HEAT_FLUX_05DEG_DAILY_V4R4 , C1990404788-POCLOUD\n",
      "Services: PO.DAAC Cloud OPeNDAP\n",
      "Services: PO.DAAC harmony-netcdf-to-zarr\n",
      "ECCO_L4_HEAT_FLUX_LLC0090GRID_DAILY_V4R4 , C1991543712-POCLOUD\n",
      "Services: PO.DAAC Cloud OPeNDAP\n",
      "Services: PO.DAAC harmony-netcdf-to-zarr\n",
      "ECCO_L4_HEAT_FLUX_05DEG_MONTHLY_V4R4 , C1990404812-POCLOUD\n",
      "Services: PO.DAAC Cloud OPeNDAP\n",
      "Services: PO.DAAC harmony-netcdf-to-zarr\n",
      "ECCO_L4_HEAT_FLUX_LLC0090GRID_MONTHLY_V4R4 , C1991543811-POCLOUD\n",
      "Services: PO.DAAC Cloud OPeNDAP\n",
      "Services: PO.DAAC harmony-netcdf-to-zarr\n",
      "ECCO_L4_STRESS_05DEG_DAILY_V4R4 , C1990404808-POCLOUD\n",
      "Services: PO.DAAC Cloud OPeNDAP\n",
      "Services: PO.DAAC harmony-netcdf-to-zarr\n",
      "ECCO_L4_STRESS_LLC0090GRID_DAILY_V4R4 , C1991543704-POCLOUD\n",
      "Services: PO.DAAC Cloud OPeNDAP\n",
      "Services: PO.DAAC harmony-netcdf-to-zarr\n",
      "ECCO_L4_STRESS_05DEG_MONTHLY_V4R4 , C1990404796-POCLOUD\n",
      "Services: PO.DAAC Cloud OPeNDAP\n",
      "Services: PO.DAAC harmony-netcdf-to-zarr\n",
      "ECCO_L4_STRESS_LLC0090GRID_MONTHLY_V4R4 , C1991543760-POCLOUD\n",
      "Services: PO.DAAC Cloud OPeNDAP\n",
      "Services: PO.DAAC harmony-netcdf-to-zarr\n",
      "ECCO_L4_OBP_05DEG_DAILY_V4R4 , C1990404797-POCLOUD\n",
      "Services: PO.DAAC Cloud OPeNDAP\n",
      "Services: PO.DAAC harmony-netcdf-to-zarr\n",
      "ECCO_L4_OBP_05DEG_DAILY_V4R4B , C2129192243-POCLOUD\n",
      "Services: PO.DAAC Cloud OPeNDAP\n",
      "Services: PO.DAAC harmony-netcdf-to-zarr\n",
      "ECCO_L4_OBP_LLC0090GRID_DAILY_V4R4 , C1991543737-POCLOUD\n",
      "Services: PO.DAAC Cloud OPeNDAP\n",
      "Services: PO.DAAC harmony-netcdf-to-zarr\n",
      "ECCO_L4_OBP_LLC0090GRID_DAILY_V4R4B , C2129195053-POCLOUD\n",
      "Services: PO.DAAC Cloud OPeNDAP\n",
      "Services: PO.DAAC harmony-netcdf-to-zarr\n",
      "ECCO_L4_OBP_05DEG_MONTHLY_V4R4 , C1990404791-POCLOUD\n",
      "Services: PO.DAAC Cloud OPeNDAP\n",
      "Services: PO.DAAC harmony-netcdf-to-zarr\n",
      "ECCO_L4_OBP_05DEG_MONTHLY_V4R4B , C2129193421-POCLOUD\n",
      "Services: PO.DAAC Cloud OPeNDAP\n",
      "Services: PO.DAAC harmony-netcdf-to-zarr\n",
      "ECCO_L4_OBP_LLC0090GRID_MONTHLY_V4R4 , C1991543806-POCLOUD\n",
      "Services: PO.DAAC Cloud OPeNDAP\n",
      "Services: PO.DAAC harmony-netcdf-to-zarr\n",
      "ECCO_L4_OBP_LLC0090GRID_MONTHLY_V4R4B , C2129197196-POCLOUD\n",
      "Services: PO.DAAC Cloud OPeNDAP\n",
      "Services: PO.DAAC harmony-netcdf-to-zarr\n",
      "ECCO_L4_OBP_LLC0090GRID_SNAPSHOT_V4R4 , C1991543804-POCLOUD\n",
      "Services: PO.DAAC Cloud OPeNDAP\n",
      "Services: PO.DAAC harmony-netcdf-to-zarr\n",
      "ECCO_L4_DENS_STRAT_PRESS_05DEG_DAILY_V4R4 , C1990404793-POCLOUD\n",
      "Services: PO.DAAC Cloud OPeNDAP\n",
      "Services: PO.DAAC harmony-netcdf-to-zarr\n",
      "ECCO_L4_DENS_STRAT_PRESS_LLC0090GRID_DAILY_V4R4 , C1991543727-POCLOUD\n",
      "Services: PO.DAAC Cloud OPeNDAP\n",
      "Services: PO.DAAC harmony-netcdf-to-zarr\n",
      "ECCO_L4_DENS_STRAT_PRESS_05DEG_MONTHLY_V4R4 , C1990404798-POCLOUD\n",
      "Services: PO.DAAC Cloud OPeNDAP\n",
      "Services: PO.DAAC harmony-netcdf-to-zarr\n",
      "ECCO_L4_DENS_STRAT_PRESS_LLC0090GRID_MONTHLY_V4R4 , C1991543735-POCLOUD\n",
      "Services: PO.DAAC Cloud OPeNDAP\n",
      "Services: PO.DAAC harmony-netcdf-to-zarr\n",
      "ECCO_L4_MIXED_LAYER_DEPTH_05DEG_DAILY_V4R4 , C1990404810-POCLOUD\n",
      "Services: PO.DAAC Cloud OPeNDAP\n",
      "Services: PO.DAAC harmony-netcdf-to-zarr\n",
      "ECCO_L4_MIXED_LAYER_DEPTH_LLC0090GRID_DAILY_V4R4 , C1991543734-POCLOUD\n",
      "Services: PO.DAAC Cloud OPeNDAP\n",
      "Services: PO.DAAC harmony-netcdf-to-zarr\n",
      "ECCO_L4_MIXED_LAYER_DEPTH_05DEG_MONTHLY_V4R4 , C1990404819-POCLOUD\n",
      "Services: PO.DAAC Cloud OPeNDAP\n",
      "Services: PO.DAAC harmony-netcdf-to-zarr\n",
      "ECCO_L4_MIXED_LAYER_DEPTH_LLC0090GRID_MONTHLY_V4R4 , C1991543741-POCLOUD\n",
      "Services: PO.DAAC Cloud OPeNDAP\n",
      "Services: PO.DAAC harmony-netcdf-to-zarr\n",
      "ECCO_L4_TEMP_SALINITY_05DEG_DAILY_V4R4 , C1990404821-POCLOUD\n",
      "Services: PO.DAAC Cloud OPeNDAP\n",
      "Services: PO.DAAC harmony-netcdf-to-zarr\n",
      "ECCO_L4_TEMP_SALINITY_LLC0090GRID_DAILY_V4R4 , C1991543736-POCLOUD\n",
      "Services: PO.DAAC Cloud OPeNDAP\n",
      "Services: PO.DAAC harmony-netcdf-to-zarr\n",
      "ECCO_L4_TEMP_SALINITY_05DEG_MONTHLY_V4R4 , C1990404795-POCLOUD\n",
      "Services: PO.DAAC Cloud OPeNDAP\n",
      "Services: PO.DAAC harmony-netcdf-to-zarr\n",
      "ECCO_L4_TEMP_SALINITY_LLC0090GRID_MONTHLY_V4R4 , C1991543728-POCLOUD\n",
      "Services: PO.DAAC Cloud OPeNDAP\n",
      "Services: PO.DAAC harmony-netcdf-to-zarr\n",
      "ECCO_L4_TEMP_SALINITY_LLC0090GRID_SNAPSHOT_V4R4 , C1991543757-POCLOUD\n",
      "Services: PO.DAAC Cloud OPeNDAP\n",
      "Services: PO.DAAC harmony-netcdf-to-zarr\n",
      "ECCO_L4_OCEAN_3D_MOMENTUM_TEND_LLC0090GRID_DAILY_V4R4 , C1991543726-POCLOUD\n",
      "Services: PO.DAAC Cloud OPeNDAP\n",
      "Services: PO.DAAC harmony-netcdf-to-zarr\n",
      "ECCO_L4_OCEAN_3D_MOMENTUM_TEND_LLC0090GRID_MONTHLY_V4R4 , C1991543702-POCLOUD\n",
      "Services: PO.DAAC Cloud OPeNDAP\n",
      "Services: PO.DAAC harmony-netcdf-to-zarr\n",
      "ECCO_L4_OCEAN_3D_TEMPERATURE_FLUX_LLC0090GRID_DAILY_V4R4 , C1991543812-POCLOUD\n",
      "Services: PO.DAAC Cloud OPeNDAP\n",
      "Services: PO.DAAC harmony-netcdf-to-zarr\n",
      "ECCO_L4_OCEAN_3D_TEMPERATURE_FLUX_LLC0090GRID_MONTHLY_V4R4 , C1991543740-POCLOUD\n",
      "Services: PO.DAAC Cloud OPeNDAP\n",
      "Services: PO.DAAC harmony-netcdf-to-zarr\n",
      "ECCO_L4_OCEAN_3D_SALINITY_FLUX_LLC0090GRID_DAILY_V4R4 , C1991543814-POCLOUD\n",
      "Services: PO.DAAC Cloud OPeNDAP\n",
      "Services: PO.DAAC harmony-netcdf-to-zarr\n",
      "ECCO_L4_OCEAN_3D_SALINITY_FLUX_LLC0090GRID_MONTHLY_V4R4 , C1991543752-POCLOUD\n",
      "Services: PO.DAAC Cloud OPeNDAP\n",
      "Services: PO.DAAC harmony-netcdf-to-zarr\n",
      "ECCO_L4_OCEAN_3D_VOLUME_FLUX_LLC0090GRID_DAILY_V4R4 , C1991543699-POCLOUD\n",
      "Services: PO.DAAC Cloud OPeNDAP\n",
      "Services: PO.DAAC harmony-netcdf-to-zarr\n",
      "ECCO_L4_OCEAN_3D_VOLUME_FLUX_LLC0090GRID_MONTHLY_V4R4 , C1991543739-POCLOUD\n",
      "Services: PO.DAAC Cloud OPeNDAP\n",
      "Services: PO.DAAC harmony-netcdf-to-zarr\n",
      "ECCO_L4_OCEAN_VEL_05DEG_DAILY_V4R4 , C1990404811-POCLOUD\n",
      "Services: PO.DAAC Cloud OPeNDAP\n",
      "Services: PO.DAAC harmony-netcdf-to-zarr\n",
      "ECCO_L4_OCEAN_VEL_LLC0090GRID_DAILY_V4R4 , C1991543808-POCLOUD\n",
      "Services: PO.DAAC Cloud OPeNDAP\n",
      "Services: PO.DAAC harmony-netcdf-to-zarr\n",
      "ECCO_L4_OCEAN_VEL_05DEG_MONTHLY_V4R4 , C1990404823-POCLOUD\n",
      "Services: PO.DAAC Cloud OPeNDAP\n",
      "Services: PO.DAAC harmony-netcdf-to-zarr\n",
      "ECCO_L4_OCEAN_VEL_LLC0090GRID_MONTHLY_V4R4 , C1991543732-POCLOUD\n",
      "Services: PO.DAAC Cloud OPeNDAP\n",
      "Services: PO.DAAC harmony-netcdf-to-zarr\n",
      "ECCO_L4_SBO_CORE_TIME_SERIES_SNAPSHOT_V4R4 , C1991543766-POCLOUD\n",
      "Services: PO.DAAC Cloud OPeNDAP\n",
      "Services: PO.DAAC harmony-netcdf-to-zarr\n",
      "ECCO_L4_SBO_CORE_TIME_SERIES_SNAPSHOT_V4R4B , C2133162585-POCLOUD\n",
      "Services: PO.DAAC Cloud OPeNDAP\n",
      "Services: PO.DAAC harmony-netcdf-to-zarr\n",
      "ECCO_L4_SSH_05DEG_DAILY_V4R4 , C1990404813-POCLOUD\n",
      "Services: PO.DAAC Cloud OPeNDAP\n",
      "Services: PO.DAAC harmony-netcdf-to-zarr\n",
      "ECCO_L4_SSH_05DEG_DAILY_V4R4B , C2129181904-POCLOUD\n",
      "Services: PO.DAAC Cloud OPeNDAP\n",
      "Services: PO.DAAC harmony-netcdf-to-zarr\n",
      "ECCO_L4_SSH_LLC0090GRID_DAILY_V4R4 , C1991543744-POCLOUD\n",
      "Services: PO.DAAC Cloud OPeNDAP\n",
      "Services: PO.DAAC harmony-netcdf-to-zarr\n",
      "ECCO_L4_SSH_LLC0090GRID_DAILY_V4R4B , C2129186341-POCLOUD\n",
      "Services: PO.DAAC Cloud OPeNDAP\n",
      "Services: PO.DAAC harmony-netcdf-to-zarr\n",
      "ECCO_L4_SSH_05DEG_MONTHLY_V4R4 , C1990404799-POCLOUD\n",
      "Services: PO.DAAC Cloud OPeNDAP\n",
      "Services: PO.DAAC harmony-netcdf-to-zarr\n",
      "ECCO_L4_SSH_05DEG_MONTHLY_V4R4B , C2129189405-POCLOUD\n",
      "Services: PO.DAAC Cloud OPeNDAP\n",
      "Services: PO.DAAC harmony-netcdf-to-zarr\n",
      "ECCO_L4_SSH_LLC0090GRID_MONTHLY_V4R4 , C1991543813-POCLOUD\n",
      "Services: PO.DAAC Cloud OPeNDAP\n",
      "Services: PO.DAAC harmony-netcdf-to-zarr\n",
      "ECCO_L4_SSH_LLC0090GRID_MONTHLY_V4R4B , C2129189870-POCLOUD\n",
      "Services: PO.DAAC Cloud OPeNDAP\n",
      "Services: PO.DAAC harmony-netcdf-to-zarr\n",
      "ECCO_L4_SSH_LLC0090GRID_SNAPSHOT_V4R4 , C1991543817-POCLOUD\n",
      "Services: PO.DAAC Cloud OPeNDAP\n",
      "Services: PO.DAAC harmony-netcdf-to-zarr\n",
      "ECCO_L4_SEA_ICE_CONC_THICKNESS_05DEG_DAILY_V4R4 , C1990404815-POCLOUD\n",
      "Services: PO.DAAC Cloud OPeNDAP\n",
      "Services: PO.DAAC harmony-netcdf-to-zarr\n",
      "ECCO_L4_SEA_ICE_CONC_THICKNESS_LLC0090GRID_DAILY_V4R4 , C1991543763-POCLOUD\n",
      "Services: PO.DAAC Cloud OPeNDAP\n",
      "Services: PO.DAAC harmony-netcdf-to-zarr\n",
      "ECCO_L4_SEA_ICE_CONC_THICKNESS_05DEG_MONTHLY_V4R4 , C1990404820-POCLOUD\n",
      "Services: PO.DAAC Cloud OPeNDAP\n",
      "Services: PO.DAAC harmony-netcdf-to-zarr\n",
      "ECCO_L4_SEA_ICE_CONC_THICKNESS_LLC0090GRID_MONTHLY_V4R4 , C1991543764-POCLOUD\n",
      "Services: PO.DAAC Cloud OPeNDAP\n",
      "Services: PO.DAAC harmony-netcdf-to-zarr\n",
      "ECCO_L4_SEA_ICE_CONC_THICKNESS_LLC0090GRID_SNAPSHOT_V4R4 , C1991543821-POCLOUD\n",
      "Services: PO.DAAC Cloud OPeNDAP\n",
      "Services: PO.DAAC harmony-netcdf-to-zarr\n",
      "ECCO_L4_SEA_ICE_HORIZ_VOLUME_FLUX_LLC0090GRID_DAILY_V4R4 , C1991543731-POCLOUD\n",
      "Services: PO.DAAC Cloud OPeNDAP\n",
      "Services: PO.DAAC harmony-netcdf-to-zarr\n",
      "ECCO_L4_SEA_ICE_HORIZ_VOLUME_FLUX_LLC0090GRID_MONTHLY_V4R4 , C1991543724-POCLOUD\n",
      "Services: PO.DAAC Cloud OPeNDAP\n",
      "Services: PO.DAAC harmony-netcdf-to-zarr\n",
      "ECCO_L4_SEA_ICE_SALT_PLUME_FLUX_LLC0090GRID_DAILY_V4R4 , C1991543807-POCLOUD\n",
      "Services: PO.DAAC Cloud OPeNDAP\n",
      "Services: PO.DAAC harmony-netcdf-to-zarr\n",
      "ECCO_L4_SEA_ICE_SALT_PLUME_FLUX_LLC0090GRID_MONTHLY_V4R4 , C1991543730-POCLOUD\n",
      "Services: PO.DAAC Cloud OPeNDAP\n",
      "Services: PO.DAAC harmony-netcdf-to-zarr\n",
      "ECCO_L4_SEA_ICE_VELOCITY_05DEG_DAILY_V4R4 , C1990404817-POCLOUD\n",
      "Services: PO.DAAC Cloud OPeNDAP\n",
      "Services: PO.DAAC harmony-netcdf-to-zarr\n",
      "ECCO_L4_SEA_ICE_VELOCITY_LLC0090GRID_DAILY_V4R4 , C1991543765-POCLOUD\n",
      "Services: PO.DAAC Cloud OPeNDAP\n",
      "Services: PO.DAAC harmony-netcdf-to-zarr\n",
      "ECCO_L4_SEA_ICE_VELOCITY_05DEG_MONTHLY_V4R4 , C1990404790-POCLOUD\n",
      "Services: PO.DAAC Cloud OPeNDAP\n",
      "Services: PO.DAAC harmony-netcdf-to-zarr\n",
      "ECCO_L4_SEA_ICE_VELOCITY_LLC0090GRID_MONTHLY_V4R4 , C1991543700-POCLOUD\n",
      "Services: PO.DAAC Cloud OPeNDAP\n",
      "Services: PO.DAAC harmony-netcdf-to-zarr\n",
      "ECCO_L4_SEA_ICE_VELOCITY_LLC0090GRID_SNAPSHOT_V4R4 , C1991543768-POCLOUD\n",
      "Services: PO.DAAC Cloud OPeNDAP\n",
      "Services: PO.DAAC harmony-netcdf-to-zarr\n",
      "VIIRS_NPP-NAVO-L2P-v1.0 , C1996881807-POCLOUD\n",
      "Services: PO.DAAC Cloud OPeNDAP\n",
      "Services: PODAAC L2 Cloud Subsetter\n",
      "VIIRS_NPP-NAVO-L2P-v3.0 , C1996881636-POCLOUD\n",
      "Services: PO.DAAC Cloud OPeNDAP\n",
      "Services: PODAAC L2 Cloud Subsetter\n",
      "MSG03-OSPO-L2P-v1.0 , C2036878029-POCLOUD\n",
      "Services: PO.DAAC Cloud OPeNDAP\n",
      "Services: PODAAC L2 Cloud Subsetter\n",
      "VIIRS_NPP-JPL-L2P-v2016.2 , C1996881456-POCLOUD\n",
      "Services: PO.DAAC Cloud OPeNDAP\n",
      "Services: PODAAC L2 Cloud Subsetter\n",
      "MODIS_A-JPL-L2P-v2019.0 , C1940473819-POCLOUD\n",
      "Services: PO.DAAC Cloud OPeNDAP\n",
      "Services: PODAAC L2 Cloud Subsetter\n",
      "MODIS_A-JPL-L2P-v2019.0 , C1693233348-PODAAC\n",
      "Services: PODAAC L2 Cloud Subsetter\n",
      "MODIS_T-JPL-L2P-v2019.0 , C1940475563-POCLOUD\n",
      "Services: PO.DAAC Cloud OPeNDAP\n",
      "Services: PODAAC L2 Cloud Subsetter\n",
      "MODIS_T-JPL-L2P-v2019.0 , C1693233387-PODAAC\n",
      "Services: PODAAC L2 Cloud Subsetter\n",
      "TMI-REMSS-L2P-v4 , C2036879048-POCLOUD\n",
      "Services: PO.DAAC Cloud OPeNDAP\n",
      "Services: PODAAC L2 Cloud Subsetter\n",
      "VIIRS_NPP-OSPO-L2P-v2.61 , C1996880725-POCLOUD\n",
      "Services: PO.DAAC Cloud OPeNDAP\n",
      "Services: PODAAC L2 Cloud Subsetter\n",
      "VIIRS_N20-OSPO-L2P-v2.61 , C1996880450-POCLOUD\n",
      "Services: PO.DAAC Cloud OPeNDAP\n",
      "Services: PODAAC L2 Cloud Subsetter\n",
      "AVHRR_SST_METOP_B-OSISAF-L2P-v1.0 , C2036880717-POCLOUD\n",
      "Services: PO.DAAC Cloud OPeNDAP\n",
      "Services: PODAAC L2 Cloud Subsetter\n",
      "JASON-1_L2_OST_GPR_E , C1684065156-PODAAC\n",
      "Services: PODAAC L2 Cloud Subsetter\n",
      "JASON-1_L2_OST_GPN_E , C1684065153-PODAAC\n",
      "Services: PODAAC L2 Cloud Subsetter\n",
      "JASON-1_L2_OST_GPS_E , C1684065158-PODAAC\n",
      "Services: PODAAC L2 Cloud Subsetter\n",
      "CYGNSS_NOAA_L2_SWSP_25KM_V1.1 , C2036882072-POCLOUD\n",
      "Services: PO.DAAC Cloud OPeNDAP\n",
      "Services: PODAAC L2 Cloud Subsetter\n",
      "JASON_CS_S6A_L2_AMR_RAD_NRT , C1968979997-POCLOUD\n",
      "Services: PO.DAAC Cloud OPeNDAP\n",
      "Services: PODAAC L2 Cloud Subsetter\n",
      "JASON_CS_S6A_L2_AMR_RAD_STC , C1968979762-POCLOUD\n",
      "Services: PO.DAAC Cloud OPeNDAP\n",
      "Services: PODAAC L2 Cloud Subsetter\n",
      "JASON_CS_S6A_L2_ALT_LR_STD_OST_NRT_F , C1968979597-POCLOUD\n",
      "Services: PO.DAAC Cloud OPeNDAP\n",
      "Services: PODAAC L2 Cloud Subsetter\n",
      "JASON_CS_S6A_L2_ALT_LR_RED_OST_NRT_F , C1968980576-POCLOUD\n",
      "Services: PO.DAAC Cloud OPeNDAP\n",
      "Services: PODAAC L2 Cloud Subsetter\n",
      "JASON_CS_S6A_L2_ALT_LR_STD_OST_STC_F , C1968980609-POCLOUD\n",
      "Services: PO.DAAC Cloud OPeNDAP\n",
      "Services: PODAAC L2 Cloud Subsetter\n",
      "JASON_CS_S6A_L2_ALT_LR_RED_OST_STC_F , C1968979561-POCLOUD\n",
      "Services: PO.DAAC Cloud OPeNDAP\n",
      "Services: PODAAC L2 Cloud Subsetter\n"
     ]
    }
   ],
   "source": [
    "services = graphql_response.json()['data']['collections']['items']\n",
    "\n",
    "for service in services:\n",
    "    print(service['shortName'], \",\", service['conceptId'])\n",
    "    for i in range(len(service['services']['items'])):\n",
    "        print(\"Services:\", service['services']['items'][i]['name'])"
   ]
  },
  {
   "cell_type": "markdown",
   "id": "644bd05f-b5bf-4e16-ad5d-5d3aa675fdc0",
   "metadata": {},
   "source": [
    "## Discover variable names\n",
    "\n",
    "Just like services, a dataset may also be associated to metadata on their individual data variables, which can be used as input if we wish to subset by one or more variables of interest."
   ]
  },
  {
   "cell_type": "code",
   "execution_count": 14,
   "id": "2052dc8d-92c7-401b-b934-1e86231c92c6",
   "metadata": {
    "tags": []
   },
   "outputs": [
    {
     "name": "stdout",
     "output_type": "stream",
     "text": [
      "['V1997812737-POCLOUD', 'V1997812697-POCLOUD', 'V2112014688-POCLOUD', 'V1997812756-POCLOUD', 'V1997812688-POCLOUD', 'V1997812670-POCLOUD', 'V1997812724-POCLOUD', 'V2112014684-POCLOUD', 'V1997812701-POCLOUD', 'V1997812681-POCLOUD', 'V2112014686-POCLOUD', 'V1997812663-POCLOUD', 'V1997812676-POCLOUD', 'V1997812744-POCLOUD', 'V1997812714-POCLOUD']\n"
     ]
    }
   ],
   "source": [
    "variables = response['feed']['entry'][0]['associations']['variables']\n",
    "print(variables)"
   ]
  },
  {
   "cell_type": "markdown",
   "id": "5758aedd-bc3a-4aed-af45-e768d1cfa33b",
   "metadata": {},
   "source": [
    "Several variable records are returned. Again, like we did for services, we'll search the variables endpoint to view an individual variable's metadata, and we'll print out the list of variables for our dataset. "
   ]
  },
  {
   "cell_type": "code",
   "execution_count": 15,
   "id": "b16209fa-dec0-49f4-9de0-f68305a5664e",
   "metadata": {
    "tags": []
   },
   "outputs": [],
   "source": [
    "var_url = \"https://cmr.earthdata.nasa.gov/search/variables\""
   ]
  },
  {
   "cell_type": "code",
   "execution_count": 16,
   "id": "34684453-145f-4e13-94d8-4797d5eb6706",
   "metadata": {},
   "outputs": [],
   "source": [
    "var_response = requests.get(var_url, \n",
    "                        params={\n",
    "                            'concept_id': variables[0],\n",
    "                            },\n",
    "                        headers={\n",
    "                            'Accept': 'application/vnd.nasa.cmr.umm_results+json'\n",
    "                            }\n",
    "                       )\n",
    "var_response = var_response.json()"
   ]
  },
  {
   "cell_type": "code",
   "execution_count": 17,
   "id": "805e8fea-43c6-4615-a27f-5a8b1b1e8b5b",
   "metadata": {},
   "outputs": [
    {
     "name": "stdout",
     "output_type": "stream",
     "text": [
      "{'hits': 1,\n",
      " 'items': [{'associations': {'collections': [{'concept-id': 'C1940473819-POCLOUD'}]},\n",
      "            'meta': {'concept-id': 'V1997812737-POCLOUD',\n",
      "                     'concept-type': 'variable',\n",
      "                     'deleted': False,\n",
      "                     'format': 'application/vnd.nasa.cmr.umm+json',\n",
      "                     'native-id': 'MODIS_A-JPL-L2P-v2019.0-sses_standard_deviation_4um',\n",
      "                     'provider-id': 'POCLOUD',\n",
      "                     'revision-date': '2021-10-19T02:26:51.560Z',\n",
      "                     'revision-id': 6,\n",
      "                     'user-id': 'jmcnelis'},\n",
      "            'umm': {'DataType': 'byte',\n",
      "                    'Definition': 'mid-IR SST standard deviation error; non '\n",
      "                                  'L2P core field; signed byte array:  WARNING '\n",
      "                                  'Some applications are unable to properly '\n",
      "                                  'handle signed byte values. If values are '\n",
      "                                  'encountered > 127, please subtract 256 from '\n",
      "                                  'this reported value',\n",
      "                    'Dimensions': [{'Name': 'time',\n",
      "                                    'Size': 1,\n",
      "                                    'Type': 'TIME_DIMENSION'},\n",
      "                                   {'Name': 'nj',\n",
      "                                    'Size': 2030,\n",
      "                                    'Type': 'ALONG_TRACK_DIMENSION'},\n",
      "                                   {'Name': 'ni',\n",
      "                                    'Size': 1354,\n",
      "                                    'Type': 'CROSS_TRACK_DIMENSION'}],\n",
      "                    'FillValues': [{'Type': 'SCIENCE_FILLVALUE',\n",
      "                                    'Value': -128}],\n",
      "                    'LongName': 'SSES standard deviation error based on '\n",
      "                                'proximity confidence flags',\n",
      "                    'Name': 'sses_standard_deviation_4um',\n",
      "                    'Offset': 10.0,\n",
      "                    'Scale': 0.07874016,\n",
      "                    'Sets': [{'Index': 1,\n",
      "                              'Name': 'sses_standard_deviation_4um',\n",
      "                              'Size': 1,\n",
      "                              'Type': 'General'}],\n",
      "                    'Units': 'kelvin',\n",
      "                    'ValidRanges': [{'Max': 127, 'Min': -127}],\n",
      "                    'VariableType': 'ANCILLARY_VARIABLE'}}],\n",
      " 'took': 9}\n"
     ]
    }
   ],
   "source": [
    "pprint(var_response)"
   ]
  },
  {
   "cell_type": "markdown",
   "id": "27648efc-3ea8-4c1e-843c-c12a58f7b766",
   "metadata": {},
   "source": [
    "Next, print out a simple list of all associated variable names by looping the same variable response we submitted above, this time for each variable:"
   ]
  },
  {
   "cell_type": "code",
   "execution_count": 18,
   "id": "9fc1a4a5-4d84-4eca-a83a-18499cba5feb",
   "metadata": {},
   "outputs": [],
   "source": [
    "var_list = []\n",
    "for i in range(len(variables)):\n",
    "    var_response = requests.get(var_url, \n",
    "                            params={\n",
    "                                'concept_id': variables[i],\n",
    "                                },\n",
    "                            headers={\n",
    "                                'Accept': 'application/vnd.nasa.cmr.umm_results+json'\n",
    "                                }\n",
    "                           )\n",
    "    var_response = var_response.json()\n",
    "    var_list.append(var_response['items'][0]['umm']['Name'])"
   ]
  },
  {
   "cell_type": "code",
   "execution_count": 19,
   "id": "4a93372a-3acc-4dfb-af7c-3552c1e6984e",
   "metadata": {},
   "outputs": [
    {
     "name": "stdout",
     "output_type": "stream",
     "text": [
      "['sses_standard_deviation_4um',\n",
      " 'l2p_flags',\n",
      " 'time',\n",
      " 'dt_analysis',\n",
      " 'sses_standard_deviation',\n",
      " 'sst_dtime',\n",
      " 'sses_bias_4um',\n",
      " 'lat',\n",
      " 'sea_surface_temperature_4um',\n",
      " 'sses_bias',\n",
      " 'lon',\n",
      " 'sea_surface_temperature',\n",
      " 'quality_level',\n",
      " 'wind_speed',\n",
      " 'quality_level_4um']\n"
     ]
    }
   ],
   "source": [
    "pprint(var_list)"
   ]
  },
  {
   "cell_type": "markdown",
   "id": "2ec7d84e-1946-4014-b0bb-febb12373ab2",
   "metadata": {},
   "source": [
    "## Using Harmony-Py to subset data"
   ]
  },
  {
   "cell_type": "markdown",
   "id": "4697edd0-205f-48ef-b9b8-a31ba2530734",
   "metadata": {},
   "source": [
    "Harmony-Py provides a pip installable Python alternative to directly using Harmony's RESTful API to make it easier to request data and service options, especially when interacting within a Python Jupyter Notebook environment.\n",
    "\n",
    "The next steps are adopted from the [introduction tutorial](https://github.com/nasa/harmony-py/blob/main/examples/intro_tutorial.ipynb) notebook provided in the Harmony-Py library:"
   ]
  },
  {
   "cell_type": "markdown",
   "id": "07c5f20b-25da-456c-9a13-c86bc67ed4db",
   "metadata": {},
   "source": [
    "### Create Harmony Client object\n",
    "First, we need to create a Harmony Client, which is what we will interact with to submit and inspect a data request to Harmony, as well as to retrieve results.\n",
    "\n",
    "When creating the Client, we need to provide Earthdata Login credentials, which are required to access data from NASA EOSDIS. This basic line below assumes that we have a `.netrc` available. "
   ]
  },
  {
   "cell_type": "code",
   "execution_count": 20,
   "id": "aee9843a-1875-4fb4-b241-47389333c010",
   "metadata": {},
   "outputs": [],
   "source": [
    "harmony_client = Client()"
   ]
  },
  {
   "cell_type": "markdown",
   "id": "01913267-e9c7-4f4b-a442-d4b0c42cb3e2",
   "metadata": {},
   "source": [
    "### Hurricane Ida snapshot\n",
    "\n",
    "Using [NASA Worldview](https://go.nasa.gov/3nhCwZi), we can first explore SST during a tropical storm event; in this case, we can overlay L2 and L4 SST variables against true color imagery to observe Hurricane Ida in August 2021. Although this is a small sample set, this use case could be expanded to explore how SST responds during the Atlantic hurricane over the next several months. The same data that we are requesting below using Harmony-py can also be requested using [NASA Earthdata Search](https://search.earthdata.nasa.gov/search/granules?p=C1940473819-POCLOUD&pg[0][v]=f&pg[0][qt]=2021-08-20T00%3A00%3A00.000Z%2C2021-08-20T23%3A59%3A59.999Z&pg[0][gsk]=-start_date&q=C1940473819-POCLOUD&sb[0]=-97.77667%2C21.20806%2C-83.05197%2C30.16605&tl=1636520265!3!!&m=30.69140625!-97.875!3!1!0!0%2C2) \n",
    "\n",
    "![Hurrican Ida snapshot - Worldview](data/Worldview-snapshot-Ida.jpeg)"
   ]
  },
  {
   "cell_type": "markdown",
   "id": "382d3a8f-9a15-4aa7-98ad-a2f961986973",
   "metadata": {},
   "source": [
    "### Create Harmony Request\n",
    "\n",
    "The following are common request parameters:\n",
    "\n",
    "- `collection`: Required parameter. This is the NASA EOSDIS collection, or data product. There are two options for inputting a collection of interest:\n",
    "    - Provide a concept ID (e.g. C1940473819-POCLOUD)\n",
    "    - Data product short name (e.g. MODIS_A-JPL-L2P-v2019.0).\n",
    "- `spatial`: Bounding box spatial constraints on the data. The Harmony Bbox class accepts spatial coordinates as decimal degrees in w, s, e, n order, where longitude = -180, 180 and latitude = -90, 90.\n",
    "- `temporal`: Date/time constraints on the data. The example below demonstrates temporal start and end ranges using the python datetime library.\n",
    "\n",
    "As we identified above, only subsetting options are available for this dataset. If other service options such as reformatting are available for a given dataset, these can also be specified using Harmony-py: See the [documentation](https://harmony-py.readthedocs.io/en/latest/) for details on how to construct these parameters.\n"
   ]
  },
  {
   "cell_type": "code",
   "execution_count": 21,
   "id": "3bab287d-ef49-44bb-9d14-fbcb72407341",
   "metadata": {},
   "outputs": [],
   "source": [
    "request = Request(\n",
    "    collection=Collection(id=short_name),\n",
    "    spatial=BBox(-97.77667,21.20806,-83.05197,30.16605),\n",
    "    temporal={\n",
    "        'start': dt.datetime(2021, 8, 20),\n",
    "        'stop': dt.datetime(2021, 8, 21),\n",
    "    },\n",
    ")"
   ]
  },
  {
   "cell_type": "markdown",
   "id": "680f12b8-0ac2-4ff2-8f05-f519e9ea16aa",
   "metadata": {},
   "source": [
    "### Check Request validity\n",
    "Before submitting a Harmony Request, we can test your request to see if it's valid and how to fix it if not. In particular, `request.is_valid` will check to ensure that the spatial BBox bounds and temporal ranges are entered correctly."
   ]
  },
  {
   "cell_type": "code",
   "execution_count": 22,
   "id": "7cb74a84-9d0a-4a1a-bf49-c8d227134ce1",
   "metadata": {},
   "outputs": [
    {
     "data": {
      "text/plain": [
       "True"
      ]
     },
     "execution_count": 22,
     "metadata": {},
     "output_type": "execute_result"
    }
   ],
   "source": [
    "request.is_valid()"
   ]
  },
  {
   "cell_type": "markdown",
   "id": "8e9f4b81-6bfc-46e3-bb79-0ee5846456a2",
   "metadata": {},
   "source": [
    "### Submit request\n",
    "\n",
    "Now that the request is created, we can now submit it to Harmony using the Harmony Client object. A job id is returned, which is a unique identifier that represents the submitted request."
   ]
  },
  {
   "cell_type": "code",
   "execution_count": 23,
   "id": "48e5d0b2-d28c-4fe6-975d-3003b112ca6b",
   "metadata": {},
   "outputs": [
    {
     "data": {
      "text/plain": [
       "'e36f6916-a7d9-4d82-a5fa-924d48d464ef'"
      ]
     },
     "execution_count": 23,
     "metadata": {},
     "output_type": "execute_result"
    }
   ],
   "source": [
    "job_id = harmony_client.submit(request)\n",
    "job_id"
   ]
  },
  {
   "cell_type": "markdown",
   "id": "6c0eec72-e25c-485f-b247-f804c40a5d97",
   "metadata": {},
   "source": [
    "### Check request status\n",
    "\n",
    "We can check on the progress of a processing job with status(). This method blocks while communicating with the server but returns quickly."
   ]
  },
  {
   "cell_type": "code",
   "execution_count": 24,
   "id": "c8ca8da2-9f33-4fc9-bb63-c717d47e97dd",
   "metadata": {},
   "outputs": [
    {
     "data": {
      "text/plain": [
       "{'status': 'running',\n",
       " 'message': 'There were 2 collections that matched the provided short name MODIS_A-JPL-L2P-v2019.0. See https://cmr.earthdata.nasa.gov/concepts/C1940473819-POCLOUD for details on the selected collection. The version ID for the selected collection is 2019.0. To use a different collection submit a new request specifying the desired CMR concept ID instead of the collection short name.',\n",
       " 'progress': 0,\n",
       " 'created_at': datetime.datetime(2021, 11, 19, 17, 44, 40, 768000, tzinfo=tzlocal()),\n",
       " 'updated_at': datetime.datetime(2021, 11, 19, 17, 44, 40, 768000, tzinfo=tzlocal()),\n",
       " 'request': 'https://harmony.earthdata.nasa.gov/MODIS_A-JPL-L2P-v2019.0/ogc-api-coverages/1.0.0/collections/all/coverage/rangeset?forceAsync=true&subset=lat(21.20806%3A30.16605)&subset=lon(-97.77667%3A-83.05197)&subset=time(%222021-08-20T00%3A00%3A00%22%3A%222021-08-21T00%3A00%3A00%22)',\n",
       " 'num_input_granules': 6}"
      ]
     },
     "execution_count": 24,
     "metadata": {},
     "output_type": "execute_result"
    }
   ],
   "source": [
    "harmony_client.status(job_id)"
   ]
  },
  {
   "cell_type": "markdown",
   "id": "758a72c3-c204-4b5b-8ef8-68338290d5a1",
   "metadata": {},
   "source": [
    "Depending on the size of the request, it may be helpful to wait until the request has completed processing before the remainder of the code is executed. The wait_for_processing() method will block subsequent lines of code while optionally showing a progress bar."
   ]
  },
  {
   "cell_type": "code",
   "execution_count": 25,
   "id": "37bdad26-3c82-4ab4-8c31-abd9027c65e5",
   "metadata": {},
   "outputs": [
    {
     "name": "stderr",
     "output_type": "stream",
     "text": [
      " [ Processing: 100% ] |###################################################| [|]\n"
     ]
    }
   ],
   "source": [
    "harmony_client.wait_for_processing(job_id, show_progress=True)"
   ]
  },
  {
   "cell_type": "markdown",
   "id": "40e3e42c-ddb2-4463-ae67-092802247b98",
   "metadata": {},
   "source": [
    "### View Harmony job response and output URLs\n",
    "Once the data request has finished processing, we can view details on the job that was submitted to Harmony, including the API call to Harmony, and informational messages on the request if available.\n",
    "\n",
    "result_json() calls wait_for_processing() and returns the complete job in JSON format once processing is complete. "
   ]
  },
  {
   "cell_type": "code",
   "execution_count": 26,
   "id": "cf7f40e0-815a-452b-a250-439566d8495f",
   "metadata": {},
   "outputs": [
    {
     "name": "stdout",
     "output_type": "stream",
     "text": [
      "{'createdAt': '2021-11-19T17:44:40.768Z',\n",
      " 'jobID': 'e36f6916-a7d9-4d82-a5fa-924d48d464ef',\n",
      " 'links': [{'href': 'https://harmony.earthdata.nasa.gov/stac/e36f6916-a7d9-4d82-a5fa-924d48d464ef/',\n",
      "            'rel': 'stac-catalog-json',\n",
      "            'title': 'STAC catalog',\n",
      "            'type': 'application/json'},\n",
      "           {'bbox': [-83.612, 1.103, -58.391, 22.005],\n",
      "            'href': 'https://harmony.earthdata.nasa.gov/service-results/harmony-prod-staging/public/podaac/l2-subsetter/cef7a7c7-c01c-4186-ac73-3e03f2940259/20210820062501-JPL-L2P_GHRSST-SSTskin-MODIS_A-N-v02.0-fv01.0.nc4',\n",
      "            'rel': 'data',\n",
      "            'temporal': {'end': '2021-08-20T06:29:58.000Z',\n",
      "                         'start': '2021-08-20T06:25:01.000Z'},\n",
      "            'title': '20210820062501-JPL-L2P_GHRSST-SSTskin-MODIS_A-N-v02.0-fv01.0.nc4',\n",
      "            'type': 'application/x-netcdf4'},\n",
      "           {'bbox': [-97.8, 21.2, -83.1, 30.2],\n",
      "            'href': 'https://harmony.earthdata.nasa.gov/service-results/harmony-prod-staging/public/podaac/l2-subsetter/cef7a7c7-c01c-4186-ac73-3e03f2940259/20210820080001-JPL-L2P_GHRSST-SSTskin-MODIS_A-N-v02.0-fv01.0_subsetted.nc4',\n",
      "            'rel': 'data',\n",
      "            'temporal': {'end': '2021-08-20T08:04:58.000Z',\n",
      "                         'start': '2021-08-20T08:00:01.000Z'},\n",
      "            'title': '20210820080001-JPL-L2P_GHRSST-SSTskin-MODIS_A-N-v02.0-fv01.0_subsetted.nc4',\n",
      "            'type': 'application/x-netcdf4'},\n",
      "           {'bbox': [-128.335, 29.006, -95.854, 49.87],\n",
      "            'href': 'https://harmony.earthdata.nasa.gov/service-results/harmony-prod-staging/public/podaac/l2-subsetter/cef7a7c7-c01c-4186-ac73-3e03f2940259/20210820093501-JPL-L2P_GHRSST-SSTskin-MODIS_A-N-v02.0-fv01.0.nc4',\n",
      "            'rel': 'data',\n",
      "            'temporal': {'end': '2021-08-20T09:39:49.000Z',\n",
      "                         'start': '2021-08-20T09:35:01.000Z'},\n",
      "            'title': '20210820093501-JPL-L2P_GHRSST-SSTskin-MODIS_A-N-v02.0-fv01.0.nc4',\n",
      "            'type': 'application/x-netcdf4'},\n",
      "           {'bbox': [-96.8, 21.2, -83.1, 27.7],\n",
      "            'href': 'https://harmony.earthdata.nasa.gov/service-results/harmony-prod-staging/public/podaac/l2-subsetter/cef7a7c7-c01c-4186-ac73-3e03f2940259/20210820185501-JPL-L2P_GHRSST-SSTskin-MODIS_A-D-v02.0-fv01.0_subsetted.nc4',\n",
      "            'rel': 'data',\n",
      "            'temporal': {'end': '2021-08-20T18:59:58.000Z',\n",
      "                         'start': '2021-08-20T18:55:01.000Z'},\n",
      "            'title': '20210820185501-JPL-L2P_GHRSST-SSTskin-MODIS_A-D-v02.0-fv01.0_subsetted.nc4',\n",
      "            'type': 'application/x-netcdf4'},\n",
      "           {'bbox': [-97.8, 25.3, -83.1, 30.2],\n",
      "            'href': 'https://harmony.earthdata.nasa.gov/service-results/harmony-prod-staging/public/podaac/l2-subsetter/cef7a7c7-c01c-4186-ac73-3e03f2940259/20210820190001-JPL-L2P_GHRSST-SSTskin-MODIS_A-D-v02.0-fv01.0_subsetted.nc4',\n",
      "            'rel': 'data',\n",
      "            'temporal': {'end': '2021-08-20T19:04:58.000Z',\n",
      "                         'start': '2021-08-20T19:00:01.000Z'},\n",
      "            'title': '20210820190001-JPL-L2P_GHRSST-SSTskin-MODIS_A-D-v02.0-fv01.0_subsetted.nc4',\n",
      "            'type': 'application/x-netcdf4'},\n",
      "           {'bbox': [-97.8, 21.2, -97.3, 24.6],\n",
      "            'href': 'https://harmony.earthdata.nasa.gov/service-results/harmony-prod-staging/public/podaac/l2-subsetter/cef7a7c7-c01c-4186-ac73-3e03f2940259/20210820203501-JPL-L2P_GHRSST-SSTskin-MODIS_A-D-v02.0-fv01.0_subsetted.nc4',\n",
      "            'rel': 'data',\n",
      "            'temporal': {'end': '2021-08-20T20:39:58.000Z',\n",
      "                         'start': '2021-08-20T20:35:01.000Z'},\n",
      "            'title': '20210820203501-JPL-L2P_GHRSST-SSTskin-MODIS_A-D-v02.0-fv01.0_subsetted.nc4',\n",
      "            'type': 'application/x-netcdf4'},\n",
      "           {'href': 'https://harmony.earthdata.nasa.gov/jobs/e36f6916-a7d9-4d82-a5fa-924d48d464ef?linktype=https&page=1&limit=2000',\n",
      "            'rel': 'self',\n",
      "            'title': 'The current page',\n",
      "            'type': 'application/json'}],\n",
      " 'message': 'There were 2 collections that matched the provided short name '\n",
      "            'MODIS_A-JPL-L2P-v2019.0. See '\n",
      "            'https://cmr.earthdata.nasa.gov/concepts/C1940473819-POCLOUD for '\n",
      "            'details on the selected collection. The version ID for the '\n",
      "            'selected collection is 2019.0. To use a different collection '\n",
      "            'submit a new request specifying the desired CMR concept ID '\n",
      "            'instead of the collection short name.',\n",
      " 'numInputGranules': 6,\n",
      " 'progress': 100,\n",
      " 'request': 'https://harmony.earthdata.nasa.gov/MODIS_A-JPL-L2P-v2019.0/ogc-api-coverages/1.0.0/collections/all/coverage/rangeset?forceAsync=true&subset=lat(21.20806%3A30.16605)&subset=lon(-97.77667%3A-83.05197)&subset=time(%222021-08-20T00%3A00%3A00%22%3A%222021-08-21T00%3A00%3A00%22)',\n",
      " 'status': 'successful',\n",
      " 'updatedAt': '2021-11-19T17:45:17.148Z',\n",
      " 'username': 'amy.steiker'}\n"
     ]
    }
   ],
   "source": [
    "data = harmony_client.result_json(job_id)\n",
    "pprint(data)"
   ]
  },
  {
   "cell_type": "markdown",
   "id": "a7989627-d1f9-4f78-83df-c56a7d8b1c93",
   "metadata": {
    "tags": []
   },
   "source": [
    "### Direct cloud access\n",
    "\n",
    "Note that the remainder of this tutorial will only succeed when running this notebook within the AWS us-west-2 region.\n",
    "\n",
    "Harmony data outputs can be accessed within the cloud using the s3 URLs and AWS credentials provided in the Harmony job response.\n",
    "\n",
    "#### Retrieve list of output URLs.\n",
    "\n",
    "The result_urls() method calls wait_for_processing() and returns a list of the processed data URLs once processing is complete. You may optionally show the progress bar as shown below."
   ]
  },
  {
   "cell_type": "code",
   "execution_count": 27,
   "id": "b66d9800-173b-48d3-bb8a-63ff6b22d1e7",
   "metadata": {},
   "outputs": [
    {
     "name": "stdout",
     "output_type": "stream",
     "text": [
      "['s3://harmony-prod-staging/public/podaac/l2-subsetter/cef7a7c7-c01c-4186-ac73-3e03f2940259/20210820062501-JPL-L2P_GHRSST-SSTskin-MODIS_A-N-v02.0-fv01.0.nc4',\n",
      " 's3://harmony-prod-staging/public/podaac/l2-subsetter/cef7a7c7-c01c-4186-ac73-3e03f2940259/20210820080001-JPL-L2P_GHRSST-SSTskin-MODIS_A-N-v02.0-fv01.0_subsetted.nc4',\n",
      " 's3://harmony-prod-staging/public/podaac/l2-subsetter/cef7a7c7-c01c-4186-ac73-3e03f2940259/20210820093501-JPL-L2P_GHRSST-SSTskin-MODIS_A-N-v02.0-fv01.0.nc4',\n",
      " 's3://harmony-prod-staging/public/podaac/l2-subsetter/cef7a7c7-c01c-4186-ac73-3e03f2940259/20210820185501-JPL-L2P_GHRSST-SSTskin-MODIS_A-D-v02.0-fv01.0_subsetted.nc4',\n",
      " 's3://harmony-prod-staging/public/podaac/l2-subsetter/cef7a7c7-c01c-4186-ac73-3e03f2940259/20210820190001-JPL-L2P_GHRSST-SSTskin-MODIS_A-D-v02.0-fv01.0_subsetted.nc4',\n",
      " 's3://harmony-prod-staging/public/podaac/l2-subsetter/cef7a7c7-c01c-4186-ac73-3e03f2940259/20210820203501-JPL-L2P_GHRSST-SSTskin-MODIS_A-D-v02.0-fv01.0_subsetted.nc4']\n"
     ]
    }
   ],
   "source": [
    "results = harmony_client.result_urls(job_id, link_type=LinkType.s3)\n",
    "urls = list(results)\n",
    "pprint(urls)"
   ]
  },
  {
   "cell_type": "markdown",
   "id": "38421c1d-798f-48d4-8465-2c5448585ef9",
   "metadata": {},
   "source": [
    "We can see that the first file returned does not include the `_subsetted` suffix, which indicates that a blank file was returned, as no data values were located within our subsetted region. We'll select the second URL in the list to bring into xarray below."
   ]
  },
  {
   "cell_type": "code",
   "execution_count": 28,
   "id": "d7d24d64-1b86-473c-9a42-7ece5d4e58fd",
   "metadata": {},
   "outputs": [
    {
     "data": {
      "text/plain": [
       "'s3://harmony-prod-staging/public/podaac/l2-subsetter/cef7a7c7-c01c-4186-ac73-3e03f2940259/20210820080001-JPL-L2P_GHRSST-SSTskin-MODIS_A-N-v02.0-fv01.0_subsetted.nc4'"
      ]
     },
     "execution_count": 28,
     "metadata": {},
     "output_type": "execute_result"
    }
   ],
   "source": [
    "url = urls[1]\n",
    "url"
   ]
  },
  {
   "cell_type": "markdown",
   "id": "324c086f-97fe-42c1-bdc3-7e1142ca802d",
   "metadata": {},
   "source": [
    "#### AWS credential retrieval\n",
    "Using aws_credentials you can retrieve the credentials needed to access the Harmony s3 staging bucket and its contents."
   ]
  },
  {
   "cell_type": "code",
   "execution_count": 29,
   "id": "dfe9c7b0-b129-4910-a80d-48c5b8081598",
   "metadata": {
    "tags": []
   },
   "outputs": [],
   "source": [
    "creds = harmony_client.aws_credentials()"
   ]
  },
  {
   "cell_type": "markdown",
   "id": "e3c88630-188d-4277-80c6-493d920cc4f3",
   "metadata": {
    "tags": []
   },
   "source": [
    "### Open staged files with *s3fs* and *xarray*\n",
    "\n",
    "We use the AWS `s3fs` package to create a file system that can then be read by xarray:"
   ]
  },
  {
   "cell_type": "code",
   "execution_count": 30,
   "id": "676a86b1-8432-4fc8-a815-c1175a28ff3c",
   "metadata": {},
   "outputs": [],
   "source": [
    "s3_fs = s3fs.S3FileSystem(\n",
    "    key=creds['aws_access_key_id'],\n",
    "    secret=creds['aws_secret_access_key'],\n",
    "    token=creds['aws_session_token'],\n",
    "    client_kwargs={'region_name':'us-west-2'},\n",
    ")"
   ]
  },
  {
   "cell_type": "markdown",
   "id": "ae7559a4-3ca0-44ec-acfc-dbc395154a0c",
   "metadata": {},
   "source": [
    "Now that we have our s3 file system set, including our declared credentials, we'll use that to open the url, and read in the file through xarray. This extra step is needed because xarray cannot open the S3 location directly. Instead, the S3 file object is passed to xarray, in order to then open the dataset. "
   ]
  },
  {
   "cell_type": "code",
   "execution_count": 31,
   "id": "75b8b7c9-3604-44ee-992e-c13e505e13ca",
   "metadata": {},
   "outputs": [
    {
     "data": {
      "text/html": [
       "<div><svg style=\"position: absolute; width: 0; height: 0; overflow: hidden\">\n",
       "<defs>\n",
       "<symbol id=\"icon-database\" viewBox=\"0 0 32 32\">\n",
       "<path d=\"M16 0c-8.837 0-16 2.239-16 5v4c0 2.761 7.163 5 16 5s16-2.239 16-5v-4c0-2.761-7.163-5-16-5z\"></path>\n",
       "<path d=\"M16 17c-8.837 0-16-2.239-16-5v6c0 2.761 7.163 5 16 5s16-2.239 16-5v-6c0 2.761-7.163 5-16 5z\"></path>\n",
       "<path d=\"M16 26c-8.837 0-16-2.239-16-5v6c0 2.761 7.163 5 16 5s16-2.239 16-5v-6c0 2.761-7.163 5-16 5z\"></path>\n",
       "</symbol>\n",
       "<symbol id=\"icon-file-text2\" viewBox=\"0 0 32 32\">\n",
       "<path d=\"M28.681 7.159c-0.694-0.947-1.662-2.053-2.724-3.116s-2.169-2.030-3.116-2.724c-1.612-1.182-2.393-1.319-2.841-1.319h-15.5c-1.378 0-2.5 1.121-2.5 2.5v27c0 1.378 1.122 2.5 2.5 2.5h23c1.378 0 2.5-1.122 2.5-2.5v-19.5c0-0.448-0.137-1.23-1.319-2.841zM24.543 5.457c0.959 0.959 1.712 1.825 2.268 2.543h-4.811v-4.811c0.718 0.556 1.584 1.309 2.543 2.268zM28 29.5c0 0.271-0.229 0.5-0.5 0.5h-23c-0.271 0-0.5-0.229-0.5-0.5v-27c0-0.271 0.229-0.5 0.5-0.5 0 0 15.499-0 15.5 0v7c0 0.552 0.448 1 1 1h7v19.5z\"></path>\n",
       "<path d=\"M23 26h-14c-0.552 0-1-0.448-1-1s0.448-1 1-1h14c0.552 0 1 0.448 1 1s-0.448 1-1 1z\"></path>\n",
       "<path d=\"M23 22h-14c-0.552 0-1-0.448-1-1s0.448-1 1-1h14c0.552 0 1 0.448 1 1s-0.448 1-1 1z\"></path>\n",
       "<path d=\"M23 18h-14c-0.552 0-1-0.448-1-1s0.448-1 1-1h14c0.552 0 1 0.448 1 1s-0.448 1-1 1z\"></path>\n",
       "</symbol>\n",
       "</defs>\n",
       "</svg>\n",
       "<style>/* CSS stylesheet for displaying xarray objects in jupyterlab.\n",
       " *\n",
       " */\n",
       "\n",
       ":root {\n",
       "  --xr-font-color0: var(--jp-content-font-color0, rgba(0, 0, 0, 1));\n",
       "  --xr-font-color2: var(--jp-content-font-color2, rgba(0, 0, 0, 0.54));\n",
       "  --xr-font-color3: var(--jp-content-font-color3, rgba(0, 0, 0, 0.38));\n",
       "  --xr-border-color: var(--jp-border-color2, #e0e0e0);\n",
       "  --xr-disabled-color: var(--jp-layout-color3, #bdbdbd);\n",
       "  --xr-background-color: var(--jp-layout-color0, white);\n",
       "  --xr-background-color-row-even: var(--jp-layout-color1, white);\n",
       "  --xr-background-color-row-odd: var(--jp-layout-color2, #eeeeee);\n",
       "}\n",
       "\n",
       "html[theme=dark],\n",
       "body.vscode-dark {\n",
       "  --xr-font-color0: rgba(255, 255, 255, 1);\n",
       "  --xr-font-color2: rgba(255, 255, 255, 0.54);\n",
       "  --xr-font-color3: rgba(255, 255, 255, 0.38);\n",
       "  --xr-border-color: #1F1F1F;\n",
       "  --xr-disabled-color: #515151;\n",
       "  --xr-background-color: #111111;\n",
       "  --xr-background-color-row-even: #111111;\n",
       "  --xr-background-color-row-odd: #313131;\n",
       "}\n",
       "\n",
       ".xr-wrap {\n",
       "  display: block;\n",
       "  min-width: 300px;\n",
       "  max-width: 700px;\n",
       "}\n",
       "\n",
       ".xr-text-repr-fallback {\n",
       "  /* fallback to plain text repr when CSS is not injected (untrusted notebook) */\n",
       "  display: none;\n",
       "}\n",
       "\n",
       ".xr-header {\n",
       "  padding-top: 6px;\n",
       "  padding-bottom: 6px;\n",
       "  margin-bottom: 4px;\n",
       "  border-bottom: solid 1px var(--xr-border-color);\n",
       "}\n",
       "\n",
       ".xr-header > div,\n",
       ".xr-header > ul {\n",
       "  display: inline;\n",
       "  margin-top: 0;\n",
       "  margin-bottom: 0;\n",
       "}\n",
       "\n",
       ".xr-obj-type,\n",
       ".xr-array-name {\n",
       "  margin-left: 2px;\n",
       "  margin-right: 10px;\n",
       "}\n",
       "\n",
       ".xr-obj-type {\n",
       "  color: var(--xr-font-color2);\n",
       "}\n",
       "\n",
       ".xr-sections {\n",
       "  padding-left: 0 !important;\n",
       "  display: grid;\n",
       "  grid-template-columns: 150px auto auto 1fr 20px 20px;\n",
       "}\n",
       "\n",
       ".xr-section-item {\n",
       "  display: contents;\n",
       "}\n",
       "\n",
       ".xr-section-item input {\n",
       "  display: none;\n",
       "}\n",
       "\n",
       ".xr-section-item input + label {\n",
       "  color: var(--xr-disabled-color);\n",
       "}\n",
       "\n",
       ".xr-section-item input:enabled + label {\n",
       "  cursor: pointer;\n",
       "  color: var(--xr-font-color2);\n",
       "}\n",
       "\n",
       ".xr-section-item input:enabled + label:hover {\n",
       "  color: var(--xr-font-color0);\n",
       "}\n",
       "\n",
       ".xr-section-summary {\n",
       "  grid-column: 1;\n",
       "  color: var(--xr-font-color2);\n",
       "  font-weight: 500;\n",
       "}\n",
       "\n",
       ".xr-section-summary > span {\n",
       "  display: inline-block;\n",
       "  padding-left: 0.5em;\n",
       "}\n",
       "\n",
       ".xr-section-summary-in:disabled + label {\n",
       "  color: var(--xr-font-color2);\n",
       "}\n",
       "\n",
       ".xr-section-summary-in + label:before {\n",
       "  display: inline-block;\n",
       "  content: '►';\n",
       "  font-size: 11px;\n",
       "  width: 15px;\n",
       "  text-align: center;\n",
       "}\n",
       "\n",
       ".xr-section-summary-in:disabled + label:before {\n",
       "  color: var(--xr-disabled-color);\n",
       "}\n",
       "\n",
       ".xr-section-summary-in:checked + label:before {\n",
       "  content: '▼';\n",
       "}\n",
       "\n",
       ".xr-section-summary-in:checked + label > span {\n",
       "  display: none;\n",
       "}\n",
       "\n",
       ".xr-section-summary,\n",
       ".xr-section-inline-details {\n",
       "  padding-top: 4px;\n",
       "  padding-bottom: 4px;\n",
       "}\n",
       "\n",
       ".xr-section-inline-details {\n",
       "  grid-column: 2 / -1;\n",
       "}\n",
       "\n",
       ".xr-section-details {\n",
       "  display: none;\n",
       "  grid-column: 1 / -1;\n",
       "  margin-bottom: 5px;\n",
       "}\n",
       "\n",
       ".xr-section-summary-in:checked ~ .xr-section-details {\n",
       "  display: contents;\n",
       "}\n",
       "\n",
       ".xr-array-wrap {\n",
       "  grid-column: 1 / -1;\n",
       "  display: grid;\n",
       "  grid-template-columns: 20px auto;\n",
       "}\n",
       "\n",
       ".xr-array-wrap > label {\n",
       "  grid-column: 1;\n",
       "  vertical-align: top;\n",
       "}\n",
       "\n",
       ".xr-preview {\n",
       "  color: var(--xr-font-color3);\n",
       "}\n",
       "\n",
       ".xr-array-preview,\n",
       ".xr-array-data {\n",
       "  padding: 0 5px !important;\n",
       "  grid-column: 2;\n",
       "}\n",
       "\n",
       ".xr-array-data,\n",
       ".xr-array-in:checked ~ .xr-array-preview {\n",
       "  display: none;\n",
       "}\n",
       "\n",
       ".xr-array-in:checked ~ .xr-array-data,\n",
       ".xr-array-preview {\n",
       "  display: inline-block;\n",
       "}\n",
       "\n",
       ".xr-dim-list {\n",
       "  display: inline-block !important;\n",
       "  list-style: none;\n",
       "  padding: 0 !important;\n",
       "  margin: 0;\n",
       "}\n",
       "\n",
       ".xr-dim-list li {\n",
       "  display: inline-block;\n",
       "  padding: 0;\n",
       "  margin: 0;\n",
       "}\n",
       "\n",
       ".xr-dim-list:before {\n",
       "  content: '(';\n",
       "}\n",
       "\n",
       ".xr-dim-list:after {\n",
       "  content: ')';\n",
       "}\n",
       "\n",
       ".xr-dim-list li:not(:last-child):after {\n",
       "  content: ',';\n",
       "  padding-right: 5px;\n",
       "}\n",
       "\n",
       ".xr-has-index {\n",
       "  font-weight: bold;\n",
       "}\n",
       "\n",
       ".xr-var-list,\n",
       ".xr-var-item {\n",
       "  display: contents;\n",
       "}\n",
       "\n",
       ".xr-var-item > div,\n",
       ".xr-var-item label,\n",
       ".xr-var-item > .xr-var-name span {\n",
       "  background-color: var(--xr-background-color-row-even);\n",
       "  margin-bottom: 0;\n",
       "}\n",
       "\n",
       ".xr-var-item > .xr-var-name:hover span {\n",
       "  padding-right: 5px;\n",
       "}\n",
       "\n",
       ".xr-var-list > li:nth-child(odd) > div,\n",
       ".xr-var-list > li:nth-child(odd) > label,\n",
       ".xr-var-list > li:nth-child(odd) > .xr-var-name span {\n",
       "  background-color: var(--xr-background-color-row-odd);\n",
       "}\n",
       "\n",
       ".xr-var-name {\n",
       "  grid-column: 1;\n",
       "}\n",
       "\n",
       ".xr-var-dims {\n",
       "  grid-column: 2;\n",
       "}\n",
       "\n",
       ".xr-var-dtype {\n",
       "  grid-column: 3;\n",
       "  text-align: right;\n",
       "  color: var(--xr-font-color2);\n",
       "}\n",
       "\n",
       ".xr-var-preview {\n",
       "  grid-column: 4;\n",
       "}\n",
       "\n",
       ".xr-var-name,\n",
       ".xr-var-dims,\n",
       ".xr-var-dtype,\n",
       ".xr-preview,\n",
       ".xr-attrs dt {\n",
       "  white-space: nowrap;\n",
       "  overflow: hidden;\n",
       "  text-overflow: ellipsis;\n",
       "  padding-right: 10px;\n",
       "}\n",
       "\n",
       ".xr-var-name:hover,\n",
       ".xr-var-dims:hover,\n",
       ".xr-var-dtype:hover,\n",
       ".xr-attrs dt:hover {\n",
       "  overflow: visible;\n",
       "  width: auto;\n",
       "  z-index: 1;\n",
       "}\n",
       "\n",
       ".xr-var-attrs,\n",
       ".xr-var-data {\n",
       "  display: none;\n",
       "  background-color: var(--xr-background-color) !important;\n",
       "  padding-bottom: 5px !important;\n",
       "}\n",
       "\n",
       ".xr-var-attrs-in:checked ~ .xr-var-attrs,\n",
       ".xr-var-data-in:checked ~ .xr-var-data {\n",
       "  display: block;\n",
       "}\n",
       "\n",
       ".xr-var-data > table {\n",
       "  float: right;\n",
       "}\n",
       "\n",
       ".xr-var-name span,\n",
       ".xr-var-data,\n",
       ".xr-attrs {\n",
       "  padding-left: 25px !important;\n",
       "}\n",
       "\n",
       ".xr-attrs,\n",
       ".xr-var-attrs,\n",
       ".xr-var-data {\n",
       "  grid-column: 1 / -1;\n",
       "}\n",
       "\n",
       "dl.xr-attrs {\n",
       "  padding: 0;\n",
       "  margin: 0;\n",
       "  display: grid;\n",
       "  grid-template-columns: 125px auto;\n",
       "}\n",
       "\n",
       ".xr-attrs dt,\n",
       ".xr-attrs dd {\n",
       "  padding: 0;\n",
       "  margin: 0;\n",
       "  float: left;\n",
       "  padding-right: 10px;\n",
       "  width: auto;\n",
       "}\n",
       "\n",
       ".xr-attrs dt {\n",
       "  font-weight: normal;\n",
       "  grid-column: 1;\n",
       "}\n",
       "\n",
       ".xr-attrs dt:hover span {\n",
       "  display: inline-block;\n",
       "  background: var(--xr-background-color);\n",
       "  padding-right: 10px;\n",
       "}\n",
       "\n",
       ".xr-attrs dd {\n",
       "  grid-column: 2;\n",
       "  white-space: pre-wrap;\n",
       "  word-break: break-all;\n",
       "}\n",
       "\n",
       ".xr-icon-database,\n",
       ".xr-icon-file-text2 {\n",
       "  display: inline-block;\n",
       "  vertical-align: middle;\n",
       "  width: 1em;\n",
       "  height: 1.5em !important;\n",
       "  stroke-width: 0;\n",
       "  stroke: currentColor;\n",
       "  fill: currentColor;\n",
       "}\n",
       "</style><pre class='xr-text-repr-fallback'>&lt;xarray.Dataset&gt;\n",
       "Dimensions:                      (nj: 1232, ni: 1132, time: 1)\n",
       "Coordinates:\n",
       "    lat                          (nj, ni, time) float32 ...\n",
       "    lon                          (nj, ni, time) float32 ...\n",
       "  * time                         (time) datetime64[ns] 2021-08-20T08:00:01\n",
       "Dimensions without coordinates: nj, ni\n",
       "Data variables:\n",
       "    sea_surface_temperature      (time, nj, ni) float32 ...\n",
       "    sst_dtime                    (time, nj, ni) timedelta64[ns] ...\n",
       "    quality_level                (time, nj, ni) float32 ...\n",
       "    sses_bias                    (time, nj, ni) float32 ...\n",
       "    sses_standard_deviation      (time, nj, ni) float32 ...\n",
       "    l2p_flags                    (time, nj, ni) int16 ...\n",
       "    sea_surface_temperature_4um  (time, nj, ni) float32 ...\n",
       "    quality_level_4um            (time, nj, ni) float32 ...\n",
       "    sses_bias_4um                (time, nj, ni) float32 ...\n",
       "    sses_standard_deviation_4um  (time, nj, ni) float32 ...\n",
       "    wind_speed                   (time, nj, ni) float32 ...\n",
       "    dt_analysis                  (time, nj, ni) float32 ...\n",
       "Attributes: (12/50)\n",
       "    Conventions:                CF-1.7, ACDD-1.3\n",
       "    title:                      MODIS Aqua L2P SST\n",
       "    summary:                    Sea surface temperature retrievals produced a...\n",
       "    references:                 GHRSST Data Processing Specification v2r5\n",
       "    institution:                NASA/JPL/OBPG/RSMAS\n",
       "    history:                    MODIS L2P created at JPL PO.DAAC\\n2021-11-19 ...\n",
       "    ...                         ...\n",
       "    processing_level:           L2P\n",
       "    cdm_data_type:              swath\n",
       "    startDirection:             Descending\n",
       "    endDirection:               Descending\n",
       "    day_night_flag:             Night\n",
       "    history_json:               [{&quot;date_time&quot;: &quot;2021-11-19T17:44:56.897126+00...</pre><div class='xr-wrap' hidden><div class='xr-header'><div class='xr-obj-type'>xarray.Dataset</div></div><ul class='xr-sections'><li class='xr-section-item'><input id='section-59d882a7-bd6a-4699-91c6-1253762f1f9e' class='xr-section-summary-in' type='checkbox' disabled ><label for='section-59d882a7-bd6a-4699-91c6-1253762f1f9e' class='xr-section-summary'  title='Expand/collapse section'>Dimensions:</label><div class='xr-section-inline-details'><ul class='xr-dim-list'><li><span>nj</span>: 1232</li><li><span>ni</span>: 1132</li><li><span class='xr-has-index'>time</span>: 1</li></ul></div><div class='xr-section-details'></div></li><li class='xr-section-item'><input id='section-48e03c7d-329c-4f16-9d98-0f454decc4e8' class='xr-section-summary-in' type='checkbox'  checked><label for='section-48e03c7d-329c-4f16-9d98-0f454decc4e8' class='xr-section-summary' >Coordinates: <span>(3)</span></label><div class='xr-section-inline-details'></div><div class='xr-section-details'><ul class='xr-var-list'><li class='xr-var-item'><div class='xr-var-name'><span>lat</span></div><div class='xr-var-dims'>(nj, ni, time)</div><div class='xr-var-dtype'>float32</div><div class='xr-var-preview xr-preview'>...</div><input id='attrs-4823364c-b86f-45ea-9d8f-07166919431c' class='xr-var-attrs-in' type='checkbox' ><label for='attrs-4823364c-b86f-45ea-9d8f-07166919431c' title='Show/Hide attributes'><svg class='icon xr-icon-file-text2'><use xlink:href='#icon-file-text2'></use></svg></label><input id='data-cf74b7ba-a9f0-40ab-a75e-e6156e48514f' class='xr-var-data-in' type='checkbox'><label for='data-cf74b7ba-a9f0-40ab-a75e-e6156e48514f' title='Show/Hide data repr'><svg class='icon xr-icon-database'><use xlink:href='#icon-database'></use></svg></label><div class='xr-var-attrs'><dl class='xr-attrs'><dt><span>long_name :</span></dt><dd>latitude</dd><dt><span>standard_name :</span></dt><dd>latitude</dd><dt><span>units :</span></dt><dd>degrees_north</dd><dt><span>valid_min :</span></dt><dd>[-90.]</dd><dt><span>valid_max :</span></dt><dd>[90.]</dd><dt><span>comment :</span></dt><dd>geographical coordinates, WGS84 projection</dd><dt><span>coverage_content_type :</span></dt><dd>coordinate</dd></dl></div><div class='xr-var-data'><pre>[1394624 values with dtype=float32]</pre></div></li><li class='xr-var-item'><div class='xr-var-name'><span>lon</span></div><div class='xr-var-dims'>(nj, ni, time)</div><div class='xr-var-dtype'>float32</div><div class='xr-var-preview xr-preview'>...</div><input id='attrs-838c7786-a99c-45f6-8ab3-ce4fdfd61a21' class='xr-var-attrs-in' type='checkbox' ><label for='attrs-838c7786-a99c-45f6-8ab3-ce4fdfd61a21' title='Show/Hide attributes'><svg class='icon xr-icon-file-text2'><use xlink:href='#icon-file-text2'></use></svg></label><input id='data-d280d459-feaf-4fb6-a5e8-4e6d6317882b' class='xr-var-data-in' type='checkbox'><label for='data-d280d459-feaf-4fb6-a5e8-4e6d6317882b' title='Show/Hide data repr'><svg class='icon xr-icon-database'><use xlink:href='#icon-database'></use></svg></label><div class='xr-var-attrs'><dl class='xr-attrs'><dt><span>long_name :</span></dt><dd>longitude</dd><dt><span>standard_name :</span></dt><dd>longitude</dd><dt><span>units :</span></dt><dd>degrees_east</dd><dt><span>valid_min :</span></dt><dd>[-180.]</dd><dt><span>valid_max :</span></dt><dd>[180.]</dd><dt><span>comment :</span></dt><dd>geographical coordinates, WGS84 projection</dd><dt><span>coverage_content_type :</span></dt><dd>coordinate</dd></dl></div><div class='xr-var-data'><pre>[1394624 values with dtype=float32]</pre></div></li><li class='xr-var-item'><div class='xr-var-name'><span class='xr-has-index'>time</span></div><div class='xr-var-dims'>(time)</div><div class='xr-var-dtype'>datetime64[ns]</div><div class='xr-var-preview xr-preview'>2021-08-20T08:00:01</div><input id='attrs-38055c4b-b80d-4ab5-8228-7dfcb463e080' class='xr-var-attrs-in' type='checkbox' ><label for='attrs-38055c4b-b80d-4ab5-8228-7dfcb463e080' title='Show/Hide attributes'><svg class='icon xr-icon-file-text2'><use xlink:href='#icon-file-text2'></use></svg></label><input id='data-c5081d15-9b2f-4ccd-8abb-387bdde44ffc' class='xr-var-data-in' type='checkbox'><label for='data-c5081d15-9b2f-4ccd-8abb-387bdde44ffc' title='Show/Hide data repr'><svg class='icon xr-icon-database'><use xlink:href='#icon-database'></use></svg></label><div class='xr-var-attrs'><dl class='xr-attrs'><dt><span>long_name :</span></dt><dd>reference time of sst file</dd><dt><span>standard_name :</span></dt><dd>time</dd><dt><span>comment :</span></dt><dd>time of first sensor observation</dd><dt><span>coverage_content_type :</span></dt><dd>coordinate</dd></dl></div><div class='xr-var-data'><pre>array([&#x27;2021-08-20T08:00:01.000000000&#x27;], dtype=&#x27;datetime64[ns]&#x27;)</pre></div></li></ul></div></li><li class='xr-section-item'><input id='section-9522e110-7708-46d1-a8aa-bc4ec5761251' class='xr-section-summary-in' type='checkbox'  checked><label for='section-9522e110-7708-46d1-a8aa-bc4ec5761251' class='xr-section-summary' >Data variables: <span>(12)</span></label><div class='xr-section-inline-details'></div><div class='xr-section-details'><ul class='xr-var-list'><li class='xr-var-item'><div class='xr-var-name'><span>sea_surface_temperature</span></div><div class='xr-var-dims'>(time, nj, ni)</div><div class='xr-var-dtype'>float32</div><div class='xr-var-preview xr-preview'>...</div><input id='attrs-1da94112-b4b0-402f-a119-e8b73304dcad' class='xr-var-attrs-in' type='checkbox' ><label for='attrs-1da94112-b4b0-402f-a119-e8b73304dcad' title='Show/Hide attributes'><svg class='icon xr-icon-file-text2'><use xlink:href='#icon-file-text2'></use></svg></label><input id='data-e2694d69-0b07-4d35-80ef-5c84b24cb8a5' class='xr-var-data-in' type='checkbox'><label for='data-e2694d69-0b07-4d35-80ef-5c84b24cb8a5' title='Show/Hide data repr'><svg class='icon xr-icon-database'><use xlink:href='#icon-database'></use></svg></label><div class='xr-var-attrs'><dl class='xr-attrs'><dt><span>long_name :</span></dt><dd>sea surface temperature</dd><dt><span>standard_name :</span></dt><dd>sea_surface_skin_temperature</dd><dt><span>units :</span></dt><dd>kelvin</dd><dt><span>valid_min :</span></dt><dd>[-1000]</dd><dt><span>valid_max :</span></dt><dd>[10000]</dd><dt><span>comment :</span></dt><dd>sea surface temperature from thermal IR (11 um) channels</dd><dt><span>source :</span></dt><dd>NASA and University of Miami</dd><dt><span>coverage_content_type :</span></dt><dd>physicalMeasurement</dd></dl></div><div class='xr-var-data'><pre>[1394624 values with dtype=float32]</pre></div></li><li class='xr-var-item'><div class='xr-var-name'><span>sst_dtime</span></div><div class='xr-var-dims'>(time, nj, ni)</div><div class='xr-var-dtype'>timedelta64[ns]</div><div class='xr-var-preview xr-preview'>...</div><input id='attrs-378b74af-0674-4b07-8a46-6e8e60ab1252' class='xr-var-attrs-in' type='checkbox' ><label for='attrs-378b74af-0674-4b07-8a46-6e8e60ab1252' title='Show/Hide attributes'><svg class='icon xr-icon-file-text2'><use xlink:href='#icon-file-text2'></use></svg></label><input id='data-cdd0deff-5d3a-4dd0-b1e9-486fcf64915a' class='xr-var-data-in' type='checkbox'><label for='data-cdd0deff-5d3a-4dd0-b1e9-486fcf64915a' title='Show/Hide data repr'><svg class='icon xr-icon-database'><use xlink:href='#icon-database'></use></svg></label><div class='xr-var-attrs'><dl class='xr-attrs'><dt><span>long_name :</span></dt><dd>time difference from reference time</dd><dt><span>valid_min :</span></dt><dd>[-32767]</dd><dt><span>valid_max :</span></dt><dd>[32767]</dd><dt><span>comment :</span></dt><dd>time plus sst_dtime gives seconds after 00:00:00 UTC January 1, 1981</dd><dt><span>coverage_content_type :</span></dt><dd>referenceInformation</dd></dl></div><div class='xr-var-data'><pre>[1394624 values with dtype=timedelta64[ns]]</pre></div></li><li class='xr-var-item'><div class='xr-var-name'><span>quality_level</span></div><div class='xr-var-dims'>(time, nj, ni)</div><div class='xr-var-dtype'>float32</div><div class='xr-var-preview xr-preview'>...</div><input id='attrs-77fb1fd8-7cd4-4084-b582-ccd605738578' class='xr-var-attrs-in' type='checkbox' ><label for='attrs-77fb1fd8-7cd4-4084-b582-ccd605738578' title='Show/Hide attributes'><svg class='icon xr-icon-file-text2'><use xlink:href='#icon-file-text2'></use></svg></label><input id='data-b5197253-d99d-4bd2-9d2e-e7424bc53402' class='xr-var-data-in' type='checkbox'><label for='data-b5197253-d99d-4bd2-9d2e-e7424bc53402' title='Show/Hide data repr'><svg class='icon xr-icon-database'><use xlink:href='#icon-database'></use></svg></label><div class='xr-var-attrs'><dl class='xr-attrs'><dt><span>long_name :</span></dt><dd>quality level of SST pixel</dd><dt><span>valid_min :</span></dt><dd>[0]</dd><dt><span>valid_max :</span></dt><dd>[5]</dd><dt><span>comment :</span></dt><dd>thermal IR SST proximity confidence value; signed byte array: WARNING Some applications are unable to properly handle signed byte values. If values are encountered &gt; 127, please subtract 256 from this reported value</dd><dt><span>flag_values :</span></dt><dd>[0 1 2 3 4 5]</dd><dt><span>flag_meanings :</span></dt><dd>no_data bad_data worst_quality low_quality acceptable_quality best_quality</dd><dt><span>coverage_content_type :</span></dt><dd>qualityInformation</dd></dl></div><div class='xr-var-data'><pre>[1394624 values with dtype=float32]</pre></div></li><li class='xr-var-item'><div class='xr-var-name'><span>sses_bias</span></div><div class='xr-var-dims'>(time, nj, ni)</div><div class='xr-var-dtype'>float32</div><div class='xr-var-preview xr-preview'>...</div><input id='attrs-7b950c49-8428-41bf-a35b-27f43b9b5c6a' class='xr-var-attrs-in' type='checkbox' ><label for='attrs-7b950c49-8428-41bf-a35b-27f43b9b5c6a' title='Show/Hide attributes'><svg class='icon xr-icon-file-text2'><use xlink:href='#icon-file-text2'></use></svg></label><input id='data-e2c53c0a-388b-4dd3-843f-3b540363dc8f' class='xr-var-data-in' type='checkbox'><label for='data-e2c53c0a-388b-4dd3-843f-3b540363dc8f' title='Show/Hide data repr'><svg class='icon xr-icon-database'><use xlink:href='#icon-database'></use></svg></label><div class='xr-var-attrs'><dl class='xr-attrs'><dt><span>long_name :</span></dt><dd>SSES bias error based on proximity confidence flags</dd><dt><span>units :</span></dt><dd>kelvin</dd><dt><span>valid_min :</span></dt><dd>[-127]</dd><dt><span>valid_max :</span></dt><dd>[127]</dd><dt><span>comment :</span></dt><dd>thermal IR SST bias error; signed byte array: WARNING Some applications are unable to properly handle signed byte values. If values are encountered &gt; 127, please subtract 256 from this reported value</dd><dt><span>coverage_content_type :</span></dt><dd>auxiliaryInformation</dd></dl></div><div class='xr-var-data'><pre>[1394624 values with dtype=float32]</pre></div></li><li class='xr-var-item'><div class='xr-var-name'><span>sses_standard_deviation</span></div><div class='xr-var-dims'>(time, nj, ni)</div><div class='xr-var-dtype'>float32</div><div class='xr-var-preview xr-preview'>...</div><input id='attrs-45049839-0343-4373-a58f-f43ab9265925' class='xr-var-attrs-in' type='checkbox' ><label for='attrs-45049839-0343-4373-a58f-f43ab9265925' title='Show/Hide attributes'><svg class='icon xr-icon-file-text2'><use xlink:href='#icon-file-text2'></use></svg></label><input id='data-499e1f37-f2bf-4cc5-be30-3b8dc09e4516' class='xr-var-data-in' type='checkbox'><label for='data-499e1f37-f2bf-4cc5-be30-3b8dc09e4516' title='Show/Hide data repr'><svg class='icon xr-icon-database'><use xlink:href='#icon-database'></use></svg></label><div class='xr-var-attrs'><dl class='xr-attrs'><dt><span>long_name :</span></dt><dd>SSES standard deviation error based on proximity confidence flags</dd><dt><span>units :</span></dt><dd>kelvin</dd><dt><span>valid_min :</span></dt><dd>[-127]</dd><dt><span>valid_max :</span></dt><dd>[127]</dd><dt><span>comment :</span></dt><dd>thermal IR SST standard deviation error; signed byte array: WARNING Some applications are unable to properly handle signed byte values. If values are encountered &gt; 127, please subtract 256 from this reported value</dd><dt><span>coverage_content_type :</span></dt><dd>auxiliaryInformation</dd></dl></div><div class='xr-var-data'><pre>[1394624 values with dtype=float32]</pre></div></li><li class='xr-var-item'><div class='xr-var-name'><span>l2p_flags</span></div><div class='xr-var-dims'>(time, nj, ni)</div><div class='xr-var-dtype'>int16</div><div class='xr-var-preview xr-preview'>...</div><input id='attrs-dc7a4c15-f270-462a-a810-d8494f7c8a5d' class='xr-var-attrs-in' type='checkbox' ><label for='attrs-dc7a4c15-f270-462a-a810-d8494f7c8a5d' title='Show/Hide attributes'><svg class='icon xr-icon-file-text2'><use xlink:href='#icon-file-text2'></use></svg></label><input id='data-79e18fcb-a18c-4248-9bf4-e32f9e80f0b1' class='xr-var-data-in' type='checkbox'><label for='data-79e18fcb-a18c-4248-9bf4-e32f9e80f0b1' title='Show/Hide data repr'><svg class='icon xr-icon-database'><use xlink:href='#icon-database'></use></svg></label><div class='xr-var-attrs'><dl class='xr-attrs'><dt><span>long_name :</span></dt><dd>L2P flags</dd><dt><span>valid_min :</span></dt><dd>[0]</dd><dt><span>valid_max :</span></dt><dd>[16]</dd><dt><span>comment :</span></dt><dd>These flags can be used to further filter data variables</dd><dt><span>flag_meanings :</span></dt><dd>microwave land ice lake river</dd><dt><span>flag_masks :</span></dt><dd>[ 1  2  4  8 16]</dd><dt><span>coverage_content_type :</span></dt><dd>qualityInformation</dd></dl></div><div class='xr-var-data'><pre>[1394624 values with dtype=int16]</pre></div></li><li class='xr-var-item'><div class='xr-var-name'><span>sea_surface_temperature_4um</span></div><div class='xr-var-dims'>(time, nj, ni)</div><div class='xr-var-dtype'>float32</div><div class='xr-var-preview xr-preview'>...</div><input id='attrs-80940a1b-6f94-4042-a2b5-4389662332b3' class='xr-var-attrs-in' type='checkbox' ><label for='attrs-80940a1b-6f94-4042-a2b5-4389662332b3' title='Show/Hide attributes'><svg class='icon xr-icon-file-text2'><use xlink:href='#icon-file-text2'></use></svg></label><input id='data-55bcae52-e011-47d5-9794-dce62aeb40fc' class='xr-var-data-in' type='checkbox'><label for='data-55bcae52-e011-47d5-9794-dce62aeb40fc' title='Show/Hide data repr'><svg class='icon xr-icon-database'><use xlink:href='#icon-database'></use></svg></label><div class='xr-var-attrs'><dl class='xr-attrs'><dt><span>long_name :</span></dt><dd>sea surface temperature</dd><dt><span>units :</span></dt><dd>kelvin</dd><dt><span>valid_min :</span></dt><dd>[-1000]</dd><dt><span>valid_max :</span></dt><dd>[10000]</dd><dt><span>comment :</span></dt><dd>sea surface temperature from mid-IR (4 um) channels; non L2P core field</dd><dt><span>coverage_content_type :</span></dt><dd>physicalMeasurement</dd></dl></div><div class='xr-var-data'><pre>[1394624 values with dtype=float32]</pre></div></li><li class='xr-var-item'><div class='xr-var-name'><span>quality_level_4um</span></div><div class='xr-var-dims'>(time, nj, ni)</div><div class='xr-var-dtype'>float32</div><div class='xr-var-preview xr-preview'>...</div><input id='attrs-1ba1ca61-2555-44ae-8348-851f68af22b6' class='xr-var-attrs-in' type='checkbox' ><label for='attrs-1ba1ca61-2555-44ae-8348-851f68af22b6' title='Show/Hide attributes'><svg class='icon xr-icon-file-text2'><use xlink:href='#icon-file-text2'></use></svg></label><input id='data-83a56939-c993-4357-9bc1-eb93ee713120' class='xr-var-data-in' type='checkbox'><label for='data-83a56939-c993-4357-9bc1-eb93ee713120' title='Show/Hide data repr'><svg class='icon xr-icon-database'><use xlink:href='#icon-database'></use></svg></label><div class='xr-var-attrs'><dl class='xr-attrs'><dt><span>long_name :</span></dt><dd>quality level of SST pixel</dd><dt><span>valid_min :</span></dt><dd>[0]</dd><dt><span>valid_max :</span></dt><dd>[5]</dd><dt><span>comment :</span></dt><dd>mid-IR SST proximity confidence value; non L2P core field; signed byte array:  WARNING Some applications are unable to properly handle signed byte values. If values are encountered &gt; 127, please subtract 256 from this reported value</dd><dt><span>flag_values :</span></dt><dd>[0 1 2 3 4 5]</dd><dt><span>flag_meanings :</span></dt><dd>no_data bad_data worst_quality low_quality acceptable_quality best_quality</dd><dt><span>coverage_content_type :</span></dt><dd>qualityInformation</dd></dl></div><div class='xr-var-data'><pre>[1394624 values with dtype=float32]</pre></div></li><li class='xr-var-item'><div class='xr-var-name'><span>sses_bias_4um</span></div><div class='xr-var-dims'>(time, nj, ni)</div><div class='xr-var-dtype'>float32</div><div class='xr-var-preview xr-preview'>...</div><input id='attrs-82795a22-406d-4039-851c-374f2cd1ccf7' class='xr-var-attrs-in' type='checkbox' ><label for='attrs-82795a22-406d-4039-851c-374f2cd1ccf7' title='Show/Hide attributes'><svg class='icon xr-icon-file-text2'><use xlink:href='#icon-file-text2'></use></svg></label><input id='data-931c3ecc-e59c-4e93-8b14-d9ca8e185005' class='xr-var-data-in' type='checkbox'><label for='data-931c3ecc-e59c-4e93-8b14-d9ca8e185005' title='Show/Hide data repr'><svg class='icon xr-icon-database'><use xlink:href='#icon-database'></use></svg></label><div class='xr-var-attrs'><dl class='xr-attrs'><dt><span>long_name :</span></dt><dd>SSES bias error based on proximity confidence flags</dd><dt><span>units :</span></dt><dd>kelvin</dd><dt><span>valid_min :</span></dt><dd>[-127]</dd><dt><span>valid_max :</span></dt><dd>[127]</dd><dt><span>comment :</span></dt><dd>mid-IR SST bias error; non L2P core field; signed byte array:  WARNING Some applications are unable to properly handle signed byte values. If values are encountered &gt; 127, please subtract 256 from this reported value</dd><dt><span>coverage_content_type :</span></dt><dd>auxiliaryInformation</dd></dl></div><div class='xr-var-data'><pre>[1394624 values with dtype=float32]</pre></div></li><li class='xr-var-item'><div class='xr-var-name'><span>sses_standard_deviation_4um</span></div><div class='xr-var-dims'>(time, nj, ni)</div><div class='xr-var-dtype'>float32</div><div class='xr-var-preview xr-preview'>...</div><input id='attrs-4876c5f8-3840-447d-ac86-d16900581107' class='xr-var-attrs-in' type='checkbox' ><label for='attrs-4876c5f8-3840-447d-ac86-d16900581107' title='Show/Hide attributes'><svg class='icon xr-icon-file-text2'><use xlink:href='#icon-file-text2'></use></svg></label><input id='data-d864045e-922f-495c-8d1a-a322c2033be8' class='xr-var-data-in' type='checkbox'><label for='data-d864045e-922f-495c-8d1a-a322c2033be8' title='Show/Hide data repr'><svg class='icon xr-icon-database'><use xlink:href='#icon-database'></use></svg></label><div class='xr-var-attrs'><dl class='xr-attrs'><dt><span>long_name :</span></dt><dd>SSES standard deviation error based on proximity confidence flags</dd><dt><span>units :</span></dt><dd>kelvin</dd><dt><span>valid_min :</span></dt><dd>[-127]</dd><dt><span>valid_max :</span></dt><dd>[127]</dd><dt><span>comment :</span></dt><dd>mid-IR SST standard deviation error; non L2P core field; signed byte array:  WARNING Some applications are unable to properly handle signed byte values. If values are encountered &gt; 127, please subtract 256 from this reported value</dd><dt><span>coverage_content_type :</span></dt><dd>auxiliaryInformation</dd></dl></div><div class='xr-var-data'><pre>[1394624 values with dtype=float32]</pre></div></li><li class='xr-var-item'><div class='xr-var-name'><span>wind_speed</span></div><div class='xr-var-dims'>(time, nj, ni)</div><div class='xr-var-dtype'>float32</div><div class='xr-var-preview xr-preview'>...</div><input id='attrs-b6455be6-bbee-4bc8-aee6-3a196b229f4c' class='xr-var-attrs-in' type='checkbox' ><label for='attrs-b6455be6-bbee-4bc8-aee6-3a196b229f4c' title='Show/Hide attributes'><svg class='icon xr-icon-file-text2'><use xlink:href='#icon-file-text2'></use></svg></label><input id='data-e9939b8e-644e-4bb8-8c23-49bc0d674655' class='xr-var-data-in' type='checkbox'><label for='data-e9939b8e-644e-4bb8-8c23-49bc0d674655' title='Show/Hide data repr'><svg class='icon xr-icon-database'><use xlink:href='#icon-database'></use></svg></label><div class='xr-var-attrs'><dl class='xr-attrs'><dt><span>long_name :</span></dt><dd>10m wind speed</dd><dt><span>standard_name :</span></dt><dd>wind_speed</dd><dt><span>units :</span></dt><dd>m s-1</dd><dt><span>valid_min :</span></dt><dd>[-127]</dd><dt><span>valid_max :</span></dt><dd>[127]</dd><dt><span>comment :</span></dt><dd>Wind at 10 meters above the sea surface</dd><dt><span>source :</span></dt><dd>TBD.  Placeholder.  Currently empty</dd><dt><span>grid_mapping :</span></dt><dd>TBD</dd><dt><span>time_offset :</span></dt><dd>[2.]</dd><dt><span>height :</span></dt><dd>10 m</dd><dt><span>coverage_content_type :</span></dt><dd>auxiliaryInformation</dd></dl></div><div class='xr-var-data'><pre>[1394624 values with dtype=float32]</pre></div></li><li class='xr-var-item'><div class='xr-var-name'><span>dt_analysis</span></div><div class='xr-var-dims'>(time, nj, ni)</div><div class='xr-var-dtype'>float32</div><div class='xr-var-preview xr-preview'>...</div><input id='attrs-ded04083-8786-405c-a0fe-d62aefe0eacd' class='xr-var-attrs-in' type='checkbox' ><label for='attrs-ded04083-8786-405c-a0fe-d62aefe0eacd' title='Show/Hide attributes'><svg class='icon xr-icon-file-text2'><use xlink:href='#icon-file-text2'></use></svg></label><input id='data-5c6929d0-9349-4d7b-ac76-c47fc423ecbc' class='xr-var-data-in' type='checkbox'><label for='data-5c6929d0-9349-4d7b-ac76-c47fc423ecbc' title='Show/Hide data repr'><svg class='icon xr-icon-database'><use xlink:href='#icon-database'></use></svg></label><div class='xr-var-attrs'><dl class='xr-attrs'><dt><span>long_name :</span></dt><dd>deviation from SST reference climatology</dd><dt><span>units :</span></dt><dd>kelvin</dd><dt><span>valid_min :</span></dt><dd>[-127]</dd><dt><span>valid_max :</span></dt><dd>[127]</dd><dt><span>comment :</span></dt><dd>TBD</dd><dt><span>source :</span></dt><dd>TBD. Placeholder.  Currently empty</dd><dt><span>coverage_content_type :</span></dt><dd>auxiliaryInformation</dd></dl></div><div class='xr-var-data'><pre>[1394624 values with dtype=float32]</pre></div></li></ul></div></li><li class='xr-section-item'><input id='section-216288ec-be23-4160-92db-5f16ef29e125' class='xr-section-summary-in' type='checkbox'  ><label for='section-216288ec-be23-4160-92db-5f16ef29e125' class='xr-section-summary' >Attributes: <span>(50)</span></label><div class='xr-section-inline-details'></div><div class='xr-section-details'><dl class='xr-attrs'><dt><span>Conventions :</span></dt><dd>CF-1.7, ACDD-1.3</dd><dt><span>title :</span></dt><dd>MODIS Aqua L2P SST</dd><dt><span>summary :</span></dt><dd>Sea surface temperature retrievals produced at the NASA OBPG for the MODIS Aqua sensor.  These have been reformatted to GHRSST GDS specifications by the JPL PO.DAAC</dd><dt><span>references :</span></dt><dd>GHRSST Data Processing Specification v2r5</dd><dt><span>institution :</span></dt><dd>NASA/JPL/OBPG/RSMAS</dd><dt><span>history :</span></dt><dd>MODIS L2P created at JPL PO.DAAC\n",
       "2021-11-19 17:44:56.897087 l2ss-py v1.1.0 (bbox=[[-97.77667, -83.05197], [21.20806, 30.16605]] cut=True)</dd><dt><span>comment :</span></dt><dd>L2P Core without DT analysis or other ancillary fields; Night, Start Node:Descending, End Node:Descending; WARNING Some applications are unable to properly handle signed byte values. If values are encountered &gt; 127, please subtract 256 from this reported value; Quicklook</dd><dt><span>license :</span></dt><dd>GHRSST and PO.DAAC protocol allow data use as free and open.</dd><dt><span>id :</span></dt><dd>MODIS_A-JPL-L2P-v2019.0</dd><dt><span>naming_authority :</span></dt><dd>org.ghrsst</dd><dt><span>product_version :</span></dt><dd>2019.0</dd><dt><span>uuid :</span></dt><dd>f6e1f61d-c4a4-4c17-8354-0c15e12d688b</dd><dt><span>gds_version_id :</span></dt><dd>2.0</dd><dt><span>netcdf_version_id :</span></dt><dd>4.1</dd><dt><span>date_created :</span></dt><dd>20210820T110619Z</dd><dt><span>file_quality_level :</span></dt><dd>[3]</dd><dt><span>spatial_resolution :</span></dt><dd>1km</dd><dt><span>start_time :</span></dt><dd>20210820T080001Z</dd><dt><span>time_coverage_start :</span></dt><dd>20210820T080001Z</dd><dt><span>stop_time :</span></dt><dd>20210820T080458Z</dd><dt><span>time_coverage_end :</span></dt><dd>20210820T080458Z</dd><dt><span>northernmost_latitude :</span></dt><dd>[35.9455]</dd><dt><span>southernmost_latitude :</span></dt><dd>[14.8953]</dd><dt><span>easternmost_longitude :</span></dt><dd>[-78.2345]</dd><dt><span>westernmost_longitude :</span></dt><dd>[-105.765]</dd><dt><span>source :</span></dt><dd>MODIS sea surface temperature observations for the OBPG</dd><dt><span>platform :</span></dt><dd>Aqua</dd><dt><span>sensor :</span></dt><dd>MODIS</dd><dt><span>metadata_link :</span></dt><dd>http://podaac.jpl.nasa.gov/ws/metadata/dataset/?format=iso&amp;shortName=MODIS_A-JPL-L2P-v2019.0</dd><dt><span>keywords :</span></dt><dd>Oceans &gt; Ocean Temperature &gt; Sea Surface Temperature</dd><dt><span>keywords_vocabulary :</span></dt><dd>NASA Global Change Master Directory (GCMD) Science Keywords</dd><dt><span>standard_name_vocabulary :</span></dt><dd>NetCDF Climate and Forecast (CF) Metadata Convention</dd><dt><span>geospatial_lat_units :</span></dt><dd>degrees_north</dd><dt><span>geospatial_lat_resolution :</span></dt><dd>[0.01]</dd><dt><span>geospatial_lon_units :</span></dt><dd>degrees_east</dd><dt><span>geospatial_lon_resolution :</span></dt><dd>[0.01]</dd><dt><span>acknowledgment :</span></dt><dd>The MODIS L2P sea surface temperature data are sponsored by NASA</dd><dt><span>creator_name :</span></dt><dd>Ed Armstrong, JPL PO.DAAC</dd><dt><span>creator_email :</span></dt><dd>edward.m.armstrong@jpl.nasa.gov</dd><dt><span>creator_url :</span></dt><dd>http://podaac.jpl.nasa.gov</dd><dt><span>project :</span></dt><dd>Group for High Resolution Sea Surface Temperature</dd><dt><span>publisher_name :</span></dt><dd>The GHRSST Project Office</dd><dt><span>publisher_url :</span></dt><dd>http://www.ghrsst.org</dd><dt><span>publisher_email :</span></dt><dd>ghrsst-po@nceo.ac.uk</dd><dt><span>processing_level :</span></dt><dd>L2P</dd><dt><span>cdm_data_type :</span></dt><dd>swath</dd><dt><span>startDirection :</span></dt><dd>Descending</dd><dt><span>endDirection :</span></dt><dd>Descending</dd><dt><span>day_night_flag :</span></dt><dd>Night</dd><dt><span>history_json :</span></dt><dd>[{&quot;date_time&quot;: &quot;2021-11-19T17:44:56.897126+00:00&quot;, &quot;derived_from&quot;: &quot;https://archive.podaac.earthdata.nasa.gov/podaac-ops-cumulus-protected/MODIS_A-JPL-L2P-v2019.0/20210820080001-JPL-L2P_GHRSST-SSTskin-MODIS_A-N-v02.0-fv01.0.nc&quot;, &quot;program&quot;: &quot;l2ss-py&quot;, &quot;version&quot;: &quot;1.1.0&quot;, &quot;parameters&quot;: &quot;bbox=[[-97.77667, -83.05197], [21.20806, 30.16605]] cut=True&quot;, &quot;program_ref&quot;: &quot;https://cmr.earthdata.nasa.gov:443/search/concepts/S1962070864-POCLOUD&quot;, &quot;$schema&quot;: &quot;https://harmony.earthdata.nasa.gov/schemas/history/0.1.0/history-v0.1.0.json&quot;}]</dd></dl></div></li></ul></div></div>"
      ],
      "text/plain": [
       "<xarray.Dataset>\n",
       "Dimensions:                      (nj: 1232, ni: 1132, time: 1)\n",
       "Coordinates:\n",
       "    lat                          (nj, ni, time) float32 ...\n",
       "    lon                          (nj, ni, time) float32 ...\n",
       "  * time                         (time) datetime64[ns] 2021-08-20T08:00:01\n",
       "Dimensions without coordinates: nj, ni\n",
       "Data variables:\n",
       "    sea_surface_temperature      (time, nj, ni) float32 ...\n",
       "    sst_dtime                    (time, nj, ni) timedelta64[ns] ...\n",
       "    quality_level                (time, nj, ni) float32 ...\n",
       "    sses_bias                    (time, nj, ni) float32 ...\n",
       "    sses_standard_deviation      (time, nj, ni) float32 ...\n",
       "    l2p_flags                    (time, nj, ni) int16 ...\n",
       "    sea_surface_temperature_4um  (time, nj, ni) float32 ...\n",
       "    quality_level_4um            (time, nj, ni) float32 ...\n",
       "    sses_bias_4um                (time, nj, ni) float32 ...\n",
       "    sses_standard_deviation_4um  (time, nj, ni) float32 ...\n",
       "    wind_speed                   (time, nj, ni) float32 ...\n",
       "    dt_analysis                  (time, nj, ni) float32 ...\n",
       "Attributes: (12/50)\n",
       "    Conventions:                CF-1.7, ACDD-1.3\n",
       "    title:                      MODIS Aqua L2P SST\n",
       "    summary:                    Sea surface temperature retrievals produced a...\n",
       "    references:                 GHRSST Data Processing Specification v2r5\n",
       "    institution:                NASA/JPL/OBPG/RSMAS\n",
       "    history:                    MODIS L2P created at JPL PO.DAAC\\n2021-11-19 ...\n",
       "    ...                         ...\n",
       "    processing_level:           L2P\n",
       "    cdm_data_type:              swath\n",
       "    startDirection:             Descending\n",
       "    endDirection:               Descending\n",
       "    day_night_flag:             Night\n",
       "    history_json:               [{\"date_time\": \"2021-11-19T17:44:56.897126+00..."
      ]
     },
     "execution_count": 31,
     "metadata": {},
     "output_type": "execute_result"
    }
   ],
   "source": [
    "f = s3_fs.open(url, mode='rb')\n",
    "ds = xr.open_dataset(f)\n",
    "ds"
   ]
  },
  {
   "cell_type": "markdown",
   "id": "8f8bfb04-4d58-45df-b6ce-04f4e81ceb88",
   "metadata": {},
   "source": [
    "### Plot the data\n",
    "\n",
    "Use the xarray built in plotting function to create a simple plot along the x and y dimensions of the dataset:"
   ]
  },
  {
   "cell_type": "code",
   "execution_count": 32,
   "id": "f34908b3-d89d-4782-973b-40db286ce56c",
   "metadata": {},
   "outputs": [
    {
     "data": {
      "image/png": "[encoded data removed]",
      "text/plain": [
       "<Figure size 432x288 with 2 Axes>"
      ]
     },
     "metadata": {
      "needs_background": "light"
     },
     "output_type": "display_data"
    }
   ],
   "source": [
    "ds.sea_surface_temperature.plot() ;"
   ]
  },
  {
   "cell_type": "markdown",
   "id": "0bc9cfee-edd9-436b-bbf8-0ec588b14b71",
   "metadata": {
    "tags": []
   },
   "source": [
    "## Resources\n",
    "\n",
    "1. In-depth exploration of the `MODIS_A-JPL-L2P-v2019.0` data set, co-locating in-situ and remote sensing data: \n",
    "https://github.com/podaac/tutorials/blob/master/notebooks/SWOT-EA-2021/Colocate_satellite_insitu_ocean.ipynb\n",
    "\n",
    "2. Harmony-Py library introduction tutorial: https://github.com/nasa/harmony-py/blob/main/examples/intro_tutorial.ipynb"
   ]
  }
 ],
 "metadata": {
  "kernelspec": {
   "display_name": "Python 3 (ipykernel)",
   "language": "python",
   "name": "python3"
  },
  "language_info": {
   "codemirror_mode": {
    "name": "ipython",
    "version": 3
   },
   "file_extension": ".py",
   "mimetype": "text/x-python",
   "name": "python",
   "nbconvert_exporter": "python",
   "pygments_lexer": "ipython3",
   "version": "3.9.7"
  }
 },
 "nbformat": 4,
 "nbformat_minor": 5
}
