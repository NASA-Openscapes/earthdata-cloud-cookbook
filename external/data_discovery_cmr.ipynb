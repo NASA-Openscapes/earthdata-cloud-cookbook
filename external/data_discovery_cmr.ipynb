{
 "cells": [
  {
   "cell_type": "markdown",
   "id": "negative-performer",
   "metadata": {},
   "source": [
    "# 01. Data discovery with CMR\n",
    "\n",
    "In this tutorial you will learn:\n",
    "- what CMR is;  \n",
    "- how to use the `requests` package to search data collections and granules;  \n",
    "- how to parse the results of these searches.\n",
    "\n",
    "\n",
    "We will focus on datasets in the cloud.  Currently, DAACs with data in the cloud are 'ASF', 'GES_DISC', 'GHRC_DAAC', 'LPCLOUD', 'ORNL_CLOUD', 'POCLOUD'"
   ]
  },
  {
   "cell_type": "markdown",
   "id": "attended-owner",
   "metadata": {},
   "source": [
    "## What is CMR\n",
    "CMR is the Common Metadata Repository.  It catalogs all data for NASA's Earth Observing System Data and Information System (EOSDIS).  It is the backend of [Earthdata Search](https://search.earthdata.nasa.gov/search), the GUI search interface you are probably familiar with.  More information about CMR can be found [here](https://earthdata.nasa.gov/eosdis/science-system-description/eosdis-components/cmr).\n",
    "\n",
    "Unfortunately, the GUI for Earthdata Search is not accessible from a cloud instance - at least not without some work.  Earthdata Search is also not immediately reproducible.  What I mean by that is if you create a search using the GUI you would have to note the search criteria (date range, search area, collection name, etc), take a screenshot, copy the search url, or save the list of data granules returned by the search, in order to recreate the search.  This information would have to be re-entered each time you or someone else wanted to do the search.  You could make typos or other mistakes.  A cleaner, reproducible solution is to search CMR programmatically using the CMR API.\n",
    "\n",
    "## What is the CMR API\n",
    "API stands for Application Programming Interface.  It allows applications (software, services, etc) to send information to each other.  A helpful analogy is a waiter in a restaurant.  The waiter takes your drink or food order that you select from the menu, often translated into short-hand, to the bar or kitchen, and then returns (hopefully) with what you ordered when it is ready.\n",
    "\n",
    "The CMR API accepts search terms such as collection name, keywords, datetime range, and location, queries the CMR database and returns the results.\n",
    "\n"
   ]
  },
  {
   "cell_type": "markdown",
   "id": "instant-parliament",
   "metadata": {},
   "source": [
    "## How to search CMR from Python\n",
    "The first step is to import python packages.  We will use:  \n",
    "- `requests` This package does most of the work for us accessing the CMR API using HTTP methods. \n",
    "- `pprint` to _pretty print_ the results of the search.  \n",
    "\n",
    "A more in depth tutorial on `requests` is [here](https://realpython.com/python-requests/)"
   ]
  },
  {
   "cell_type": "code",
   "execution_count": 1,
   "id": "prime-hierarchy",
   "metadata": {},
   "outputs": [],
   "source": [
    "import requests\n",
    "from pprint import pprint"
   ]
  },
  {
   "cell_type": "markdown",
   "id": "synthetic-advocacy",
   "metadata": {},
   "source": [
    "Then we need to authenticate with EarthData Login. Since we've already set this up in the previous lesson, here you need to enter your username before executing the cell."
   ]
  },
  {
   "cell_type": "markdown",
   "id": "authorized-conditioning",
   "metadata": {},
   "source": [
    "To conduct a search using the CMR API, `requests` needs the url for the root CMR search endpoint. \n",
    "We'll build this url as a python variable."
   ]
  },
  {
   "cell_type": "code",
   "execution_count": 2,
   "id": "existing-concert",
   "metadata": {},
   "outputs": [],
   "source": [
    "CMR_OPS = 'https://cmr.earthdata.nasa.gov/search'"
   ]
  },
  {
   "cell_type": "markdown",
   "id": "sorted-possession",
   "metadata": {},
   "source": [
    "CMR allows search by __collections__, which are datasets, and __granules__, which are files that contain data.  Many of the same search parameters can be used for colections and granules but the type of results returned differ.  Search parameters can be found in the [API Documentation](https://cmr.earthdata.nasa.gov/search/site/docs/search/api.html).\n",
    "\n",
    "Whether we search __collections__ or __granules__ is distinguished by adding `\"collections\"` or `\"granules\"` to the url for the root CMR endpoint.\n",
    "\n",
    "We are going to search collections first, so we add collections to the url.  I'm using a `python` format string here."
   ]
  },
  {
   "cell_type": "code",
   "execution_count": 3,
   "id": "floating-defensive",
   "metadata": {},
   "outputs": [],
   "source": [
    "url = f'{CMR_OPS}/{\"collections\"}'"
   ]
  },
  {
   "cell_type": "markdown",
   "id": "racial-fifteen",
   "metadata": {},
   "source": [
    "In this first example, I want to retrieve a list of collections that are hosted in the cloud.  Each collection has a `cloud_hosted` parameter that is either True if that collection is in the cloud and False if it is not.  The migration of NASA data to the cloud is a work in progress.  Not all collections tagged as `cloud_hosted` have granules.  To search for only `cloud_hosted` datasets with granules, I also set `has_granules` to `True`.\n",
    "\n",
    "I also want to get the content in `json` (pronounced \"jason\") format, so I pass a dictionary to the header keyword argument to say that I want results returned as `json`.\n",
    "\n",
    "The `.get()` method is used to send this information to the CMR API.  `get()` calls the HTTP method __GET__. "
   ]
  },
  {
   "cell_type": "code",
   "execution_count": 5,
   "id": "suited-wrestling",
   "metadata": {},
   "outputs": [],
   "source": [
    "response = requests.get(url,\n",
    "                        params={\n",
    "                            'cloud_hosted': 'True',\n",
    "                            'has_granules': 'True',\n",
    "                        },\n",
    "                        headers={\n",
    "                            'Accept': 'application/json',\n",
    "                        }\n",
    "                       )"
   ]
  },
  {
   "cell_type": "markdown",
   "id": "monetary-harbor",
   "metadata": {},
   "source": [
    "`requests` returns a `Response` object.  \n",
    "\n",
    "Often, we want to check that our request was successful.  In a notebook or someother interactive environment, we can just type the name of the variable we have saved our `requests` Response to, in this case the `response` variable."
   ]
  },
  {
   "cell_type": "code",
   "execution_count": 6,
   "id": "ongoing-progressive",
   "metadata": {},
   "outputs": [
    {
     "data": {
      "text/plain": [
       "<Response [200]>"
      ]
     },
     "execution_count": 6,
     "metadata": {},
     "output_type": "execute_result"
    }
   ],
   "source": [
    "response"
   ]
  },
  {
   "cell_type": "markdown",
   "id": "linear-collins",
   "metadata": {},
   "source": [
    "  A cleaner and more understandable method is to check the `status_code` attribute.  Both methods return a HTTP status code.  You've probably seen a 404 error when you have tried to access a website that doesn't exist."
   ]
  },
  {
   "cell_type": "code",
   "execution_count": 7,
   "id": "printable-determination",
   "metadata": {},
   "outputs": [
    {
     "data": {
      "text/plain": [
       "200"
      ]
     },
     "execution_count": 7,
     "metadata": {},
     "output_type": "execute_result"
    }
   ],
   "source": [
    "response.status_code"
   ]
  },
  {
   "cell_type": "markdown",
   "id": "comic-heavy",
   "metadata": {},
   "source": [
    "Try changing `CMR_OPS` to `https://cmr.earthdata.nasa.gov/searches` and run `requests.get` again.  __Don't forget to rerun the cell that assigns the `url` variable__"
   ]
  },
  {
   "cell_type": "code",
   "execution_count": null,
   "id": "painful-builder",
   "metadata": {},
   "outputs": [],
   "source": []
  },
  {
   "cell_type": "markdown",
   "id": "australian-resolution",
   "metadata": {},
   "source": [
    "The response from `requests.get` returns the results of the search and metadata about those results in the `headers`.  \n",
    "\n",
    "More information about the `response` object can be found by typing `help(response)`.\n",
    "\n",
    "`headers` contains useful information in a case-insensitive dictionary.  This information is printed below.\n",
    "*TODO: maybe some context for where the 2 elements k, v, come from?*"
   ]
  },
  {
   "cell_type": "code",
   "execution_count": 8,
   "id": "driving-vintage",
   "metadata": {},
   "outputs": [
    {
     "name": "stdout",
     "output_type": "stream",
     "text": [
      "Content-Type: application/json;charset=utf-8\n",
      "Content-Length: 3820\n",
      "Connection: keep-alive\n",
      "Date: Tue, 02 Nov 2021 22:07:37 GMT\n",
      "X-Frame-Options: SAMEORIGIN\n",
      "Access-Control-Allow-Origin: *\n",
      "X-XSS-Protection: 1; mode=block\n",
      "CMR-Request-Id: 510cf611-d65b-4b46-981b-f4719405676a\n",
      "Strict-Transport-Security: max-age=31536000\n",
      "CMR-Search-After: [0.0,14000.0,\"SENTINEL-1A_RAW\",\"1\",1214470561,1320]\n",
      "CMR-Hits: 917\n",
      "Access-Control-Expose-Headers: CMR-Hits, CMR-Request-Id, X-Request-Id, CMR-Scroll-Id, CMR-Search-After, CMR-Timed-Out, CMR-Shapefile-Original-Point-Count, CMR-Shapefile-Simplified-Point-Count\n",
      "X-Content-Type-Options: nosniff\n",
      "CMR-Took: 435\n",
      "X-Request-Id: 510cf611-d65b-4b46-981b-f4719405676a\n",
      "Vary: Accept-Encoding, User-Agent\n",
      "Content-Encoding: gzip\n",
      "Server: ServerTokens ProductOnly\n",
      "X-Cache: Miss from cloudfront\n",
      "Via: 1.1 3f7e5e686bf8f19b9c786efbe99c7589.cloudfront.net (CloudFront)\n",
      "X-Amz-Cf-Pop: DEN52-C1\n",
      "X-Amz-Cf-Id: BXEUlb5ygB9nj9ygUbSZvIc3BE4k0d1Mn1qDd66IkkuX1rC_Z-mN6Q==\n"
     ]
    }
   ],
   "source": [
    "for k, v in response.headers.items():\n",
    "    print(f'{k}: {v}')"
   ]
  },
  {
   "cell_type": "markdown",
   "id": "durable-ceramic",
   "metadata": {},
   "source": [
    "We can see that the content returned is in `json` format in the UTF-8 character set.  We can also see from `CMR-Hits` that 919 collections were found.\n",
    "\n",
    "Each item in the dictionary can be accessed in the normal way you access a `python` dictionary but because it is case-insensitive, both"
   ]
  },
  {
   "cell_type": "code",
   "execution_count": 9,
   "id": "entertaining-blend",
   "metadata": {},
   "outputs": [
    {
     "data": {
      "text/plain": [
       "'917'"
      ]
     },
     "execution_count": 9,
     "metadata": {},
     "output_type": "execute_result"
    }
   ],
   "source": [
    "response.headers['CMR-Hits']"
   ]
  },
  {
   "cell_type": "markdown",
   "id": "governmental-disclosure",
   "metadata": {},
   "source": [
    "and"
   ]
  },
  {
   "cell_type": "code",
   "execution_count": 10,
   "id": "unsigned-january",
   "metadata": {},
   "outputs": [
    {
     "data": {
      "text/plain": [
       "'917'"
      ]
     },
     "execution_count": 10,
     "metadata": {},
     "output_type": "execute_result"
    }
   ],
   "source": [
    "response.headers['cmr-hits']"
   ]
  },
  {
   "cell_type": "markdown",
   "id": "adaptive-dance",
   "metadata": {},
   "source": [
    "work."
   ]
  },
  {
   "cell_type": "markdown",
   "id": "eleven-mother",
   "metadata": {},
   "source": [
    "This is a large number of data sets.  I'm going to restrict the search to cloud-hosted datasets from ASF (Alaska SAR Facility) because I'm interested in SAR images of sea ice.  To do this, I set the `provider` parameter to `ASF`.\n",
    "\n",
    "You can modify the code below to explore all of the cloud-hosted datasets or cloud-hosted datasets from other providers.  A partial list of providers is given below.\n",
    "\n",
    "DAAC      | Short Name                              | Cloud Provider | On-Premises Provider  \n",
    "----------|-----------------------------------------|----------------|----------------------  \n",
    "NSIDC     | National Snow and Ice Data Center       | NSIDC_CPRD     | NSIDC_ECS  \n",
    "GHRC DAAC | Global Hydrometeorology Resource Center | GHRC_DAAC      | GHRC_DAAC  \n",
    "PO DAAC   | Physical Oceanography Distributed Active Archive Center | POCLOUD | PODAAC  \n",
    "ASF       | Alaska Satellite Facility | ASF | ASF  \n",
    "ORNL DAAC | Oak Ridge National Laboratory | ORNL_CLOUD | ORNL_DAAC  \n",
    "LP DAAC   | Land Processes Distributed Active Archive Center | LPCLOUD | LPDAAC_ECS\n",
    "GES DISC  | NASA Goddard Earth Sciences (GES) Data and Information Services Center (DISC) | GES_DISC | GES_DISC\n",
    "OB DAAC   | NASA's Ocean Biology Distributed Active Archive Center |   | OB_DAAC\n",
    "SEDAC     | NASA's Socioeconomic Data and Applications Center |   | SEDAC\n",
    "\n",
    "When search by provider, use _Cloud Provider_ to search for cloud-hosted datasets and _On-Premises Provider_ to search for datasets archived at the DAACs."
   ]
  },
  {
   "cell_type": "code",
   "execution_count": 26,
   "id": "economic-airfare",
   "metadata": {},
   "outputs": [],
   "source": [
    "provider = 'ASF'\n",
    "response = requests.get(url,\n",
    "                        params={\n",
    "                            'cloud_hosted': 'True',\n",
    "                            'has_granules': 'True',\n",
    "                            'provider': provider,\n",
    "                        },\n",
    "                        headers={\n",
    "                            'Accept': 'application/json'\n",
    "                        }\n",
    "                       )"
   ]
  },
  {
   "cell_type": "code",
   "execution_count": 27,
   "id": "imperial-congo",
   "metadata": {},
   "outputs": [
    {
     "data": {
      "text/plain": [
       "'45'"
      ]
     },
     "execution_count": 27,
     "metadata": {},
     "output_type": "execute_result"
    }
   ],
   "source": [
    "response.headers['cmr-hits']"
   ]
  },
  {
   "cell_type": "markdown",
   "id": "peripheral-static",
   "metadata": {},
   "source": [
    "Search results are contained in the content part of the Response object.  However, `response.content` returns information in bytes."
   ]
  },
  {
   "cell_type": "code",
   "execution_count": 28,
   "id": "hawaiian-honolulu",
   "metadata": {
    "collapsed": true,
    "jupyter": {
     "outputs_hidden": true
    },
    "tags": []
   },
   "outputs": [
    {
     "data": {
      "text/plain": [
       "b'{\"feed\":{\"updated\":\"2021-11-02T22:41:34.322Z\",\"id\":\"https://cmr.earthdata.nasa.gov:443/search/collections.json?cloud_hosted=True&has_granules=True&provider=ASF\",\"title\":\"ECHO dataset metadata\",\"entry\":[{\"boxes\":[\"-90 -180 90 180\"],\"time_start\":\"2014-04-03T00:00:00.000Z\",\"version_id\":\"1\",\"updated\":\"2021-07-15T19:16:39.000Z\",\"dataset_id\":\"SENTINEL-1A_SLC\",\"has_spatial_subsetting\":false,\"has_transforms\":false,\"has_variables\":false,\"data_center\":\"ASF\",\"short_name\":\"SENTINEL-1A_SLC\",\"organizations\":[\"ASF\",\"ESA/CS1CGS\"],\"title\":\"SENTINEL-1A_SLC\",\"coordinate_system\":\"CARTESIAN\",\"summary\":\"Sentinel-1A slant-range product\",\"service_features\":{\"opendap\":{\"has_formats\":false,\"has_variables\":false,\"has_transforms\":false,\"has_spatial_subsetting\":false,\"has_temporal_subsetting\":false},\"esi\":{\"has_formats\":false,\"has_variables\":false,\"has_transforms\":false,\"has_spatial_subsetting\":false,\"has_temporal_subsetting\":false},\"harmony\":{\"has_formats\":false,\"has_variables\":false,\"has_transforms\":false,\"has_spatial_subsetting\":false,\"has_temporal_subsetting\":false}},\"orbit_parameters\":{},\"id\":\"C1214470488-ASF\",\"has_formats\":false,\"original_format\":\"ECHO10\",\"archive_center\":\"ASF\",\"has_temporal_subsetting\":false,\"browse_flag\":false,\"platforms\":[\"Sentinel-1A\"],\"online_access_flag\":true,\"links\":[{\"rel\":\"http://esipfed.org/ns/fedsearch/1.1/data#\",\"hreflang\":\"en-US\",\"href\":\"https://vertex.daac.asf.alaska.edu/\"}]},{\"boxes\":[\"-90 -180 90 180\"],\"time_start\":\"2016-04-25T00:00:00.000Z\",\"version_id\":\"1\",\"updated\":\"2021-07-15T19:17:22.000Z\",\"dataset_id\":\"SENTINEL-1B_SLC\",\"has_spatial_subsetting\":false,\"has_transforms\":false,\"has_variables\":false,\"data_center\":\"ASF\",\"short_name\":\"SENTINEL-1B_SLC\",\"organizations\":[\"ASF\",\"ESA/CS1CGS\"],\"title\":\"SENTINEL-1B_SLC\",\"coordinate_system\":\"CARTESIAN\",\"summary\":\"Sentinel-1B slant-range product\",\"service_features\":{\"opendap\":{\"has_formats\":false,\"has_variables\":false,\"has_transforms\":false,\"has_spatial_subsetting\":false,\"has_temporal_subsetting\":false},\"esi\":{\"has_formats\":false,\"has_variables\":false,\"has_transforms\":false,\"has_spatial_subsetting\":false,\"has_temporal_subsetting\":false},\"harmony\":{\"has_formats\":false,\"has_variables\":false,\"has_transforms\":false,\"has_spatial_subsetting\":false,\"has_temporal_subsetting\":false}},\"orbit_parameters\":{},\"id\":\"C1327985661-ASF\",\"has_formats\":false,\"original_format\":\"ECHO10\",\"archive_center\":\"ASF\",\"has_temporal_subsetting\":false,\"browse_flag\":false,\"platforms\":[\"Sentinel-1B\"],\"online_access_flag\":true,\"links\":[{\"rel\":\"http://esipfed.org/ns/fedsearch/1.1/data#\",\"hreflang\":\"en-US\",\"href\":\"https://vertex.daac.asf.alaska.edu/\"}]},{\"boxes\":[\"-90 -180 90 180\"],\"time_start\":\"2014-04-03T00:00:00.000Z\",\"version_id\":\"1\",\"updated\":\"2021-07-15T19:15:56.000Z\",\"dataset_id\":\"SENTINEL-1A_DUAL_POL_GRD_HIGH_RES\",\"has_spatial_subsetting\":false,\"has_transforms\":false,\"has_variables\":false,\"data_center\":\"ASF\",\"short_name\":\"SENTINEL-1A_DP_GRD_HIGH\",\"organizations\":[\"ASF\",\"ESA/CS1CGS\"],\"title\":\"SENTINEL-1A_DUAL_POL_GRD_HIGH_RES\",\"coordinate_system\":\"CARTESIAN\",\"summary\":\"Sentinel-1A Dual-pol ground projected high and full resolution images\",\"service_features\":{\"opendap\":{\"has_formats\":false,\"has_variables\":false,\"has_transforms\":false,\"has_spatial_subsetting\":false,\"has_temporal_subsetting\":false},\"esi\":{\"has_formats\":false,\"has_variables\":false,\"has_transforms\":false,\"has_spatial_subsetting\":false,\"has_temporal_subsetting\":false},\"harmony\":{\"has_formats\":false,\"has_variables\":false,\"has_transforms\":false,\"has_spatial_subsetting\":false,\"has_temporal_subsetting\":false}},\"orbit_parameters\":{},\"id\":\"C1214470533-ASF\",\"has_formats\":false,\"original_format\":\"ECHO10\",\"archive_center\":\"ASF\",\"has_temporal_subsetting\":false,\"browse_flag\":false,\"platforms\":[\"Sentinel-1A\"],\"online_access_flag\":true,\"links\":[{\"rel\":\"http://esipfed.org/ns/fedsearch/1.1/data#\",\"hreflang\":\"en-US\",\"href\":\"https://vertex.daac.asf.alaska.edu/\"}]},{\"boxes\":[\"-90 -180 90 180\"],\"time_start\":\"2016-04-25T00:00:00.000Z\",\"version_id\":\"1\",\"updated\":\"2021-07-15T19:16:47.000Z\",\"dataset_id\":\"SENTINEL-1B_DUAL_POL_GRD_HIGH_RES\",\"has_spatial_subsetting\":false,\"has_transforms\":false,\"has_variables\":false,\"data_center\":\"ASF\",\"short_name\":\"SENTINEL-1B_DP_GRD_HIGH\",\"organizations\":[\"ASF\",\"ESA/CS1CGS\"],\"title\":\"SENTINEL-1B_DUAL_POL_GRD_HIGH_RES\",\"coordinate_system\":\"CARTESIAN\",\"summary\":\"Sentinel-1B Dual-pol ground projected high and full resolution images\",\"service_features\":{\"opendap\":{\"has_formats\":false,\"has_variables\":false,\"has_transforms\":false,\"has_spatial_subsetting\":false,\"has_temporal_subsetting\":false},\"esi\":{\"has_formats\":false,\"has_variables\":false,\"has_transforms\":false,\"has_spatial_subsetting\":false,\"has_temporal_subsetting\":false},\"harmony\":{\"has_formats\":false,\"has_variables\":false,\"has_transforms\":false,\"has_spatial_subsetting\":false,\"has_temporal_subsetting\":false}},\"orbit_parameters\":{},\"id\":\"C1327985645-ASF\",\"has_formats\":false,\"original_format\":\"ECHO10\",\"archive_center\":\"ASF\",\"has_temporal_subsetting\":false,\"browse_flag\":false,\"platforms\":[\"Sentinel-1B\"],\"online_access_flag\":true,\"links\":[{\"rel\":\"http://esipfed.org/ns/fedsearch/1.1/data#\",\"hreflang\":\"en-US\",\"href\":\"https://vertex.daac.asf.alaska.edu/\"}]},{\"boxes\":[\"-90 -180 90 180\"],\"time_start\":\"2016-04-25T00:00:00.000Z\",\"version_id\":\"1\",\"updated\":\"2021-07-15T19:16:49.000Z\",\"dataset_id\":\"SENTINEL-1B_DUAL_POL_GRD_MEDIUM_RES\",\"has_spatial_subsetting\":false,\"has_transforms\":false,\"has_variables\":false,\"data_center\":\"ASF\",\"short_name\":\"SENTINEL-1B_DP_GRD_MEDIUM\",\"organizations\":[\"ASF\",\"ESA/CS1CGS\"],\"title\":\"SENTINEL-1B_DUAL_POL_GRD_MEDIUM_RES\",\"coordinate_system\":\"CARTESIAN\",\"summary\":\"Sentinel-1B Dual-pol ground projected medium resolution images\",\"service_features\":{\"opendap\":{\"has_formats\":false,\"has_variables\":false,\"has_transforms\":false,\"has_spatial_subsetting\":false,\"has_temporal_subsetting\":false},\"esi\":{\"has_formats\":false,\"has_variables\":false,\"has_transforms\":false,\"has_spatial_subsetting\":false,\"has_temporal_subsetting\":false},\"harmony\":{\"has_formats\":false,\"has_variables\":false,\"has_transforms\":false,\"has_spatial_subsetting\":false,\"has_temporal_subsetting\":false}},\"orbit_parameters\":{},\"id\":\"C1327985660-ASF\",\"has_formats\":false,\"original_format\":\"ECHO10\",\"archive_center\":\"ASF\",\"has_temporal_subsetting\":false,\"browse_flag\":false,\"platforms\":[\"Sentinel-1B\"],\"online_access_flag\":true,\"links\":[{\"rel\":\"http://esipfed.org/ns/fedsearch/1.1/data#\",\"hreflang\":\"en-US\",\"href\":\"https://vertex.daac.asf.alaska.edu/\"}]},{\"boxes\":[\"-90 -180 90 180\"],\"time_start\":\"2014-04-03T00:00:00.000Z\",\"version_id\":\"1\",\"updated\":\"2021-07-15T19:15:58.000Z\",\"dataset_id\":\"SENTINEL-1A_DUAL_POL_GRD_MEDIUM_RES\",\"has_spatial_subsetting\":false,\"has_transforms\":false,\"has_variables\":false,\"data_center\":\"ASF\",\"short_name\":\"SENTINEL-1A_DP_GRD_MEDIUM\",\"organizations\":[\"ASF\",\"ESA/CS1CGS\"],\"title\":\"SENTINEL-1A_DUAL_POL_GRD_MEDIUM_RES\",\"coordinate_system\":\"CARTESIAN\",\"summary\":\"Sentinel-1A Dual-pol ground projected medium resolution images\",\"service_features\":{\"opendap\":{\"has_formats\":false,\"has_variables\":false,\"has_transforms\":false,\"has_spatial_subsetting\":false,\"has_temporal_subsetting\":false},\"esi\":{\"has_formats\":false,\"has_variables\":false,\"has_transforms\":false,\"has_spatial_subsetting\":false,\"has_temporal_subsetting\":false},\"harmony\":{\"has_formats\":false,\"has_variables\":false,\"has_transforms\":false,\"has_spatial_subsetting\":false,\"has_temporal_subsetting\":false}},\"orbit_parameters\":{},\"id\":\"C1214471521-ASF\",\"has_formats\":false,\"original_format\":\"ECHO10\",\"archive_center\":\"ASF\",\"has_temporal_subsetting\":false,\"browse_flag\":false,\"platforms\":[\"Sentinel-1A\"],\"online_access_flag\":true,\"links\":[{\"rel\":\"http://esipfed.org/ns/fedsearch/1.1/data#\",\"hreflang\":\"en-US\",\"href\":\"https://vertex.daac.asf.alaska.edu/\"}]},{\"boxes\":[\"-90 -180 90 180\"],\"time_start\":\"2014-04-03T00:00:00.000Z\",\"version_id\":\"1\",\"updated\":\"2021-07-15T19:16:20.000Z\",\"dataset_id\":\"SENTINEL-1A_RAW\",\"has_spatial_subsetting\":false,\"has_transforms\":false,\"has_variables\":false,\"data_center\":\"ASF\",\"short_name\":\"SENTINEL-1A_RAW\",\"organizations\":[\"ASF\",\"ESA/CS1CGS\"],\"title\":\"SENTINEL-1A_RAW\",\"coordinate_system\":\"CARTESIAN\",\"summary\":\"Sentinel-1A level zero product\",\"service_features\":{\"opendap\":{\"has_formats\":false,\"has_variables\":false,\"has_transforms\":false,\"has_spatial_subsetting\":false,\"has_temporal_subsetting\":false},\"esi\":{\"has_formats\":false,\"has_variables\":false,\"has_transforms\":false,\"has_spatial_subsetting\":false,\"has_temporal_subsetting\":false},\"harmony\":{\"has_formats\":false,\"has_variables\":false,\"has_transforms\":false,\"has_spatial_subsetting\":false,\"has_temporal_subsetting\":false}},\"orbit_parameters\":{},\"id\":\"C1214470561-ASF\",\"has_formats\":false,\"original_format\":\"ECHO10\",\"archive_center\":\"ASF\",\"has_temporal_subsetting\":false,\"browse_flag\":false,\"platforms\":[\"Sentinel-1A\"],\"online_access_flag\":true,\"links\":[{\"rel\":\"http://esipfed.org/ns/fedsearch/1.1/data#\",\"hreflang\":\"en-US\",\"href\":\"https://vertex.daac.asf.alaska.edu/\"}]},{\"boxes\":[\"-90 -180 90 180\"],\"time_start\":\"2014-04-03T00:00:00.000Z\",\"version_id\":\"1\",\"updated\":\"2021-07-15T19:16:15.000Z\",\"dataset_id\":\"SENTINEL-1A_METADATA_SLC\",\"has_spatial_subsetting\":false,\"has_transforms\":false,\"has_variables\":false,\"data_center\":\"ASF\",\"short_name\":\"SENTINEL-1A_META_SLC\",\"organizations\":[\"ASF\"],\"title\":\"SENTINEL-1A_METADATA_SLC\",\"coordinate_system\":\"CARTESIAN\",\"summary\":\"Metadata for Sentinel-1A slant-range product\",\"service_features\":{\"opendap\":{\"has_formats\":false,\"has_variables\":false,\"has_transforms\":false,\"has_spatial_subsetting\":false,\"has_temporal_subsetting\":false},\"esi\":{\"has_formats\":false,\"has_variables\":false,\"has_transforms\":false,\"has_spatial_subsetting\":false,\"has_temporal_subsetting\":false},\"harmony\":{\"has_formats\":false,\"has_variables\":false,\"has_transforms\":false,\"has_spatial_subsetting\":false,\"has_temporal_subsetting\":false}},\"orbit_parameters\":{},\"id\":\"C1214470496-ASF\",\"has_formats\":false,\"original_format\":\"ECHO10\",\"archive_center\":\"ASF\",\"has_temporal_subsetting\":false,\"browse_flag\":false,\"platforms\":[\"Sentinel-1A\"],\"online_access_flag\":true,\"links\":[{\"rel\":\"http://esipfed.org/ns/fedsearch/1.1/data#\",\"hreflang\":\"en-US\",\"href\":\"https://vertex.daac.asf.alaska.edu/\"}]},{\"boxes\":[\"-90 -180 90 180\"],\"time_start\":\"2016-04-25T00:00:00.000Z\",\"version_id\":\"1\",\"updated\":\"2021-07-15T19:17:02.000Z\",\"dataset_id\":\"SENTINEL-1B_METADATA_SLC\",\"has_spatial_subsetting\":false,\"has_transforms\":false,\"has_variables\":false,\"data_center\":\"ASF\",\"short_name\":\"SENTINEL-1B_META_SLC\",\"organizations\":[\"ASF\"],\"title\":\"SENTINEL-1B_METADATA_SLC\",\"coordinate_system\":\"CARTESIAN\",\"summary\":\"Metadata for Sentinel-1B slant-range product\",\"service_features\":{\"opendap\":{\"has_formats\":false,\"has_variables\":false,\"has_transforms\":false,\"has_spatial_subsetting\":false,\"has_temporal_subsetting\":false},\"esi\":{\"has_formats\":false,\"has_variables\":false,\"has_transforms\":false,\"has_spatial_subsetting\":false,\"has_temporal_subsetting\":false},\"harmony\":{\"has_formats\":false,\"has_variables\":false,\"has_transforms\":false,\"has_spatial_subsetting\":false,\"has_temporal_subsetting\":false}},\"orbit_parameters\":{},\"id\":\"C1327985617-ASF\",\"has_formats\":false,\"original_format\":\"ECHO10\",\"archive_center\":\"ASF\",\"has_temporal_subsetting\":false,\"browse_flag\":false,\"platforms\":[\"Sentinel-1B\"],\"online_access_flag\":true,\"links\":[{\"rel\":\"http://esipfed.org/ns/fedsearch/1.1/data#\",\"hreflang\":\"en-US\",\"href\":\"https://vertex.daac.asf.alaska.edu/\"}]},{\"boxes\":[\"-90 -180 90 180\"],\"time_start\":\"2014-04-03T00:00:00.000Z\",\"version_id\":\"1\",\"updated\":\"2021-07-15T19:16:26.000Z\",\"dataset_id\":\"SENTINEL-1A_SINGLE_POL_GRD_HIGH_RES\",\"has_spatial_subsetting\":false,\"has_transforms\":false,\"has_variables\":false,\"data_center\":\"ASF\",\"short_name\":\"SENTINEL-1A_SP_GRD_HIGH\",\"organizations\":[\"ASF\",\"ESA/CS1CGS\"],\"title\":\"SENTINEL-1A_SINGLE_POL_GRD_HIGH_RES\",\"coordinate_system\":\"CARTESIAN\",\"summary\":\"Sentinel-1A Single-pol ground projected high and full resolution images\",\"service_features\":{\"opendap\":{\"has_formats\":false,\"has_variables\":false,\"has_transforms\":false,\"has_spatial_subsetting\":false,\"has_temporal_subsetting\":false},\"esi\":{\"has_formats\":false,\"has_variables\":false,\"has_transforms\":false,\"has_spatial_subsetting\":false,\"has_temporal_subsetting\":false},\"harmony\":{\"has_formats\":false,\"has_variables\":false,\"has_transforms\":false,\"has_spatial_subsetting\":false,\"has_temporal_subsetting\":false}},\"orbit_parameters\":{},\"id\":\"C1214470682-ASF\",\"has_formats\":false,\"original_format\":\"ECHO10\",\"archive_center\":\"ASF\",\"has_temporal_subsetting\":false,\"browse_flag\":false,\"platforms\":[\"Sentinel-1A\"],\"online_access_flag\":true,\"links\":[{\"rel\":\"http://esipfed.org/ns/fedsearch/1.1/data#\",\"hreflang\":\"en-US\",\"href\":\"https://vertex.daac.asf.alaska.edu/\"}]}]}}'"
      ]
     },
     "execution_count": 28,
     "metadata": {},
     "output_type": "execute_result"
    }
   ],
   "source": [
    "response.content"
   ]
  },
  {
   "cell_type": "markdown",
   "id": "introductory-manor",
   "metadata": {},
   "source": [
    "It is more convenient to work with `json` formatted data.  I'm using pretty print `pprint` to print the data in an easy to read way.  \n",
    "\n",
    "__Step through `response.json()`, then to `response.json()['feed']['entry'][0]`__. A reminder that python starts indexing at 0, not 1!"
   ]
  },
  {
   "cell_type": "code",
   "execution_count": 29,
   "id": "frequent-tucson",
   "metadata": {},
   "outputs": [
    {
     "name": "stdout",
     "output_type": "stream",
     "text": [
      "{'archive_center': 'ASF',\n",
      " 'boxes': ['-90 -180 90 180'],\n",
      " 'browse_flag': False,\n",
      " 'coordinate_system': 'CARTESIAN',\n",
      " 'data_center': 'ASF',\n",
      " 'dataset_id': 'SENTINEL-1A_SLC',\n",
      " 'has_formats': False,\n",
      " 'has_spatial_subsetting': False,\n",
      " 'has_temporal_subsetting': False,\n",
      " 'has_transforms': False,\n",
      " 'has_variables': False,\n",
      " 'id': 'C1214470488-ASF',\n",
      " 'links': [{'href': 'https://vertex.daac.asf.alaska.edu/',\n",
      "            'hreflang': 'en-US',\n",
      "            'rel': 'http://esipfed.org/ns/fedsearch/1.1/data#'}],\n",
      " 'online_access_flag': True,\n",
      " 'orbit_parameters': {},\n",
      " 'organizations': ['ASF', 'ESA/CS1CGS'],\n",
      " 'original_format': 'ECHO10',\n",
      " 'platforms': ['Sentinel-1A'],\n",
      " 'service_features': {'esi': {'has_formats': False,\n",
      "                              'has_spatial_subsetting': False,\n",
      "                              'has_temporal_subsetting': False,\n",
      "                              'has_transforms': False,\n",
      "                              'has_variables': False},\n",
      "                      'harmony': {'has_formats': False,\n",
      "                                  'has_spatial_subsetting': False,\n",
      "                                  'has_temporal_subsetting': False,\n",
      "                                  'has_transforms': False,\n",
      "                                  'has_variables': False},\n",
      "                      'opendap': {'has_formats': False,\n",
      "                                  'has_spatial_subsetting': False,\n",
      "                                  'has_temporal_subsetting': False,\n",
      "                                  'has_transforms': False,\n",
      "                                  'has_variables': False}},\n",
      " 'short_name': 'SENTINEL-1A_SLC',\n",
      " 'summary': 'Sentinel-1A slant-range product',\n",
      " 'time_start': '2014-04-03T00:00:00.000Z',\n",
      " 'title': 'SENTINEL-1A_SLC',\n",
      " 'updated': '2021-07-15T19:16:39.000Z',\n",
      " 'version_id': '1'}\n"
     ]
    }
   ],
   "source": [
    "pprint(response.json()['feed']['entry'][0])"
   ]
  },
  {
   "cell_type": "markdown",
   "id": "viral-campus",
   "metadata": {},
   "source": [
    "The first response is not the result I am looking for *TODO: because xyz...but it does show a few variables that we can use to further refine the search*.  So I want to print the name of the dataset (`dataset_id`) and the concept id (`id`). We can build this variable and print statement like we did above with the `url` variable. \n",
    "*TODO: is it worth saying something about what \"feed\" and \"entry\" are?*"
   ]
  },
  {
   "cell_type": "code",
   "execution_count": 30,
   "id": "radio-lightning",
   "metadata": {},
   "outputs": [],
   "source": [
    "collections = response.json()['feed']['entry']"
   ]
  },
  {
   "cell_type": "code",
   "execution_count": 31,
   "id": "other-grant",
   "metadata": {},
   "outputs": [
    {
     "name": "stdout",
     "output_type": "stream",
     "text": [
      "ASF SENTINEL-1A_SLC C1214470488-ASF\n",
      "ASF SENTINEL-1B_SLC C1327985661-ASF\n",
      "ASF SENTINEL-1A_DUAL_POL_GRD_HIGH_RES C1214470533-ASF\n",
      "ASF SENTINEL-1B_DUAL_POL_GRD_HIGH_RES C1327985645-ASF\n",
      "ASF SENTINEL-1B_DUAL_POL_GRD_MEDIUM_RES C1327985660-ASF\n",
      "ASF SENTINEL-1A_DUAL_POL_GRD_MEDIUM_RES C1214471521-ASF\n",
      "ASF SENTINEL-1A_RAW C1214470561-ASF\n",
      "ASF SENTINEL-1A_METADATA_SLC C1214470496-ASF\n",
      "ASF SENTINEL-1B_METADATA_SLC C1327985617-ASF\n",
      "ASF SENTINEL-1A_SINGLE_POL_GRD_HIGH_RES C1214470682-ASF\n"
     ]
    }
   ],
   "source": [
    "for collection in collections:\n",
    "    print(f'{collection[\"archive_center\"]} {collection[\"dataset_id\"]} {collection[\"id\"]}')"
   ]
  },
  {
   "cell_type": "markdown",
   "id": "injured-services",
   "metadata": {},
   "source": [
    "But there is a problem.  We know from `CMR-Hits` that there are 49 datasets but only 10 are printed.  This is because CMR restricts the number of results returned by a query.  The default is 10 but it can be set to a maximum of 2000.  Knowing that there were 49 'hits', I'll set `page_size` to 49. Then, we can re-run our for loop for the collections."
   ]
  },
  {
   "cell_type": "code",
   "execution_count": 32,
   "id": "federal-analyst",
   "metadata": {},
   "outputs": [],
   "source": [
    "response = requests.get(url,\n",
    "                        params={\n",
    "                            'cloud_hosted': 'True',\n",
    "                            'provider': provider,\n",
    "                            'page_size': 49,\n",
    "                        },\n",
    "                        headers={\n",
    "                            'Accept': 'application/json'\n",
    "                        }\n",
    "                       )"
   ]
  },
  {
   "cell_type": "code",
   "execution_count": 33,
   "id": "consecutive-detroit",
   "metadata": {},
   "outputs": [
    {
     "name": "stdout",
     "output_type": "stream",
     "text": [
      "ASF SENTINEL-1A_SLC C1214470488-ASF\n",
      "ASF SENTINEL-1B_SLC C1327985661-ASF\n",
      "ASF SENTINEL-1A_DUAL_POL_GRD_HIGH_RES C1214470533-ASF\n",
      "ASF SENTINEL-1B_DUAL_POL_GRD_HIGH_RES C1327985645-ASF\n",
      "ASF SENTINEL-1B_DUAL_POL_GRD_MEDIUM_RES C1327985660-ASF\n",
      "ASF SENTINEL-1A_DUAL_POL_GRD_MEDIUM_RES C1214471521-ASF\n",
      "ASF SENTINEL-1A_RAW C1214470561-ASF\n",
      "ASF SENTINEL-1A_METADATA_SLC C1214470496-ASF\n",
      "ASF SENTINEL-1B_METADATA_SLC C1327985617-ASF\n",
      "ASF SENTINEL-1A_SINGLE_POL_GRD_HIGH_RES C1214470682-ASF\n",
      "ASF SENTINEL-1A_OCN C1214472977-ASF\n",
      "ASF SENTINEL-1B_RAW C1327985647-ASF\n",
      "ASF SENTINEL-1A_DUAL_POL_METADATA_GRD_HIGH_RES C1214470576-ASF\n",
      "ASF SENTINEL-1B_OCN C1327985579-ASF\n",
      "ASF SENTINEL-1A_METADATA_RAW C1214470532-ASF\n",
      "ASF SENTINEL-1B_DUAL_POL_METADATA_GRD_HIGH_RES C1327985741-ASF\n",
      "Alaska Satellite Facility Sentinel-1 Interferograms (BETA) C1595422627-ASF\n",
      "ASF ALOS_AVNIR_OBS_ORI C1808440897-ASF\n",
      "ASF SENTINEL-1A_SINGLE_POL_GRD_MEDIUM_RES C1214472994-ASF\n",
      "ASF SENTINEL-1B_METADATA_RAW C1327985650-ASF\n",
      "ASF SENTINEL-1B_SINGLE_POL_GRD_HIGH_RES C1327985571-ASF\n",
      "ASF SENTINEL-1B_SINGLE_POL_GRD_MEDIUM_RES C1327985740-ASF\n",
      "ASF SENTINEL-1A_METADATA_OCN C1266376001-ASF\n",
      "ASF SENTINEL-1B_METADATA_OCN C1327985646-ASF\n",
      "ASF SENTINEL-1A_DUAL_POL_METADATA_GRD_MEDIUM_RES C1214472336-ASF\n",
      "ASF SENTINEL-1A_SINGLE_POL_METADATA_GRD_HIGH_RES C1214470732-ASF\n",
      "ASF SENTINEL-1A_SINGLE_POL_METADATA_GRD_MEDIUM_RES C1214473170-ASF\n",
      "ASF SENTINEL-1B_DUAL_POL_METADATA_GRD_MEDIUM_RES C1327985578-ASF\n",
      "ASF SENTINEL-1B_SINGLE_POL_METADATA_GRD_HIGH_RES C1327985619-ASF\n",
      "ASF SENTINEL-1B_SINGLE_POL_METADATA_GRD_MEDIUM_RES C1327985739-ASF\n",
      "ASF STS-68_BROWSE_GRD C1661710593-ASF\n",
      "ASF STS-68_BROWSE_SLC C1661710596-ASF\n",
      "ASF STS-59_BROWSE_GRD C1661710578-ASF\n",
      "ASF STS-59_BROWSE_SLC C1661710581-ASF\n",
      "ASF SENTINEL-1A_DUAL_POL_GRD_FULL_RES C1214471197-ASF\n",
      "ASF SENTINEL-1A_DUAL_POL_METADATA_GRD_FULL_RES C1214471960-ASF\n",
      "ASF SENTINEL-1A_SINGLE_POL_GRD_FULL_RES C1214472978-ASF\n",
      "ASF SENTINEL-1A_SINGLE_POL_METADATA_GRD_FULL_RES C1214473165-ASF\n",
      "ASF SENTINEL-1B_DUAL_POL_GRD_FULL_RES C1327985697-ASF\n",
      "ASF SENTINEL-1B_DUAL_POL_METADATA_GRD_FULL_RES C1327985651-ASF\n",
      "ASF SENTINEL-1B_SINGLE_POL_GRD_FULL_RES C1327985644-ASF\n",
      "ASF SENTINEL-1B_SINGLE_POL_METADATA_GRD_FULL_RES C1327985674-ASF\n",
      "Alaska Satellite Facility Sentinel-1 Unwrapped Interferogram and Coherence Map (BETA) C1379535600-ASF\n",
      "Alaska Satellite Facility Sentinel-1 Interferograms - Amplitude (BETA) C1596065640-ASF\n",
      "Alaska Satellite Facility Sentinel-1 Interferograms - Coherence (BETA) C1596065639-ASF\n",
      "Alaska Satellite Facility Sentinel-1 Interferograms - Connected Components (BETA) C1596065641-ASF\n",
      "Alaska Satellite Facility Sentinel-1 Interferograms - Unwrapped Phase (BETA) C1595765183-ASF\n",
      "ASF STS-59_GRD C1661710583-ASF\n",
      "ASF STS-59_METADATA_GRD C1661710586-ASF\n"
     ]
    }
   ],
   "source": [
    "collections = response.json()['feed']['entry']\n",
    "for collection in collections:\n",
    "    print(f'{collection[\"archive_center\"]} {collection[\"dataset_id\"]} {collection[\"id\"]}')"
   ]
  },
  {
   "cell_type": "markdown",
   "id": "swedish-engineer",
   "metadata": {},
   "source": [
    "## Granule Search\n",
    "In NASA speak, Granules are files.  In this example, we will search for recent Sentinel-1 Ground Range Detected (GRD) Medium Resolution Synthetic Aperture Radar images over the east coast of Greenland.  The data in these files are most useful for sea ice mapping.\n",
    "\n",
    "I'll use the data range 2021-10-17 00:00 to 2021-10-18 23:59:59.\n",
    "\n",
    "I'll use a simple bounding box to search.\n",
    "- SW: 76.08166,-67.1746\n",
    "- NW: 88.19689,21.04862\n",
    "\n",
    "From the collections search, I know the concept ids for Sentinel-1A and Sentinel-1B GRD medium resolution are\n",
    "- C1214472336-ASF\n",
    "- C1327985578-ASF\n",
    "\n",
    "We need to change the resource url to look for granules instead of collections"
   ]
  },
  {
   "cell_type": "code",
   "execution_count": 34,
   "id": "unlimited-underwear",
   "metadata": {},
   "outputs": [],
   "source": [
    "url = f'{CMR_OPS}/{\"granules\"}'"
   ]
  },
  {
   "cell_type": "markdown",
   "id": "industrial-typing",
   "metadata": {},
   "source": [
    "We will search by `concept_id`, `temporal`, and `bounding_box`.  Details about these search parameters can be found in the CMR API Documentation.\n",
    "\n",
    "The formatting of the values for each parameter is quite specific.  \n",
    "Temporal parameters are in ISO 8061 format `yyyy-MM-ddTHH:mm:ssZ`.  \n",
    "Bounding box coordinates are lower left longitude, lower left latitude, upper right longitude, upper right latitude. "
   ]
  },
  {
   "cell_type": "code",
   "execution_count": 36,
   "id": "identified-johnson",
   "metadata": {},
   "outputs": [
    {
     "name": "stdout",
     "output_type": "stream",
     "text": [
      "200\n"
     ]
    }
   ],
   "source": [
    "response = requests.get(url, \n",
    "                        params={\n",
    "                            'concept_id': 'C1214472336-ASF',\n",
    "                            'temporal': '2020-10-17T00:00:00Z,2020-10-18T23:59:59Z',\n",
    "                            'bounding_box': '76.08166,-67.1746,88.19689,21.04862',\n",
    "                            'page_size': 200,\n",
    "                            },\n",
    "                        headers={\n",
    "                            'Accept': 'application/json'\n",
    "                            }\n",
    "                       )\n",
    "print(response.status_code)"
   ]
  },
  {
   "cell_type": "code",
   "execution_count": 37,
   "id": "aggressive-repair",
   "metadata": {},
   "outputs": [
    {
     "name": "stdout",
     "output_type": "stream",
     "text": [
      "6\n"
     ]
    }
   ],
   "source": [
    "print(response.headers['CMR-Hits'])"
   ]
  },
  {
   "cell_type": "code",
   "execution_count": 38,
   "id": "animal-facing",
   "metadata": {},
   "outputs": [],
   "source": [
    "granules = response.json()['feed']['entry']\n",
    "#for granule in granules:\n",
    "#    print(f'{granule[\"archive_center\"]} {granule[\"dataset_id\"]} {granule[\"id\"]}')"
   ]
  },
  {
   "cell_type": "code",
   "execution_count": 39,
   "id": "deluxe-blues",
   "metadata": {},
   "outputs": [
    {
     "name": "stdout",
     "output_type": "stream",
     "text": [
      "[{'browse_flag': True,\n",
      "  'collection_concept_id': 'C1214472336-ASF',\n",
      "  'coordinate_system': 'GEODETIC',\n",
      "  'data_center': 'ASF',\n",
      "  'dataset_id': 'SENTINEL-1A_DUAL_POL_METADATA_GRD_MEDIUM_RES',\n",
      "  'day_night_flag': 'UNSPECIFIED',\n",
      "  'granule_size': '0.05633258819580078',\n",
      "  'id': 'G1954601581-ASF',\n",
      "  'links': [{'href': 'https://datapool.asf.alaska.edu/METADATA_GRD_MD/SA/S1A_EW_GRDM_1SDH_20201017T132009_20201017T132039_034836_040F98_404E.iso.xml',\n",
      "             'hreflang': 'en-US',\n",
      "             'rel': 'http://esipfed.org/ns/fedsearch/1.1/data#',\n",
      "             'title': 'This link provides direct download access to the '\n",
      "                      'granule.'},\n",
      "            {'href': 'www.asf.alaska.edu/sar-data-sets/sentinel-1',\n",
      "             'hreflang': 'en-US',\n",
      "             'rel': 'http://esipfed.org/ns/fedsearch/1.1/metadata#',\n",
      "             'title': 'ASF DAAC Sentinel-1 data set landing page (VIEW RELATED '\n",
      "                      'INFORMATION)'},\n",
      "            {'href': 'www.asf.alaska.edu/sar-information/sentinel-1-documents-tools',\n",
      "             'hreflang': 'en-US',\n",
      "             'rel': 'http://esipfed.org/ns/fedsearch/1.1/metadata#',\n",
      "             'title': 'ASF DAAC Sentinel-1 User Guide and Technical '\n",
      "                      'Documentation (VIEW RELATED INFORMATION)'},\n",
      "            {'href': 'https://datapool.asf.alaska.edu/BROWSE/SA/S1A_EW_GRDM_1SDH_20201017T132009_20201017T132039_034836_040F98_404E.jpg',\n",
      "             'hreflang': 'en-US',\n",
      "             'rel': 'http://esipfed.org/ns/fedsearch/1.1/browse#'},\n",
      "            {'href': 'https://vertex.daac.asf.alaska.edu/',\n",
      "             'hreflang': 'en-US',\n",
      "             'inherited': True,\n",
      "             'rel': 'http://esipfed.org/ns/fedsearch/1.1/data#'}],\n",
      "  'online_access_flag': True,\n",
      "  'orbit_calculated_spatial_domains': [{'orbit_number': '34836'}],\n",
      "  'original_format': 'ECHO10',\n",
      "  'polygons': [['-59.163563 87.942726 -60.893669 89.293564 -59.279579 '\n",
      "                '96.119583 -57.619923 94.49958 -59.163563 87.942726']],\n",
      "  'producer_granule_id': 'S1A_EW_GRDM_1SDH_20201017T132009_20201017T132039_034836_040F98_404E',\n",
      "  'time_end': '2020-10-17T13:20:39.000Z',\n",
      "  'time_start': '2020-10-17T13:20:09.000Z',\n",
      "  'title': 'S1A_EW_GRDM_1SDH_20201017T132009_20201017T132039_034836_040F98_404E-METADATA_GRD_MD',\n",
      "  'updated': '2020-10-19T17:13:39.000Z'},\n",
      " {'browse_flag': False,\n",
      "  'collection_concept_id': 'C1214472336-ASF',\n",
      "  'coordinate_system': 'GEODETIC',\n",
      "  'data_center': 'ASF',\n",
      "  'dataset_id': 'SENTINEL-1A_DUAL_POL_METADATA_GRD_MEDIUM_RES',\n",
      "  'day_night_flag': 'UNSPECIFIED',\n",
      "  'granule_size': '0.05633354187011719',\n",
      "  'id': 'G1954616816-ASF',\n",
      "  'links': [{'href': 'https://datapool.asf.alaska.edu/METADATA_GRD_MD/SA/S1A_EW_GRDM_1SDH_20201017T145616_20201017T145720_034837_040FA0_0B4B.iso.xml',\n",
      "             'hreflang': 'en-US',\n",
      "             'rel': 'http://esipfed.org/ns/fedsearch/1.1/data#',\n",
      "             'title': 'This link provides direct download access to the '\n",
      "                      'granule.'},\n",
      "            {'href': 'www.asf.alaska.edu/sar-data-sets/sentinel-1',\n",
      "             'hreflang': 'en-US',\n",
      "             'rel': 'http://esipfed.org/ns/fedsearch/1.1/metadata#',\n",
      "             'title': 'ASF DAAC Sentinel-1 data set landing page (VIEW RELATED '\n",
      "                      'INFORMATION)'},\n",
      "            {'href': 'www.asf.alaska.edu/sar-information/sentinel-1-documents-tools',\n",
      "             'hreflang': 'en-US',\n",
      "             'rel': 'http://esipfed.org/ns/fedsearch/1.1/metadata#',\n",
      "             'title': 'ASF DAAC Sentinel-1 User Guide and Technical '\n",
      "                      'Documentation (VIEW RELATED INFORMATION)'},\n",
      "            {'href': 'https://vertex.daac.asf.alaska.edu/',\n",
      "             'hreflang': 'en-US',\n",
      "             'inherited': True,\n",
      "             'rel': 'http://esipfed.org/ns/fedsearch/1.1/data#'}],\n",
      "  'online_access_flag': True,\n",
      "  'orbit_calculated_spatial_domains': [{'orbit_number': '34837'}],\n",
      "  'original_format': 'ECHO10',\n",
      "  'polygons': [['-66.104271 69.819366 -69.571243 74.741966 -67.42112 83.209152 '\n",
      "                '-64.210938 77.59269 -66.104271 69.819366']],\n",
      "  'producer_granule_id': 'S1A_EW_GRDM_1SDH_20201017T145616_20201017T145720_034837_040FA0_0B4B',\n",
      "  'time_end': '2020-10-17T14:57:20.000Z',\n",
      "  'time_start': '2020-10-17T14:56:16.000Z',\n",
      "  'title': 'S1A_EW_GRDM_1SDH_20201017T145616_20201017T145720_034837_040FA0_0B4B-METADATA_GRD_MD',\n",
      "  'updated': '2020-10-19T18:35:34.000Z'},\n",
      " {'browse_flag': True,\n",
      "  'collection_concept_id': 'C1214472336-ASF',\n",
      "  'coordinate_system': 'GEODETIC',\n",
      "  'data_center': 'ASF',\n",
      "  'dataset_id': 'SENTINEL-1A_DUAL_POL_METADATA_GRD_MEDIUM_RES',\n",
      "  'day_night_flag': 'UNSPECIFIED',\n",
      "  'granule_size': '0.05633354187011719',\n",
      "  'id': 'G1954616638-ASF',\n",
      "  'links': [{'href': 'https://datapool.asf.alaska.edu/METADATA_GRD_MD/SA/S1A_EW_GRDM_1SDH_20201017T145720_20201017T145820_034837_040FA0_72CE.iso.xml',\n",
      "             'hreflang': 'en-US',\n",
      "             'rel': 'http://esipfed.org/ns/fedsearch/1.1/data#',\n",
      "             'title': 'This link provides direct download access to the '\n",
      "                      'granule.'},\n",
      "            {'href': 'www.asf.alaska.edu/sar-data-sets/sentinel-1',\n",
      "             'hreflang': 'en-US',\n",
      "             'rel': 'http://esipfed.org/ns/fedsearch/1.1/metadata#',\n",
      "             'title': 'ASF DAAC Sentinel-1 data set landing page (VIEW RELATED '\n",
      "                      'INFORMATION)'},\n",
      "            {'href': 'www.asf.alaska.edu/sar-information/sentinel-1-documents-tools',\n",
      "             'hreflang': 'en-US',\n",
      "             'rel': 'http://esipfed.org/ns/fedsearch/1.1/metadata#',\n",
      "             'title': 'ASF DAAC Sentinel-1 User Guide and Technical '\n",
      "                      'Documentation (VIEW RELATED INFORMATION)'},\n",
      "            {'href': 'https://datapool.asf.alaska.edu/BROWSE/SA/S1A_EW_GRDM_1SDH_20201017T145720_20201017T145820_034837_040FA0_72CE.jpg',\n",
      "             'hreflang': 'en-US',\n",
      "             'rel': 'http://esipfed.org/ns/fedsearch/1.1/browse#'},\n",
      "            {'href': 'https://vertex.daac.asf.alaska.edu/',\n",
      "             'hreflang': 'en-US',\n",
      "             'inherited': True,\n",
      "             'rel': 'http://esipfed.org/ns/fedsearch/1.1/data#'}],\n",
      "  'online_access_flag': True,\n",
      "  'orbit_calculated_spatial_domains': [{'orbit_number': '34837'}],\n",
      "  'original_format': 'ECHO10',\n",
      "  'polygons': [['-62.765087 66.277176 -66.103951 69.81897 -64.211227 77.590164 '\n",
      "                '-61.060097 73.427185 -62.765087 66.277176']],\n",
      "  'producer_granule_id': 'S1A_EW_GRDM_1SDH_20201017T145720_20201017T145820_034837_040FA0_72CE',\n",
      "  'time_end': '2020-10-17T14:58:20.000Z',\n",
      "  'time_start': '2020-10-17T14:57:20.000Z',\n",
      "  'title': 'S1A_EW_GRDM_1SDH_20201017T145720_20201017T145820_034837_040FA0_72CE-METADATA_GRD_MD',\n",
      "  'updated': '2020-10-19T18:33:31.000Z'},\n",
      " {'browse_flag': True,\n",
      "  'collection_concept_id': 'C1214472336-ASF',\n",
      "  'coordinate_system': 'GEODETIC',\n",
      "  'data_center': 'ASF',\n",
      "  'dataset_id': 'SENTINEL-1A_DUAL_POL_METADATA_GRD_MEDIUM_RES',\n",
      "  'day_night_flag': 'UNSPECIFIED',\n",
      "  'granule_size': '0.05633354187011719',\n",
      "  'id': 'G1954805829-ASF',\n",
      "  'links': [{'href': 'https://datapool.asf.alaska.edu/METADATA_GRD_MD/SA/S1A_EW_GRDM_1SDH_20201018T135856_20201018T140000_034851_041027_2659.iso.xml',\n",
      "             'hreflang': 'en-US',\n",
      "             'rel': 'http://esipfed.org/ns/fedsearch/1.1/data#',\n",
      "             'title': 'This link provides direct download access to the '\n",
      "                      'granule.'},\n",
      "            {'href': 'www.asf.alaska.edu/sar-data-sets/sentinel-1',\n",
      "             'hreflang': 'en-US',\n",
      "             'rel': 'http://esipfed.org/ns/fedsearch/1.1/metadata#',\n",
      "             'title': 'ASF DAAC Sentinel-1 data set landing page (VIEW RELATED '\n",
      "                      'INFORMATION)'},\n",
      "            {'href': 'www.asf.alaska.edu/sar-information/sentinel-1-documents-tools',\n",
      "             'hreflang': 'en-US',\n",
      "             'rel': 'http://esipfed.org/ns/fedsearch/1.1/metadata#',\n",
      "             'title': 'ASF DAAC Sentinel-1 User Guide and Technical '\n",
      "                      'Documentation (VIEW RELATED INFORMATION)'},\n",
      "            {'href': 'https://datapool.asf.alaska.edu/BROWSE/SA/S1A_EW_GRDM_1SDH_20201018T135856_20201018T140000_034851_041027_2659.jpg',\n",
      "             'hreflang': 'en-US',\n",
      "             'rel': 'http://esipfed.org/ns/fedsearch/1.1/browse#'},\n",
      "            {'href': 'https://vertex.daac.asf.alaska.edu/',\n",
      "             'hreflang': 'en-US',\n",
      "             'inherited': True,\n",
      "             'rel': 'http://esipfed.org/ns/fedsearch/1.1/data#'}],\n",
      "  'online_access_flag': True,\n",
      "  'orbit_calculated_spatial_domains': [{'orbit_number': '34851'}],\n",
      "  'original_format': 'ECHO10',\n",
      "  'polygons': [['-65.236397 83.18071 -68.712318 87.887711 -66.630493 96.161102 '\n",
      "                '-63.400326 90.779785 -65.236397 83.18071']],\n",
      "  'producer_granule_id': 'S1A_EW_GRDM_1SDH_20201018T135856_20201018T140000_034851_041027_2659',\n",
      "  'time_end': '2020-10-18T14:00:00.000Z',\n",
      "  'time_start': '2020-10-18T13:58:56.000Z',\n",
      "  'title': 'S1A_EW_GRDM_1SDH_20201018T135856_20201018T140000_034851_041027_2659-METADATA_GRD_MD',\n",
      "  'updated': '2020-10-20T07:16:54.000Z'},\n",
      " {'browse_flag': True,\n",
      "  'collection_concept_id': 'C1214472336-ASF',\n",
      "  'coordinate_system': 'GEODETIC',\n",
      "  'data_center': 'ASF',\n",
      "  'dataset_id': 'SENTINEL-1A_DUAL_POL_METADATA_GRD_MEDIUM_RES',\n",
      "  'day_night_flag': 'UNSPECIFIED',\n",
      "  'granule_size': '0.05633354187011719',\n",
      "  'id': 'G1954799806-ASF',\n",
      "  'links': [{'href': 'https://datapool.asf.alaska.edu/METADATA_GRD_MD/SA/S1A_EW_GRDM_1SDH_20201018T140000_20201018T140100_034851_041027_2777.iso.xml',\n",
      "             'hreflang': 'en-US',\n",
      "             'rel': 'http://esipfed.org/ns/fedsearch/1.1/data#',\n",
      "             'title': 'This link provides direct download access to the '\n",
      "                      'granule.'},\n",
      "            {'href': 'www.asf.alaska.edu/sar-data-sets/sentinel-1',\n",
      "             'hreflang': 'en-US',\n",
      "             'rel': 'http://esipfed.org/ns/fedsearch/1.1/metadata#',\n",
      "             'title': 'ASF DAAC Sentinel-1 data set landing page (VIEW RELATED '\n",
      "                      'INFORMATION)'},\n",
      "            {'href': 'www.asf.alaska.edu/sar-information/sentinel-1-documents-tools',\n",
      "             'hreflang': 'en-US',\n",
      "             'rel': 'http://esipfed.org/ns/fedsearch/1.1/metadata#',\n",
      "             'title': 'ASF DAAC Sentinel-1 User Guide and Technical '\n",
      "                      'Documentation (VIEW RELATED INFORMATION)'},\n",
      "            {'href': 'https://datapool.asf.alaska.edu/BROWSE/SA/S1A_EW_GRDM_1SDH_20201018T140000_20201018T140100_034851_041027_2777.jpg',\n",
      "             'hreflang': 'en-US',\n",
      "             'rel': 'http://esipfed.org/ns/fedsearch/1.1/browse#'},\n",
      "            {'href': 'https://vertex.daac.asf.alaska.edu/',\n",
      "             'hreflang': 'en-US',\n",
      "             'inherited': True,\n",
      "             'rel': 'http://esipfed.org/ns/fedsearch/1.1/data#'}],\n",
      "  'online_access_flag': True,\n",
      "  'orbit_calculated_spatial_domains': [{'orbit_number': '34851'}],\n",
      "  'original_format': 'ECHO10',\n",
      "  'polygons': [['-61.876564 79.848251 -65.236069 83.180344 -63.400402 90.778 '\n",
      "                '-60.217258 86.840034 -61.876564 79.848251']],\n",
      "  'producer_granule_id': 'S1A_EW_GRDM_1SDH_20201018T140000_20201018T140100_034851_041027_2777',\n",
      "  'time_end': '2020-10-18T14:01:00.000Z',\n",
      "  'time_start': '2020-10-18T14:00:00.000Z',\n",
      "  'title': 'S1A_EW_GRDM_1SDH_20201018T140000_20201018T140100_034851_041027_2777-METADATA_GRD_MD',\n",
      "  'updated': '2020-10-20T06:51:16.000Z'},\n",
      " {'browse_flag': False,\n",
      "  'collection_concept_id': 'C1214472336-ASF',\n",
      "  'coordinate_system': 'GEODETIC',\n",
      "  'data_center': 'ASF',\n",
      "  'dataset_id': 'SENTINEL-1A_DUAL_POL_METADATA_GRD_MEDIUM_RES',\n",
      "  'day_night_flag': 'UNSPECIFIED',\n",
      "  'granule_size': '0.05633258819580078',\n",
      "  'id': 'G1954798927-ASF',\n",
      "  'links': [{'href': 'https://datapool.asf.alaska.edu/METADATA_GRD_MD/SA/S1A_EW_GRDM_1SDH_20201018T140100_20201018T140148_034851_041027_C95D.iso.xml',\n",
      "             'hreflang': 'en-US',\n",
      "             'rel': 'http://esipfed.org/ns/fedsearch/1.1/data#',\n",
      "             'title': 'This link provides direct download access to the '\n",
      "                      'granule.'},\n",
      "            {'href': 'www.asf.alaska.edu/sar-data-sets/sentinel-1',\n",
      "             'hreflang': 'en-US',\n",
      "             'rel': 'http://esipfed.org/ns/fedsearch/1.1/metadata#',\n",
      "             'title': 'ASF DAAC Sentinel-1 data set landing page (VIEW RELATED '\n",
      "                      'INFORMATION)'},\n",
      "            {'href': 'www.asf.alaska.edu/sar-information/sentinel-1-documents-tools',\n",
      "             'hreflang': 'en-US',\n",
      "             'rel': 'http://esipfed.org/ns/fedsearch/1.1/metadata#',\n",
      "             'title': 'ASF DAAC Sentinel-1 User Guide and Technical '\n",
      "                      'Documentation (VIEW RELATED INFORMATION)'},\n",
      "            {'href': 'https://vertex.daac.asf.alaska.edu/',\n",
      "             'hreflang': 'en-US',\n",
      "             'inherited': True,\n",
      "             'rel': 'http://esipfed.org/ns/fedsearch/1.1/data#'}],\n",
      "  'online_access_flag': True,\n",
      "  'orbit_calculated_spatial_domains': [{'orbit_number': '34851'}],\n",
      "  'original_format': 'ECHO10',\n",
      "  'polygons': [['-59.113174 77.623962 -61.876228 79.847961 -60.217464 '\n",
      "                '86.837784 -57.570774 84.174744 -59.113174 77.623962']],\n",
      "  'producer_granule_id': 'S1A_EW_GRDM_1SDH_20201018T140100_20201018T140148_034851_041027_C95D',\n",
      "  'time_end': '2020-10-18T14:01:48.000Z',\n",
      "  'time_start': '2020-10-18T14:01:00.000Z',\n",
      "  'title': 'S1A_EW_GRDM_1SDH_20201018T140100_20201018T140148_034851_041027_C95D-METADATA_GRD_MD',\n",
      "  'updated': '2020-10-20T06:46:01.000Z'}]\n"
     ]
    }
   ],
   "source": [
    "pprint(granules)"
   ]
  },
  {
   "cell_type": "code",
   "execution_count": null,
   "id": "opposed-times",
   "metadata": {},
   "outputs": [],
   "source": []
  }
 ],
 "metadata": {
  "kernelspec": {
   "display_name": "Python 3 (ipykernel)",
   "language": "python",
   "name": "python3"
  },
  "language_info": {
   "codemirror_mode": {
    "name": "ipython",
    "version": 3
   },
   "file_extension": ".py",
   "mimetype": "text/x-python",
   "name": "python",
   "nbconvert_exporter": "python",
   "pygments_lexer": "ipython3",
   "version": "3.9.7"
  }
 },
 "nbformat": 4,
 "nbformat_minor": 5
}
